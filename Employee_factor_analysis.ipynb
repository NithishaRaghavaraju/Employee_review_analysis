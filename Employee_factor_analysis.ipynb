{
  "cells": [
    {
      "cell_type": "markdown",
      "metadata": {
        "id": "view-in-github",
        "colab_type": "text"
      },
      "source": [
        "<a href=\"https://colab.research.google.com/github/NithishaRaghavaraju/Employee_review_analysis/blob/main/Employee_factor_analysis.ipynb\" target=\"_parent\"><img src=\"https://colab.research.google.com/assets/colab-badge.svg\" alt=\"Open In Colab\"/></a>"
      ]
    },
    {
      "cell_type": "code",
      "execution_count": null,
      "metadata": {
        "colab": {
          "base_uri": "https://localhost:8080/"
        },
        "id": "BS2Zkh4AUAxh",
        "outputId": "0cff8887-5eca-443a-b182-187b84966b50"
      },
      "outputs": [
        {
          "output_type": "stream",
          "name": "stdout",
          "text": [
            "Looking in indexes: https://pypi.org/simple, https://us-python.pkg.dev/colab-wheels/public/simple/\n",
            "Collecting soyspacing\n",
            "  Downloading soyspacing-1.0.17-py3-none-any.whl (10 kB)\n",
            "Requirement already satisfied: numpy>=1.12.0 in /usr/local/lib/python3.7/dist-packages (from soyspacing) (1.21.6)\n",
            "Installing collected packages: soyspacing\n",
            "Successfully installed soyspacing-1.0.17\n"
          ]
        }
      ],
      "source": [
        "!pip install soyspacing"
      ]
    },
    {
      "cell_type": "code",
      "source": [
        "!pip install git+https://github.com/MaxHalford/Prince"
      ],
      "metadata": {
        "colab": {
          "base_uri": "https://localhost:8080/"
        },
        "id": "mX3sZaeESiJY",
        "outputId": "8d90ae2f-dec6-4efd-e643-23e4f247e169"
      },
      "execution_count": null,
      "outputs": [
        {
          "output_type": "stream",
          "name": "stdout",
          "text": [
            "Looking in indexes: https://pypi.org/simple, https://us-python.pkg.dev/colab-wheels/public/simple/\n",
            "Collecting git+https://github.com/MaxHalford/Prince\n",
            "  Cloning https://github.com/MaxHalford/Prince to /tmp/pip-req-build-m2wui8ks\n",
            "  Running command git clone -q https://github.com/MaxHalford/Prince /tmp/pip-req-build-m2wui8ks\n",
            "Requirement already satisfied: matplotlib>=3.0.2 in /usr/local/lib/python3.7/dist-packages (from prince==0.7.0) (3.2.2)\n",
            "Requirement already satisfied: numpy>=1.17.1 in /usr/local/lib/python3.7/dist-packages (from prince==0.7.0) (1.21.6)\n",
            "Requirement already satisfied: pandas>=1.0.3 in /usr/local/lib/python3.7/dist-packages (from prince==0.7.0) (1.3.5)\n",
            "Requirement already satisfied: scipy>=1.3.0 in /usr/local/lib/python3.7/dist-packages (from prince==0.7.0) (1.7.3)\n",
            "Requirement already satisfied: scikit-learn>=0.22.1 in /usr/local/lib/python3.7/dist-packages (from prince==0.7.0) (1.0.2)\n",
            "Requirement already satisfied: kiwisolver>=1.0.1 in /usr/local/lib/python3.7/dist-packages (from matplotlib>=3.0.2->prince==0.7.0) (1.4.4)\n",
            "Requirement already satisfied: python-dateutil>=2.1 in /usr/local/lib/python3.7/dist-packages (from matplotlib>=3.0.2->prince==0.7.0) (2.8.2)\n",
            "Requirement already satisfied: cycler>=0.10 in /usr/local/lib/python3.7/dist-packages (from matplotlib>=3.0.2->prince==0.7.0) (0.11.0)\n",
            "Requirement already satisfied: pyparsing!=2.0.4,!=2.1.2,!=2.1.6,>=2.0.1 in /usr/local/lib/python3.7/dist-packages (from matplotlib>=3.0.2->prince==0.7.0) (3.0.9)\n",
            "Requirement already satisfied: typing-extensions in /usr/local/lib/python3.7/dist-packages (from kiwisolver>=1.0.1->matplotlib>=3.0.2->prince==0.7.0) (4.1.1)\n",
            "Requirement already satisfied: pytz>=2017.3 in /usr/local/lib/python3.7/dist-packages (from pandas>=1.0.3->prince==0.7.0) (2022.1)\n",
            "Requirement already satisfied: six>=1.5 in /usr/local/lib/python3.7/dist-packages (from python-dateutil>=2.1->matplotlib>=3.0.2->prince==0.7.0) (1.15.0)\n",
            "Requirement already satisfied: joblib>=0.11 in /usr/local/lib/python3.7/dist-packages (from scikit-learn>=0.22.1->prince==0.7.0) (1.1.0)\n",
            "Requirement already satisfied: threadpoolctl>=2.0.0 in /usr/local/lib/python3.7/dist-packages (from scikit-learn>=0.22.1->prince==0.7.0) (3.1.0)\n",
            "Building wheels for collected packages: prince\n",
            "  Building wheel for prince (setup.py) ... \u001b[?25l\u001b[?25hdone\n",
            "  Created wheel for prince: filename=prince-0.7.0-py3-none-any.whl size=26169 sha256=4aac500bf67438f05dce1eeb211f239b7988c58c5b31f4e97523b86a975541d7\n",
            "  Stored in directory: /tmp/pip-ephem-wheel-cache-p02srgp4/wheels/0e/01/2a/f8fa8144ca0174bcee4434fc34b08f1a77e2122fd2d8de493c\n",
            "Successfully built prince\n",
            "Installing collected packages: prince\n",
            "Successfully installed prince-0.7.0\n"
          ]
        }
      ]
    },
    {
      "cell_type": "code",
      "execution_count": null,
      "metadata": {
        "colab": {
          "base_uri": "https://localhost:8080/"
        },
        "id": "jw5zkGfWXJ3A",
        "outputId": "97525d69-e5bc-4ebe-ab70-2855854f97d5"
      },
      "outputs": [
        {
          "output_type": "stream",
          "name": "stdout",
          "text": [
            "Looking in indexes: https://pypi.org/simple, https://us-python.pkg.dev/colab-wheels/public/simple/\n",
            "Requirement already satisfied: gensim in /usr/local/lib/python3.7/dist-packages (3.6.0)\n",
            "Requirement already satisfied: scipy>=0.18.1 in /usr/local/lib/python3.7/dist-packages (from gensim) (1.7.3)\n",
            "Requirement already satisfied: numpy>=1.11.3 in /usr/local/lib/python3.7/dist-packages (from gensim) (1.21.6)\n",
            "Requirement already satisfied: smart-open>=1.2.1 in /usr/local/lib/python3.7/dist-packages (from gensim) (5.2.1)\n",
            "Requirement already satisfied: six>=1.5.0 in /usr/local/lib/python3.7/dist-packages (from gensim) (1.15.0)\n"
          ]
        }
      ],
      "source": [
        "!pip install gensim"
      ]
    },
    {
      "cell_type": "code",
      "execution_count": null,
      "metadata": {
        "colab": {
          "base_uri": "https://localhost:8080/"
        },
        "id": "KySwyduNXqPH",
        "outputId": "44be553b-d1c0-4184-d001-cef97815690a"
      },
      "outputs": [
        {
          "output_type": "stream",
          "name": "stdout",
          "text": [
            "Looking in indexes: https://pypi.org/simple, https://us-python.pkg.dev/colab-wheels/public/simple/\n",
            "Collecting pyLDAvis\n",
            "  Downloading pyLDAvis-3.3.1.tar.gz (1.7 MB)\n",
            "\u001b[K     |████████████████████████████████| 1.7 MB 7.2 MB/s \n",
            "\u001b[?25h  Installing build dependencies ... \u001b[?25l\u001b[?25hdone\n",
            "  Getting requirements to build wheel ... \u001b[?25l\u001b[?25hdone\n",
            "  Installing backend dependencies ... \u001b[?25l\u001b[?25hdone\n",
            "    Preparing wheel metadata ... \u001b[?25l\u001b[?25hdone\n",
            "Requirement already satisfied: scikit-learn in /usr/local/lib/python3.7/dist-packages (from pyLDAvis) (1.0.2)\n",
            "Requirement already satisfied: joblib in /usr/local/lib/python3.7/dist-packages (from pyLDAvis) (1.1.0)\n",
            "Requirement already satisfied: gensim in /usr/local/lib/python3.7/dist-packages (from pyLDAvis) (3.6.0)\n",
            "Requirement already satisfied: numexpr in /usr/local/lib/python3.7/dist-packages (from pyLDAvis) (2.8.3)\n",
            "Requirement already satisfied: sklearn in /usr/local/lib/python3.7/dist-packages (from pyLDAvis) (0.0)\n",
            "Requirement already satisfied: setuptools in /usr/local/lib/python3.7/dist-packages (from pyLDAvis) (57.4.0)\n",
            "Requirement already satisfied: future in /usr/local/lib/python3.7/dist-packages (from pyLDAvis) (0.16.0)\n",
            "Requirement already satisfied: pandas>=1.2.0 in /usr/local/lib/python3.7/dist-packages (from pyLDAvis) (1.3.5)\n",
            "Requirement already satisfied: scipy in /usr/local/lib/python3.7/dist-packages (from pyLDAvis) (1.7.3)\n",
            "Requirement already satisfied: jinja2 in /usr/local/lib/python3.7/dist-packages (from pyLDAvis) (2.11.3)\n",
            "Requirement already satisfied: numpy>=1.20.0 in /usr/local/lib/python3.7/dist-packages (from pyLDAvis) (1.21.6)\n",
            "Collecting funcy\n",
            "  Downloading funcy-1.17-py2.py3-none-any.whl (33 kB)\n",
            "Requirement already satisfied: python-dateutil>=2.7.3 in /usr/local/lib/python3.7/dist-packages (from pandas>=1.2.0->pyLDAvis) (2.8.2)\n",
            "Requirement already satisfied: pytz>=2017.3 in /usr/local/lib/python3.7/dist-packages (from pandas>=1.2.0->pyLDAvis) (2022.1)\n",
            "Requirement already satisfied: six>=1.5 in /usr/local/lib/python3.7/dist-packages (from python-dateutil>=2.7.3->pandas>=1.2.0->pyLDAvis) (1.15.0)\n",
            "Requirement already satisfied: smart-open>=1.2.1 in /usr/local/lib/python3.7/dist-packages (from gensim->pyLDAvis) (5.2.1)\n",
            "Requirement already satisfied: MarkupSafe>=0.23 in /usr/local/lib/python3.7/dist-packages (from jinja2->pyLDAvis) (2.0.1)\n",
            "Requirement already satisfied: packaging in /usr/local/lib/python3.7/dist-packages (from numexpr->pyLDAvis) (21.3)\n",
            "Requirement already satisfied: pyparsing!=3.0.5,>=2.0.2 in /usr/local/lib/python3.7/dist-packages (from packaging->numexpr->pyLDAvis) (3.0.9)\n",
            "Requirement already satisfied: threadpoolctl>=2.0.0 in /usr/local/lib/python3.7/dist-packages (from scikit-learn->pyLDAvis) (3.1.0)\n",
            "Building wheels for collected packages: pyLDAvis\n",
            "  Building wheel for pyLDAvis (PEP 517) ... \u001b[?25l\u001b[?25hdone\n",
            "  Created wheel for pyLDAvis: filename=pyLDAvis-3.3.1-py2.py3-none-any.whl size=136898 sha256=e0755e7deb2deeff3d7910d6824295f0b5741efe0b123462860dd7e414c1cef2\n",
            "  Stored in directory: /root/.cache/pip/wheels/c9/21/f6/17bcf2667e8a68532ba2fbf6d5c72fdf4c7f7d9abfa4852d2f\n",
            "Successfully built pyLDAvis\n",
            "Installing collected packages: funcy, pyLDAvis\n",
            "Successfully installed funcy-1.17 pyLDAvis-3.3.1\n"
          ]
        }
      ],
      "source": [
        "!pip install pyLDAvis"
      ]
    },
    {
      "cell_type": "code",
      "execution_count": null,
      "metadata": {
        "colab": {
          "base_uri": "https://localhost:8080/"
        },
        "id": "J2Civ_v2NLWQ",
        "outputId": "f8fc8db9-f1be-4922-8346-bb292024657f"
      },
      "outputs": [
        {
          "output_type": "stream",
          "name": "stdout",
          "text": [
            "Looking in indexes: https://pypi.org/simple, https://us-python.pkg.dev/colab-wheels/public/simple/\n",
            "Collecting dominance-analysis\n",
            "  Downloading dominance_analysis-1.1.7.tar.gz (9.9 kB)\n",
            "Requirement already satisfied: pandas in /usr/local/lib/python3.7/dist-packages (from dominance-analysis) (1.3.5)\n",
            "Requirement already satisfied: numpy>=1.20.x in /usr/local/lib/python3.7/dist-packages (from dominance-analysis) (1.21.6)\n",
            "Requirement already satisfied: seaborn in /usr/local/lib/python3.7/dist-packages (from dominance-analysis) (0.11.2)\n",
            "Requirement already satisfied: matplotlib in /usr/local/lib/python3.7/dist-packages (from dominance-analysis) (3.2.2)\n",
            "Requirement already satisfied: scikit-learn in /usr/local/lib/python3.7/dist-packages (from dominance-analysis) (1.0.2)\n",
            "Requirement already satisfied: tqdm in /usr/local/lib/python3.7/dist-packages (from dominance-analysis) (4.64.0)\n",
            "Requirement already satisfied: plotly in /usr/local/lib/python3.7/dist-packages (from dominance-analysis) (5.5.0)\n",
            "Requirement already satisfied: cufflinks in /usr/local/lib/python3.7/dist-packages (from dominance-analysis) (0.17.3)\n",
            "Requirement already satisfied: statsmodels in /usr/local/lib/python3.7/dist-packages (from dominance-analysis) (0.10.2)\n",
            "Requirement already satisfied: ipywidgets in /usr/local/lib/python3.7/dist-packages (from dominance-analysis) (7.7.1)\n",
            "Requirement already satisfied: bokeh in /usr/local/lib/python3.7/dist-packages (from dominance-analysis) (2.3.3)\n",
            "Collecting scipy==1.5.0\n",
            "  Downloading scipy-1.5.0-cp37-cp37m-manylinux1_x86_64.whl (25.9 MB)\n",
            "\u001b[K     |████████████████████████████████| 25.9 MB 1.7 MB/s \n",
            "\u001b[?25hRequirement already satisfied: pillow>=7.1.0 in /usr/local/lib/python3.7/dist-packages (from bokeh->dominance-analysis) (7.1.2)\n",
            "Requirement already satisfied: Jinja2>=2.9 in /usr/local/lib/python3.7/dist-packages (from bokeh->dominance-analysis) (2.11.3)\n",
            "Requirement already satisfied: PyYAML>=3.10 in /usr/local/lib/python3.7/dist-packages (from bokeh->dominance-analysis) (3.13)\n",
            "Requirement already satisfied: tornado>=5.1 in /usr/local/lib/python3.7/dist-packages (from bokeh->dominance-analysis) (5.1.1)\n",
            "Requirement already satisfied: python-dateutil>=2.1 in /usr/local/lib/python3.7/dist-packages (from bokeh->dominance-analysis) (2.8.2)\n",
            "Requirement already satisfied: typing-extensions>=3.7.4 in /usr/local/lib/python3.7/dist-packages (from bokeh->dominance-analysis) (4.1.1)\n",
            "Requirement already satisfied: packaging>=16.8 in /usr/local/lib/python3.7/dist-packages (from bokeh->dominance-analysis) (21.3)\n",
            "Requirement already satisfied: MarkupSafe>=0.23 in /usr/local/lib/python3.7/dist-packages (from Jinja2>=2.9->bokeh->dominance-analysis) (2.0.1)\n",
            "Requirement already satisfied: pyparsing!=3.0.5,>=2.0.2 in /usr/local/lib/python3.7/dist-packages (from packaging>=16.8->bokeh->dominance-analysis) (3.0.9)\n",
            "Requirement already satisfied: six>=1.5 in /usr/local/lib/python3.7/dist-packages (from python-dateutil>=2.1->bokeh->dominance-analysis) (1.15.0)\n",
            "Requirement already satisfied: colorlover>=0.2.1 in /usr/local/lib/python3.7/dist-packages (from cufflinks->dominance-analysis) (0.3.0)\n",
            "Requirement already satisfied: setuptools>=34.4.1 in /usr/local/lib/python3.7/dist-packages (from cufflinks->dominance-analysis) (57.4.0)\n",
            "Requirement already satisfied: ipython>=5.3.0 in /usr/local/lib/python3.7/dist-packages (from cufflinks->dominance-analysis) (5.5.0)\n",
            "Requirement already satisfied: traitlets>=4.2 in /usr/local/lib/python3.7/dist-packages (from ipython>=5.3.0->cufflinks->dominance-analysis) (5.1.1)\n",
            "Requirement already satisfied: decorator in /usr/local/lib/python3.7/dist-packages (from ipython>=5.3.0->cufflinks->dominance-analysis) (4.4.2)\n",
            "Requirement already satisfied: simplegeneric>0.8 in /usr/local/lib/python3.7/dist-packages (from ipython>=5.3.0->cufflinks->dominance-analysis) (0.8.1)\n",
            "Requirement already satisfied: pickleshare in /usr/local/lib/python3.7/dist-packages (from ipython>=5.3.0->cufflinks->dominance-analysis) (0.7.5)\n",
            "Requirement already satisfied: prompt-toolkit<2.0.0,>=1.0.4 in /usr/local/lib/python3.7/dist-packages (from ipython>=5.3.0->cufflinks->dominance-analysis) (1.0.18)\n",
            "Requirement already satisfied: pygments in /usr/local/lib/python3.7/dist-packages (from ipython>=5.3.0->cufflinks->dominance-analysis) (2.6.1)\n",
            "Requirement already satisfied: pexpect in /usr/local/lib/python3.7/dist-packages (from ipython>=5.3.0->cufflinks->dominance-analysis) (4.8.0)\n",
            "Requirement already satisfied: ipython-genutils~=0.2.0 in /usr/local/lib/python3.7/dist-packages (from ipywidgets->dominance-analysis) (0.2.0)\n",
            "Requirement already satisfied: ipykernel>=4.5.1 in /usr/local/lib/python3.7/dist-packages (from ipywidgets->dominance-analysis) (4.10.1)\n",
            "Requirement already satisfied: widgetsnbextension~=3.6.0 in /usr/local/lib/python3.7/dist-packages (from ipywidgets->dominance-analysis) (3.6.1)\n",
            "Requirement already satisfied: jupyterlab-widgets>=1.0.0 in /usr/local/lib/python3.7/dist-packages (from ipywidgets->dominance-analysis) (1.1.1)\n",
            "Requirement already satisfied: jupyter-client in /usr/local/lib/python3.7/dist-packages (from ipykernel>=4.5.1->ipywidgets->dominance-analysis) (5.3.5)\n",
            "Requirement already satisfied: pytz>=2017.3 in /usr/local/lib/python3.7/dist-packages (from pandas->dominance-analysis) (2022.1)\n",
            "Requirement already satisfied: tenacity>=6.2.0 in /usr/local/lib/python3.7/dist-packages (from plotly->dominance-analysis) (8.0.1)\n",
            "Requirement already satisfied: wcwidth in /usr/local/lib/python3.7/dist-packages (from prompt-toolkit<2.0.0,>=1.0.4->ipython>=5.3.0->cufflinks->dominance-analysis) (0.2.5)\n",
            "Requirement already satisfied: notebook>=4.4.1 in /usr/local/lib/python3.7/dist-packages (from widgetsnbextension~=3.6.0->ipywidgets->dominance-analysis) (5.3.1)\n",
            "Requirement already satisfied: terminado>=0.8.1 in /usr/local/lib/python3.7/dist-packages (from notebook>=4.4.1->widgetsnbextension~=3.6.0->ipywidgets->dominance-analysis) (0.13.3)\n",
            "Requirement already satisfied: jupyter-core>=4.4.0 in /usr/local/lib/python3.7/dist-packages (from notebook>=4.4.1->widgetsnbextension~=3.6.0->ipywidgets->dominance-analysis) (4.11.1)\n",
            "Requirement already satisfied: nbformat in /usr/local/lib/python3.7/dist-packages (from notebook>=4.4.1->widgetsnbextension~=3.6.0->ipywidgets->dominance-analysis) (5.4.0)\n",
            "Requirement already satisfied: Send2Trash in /usr/local/lib/python3.7/dist-packages (from notebook>=4.4.1->widgetsnbextension~=3.6.0->ipywidgets->dominance-analysis) (1.8.0)\n",
            "Requirement already satisfied: nbconvert in /usr/local/lib/python3.7/dist-packages (from notebook>=4.4.1->widgetsnbextension~=3.6.0->ipywidgets->dominance-analysis) (5.6.1)\n",
            "Requirement already satisfied: pyzmq>=13 in /usr/local/lib/python3.7/dist-packages (from jupyter-client->ipykernel>=4.5.1->ipywidgets->dominance-analysis) (23.2.0)\n",
            "Requirement already satisfied: ptyprocess in /usr/local/lib/python3.7/dist-packages (from terminado>=0.8.1->notebook>=4.4.1->widgetsnbextension~=3.6.0->ipywidgets->dominance-analysis) (0.7.0)\n",
            "Requirement already satisfied: cycler>=0.10 in /usr/local/lib/python3.7/dist-packages (from matplotlib->dominance-analysis) (0.11.0)\n",
            "Requirement already satisfied: kiwisolver>=1.0.1 in /usr/local/lib/python3.7/dist-packages (from matplotlib->dominance-analysis) (1.4.4)\n",
            "Requirement already satisfied: bleach in /usr/local/lib/python3.7/dist-packages (from nbconvert->notebook>=4.4.1->widgetsnbextension~=3.6.0->ipywidgets->dominance-analysis) (5.0.1)\n",
            "Requirement already satisfied: pandocfilters>=1.4.1 in /usr/local/lib/python3.7/dist-packages (from nbconvert->notebook>=4.4.1->widgetsnbextension~=3.6.0->ipywidgets->dominance-analysis) (1.5.0)\n",
            "Requirement already satisfied: defusedxml in /usr/local/lib/python3.7/dist-packages (from nbconvert->notebook>=4.4.1->widgetsnbextension~=3.6.0->ipywidgets->dominance-analysis) (0.7.1)\n",
            "Requirement already satisfied: testpath in /usr/local/lib/python3.7/dist-packages (from nbconvert->notebook>=4.4.1->widgetsnbextension~=3.6.0->ipywidgets->dominance-analysis) (0.6.0)\n",
            "Requirement already satisfied: entrypoints>=0.2.2 in /usr/local/lib/python3.7/dist-packages (from nbconvert->notebook>=4.4.1->widgetsnbextension~=3.6.0->ipywidgets->dominance-analysis) (0.4)\n",
            "Requirement already satisfied: mistune<2,>=0.8.1 in /usr/local/lib/python3.7/dist-packages (from nbconvert->notebook>=4.4.1->widgetsnbextension~=3.6.0->ipywidgets->dominance-analysis) (0.8.4)\n",
            "Requirement already satisfied: jsonschema>=2.6 in /usr/local/lib/python3.7/dist-packages (from nbformat->notebook>=4.4.1->widgetsnbextension~=3.6.0->ipywidgets->dominance-analysis) (4.3.3)\n",
            "Requirement already satisfied: fastjsonschema in /usr/local/lib/python3.7/dist-packages (from nbformat->notebook>=4.4.1->widgetsnbextension~=3.6.0->ipywidgets->dominance-analysis) (2.16.1)\n",
            "Requirement already satisfied: attrs>=17.4.0 in /usr/local/lib/python3.7/dist-packages (from jsonschema>=2.6->nbformat->notebook>=4.4.1->widgetsnbextension~=3.6.0->ipywidgets->dominance-analysis) (21.4.0)\n",
            "Requirement already satisfied: importlib-metadata in /usr/local/lib/python3.7/dist-packages (from jsonschema>=2.6->nbformat->notebook>=4.4.1->widgetsnbextension~=3.6.0->ipywidgets->dominance-analysis) (4.12.0)\n",
            "Requirement already satisfied: pyrsistent!=0.17.0,!=0.17.1,!=0.17.2,>=0.14.0 in /usr/local/lib/python3.7/dist-packages (from jsonschema>=2.6->nbformat->notebook>=4.4.1->widgetsnbextension~=3.6.0->ipywidgets->dominance-analysis) (0.18.1)\n",
            "Requirement already satisfied: importlib-resources>=1.4.0 in /usr/local/lib/python3.7/dist-packages (from jsonschema>=2.6->nbformat->notebook>=4.4.1->widgetsnbextension~=3.6.0->ipywidgets->dominance-analysis) (5.9.0)\n",
            "Requirement already satisfied: zipp>=3.1.0 in /usr/local/lib/python3.7/dist-packages (from importlib-resources>=1.4.0->jsonschema>=2.6->nbformat->notebook>=4.4.1->widgetsnbextension~=3.6.0->ipywidgets->dominance-analysis) (3.8.1)\n",
            "Requirement already satisfied: webencodings in /usr/local/lib/python3.7/dist-packages (from bleach->nbconvert->notebook>=4.4.1->widgetsnbextension~=3.6.0->ipywidgets->dominance-analysis) (0.5.1)\n",
            "Requirement already satisfied: joblib>=0.11 in /usr/local/lib/python3.7/dist-packages (from scikit-learn->dominance-analysis) (1.1.0)\n",
            "Requirement already satisfied: threadpoolctl>=2.0.0 in /usr/local/lib/python3.7/dist-packages (from scikit-learn->dominance-analysis) (3.1.0)\n",
            "Requirement already satisfied: patsy>=0.4.0 in /usr/local/lib/python3.7/dist-packages (from statsmodels->dominance-analysis) (0.5.2)\n",
            "Building wheels for collected packages: dominance-analysis\n",
            "  Building wheel for dominance-analysis (setup.py) ... \u001b[?25l\u001b[?25hdone\n",
            "  Created wheel for dominance-analysis: filename=dominance_analysis-1.1.7-py3-none-any.whl size=12844 sha256=407f8615ad6a51ef41b8832a50ed17464e3aa6e851a5a70d91c740bc70469f3d\n",
            "  Stored in directory: /root/.cache/pip/wheels/48/36/a8/88497a3cd9d682272fef258f4d1f2785ec93d423b0ec535063\n",
            "Successfully built dominance-analysis\n",
            "Installing collected packages: scipy, dominance-analysis\n",
            "  Attempting uninstall: scipy\n",
            "    Found existing installation: scipy 1.7.3\n",
            "    Uninstalling scipy-1.7.3:\n",
            "      Successfully uninstalled scipy-1.7.3\n",
            "\u001b[31mERROR: pip's dependency resolver does not currently take into account all the packages that are installed. This behaviour is the source of the following dependency conflicts.\n",
            "pymc3 3.11.5 requires scipy<1.8.0,>=1.7.3, but you have scipy 1.5.0 which is incompatible.\n",
            "albumentations 0.1.12 requires imgaug<0.2.7,>=0.2.5, but you have imgaug 0.2.9 which is incompatible.\u001b[0m\n",
            "Successfully installed dominance-analysis-1.1.7 scipy-1.5.0\n"
          ]
        }
      ],
      "source": [
        "!pip install dominance-analysis"
      ]
    },
    {
      "cell_type": "code",
      "execution_count": null,
      "metadata": {
        "id": "q02RHZ8ZUDeG"
      },
      "outputs": [],
      "source": [
        "import warnings\n",
        "warnings.filterwarnings(\"ignore\")"
      ]
    },
    {
      "cell_type": "code",
      "execution_count": null,
      "metadata": {
        "id": "DJ_h8s73Q24Q",
        "colab": {
          "base_uri": "https://localhost:8080/"
        },
        "outputId": "46bcf77c-d887-452f-9079-da35cef70e64"
      },
      "outputs": [
        {
          "output_type": "stream",
          "name": "stderr",
          "text": [
            "/usr/local/lib/python3.7/dist-packages/past/types/oldstr.py:5: DeprecationWarning: Using or importing the ABCs from 'collections' instead of from 'collections.abc' is deprecated since Python 3.3,and in 3.9 it will stop working\n",
            "  from collections import Iterable\n"
          ]
        }
      ],
      "source": [
        "import numpy as np\n",
        "import os\n",
        "import pandas as pd\n",
        "import matplotlib.pyplot as plt\n",
        "from soyspacing.countbase import CountSpace\n",
        "import json\n",
        "import glob\n",
        "import gensim\n",
        "from gensim.utils import simple_preprocess\n",
        "from gensim.parsing.preprocessing import STOPWORDS\n",
        "from gensim.models import CoherenceModel\n",
        "from gensim.models import TfidfModel\n",
        "import pyLDAvis\n",
        "import pyLDAvis.gensim_models"
      ]
    },
    {
      "cell_type": "code",
      "execution_count": null,
      "metadata": {
        "colab": {
          "base_uri": "https://localhost:8080/"
        },
        "id": "ZvPa-imHWdcY",
        "outputId": "6a8142f2-222b-412f-dcea-e6b33882efa8"
      },
      "outputs": [
        {
          "output_type": "stream",
          "name": "stderr",
          "text": [
            "/usr/local/lib/python3.7/dist-packages/scipy/io/matlab/mio5.py:95: DeprecationWarning: `np.bool` is a deprecated alias for the builtin `bool`. To silence this warning, use `bool` by itself. Doing this will not modify any behavior and is safe. If you specifically wanted the numpy scalar type, use `np.bool_` here.\n",
            "Deprecated in NumPy 1.20; for more details and guidance: https://numpy.org/devdocs/release/1.20.0-notes.html#deprecations\n",
            "  from .mio5_utils import VarReader5\n",
            "[nltk_data] Downloading package stopwords to /root/nltk_data...\n",
            "[nltk_data]   Unzipping corpora/stopwords.zip.\n",
            "[nltk_data] Downloading package brown to /root/nltk_data...\n",
            "[nltk_data]   Unzipping corpora/brown.zip.\n",
            "[nltk_data] Downloading package punkt to /root/nltk_data...\n",
            "[nltk_data]   Unzipping tokenizers/punkt.zip.\n"
          ]
        },
        {
          "output_type": "execute_result",
          "data": {
            "text/plain": [
              "True"
            ]
          },
          "metadata": {},
          "execution_count": 8
        }
      ],
      "source": [
        "import nltk\n",
        "import string\n",
        "nltk.download('stopwords')\n",
        "stopwords = nltk.corpus.stopwords.words(\"english\")\n",
        "stopwords.extend(string.punctuation)\n",
        "from textblob import TextBlob\n",
        "nltk.download('brown')\n",
        "nltk.download('punkt')"
      ]
    },
    {
      "cell_type": "code",
      "execution_count": null,
      "metadata": {
        "id": "58NRMbbjTFIf"
      },
      "outputs": [],
      "source": [
        "unstructured_df = pd.read_csv(\"/content/train.csv\")"
      ]
    },
    {
      "cell_type": "code",
      "execution_count": null,
      "metadata": {
        "colab": {
          "base_uri": "https://localhost:8080/",
          "height": 652
        },
        "id": "SgmBo1FITVl8",
        "outputId": "1cd0ede6-81fd-46fb-f071-4d753497f2ec"
      },
      "outputs": [
        {
          "output_type": "execute_result",
          "data": {
            "text/plain": [
              "   ID      Place           location           date             status  \\\n",
              "0   1  startup_1                NaN   Dec 11, 2018  Current Employee    \n",
              "1   2  startup_1  Mountain View, CA   Jun 21, 2013   Former Employee    \n",
              "2   3  startup_1       New York, NY   May 10, 2014  Current Employee    \n",
              "3   4  startup_1  Mountain View, CA    Feb 8, 2015  Current Employee    \n",
              "4  10  startup_1                NaN    Dec 9, 2018  Current Employee    \n",
              "\n",
              "                job_title                                            summary  \\\n",
              "0      Anonymous Employee                           Best Company to work for   \n",
              "1         Program Manager  Moving at the speed of light, burn out is inev...   \n",
              "2   Software Engineer III  Great balance between big-company security and...   \n",
              "3      Anonymous Employee  The best place I've worked and also the most d...   \n",
              "4      Anonymous Employee                           Execellent for engineers   \n",
              "\n",
              "                                           positives  \\\n",
              "0                      People are smart and friendly   \n",
              "1  1) Food, food, food. 15+ cafes on main campus ...   \n",
              "2  * If you're a software engineer, you're among ...   \n",
              "3  You can't find a more well-regarded company th...   \n",
              "4             Impact driven. Best tech in the world.   \n",
              "\n",
              "                                           negatives  \\\n",
              "0                 Bureaucracy is slowing things down   \n",
              "1  1) Work/life balance. What balance? All those ...   \n",
              "2  * It *is* becoming larger, and with it comes g...   \n",
              "3  I live in SF so the commute can take between 1...   \n",
              "4  Size matters. Engineers are a bit disconnected...   \n",
              "\n",
              "                                      advice_to_mgmt  score_1  score_2  \\\n",
              "0                                                NaN      4.0      5.0   \n",
              "1  1) Don't dismiss emotional intelligence and ad...      2.0      3.0   \n",
              "2  Keep the focus on the user. Everything else wi...      5.0      4.0   \n",
              "3  Keep on NOT micromanaging - that is a huge ben...      2.0      5.0   \n",
              "4                                                NaN      5.0      5.0   \n",
              "\n",
              "   score_3  score_4  score_5  score_6  overall  \n",
              "0      5.0      4.0      5.0        0      5.0  \n",
              "1      3.0      5.0      3.0     2094      5.0  \n",
              "2      5.0      5.0      4.0      949      5.0  \n",
              "3      5.0      4.0      5.0      498      4.0  \n",
              "4      5.0      5.0      5.0        0      4.0  "
            ],
            "text/html": [
              "\n",
              "  <div id=\"df-30d50cbb-eaa7-40ed-abc4-b36eb5fba19d\">\n",
              "    <div class=\"colab-df-container\">\n",
              "      <div>\n",
              "<style scoped>\n",
              "    .dataframe tbody tr th:only-of-type {\n",
              "        vertical-align: middle;\n",
              "    }\n",
              "\n",
              "    .dataframe tbody tr th {\n",
              "        vertical-align: top;\n",
              "    }\n",
              "\n",
              "    .dataframe thead th {\n",
              "        text-align: right;\n",
              "    }\n",
              "</style>\n",
              "<table border=\"1\" class=\"dataframe\">\n",
              "  <thead>\n",
              "    <tr style=\"text-align: right;\">\n",
              "      <th></th>\n",
              "      <th>ID</th>\n",
              "      <th>Place</th>\n",
              "      <th>location</th>\n",
              "      <th>date</th>\n",
              "      <th>status</th>\n",
              "      <th>job_title</th>\n",
              "      <th>summary</th>\n",
              "      <th>positives</th>\n",
              "      <th>negatives</th>\n",
              "      <th>advice_to_mgmt</th>\n",
              "      <th>score_1</th>\n",
              "      <th>score_2</th>\n",
              "      <th>score_3</th>\n",
              "      <th>score_4</th>\n",
              "      <th>score_5</th>\n",
              "      <th>score_6</th>\n",
              "      <th>overall</th>\n",
              "    </tr>\n",
              "  </thead>\n",
              "  <tbody>\n",
              "    <tr>\n",
              "      <th>0</th>\n",
              "      <td>1</td>\n",
              "      <td>startup_1</td>\n",
              "      <td>NaN</td>\n",
              "      <td>Dec 11, 2018</td>\n",
              "      <td>Current Employee</td>\n",
              "      <td>Anonymous Employee</td>\n",
              "      <td>Best Company to work for</td>\n",
              "      <td>People are smart and friendly</td>\n",
              "      <td>Bureaucracy is slowing things down</td>\n",
              "      <td>NaN</td>\n",
              "      <td>4.0</td>\n",
              "      <td>5.0</td>\n",
              "      <td>5.0</td>\n",
              "      <td>4.0</td>\n",
              "      <td>5.0</td>\n",
              "      <td>0</td>\n",
              "      <td>5.0</td>\n",
              "    </tr>\n",
              "    <tr>\n",
              "      <th>1</th>\n",
              "      <td>2</td>\n",
              "      <td>startup_1</td>\n",
              "      <td>Mountain View, CA</td>\n",
              "      <td>Jun 21, 2013</td>\n",
              "      <td>Former Employee</td>\n",
              "      <td>Program Manager</td>\n",
              "      <td>Moving at the speed of light, burn out is inev...</td>\n",
              "      <td>1) Food, food, food. 15+ cafes on main campus ...</td>\n",
              "      <td>1) Work/life balance. What balance? All those ...</td>\n",
              "      <td>1) Don't dismiss emotional intelligence and ad...</td>\n",
              "      <td>2.0</td>\n",
              "      <td>3.0</td>\n",
              "      <td>3.0</td>\n",
              "      <td>5.0</td>\n",
              "      <td>3.0</td>\n",
              "      <td>2094</td>\n",
              "      <td>5.0</td>\n",
              "    </tr>\n",
              "    <tr>\n",
              "      <th>2</th>\n",
              "      <td>3</td>\n",
              "      <td>startup_1</td>\n",
              "      <td>New York, NY</td>\n",
              "      <td>May 10, 2014</td>\n",
              "      <td>Current Employee</td>\n",
              "      <td>Software Engineer III</td>\n",
              "      <td>Great balance between big-company security and...</td>\n",
              "      <td>* If you're a software engineer, you're among ...</td>\n",
              "      <td>* It *is* becoming larger, and with it comes g...</td>\n",
              "      <td>Keep the focus on the user. Everything else wi...</td>\n",
              "      <td>5.0</td>\n",
              "      <td>4.0</td>\n",
              "      <td>5.0</td>\n",
              "      <td>5.0</td>\n",
              "      <td>4.0</td>\n",
              "      <td>949</td>\n",
              "      <td>5.0</td>\n",
              "    </tr>\n",
              "    <tr>\n",
              "      <th>3</th>\n",
              "      <td>4</td>\n",
              "      <td>startup_1</td>\n",
              "      <td>Mountain View, CA</td>\n",
              "      <td>Feb 8, 2015</td>\n",
              "      <td>Current Employee</td>\n",
              "      <td>Anonymous Employee</td>\n",
              "      <td>The best place I've worked and also the most d...</td>\n",
              "      <td>You can't find a more well-regarded company th...</td>\n",
              "      <td>I live in SF so the commute can take between 1...</td>\n",
              "      <td>Keep on NOT micromanaging - that is a huge ben...</td>\n",
              "      <td>2.0</td>\n",
              "      <td>5.0</td>\n",
              "      <td>5.0</td>\n",
              "      <td>4.0</td>\n",
              "      <td>5.0</td>\n",
              "      <td>498</td>\n",
              "      <td>4.0</td>\n",
              "    </tr>\n",
              "    <tr>\n",
              "      <th>4</th>\n",
              "      <td>10</td>\n",
              "      <td>startup_1</td>\n",
              "      <td>NaN</td>\n",
              "      <td>Dec 9, 2018</td>\n",
              "      <td>Current Employee</td>\n",
              "      <td>Anonymous Employee</td>\n",
              "      <td>Execellent for engineers</td>\n",
              "      <td>Impact driven. Best tech in the world.</td>\n",
              "      <td>Size matters. Engineers are a bit disconnected...</td>\n",
              "      <td>NaN</td>\n",
              "      <td>5.0</td>\n",
              "      <td>5.0</td>\n",
              "      <td>5.0</td>\n",
              "      <td>5.0</td>\n",
              "      <td>5.0</td>\n",
              "      <td>0</td>\n",
              "      <td>4.0</td>\n",
              "    </tr>\n",
              "  </tbody>\n",
              "</table>\n",
              "</div>\n",
              "      <button class=\"colab-df-convert\" onclick=\"convertToInteractive('df-30d50cbb-eaa7-40ed-abc4-b36eb5fba19d')\"\n",
              "              title=\"Convert this dataframe to an interactive table.\"\n",
              "              style=\"display:none;\">\n",
              "        \n",
              "  <svg xmlns=\"http://www.w3.org/2000/svg\" height=\"24px\"viewBox=\"0 0 24 24\"\n",
              "       width=\"24px\">\n",
              "    <path d=\"M0 0h24v24H0V0z\" fill=\"none\"/>\n",
              "    <path d=\"M18.56 5.44l.94 2.06.94-2.06 2.06-.94-2.06-.94-.94-2.06-.94 2.06-2.06.94zm-11 1L8.5 8.5l.94-2.06 2.06-.94-2.06-.94L8.5 2.5l-.94 2.06-2.06.94zm10 10l.94 2.06.94-2.06 2.06-.94-2.06-.94-.94-2.06-.94 2.06-2.06.94z\"/><path d=\"M17.41 7.96l-1.37-1.37c-.4-.4-.92-.59-1.43-.59-.52 0-1.04.2-1.43.59L10.3 9.45l-7.72 7.72c-.78.78-.78 2.05 0 2.83L4 21.41c.39.39.9.59 1.41.59.51 0 1.02-.2 1.41-.59l7.78-7.78 2.81-2.81c.8-.78.8-2.07 0-2.86zM5.41 20L4 18.59l7.72-7.72 1.47 1.35L5.41 20z\"/>\n",
              "  </svg>\n",
              "      </button>\n",
              "      \n",
              "  <style>\n",
              "    .colab-df-container {\n",
              "      display:flex;\n",
              "      flex-wrap:wrap;\n",
              "      gap: 12px;\n",
              "    }\n",
              "\n",
              "    .colab-df-convert {\n",
              "      background-color: #E8F0FE;\n",
              "      border: none;\n",
              "      border-radius: 50%;\n",
              "      cursor: pointer;\n",
              "      display: none;\n",
              "      fill: #1967D2;\n",
              "      height: 32px;\n",
              "      padding: 0 0 0 0;\n",
              "      width: 32px;\n",
              "    }\n",
              "\n",
              "    .colab-df-convert:hover {\n",
              "      background-color: #E2EBFA;\n",
              "      box-shadow: 0px 1px 2px rgba(60, 64, 67, 0.3), 0px 1px 3px 1px rgba(60, 64, 67, 0.15);\n",
              "      fill: #174EA6;\n",
              "    }\n",
              "\n",
              "    [theme=dark] .colab-df-convert {\n",
              "      background-color: #3B4455;\n",
              "      fill: #D2E3FC;\n",
              "    }\n",
              "\n",
              "    [theme=dark] .colab-df-convert:hover {\n",
              "      background-color: #434B5C;\n",
              "      box-shadow: 0px 1px 3px 1px rgba(0, 0, 0, 0.15);\n",
              "      filter: drop-shadow(0px 1px 2px rgba(0, 0, 0, 0.3));\n",
              "      fill: #FFFFFF;\n",
              "    }\n",
              "  </style>\n",
              "\n",
              "      <script>\n",
              "        const buttonEl =\n",
              "          document.querySelector('#df-30d50cbb-eaa7-40ed-abc4-b36eb5fba19d button.colab-df-convert');\n",
              "        buttonEl.style.display =\n",
              "          google.colab.kernel.accessAllowed ? 'block' : 'none';\n",
              "\n",
              "        async function convertToInteractive(key) {\n",
              "          const element = document.querySelector('#df-30d50cbb-eaa7-40ed-abc4-b36eb5fba19d');\n",
              "          const dataTable =\n",
              "            await google.colab.kernel.invokeFunction('convertToInteractive',\n",
              "                                                     [key], {});\n",
              "          if (!dataTable) return;\n",
              "\n",
              "          const docLinkHtml = 'Like what you see? Visit the ' +\n",
              "            '<a target=\"_blank\" href=https://colab.research.google.com/notebooks/data_table.ipynb>data table notebook</a>'\n",
              "            + ' to learn more about interactive tables.';\n",
              "          element.innerHTML = '';\n",
              "          dataTable['output_type'] = 'display_data';\n",
              "          await google.colab.output.renderOutput(dataTable, element);\n",
              "          const docLink = document.createElement('div');\n",
              "          docLink.innerHTML = docLinkHtml;\n",
              "          element.appendChild(docLink);\n",
              "        }\n",
              "      </script>\n",
              "    </div>\n",
              "  </div>\n",
              "  "
            ]
          },
          "metadata": {},
          "execution_count": 12
        }
      ],
      "source": [
        "unstructured_df.head()"
      ]
    },
    {
      "cell_type": "code",
      "execution_count": null,
      "metadata": {
        "id": "X8k4plD0Tgww"
      },
      "outputs": [],
      "source": [
        "pos_unstructured_data = list(unstructured_df[\"positives\"][0:4000]) # Positive reviews"
      ]
    },
    {
      "cell_type": "code",
      "execution_count": null,
      "metadata": {
        "id": "-yZLZaSjTxrO"
      },
      "outputs": [],
      "source": [
        "neg_unstructured_data = list(unstructured_df[\"negatives\"][0:4000]) # Negative reviews"
      ]
    },
    {
      "cell_type": "code",
      "source": [
        "model = CountSpace()\n",
        "model.train(\"/content/train.csv\")"
      ],
      "metadata": {
        "id": "XIyqHLrG89hG"
      },
      "execution_count": null,
      "outputs": []
    },
    {
      "cell_type": "code",
      "execution_count": null,
      "metadata": {
        "colab": {
          "base_uri": "https://localhost:8080/"
        },
        "id": "zBJlbcEeUOTw",
        "outputId": "dfd36916-b041-42a1-c60d-adb0a86878d1"
      },
      "outputs": [
        {
          "output_type": "stream",
          "name": "stdout",
          "text": [
            "it's possible to get out of work on time and there are many possibilites for self development\n"
          ]
        }
      ],
      "source": [
        "# Example how model works\n",
        "verbose=False \n",
        "sent = \"it's possible to get out of work on time and there are manypossibilites for self development\"\n",
        "sent_corrected, tags = model.correct(sent)\n",
        "\n",
        "print(sent_corrected)"
      ]
    },
    {
      "cell_type": "code",
      "execution_count": null,
      "metadata": {
        "id": "4BQ4X6j0VRQD"
      },
      "outputs": [],
      "source": [
        "#Spacing correction using SOYSPACING\n",
        "def spaced(data):\n",
        "  spaced_data = []\n",
        "  for i in data:\n",
        "    sent_corrected, tags = model.correct(i)\n",
        "    spaced_data.append(sent_corrected)\n",
        "  return spaced_data\n"
      ]
    },
    {
      "cell_type": "code",
      "execution_count": null,
      "metadata": {
        "id": "vBiAZT8oVkgX"
      },
      "outputs": [],
      "source": [
        "pos_spaced = spaced(pos_unstructured_data) \n",
        "neg_spaced = spaced(neg_unstructured_data) "
      ]
    },
    {
      "cell_type": "code",
      "execution_count": null,
      "metadata": {
        "id": "PKYztJt0WMY8"
      },
      "outputs": [],
      "source": [
        "#removing stop words\n",
        "def cleaned(data):\n",
        "  cleaned_data = []\n",
        "  for j in data:\n",
        "     words = [word for word in j.split() if j.lower() not in stopwords]\n",
        "     new_text = \" \".join(words)\n",
        "     cleaned_data.append(new_text)\n",
        "  return cleaned_data"
      ]
    },
    {
      "cell_type": "code",
      "execution_count": null,
      "metadata": {
        "id": "3xH16ZweWSYW"
      },
      "outputs": [],
      "source": [
        "cleaned_pos = cleaned(pos_spaced)\n",
        "cleaned_neg = cleaned(neg_spaced)"
      ]
    },
    {
      "cell_type": "code",
      "execution_count": null,
      "metadata": {
        "id": "TF314qxPWVf8"
      },
      "outputs": [],
      "source": [
        "#Extracting Nouns\n",
        "def Nouns(data):\n",
        "  Nouns = []\n",
        "  for j in data:\n",
        "    blob = TextBlob(j)\n",
        "    if blob.noun_phrases != []:\n",
        "      Nouns.append(list(blob.noun_phrases))\n",
        "  return Nouns"
      ]
    },
    {
      "cell_type": "code",
      "execution_count": null,
      "metadata": {
        "id": "BzIMj3PwWrE3"
      },
      "outputs": [],
      "source": [
        "pos_nouns = Nouns(cleaned_pos)\n",
        "neg_nouns = Nouns(cleaned_neg)"
      ]
    },
    {
      "cell_type": "code",
      "execution_count": null,
      "metadata": {
        "id": "Qa9n1A7RWw0R"
      },
      "outputs": [],
      "source": [
        "def corpus(Nouns):\n",
        "  dictionary = gensim.corpora.Dictionary(Nouns)\n",
        "  dictionary.filter_extremes(no_below=15, no_above=0.5, keep_n=100000)\n",
        "  bow_corpus = [dictionary.doc2bow(doc) for doc in Nouns]\n",
        "  return dictionary,bow_corpus"
      ]
    },
    {
      "cell_type": "code",
      "execution_count": null,
      "metadata": {
        "id": "MktZQPvIXY7k"
      },
      "outputs": [],
      "source": [
        "pos_dic,pos_corpus = corpus(pos_nouns)\n",
        "neg_dic,neg_corpus = corpus(neg_nouns)"
      ]
    },
    {
      "cell_type": "code",
      "execution_count": null,
      "metadata": {
        "id": "13dl75BdXbnh"
      },
      "outputs": [],
      "source": [
        "pos_lda_model = gensim.models.ldamodel.LdaModel(corpus = pos_corpus,\n",
        "                                            id2word = pos_dic,\n",
        "                                            num_topics = 25,\n",
        "                                            random_state=100,\n",
        "                                            update_every = 1,\n",
        "                                            chunksize = 100,\n",
        "                                            passes = 10,\n",
        "                                            alpha = \"auto\")"
      ]
    },
    {
      "cell_type": "code",
      "execution_count": null,
      "metadata": {
        "id": "vtY5bkKQXe7-"
      },
      "outputs": [],
      "source": [
        "neg_lda_model = gensim.models.ldamodel.LdaModel(corpus = neg_corpus,\n",
        "                                            id2word = neg_dic,\n",
        "                                            num_topics = 25,\n",
        "                                            random_state=100,\n",
        "                                            update_every = 1,\n",
        "                                            chunksize = 100,\n",
        "                                            passes = 10,\n",
        "                                            alpha = \"auto\",)"
      ]
    },
    {
      "cell_type": "code",
      "execution_count": null,
      "metadata": {
        "colab": {
          "base_uri": "https://localhost:8080/"
        },
        "id": "eIf23VpzXiAO",
        "outputId": "12c071cb-438b-4336-99df-486c9103280c"
      },
      "outputs": [
        {
          "output_type": "execute_result",
          "data": {
            "text/plain": [
              "-4.2765331940579205"
            ]
          },
          "metadata": {},
          "execution_count": 31
        }
      ],
      "source": [
        "pos_lda_model.log_perplexity(pos_corpus)"
      ]
    },
    {
      "cell_type": "code",
      "execution_count": null,
      "metadata": {
        "colab": {
          "base_uri": "https://localhost:8080/"
        },
        "id": "DXJqR_3dXks_",
        "outputId": "80d64d04-e2d1-4684-a690-f71d1f7f2bf6"
      },
      "outputs": [
        {
          "output_type": "execute_result",
          "data": {
            "text/plain": [
              "-3.472530353546357"
            ]
          },
          "metadata": {},
          "execution_count": 32
        }
      ],
      "source": [
        "neg_lda_model.log_perplexity(neg_corpus)"
      ]
    },
    {
      "cell_type": "code",
      "execution_count": null,
      "metadata": {
        "colab": {
          "base_uri": "https://localhost:8080/",
          "height": 882
        },
        "id": "ZkC9V1jtXnQ_",
        "outputId": "26b4a3f4-23b1-4072-bfbb-6bcb7f5a3042"
      },
      "outputs": [
        {
          "output_type": "execute_result",
          "data": {
            "text/plain": [
              "PreparedData(topic_coordinates=              x         y  topics  cluster       Freq\n",
              "topic                                                \n",
              "8     -0.277442  0.423057       1        1  13.337585\n",
              "20    -0.455649  0.116284       2        1   9.070082\n",
              "24    -0.415468  0.284079       3        1   6.930967\n",
              "0      0.402432  0.236049       4        1   5.541775\n",
              "23    -0.132747 -0.457188       5        1   4.370695\n",
              "19     0.097647  0.020555       6        1   4.298788\n",
              "17     0.174765  0.426283       7        1   4.218913\n",
              "2      0.316671  0.363455       8        1   4.045727\n",
              "21    -0.481575 -0.168965       9        1   3.775874\n",
              "9      0.321930 -0.343173      10        1   3.678150\n",
              "18     0.032146 -0.471127      11        1   3.611585\n",
              "12    -0.323688 -0.414000      12        1   3.568760\n",
              "3      0.469749 -0.198437      13        1   3.501046\n",
              "13     0.025672  0.494579      14        1   3.376129\n",
              "1      0.198335 -0.445083      15        1   3.076018\n",
              "11    -0.230581  0.169541      16        1   2.911479\n",
              "16     0.068755 -0.227394      17        1   2.896223\n",
              "7      0.503816  0.070189      18        1   2.846781\n",
              "14     0.006456  0.213748      19        1   2.722962\n",
              "5      0.339761 -0.133378      20        1   2.686930\n",
              "4     -0.129561 -0.191144      21        1   2.453994\n",
              "6     -0.108206  0.403699      22        1   1.920997\n",
              "15     0.305999  0.074765      23        1   1.756608\n",
              "22    -0.307513 -0.219029      24        1   1.755378\n",
              "10    -0.401702 -0.027366      25        1   1.646555, topic_info=              Term        Freq       Total Category  logprob  loglift\n",
              "2           google  430.000000  430.000000  Default  30.0000  30.0000\n",
              "17         amazing  138.000000  138.000000  Default  29.0000  29.0000\n",
              "11            lots  141.000000  141.000000  Default  28.0000  28.0000\n",
              "3           amazon  129.000000  129.000000  Default  27.0000  27.0000\n",
              "33    great people  147.000000  147.000000  Default  26.0000  26.0000\n",
              "..             ...         ...         ...      ...      ...      ...\n",
              "23            nice    0.045493   86.480593  Topic25  -7.3393  -3.4436\n",
              "24       free food    0.045493   96.014139  Topic25  -7.3393  -3.5482\n",
              "25     nice people    0.045493   27.836569  Topic25  -7.3393  -2.3101\n",
              "26   great company    0.045493   87.935821  Topic25  -7.3393  -3.4603\n",
              "27  great benefits    0.045493  151.609858  Topic25  -7.3393  -4.0050\n",
              "\n",
              "[1280 rows x 6 columns], token_table=      Topic      Freq               Term\n",
              "term                                    \n",
              "79       20  0.976775            ability\n",
              "17       11  0.993702            amazing\n",
              "60       13  0.959146   amazing benefits\n",
              "70       17  0.844440     amazing people\n",
              "31       11  0.898812      amazing perks\n",
              "...     ...       ...                ...\n",
              "28       13  0.976045  work life balance\n",
              "5        20  0.882755  work-life balance\n",
              "77        9  0.948777  work/life balance\n",
              "6        20  0.973512            working\n",
              "7         1  0.967191               your\n",
              "\n",
              "[84 rows x 3 columns], R=30, lambda_step=0.01, plot_opts={'xlab': 'PC1', 'ylab': 'PC2'}, topic_order=[9, 21, 25, 1, 24, 20, 18, 3, 22, 10, 19, 13, 4, 14, 2, 12, 17, 8, 15, 6, 5, 7, 16, 23, 11])"
            ],
            "text/html": [
              "\n",
              "<link rel=\"stylesheet\" type=\"text/css\" href=\"https://cdn.jsdelivr.net/gh/bmabey/pyLDAvis@3.3.1/pyLDAvis/js/ldavis.v1.0.0.css\">\n",
              "\n",
              "\n",
              "<div id=\"ldavis_el62139987020326736550984457\"></div>\n",
              "<script type=\"text/javascript\">\n",
              "\n",
              "var ldavis_el62139987020326736550984457_data = {\"mdsDat\": {\"x\": [-0.2774420509475601, -0.4556490356136318, -0.41546820895220693, 0.40243193324926957, -0.13274651078566396, 0.09764651674407226, 0.1747647339753551, 0.3166710709303902, -0.48157489398052056, 0.32192960517779445, 0.032145622659864495, -0.3236879251639979, 0.4697485164853426, 0.02567204509806919, 0.19833504160693916, -0.23058064553314828, 0.0687550924707399, 0.5038156488414431, 0.006456330677264628, 0.3397611355191279, -0.12956103468241034, -0.1082061327063895, 0.305998584201666, -0.30751325705803845, -0.40170218221377085], \"y\": [0.4230570121301835, 0.11628390023754066, 0.28407918939241805, 0.23604898305152566, -0.4571882652971545, 0.020555019320813134, 0.4262830135028092, 0.3634553633000981, -0.1689652397272188, -0.34317297298218635, -0.47112654407374166, -0.41399963583513744, -0.19843678270918222, 0.4945794447801367, -0.44508307786009277, 0.169541285589027, -0.22739355705515948, 0.07018943320616215, 0.21374793664815986, -0.13337788476220788, -0.19114449269938788, 0.4036986659292444, 0.0747645762136375, -0.2190291182276566, -0.02736625207262959], \"topics\": [1, 2, 3, 4, 5, 6, 7, 8, 9, 10, 11, 12, 13, 14, 15, 16, 17, 18, 19, 20, 21, 22, 23, 24, 25], \"cluster\": [1, 1, 1, 1, 1, 1, 1, 1, 1, 1, 1, 1, 1, 1, 1, 1, 1, 1, 1, 1, 1, 1, 1, 1, 1], \"Freq\": [13.337585079039282, 9.07008179798408, 6.930966699983687, 5.541774942057997, 4.370695272254861, 4.298787691787636, 4.218912947763481, 4.045726948482721, 3.775873622551111, 3.678149595791865, 3.6115846702064163, 3.5687604002001807, 3.50104646847713, 3.3761291187970355, 3.0760181603245114, 2.9114793296241106, 2.89622306044779, 2.8467809880440678, 2.7229615616676615, 2.6869300960792812, 2.453993655250187, 1.9209973552076056, 1.756607548851462, 1.755378472443669, 1.6465545166821687]}, \"tinfo\": {\"Term\": [\"google\", \"amazing\", \"lots\", \"amazon\", \"great people\", \"smart people\", \"free\", \"benefits\", \"great benefits\", \"smart\", \"great place\", \"free food\", \"nice\", \"great company\", \"work environment\", \"easy\", \"perks\", \"great culture\", \"good people\", \"great perks\", \"good benefits\", \"great environment\", \"flexible\", \"management\", \"awesome\", \"culture\", \"working\", \"interesting projects\", \"opportunities\", \"ability\", \"google\", \"fantastic\", \"ca n't\", \"your\", \"overall\", \"flexibility\", \"surrounded\", \"tons\", \"amazing people\", \"great work life balance\", \"good work environment\", \"amazing perks\", \"good culture\", \"great coworkers\", \"work-life balance\", \"great salary\", \"company culture\", \"smartest people\", \"wonderful\", \"intelligent people\", \"work/life balance\", \"great work environment\", \"employees\", \"great products\", \"pay\", \"good compensation\", \"interesting\", \"managers\", \"brilliant\", \"good food\", \"compensation\", \"free\", \"amazon\", \"working\", \"good perks\", \"really\", \"awesome\", \"lots\", \"great culture\", \"competitive\", \"culture\", \"easy\", \"amazing\", \"great colleagues\", \"nice\", \"free food\", \"nice people\", \"great company\", \"great benefits\", \"work life balance\", \"smart people\", \"great benefits\", \"fast\", \"overall\", \"flexibility\", \"surrounded\", \"tons\", \"amazing people\", \"great work life balance\", \"good work environment\", \"amazing perks\", \"good culture\", \"great coworkers\", \"work-life balance\", \"great salary\", \"company culture\", \"smartest people\", \"wonderful\", \"intelligent people\", \"work/life balance\", \"great work environment\", \"employees\", \"great products\", \"pay\", \"good compensation\", \"interesting\", \"managers\", \"brilliant\", \"good food\", \"compensation\", \"free\", \"google\", \"amazon\", \"ca n't\", \"working\", \"your\", \"good perks\", \"really\", \"awesome\", \"lots\", \"great culture\", \"competitive\", \"culture\", \"easy\", \"amazing\", \"great colleagues\", \"nice\", \"free food\", \"nice people\", \"great company\", \"perks\", \"great perks\", \"competitive\", \"friendly\", \"challenging\", \"overall\", \"flexibility\", \"surrounded\", \"tons\", \"amazing people\", \"great work life balance\", \"good work environment\", \"amazing perks\", \"good culture\", \"great coworkers\", \"work-life balance\", \"great salary\", \"company culture\", \"smartest people\", \"wonderful\", \"intelligent people\", \"work/life balance\", \"great work environment\", \"employees\", \"great products\", \"pay\", \"good compensation\", \"interesting\", \"managers\", \"brilliant\", \"compensation\", \"free\", \"google\", \"amazon\", \"ca n't\", \"working\", \"your\", \"good perks\", \"really\", \"awesome\", \"lots\", \"great culture\", \"culture\", \"easy\", \"amazing\", \"great colleagues\", \"nice\", \"free food\", \"nice people\", \"great people\", \"great culture\", \"tons\", \"overall\", \"flexibility\", \"surrounded\", \"amazing people\", \"great work life balance\", \"good work environment\", \"amazing perks\", \"good culture\", \"great coworkers\", \"work-life balance\", \"great salary\", \"company culture\", \"smartest people\", \"wonderful\", \"intelligent people\", \"work/life balance\", \"great work environment\", \"employees\", \"great products\", \"pay\", \"good compensation\", \"interesting\", \"managers\", \"brilliant\", \"good food\", \"compensation\", \"amazing benefits\", \"free\", \"google\", \"amazon\", \"ca n't\", \"working\", \"your\", \"good perks\", \"really\", \"awesome\", \"lots\", \"competitive\", \"culture\", \"easy\", \"amazing\", \"great colleagues\", \"nice\", \"free food\", \"nice people\", \"great company\", \"great benefits\", \"work life balance\", \"lots\", \"good compensation\", \"company culture\", \"great coworkers\", \"overall\", \"flexibility\", \"surrounded\", \"tons\", \"amazing people\", \"great work life balance\", \"good work environment\", \"amazing perks\", \"good culture\", \"work-life balance\", \"great salary\", \"smartest people\", \"wonderful\", \"intelligent people\", \"work/life balance\", \"great work environment\", \"employees\", \"great products\", \"pay\", \"interesting\", \"managers\", \"brilliant\", \"good food\", \"compensation\", \"amazing benefits\", \"great food\", \"free\", \"google\", \"amazon\", \"ca n't\", \"working\", \"your\", \"good perks\", \"really\", \"awesome\", \"great culture\", \"competitive\", \"culture\", \"easy\", \"amazing\", \"great colleagues\", \"nice\", \"free food\", \"nice people\", \"great company\", \"great benefits\", \"work life balance\", \"smart\", \"good salary\", \"nice people\", \"overall\", \"flexibility\", \"surrounded\", \"tons\", \"amazing people\", \"great work life balance\", \"good work environment\", \"amazing perks\", \"good culture\", \"great coworkers\", \"work-life balance\", \"great salary\", \"company culture\", \"smartest people\", \"wonderful\", \"intelligent people\", \"work/life balance\", \"great work environment\", \"employees\", \"great products\", \"pay\", \"good compensation\", \"interesting\", \"managers\", \"brilliant\", \"good food\", \"compensation\", \"free\", \"google\", \"amazon\", \"ca n't\", \"working\", \"your\", \"good perks\", \"really\", \"awesome\", \"lots\", \"great culture\", \"competitive\", \"culture\", \"easy\", \"amazing\", \"great colleagues\", \"nice\", \"free food\", \"great company\", \"great benefits\", \"free food\", \"interesting projects\", \"great colleagues\", \"overall\", \"flexibility\", \"surrounded\", \"tons\", \"amazing people\", \"great work life balance\", \"good work environment\", \"amazing perks\", \"good culture\", \"great coworkers\", \"work-life balance\", \"great salary\", \"company culture\", \"smartest people\", \"wonderful\", \"intelligent people\", \"work/life balance\", \"great work environment\", \"employees\", \"great products\", \"pay\", \"good compensation\", \"interesting\", \"managers\", \"brilliant\", \"good food\", \"compensation\", \"free\", \"google\", \"amazon\", \"ca n't\", \"working\", \"your\", \"good perks\", \"really\", \"awesome\", \"lots\", \"great culture\", \"competitive\", \"culture\", \"easy\", \"amazing\", \"nice\", \"nice people\", \"great company\", \"great benefits\", \"work life balance\", \"free\", \"compensation\", \"brilliant\", \"overall\", \"flexibility\", \"surrounded\", \"tons\", \"amazing people\", \"great work life balance\", \"good work environment\", \"amazing perks\", \"good culture\", \"great coworkers\", \"work-life balance\", \"great salary\", \"company culture\", \"smartest people\", \"wonderful\", \"intelligent people\", \"work/life balance\", \"great work environment\", \"employees\", \"great products\", \"pay\", \"good compensation\", \"interesting\", \"managers\", \"good food\", \"amazing benefits\", \"great food\", \"google\", \"amazon\", \"ca n't\", \"working\", \"your\", \"good perks\", \"really\", \"awesome\", \"lots\", \"great culture\", \"competitive\", \"culture\", \"easy\", \"amazing\", \"great colleagues\", \"nice\", \"free food\", \"nice people\", \"great company\", \"great benefits\", \"work life balance\", \"great place\", \"innovative\", \"work/life balance\", \"intelligent people\", \"surrounded\", \"overall\", \"flexibility\", \"tons\", \"amazing people\", \"great work life balance\", \"good work environment\", \"amazing perks\", \"good culture\", \"great coworkers\", \"work-life balance\", \"great salary\", \"company culture\", \"smartest people\", \"wonderful\", \"great work environment\", \"employees\", \"great products\", \"pay\", \"good compensation\", \"interesting\", \"managers\", \"brilliant\", \"good food\", \"compensation\", \"amazing benefits\", \"free\", \"google\", \"amazon\", \"ca n't\", \"working\", \"your\", \"good perks\", \"really\", \"awesome\", \"lots\", \"great culture\", \"competitive\", \"culture\", \"easy\", \"amazing\", \"great colleagues\", \"nice\", \"free food\", \"great company\", \"fun\", \"managers\", \"employees\", \"overall\", \"flexibility\", \"surrounded\", \"tons\", \"amazing people\", \"great work life balance\", \"good work environment\", \"amazing perks\", \"good culture\", \"great coworkers\", \"work-life balance\", \"great salary\", \"company culture\", \"smartest people\", \"wonderful\", \"intelligent people\", \"work/life balance\", \"great work environment\", \"great products\", \"pay\", \"good compensation\", \"interesting\", \"brilliant\", \"good food\", \"compensation\", \"amazing benefits\", \"free\", \"google\", \"amazon\", \"ca n't\", \"working\", \"your\", \"good perks\", \"really\", \"awesome\", \"lots\", \"great culture\", \"competitive\", \"culture\", \"easy\", \"amazing\", \"great colleagues\", \"nice\", \"free food\", \"nice people\", \"great benefits\", \"amazing\", \"amazing perks\", \"overall\", \"flexibility\", \"surrounded\", \"tons\", \"amazing people\", \"great work life balance\", \"good work environment\", \"good culture\", \"great coworkers\", \"work-life balance\", \"great salary\", \"company culture\", \"smartest people\", \"wonderful\", \"intelligent people\", \"work/life balance\", \"great work environment\", \"employees\", \"great products\", \"pay\", \"good compensation\", \"interesting\", \"managers\", \"brilliant\", \"good food\", \"compensation\", \"amazing benefits\", \"great food\", \"free\", \"google\", \"amazon\", \"ca n't\", \"working\", \"your\", \"good perks\", \"really\", \"awesome\", \"lots\", \"great culture\", \"competitive\", \"culture\", \"easy\", \"great colleagues\", \"nice\", \"free food\", \"nice people\", \"great company\", \"great benefits\", \"work life balance\", \"amazon\", \"pay\", \"flexibility\", \"overall\", \"surrounded\", \"tons\", \"amazing people\", \"great work life balance\", \"good work environment\", \"amazing perks\", \"good culture\", \"great coworkers\", \"work-life balance\", \"great salary\", \"company culture\", \"smartest people\", \"wonderful\", \"intelligent people\", \"work/life balance\", \"great work environment\", \"employees\", \"great products\", \"good compensation\", \"interesting\", \"managers\", \"brilliant\", \"good food\", \"compensation\", \"amazing benefits\", \"great food\", \"free\", \"google\", \"ca n't\", \"working\", \"your\", \"good perks\", \"really\", \"awesome\", \"lots\", \"great culture\", \"competitive\", \"culture\", \"easy\", \"amazing\", \"great colleagues\", \"nice\", \"free food\", \"nice people\", \"great company\", \"work environment\", \"work life balance\", \"amazing benefits\", \"interesting\", \"overall\", \"flexibility\", \"surrounded\", \"tons\", \"amazing people\", \"great work life balance\", \"good work environment\", \"amazing perks\", \"good culture\", \"great coworkers\", \"work-life balance\", \"great salary\", \"company culture\", \"smartest people\", \"wonderful\", \"intelligent people\", \"work/life balance\", \"great work environment\", \"employees\", \"great products\", \"pay\", \"good compensation\", \"managers\", \"brilliant\", \"good food\", \"compensation\", \"free\", \"google\", \"amazon\", \"ca n't\", \"working\", \"your\", \"good perks\", \"really\", \"awesome\", \"lots\", \"great culture\", \"competitive\", \"culture\", \"easy\", \"amazing\", \"great colleagues\", \"nice\", \"free food\", \"nice people\", \"good benefits\", \"good place\", \"learning\", \"great work environment\", \"overall\", \"flexibility\", \"surrounded\", \"tons\", \"amazing people\", \"great work life balance\", \"good work environment\", \"amazing perks\", \"good culture\", \"great coworkers\", \"work-life balance\", \"great salary\", \"company culture\", \"smartest people\", \"wonderful\", \"intelligent people\", \"work/life balance\", \"employees\", \"great products\", \"pay\", \"good compensation\", \"interesting\", \"managers\", \"brilliant\", \"good food\", \"compensation\", \"free\", \"google\", \"amazon\", \"ca n't\", \"working\", \"your\", \"good perks\", \"really\", \"awesome\", \"lots\", \"great culture\", \"competitive\", \"culture\", \"easy\", \"amazing\", \"great colleagues\", \"nice\", \"free food\", \"nice people\", \"nice\", \"great food\", \"wonderful\", \"good work environment\", \"overall\", \"flexibility\", \"surrounded\", \"tons\", \"amazing people\", \"great work life balance\", \"amazing perks\", \"good culture\", \"great coworkers\", \"work-life balance\", \"great salary\", \"company culture\", \"smartest people\", \"intelligent people\", \"work/life balance\", \"great work environment\", \"employees\", \"great products\", \"pay\", \"good compensation\", \"interesting\", \"managers\", \"brilliant\", \"good food\", \"compensation\", \"amazing benefits\", \"free\", \"google\", \"amazon\", \"ca n't\", \"working\", \"your\", \"good perks\", \"really\", \"awesome\", \"lots\", \"great culture\", \"competitive\", \"culture\", \"easy\", \"amazing\", \"great colleagues\", \"free food\", \"nice people\", \"great company\", \"benefits\", \"good company\", \"overall\", \"flexibility\", \"surrounded\", \"tons\", \"amazing people\", \"great work life balance\", \"good work environment\", \"amazing perks\", \"good culture\", \"great coworkers\", \"work-life balance\", \"great salary\", \"company culture\", \"smartest people\", \"wonderful\", \"intelligent people\", \"work/life balance\", \"great work environment\", \"employees\", \"great products\", \"pay\", \"good compensation\", \"interesting\", \"managers\", \"brilliant\", \"good food\", \"compensation\", \"amazing benefits\", \"free\", \"google\", \"amazon\", \"ca n't\", \"working\", \"your\", \"good perks\", \"really\", \"awesome\", \"lots\", \"great culture\", \"competitive\", \"culture\", \"easy\", \"amazing\", \"great colleagues\", \"nice\", \"free food\", \"nice people\", \"great company\", \"great benefits\", \"flexible\", \"work culture\", \"opportunity\", \"great salary\", \"amazing people\", \"overall\", \"flexibility\", \"surrounded\", \"tons\", \"great work life balance\", \"good work environment\", \"amazing perks\", \"good culture\", \"great coworkers\", \"work-life balance\", \"company culture\", \"smartest people\", \"wonderful\", \"intelligent people\", \"work/life balance\", \"great work environment\", \"employees\", \"great products\", \"pay\", \"good compensation\", \"interesting\", \"managers\", \"brilliant\", \"good food\", \"compensation\", \"free\", \"google\", \"amazon\", \"ca n't\", \"working\", \"your\", \"good perks\", \"really\", \"awesome\", \"lots\", \"great culture\", \"competitive\", \"culture\", \"easy\", \"amazing\", \"great colleagues\", \"nice\", \"free food\", \"easy\", \"excellent\", \"good food\", \"overall\", \"flexibility\", \"surrounded\", \"tons\", \"amazing people\", \"great work life balance\", \"good work environment\", \"amazing perks\", \"good culture\", \"great coworkers\", \"work-life balance\", \"great salary\", \"company culture\", \"smartest people\", \"wonderful\", \"intelligent people\", \"work/life balance\", \"great work environment\", \"employees\", \"great products\", \"pay\", \"good compensation\", \"interesting\", \"managers\", \"brilliant\", \"compensation\", \"amazing benefits\", \"free\", \"google\", \"amazon\", \"ca n't\", \"working\", \"your\", \"good perks\", \"really\", \"awesome\", \"lots\", \"great culture\", \"competitive\", \"culture\", \"amazing\", \"great colleagues\", \"nice\", \"free food\", \"nice people\", \"great company\", \"great benefits\", \"culture\", \"good environment\", \"good perks\", \"overall\", \"flexibility\", \"surrounded\", \"tons\", \"amazing people\", \"great work life balance\", \"good work environment\", \"amazing perks\", \"good culture\", \"great coworkers\", \"work-life balance\", \"great salary\", \"company culture\", \"smartest people\", \"wonderful\", \"intelligent people\", \"work/life balance\", \"great work environment\", \"employees\", \"great products\", \"pay\", \"good compensation\", \"interesting\", \"managers\", \"brilliant\", \"good food\", \"compensation\", \"free\", \"google\", \"amazon\", \"ca n't\", \"working\", \"your\", \"really\", \"awesome\", \"lots\", \"great culture\", \"competitive\", \"easy\", \"amazing\", \"great colleagues\", \"nice\", \"free food\", \"nice people\", \"great company\", \"great benefits\", \"work life balance\", \"working\", \"ability\", \"work-life balance\", \"great work life balance\", \"overall\", \"flexibility\", \"surrounded\", \"tons\", \"amazing people\", \"good work environment\", \"amazing perks\", \"good culture\", \"great coworkers\", \"great salary\", \"company culture\", \"smartest people\", \"wonderful\", \"intelligent people\", \"work/life balance\", \"great work environment\", \"employees\", \"great products\", \"pay\", \"good compensation\", \"interesting\", \"managers\", \"brilliant\", \"good food\", \"compensation\", \"amazing benefits\", \"free\", \"google\", \"amazon\", \"ca n't\", \"your\", \"good perks\", \"really\", \"awesome\", \"lots\", \"great culture\", \"competitive\", \"culture\", \"easy\", \"amazing\", \"great colleagues\", \"nice\", \"free food\", \"nice people\", \"great company\", \"great benefits\", \"work life balance\", \"management\", \"everyone\", \"smartest people\", \"overall\", \"flexibility\", \"surrounded\", \"tons\", \"amazing people\", \"great work life balance\", \"good work environment\", \"amazing perks\", \"good culture\", \"great coworkers\", \"work-life balance\", \"great salary\", \"company culture\", \"wonderful\", \"intelligent people\", \"work/life balance\", \"great work environment\", \"employees\", \"great products\", \"pay\", \"good compensation\", \"interesting\", \"managers\", \"brilliant\", \"good food\", \"compensation\", \"amazing benefits\", \"free\", \"google\", \"amazon\", \"ca n't\", \"working\", \"your\", \"good perks\", \"really\", \"awesome\", \"lots\", \"great culture\", \"competitive\", \"culture\", \"easy\", \"amazing\", \"great colleagues\", \"nice\", \"free food\", \"nice people\", \"great company\", \"great environment\", \"interesting work\", \"overall\", \"flexibility\", \"surrounded\", \"tons\", \"amazing people\", \"great work life balance\", \"good work environment\", \"amazing perks\", \"good culture\", \"great coworkers\", \"work-life balance\", \"great salary\", \"company culture\", \"smartest people\", \"wonderful\", \"intelligent people\", \"work/life balance\", \"great work environment\", \"employees\", \"great products\", \"pay\", \"good compensation\", \"interesting\", \"managers\", \"brilliant\", \"good food\", \"compensation\", \"amazing benefits\", \"free\", \"google\", \"amazon\", \"ca n't\", \"working\", \"your\", \"good perks\", \"really\", \"awesome\", \"lots\", \"great culture\", \"competitive\", \"culture\", \"easy\", \"amazing\", \"great colleagues\", \"nice\", \"free food\", \"nice people\", \"great company\", \"great benefits\", \"opportunities\", \"really\", \"good culture\", \"overall\", \"flexibility\", \"surrounded\", \"tons\", \"amazing people\", \"great work life balance\", \"good work environment\", \"amazing perks\", \"great coworkers\", \"work-life balance\", \"great salary\", \"company culture\", \"smartest people\", \"wonderful\", \"intelligent people\", \"work/life balance\", \"great work environment\", \"employees\", \"great products\", \"pay\", \"good compensation\", \"interesting\", \"managers\", \"brilliant\", \"good food\", \"compensation\", \"amazing benefits\", \"free\", \"google\", \"amazon\", \"ca n't\", \"working\", \"your\", \"good perks\", \"awesome\", \"lots\", \"great culture\", \"competitive\", \"culture\", \"easy\", \"amazing\", \"great colleagues\", \"nice\", \"free food\", \"nice people\", \"great company\", \"great benefits\", \"awesome\", \"strong\", \"overall\", \"flexibility\", \"surrounded\", \"tons\", \"amazing people\", \"great work life balance\", \"good work environment\", \"amazing perks\", \"good culture\", \"great coworkers\", \"work-life balance\", \"great salary\", \"company culture\", \"smartest people\", \"wonderful\", \"intelligent people\", \"work/life balance\", \"great work environment\", \"employees\", \"great products\", \"pay\", \"good compensation\", \"interesting\", \"managers\", \"brilliant\", \"good food\", \"compensation\", \"amazing benefits\", \"free\", \"google\", \"amazon\", \"ca n't\", \"working\", \"your\", \"good perks\", \"really\", \"lots\", \"great culture\", \"competitive\", \"culture\", \"easy\", \"amazing\", \"great colleagues\", \"nice\", \"free food\", \"nice people\", \"great company\", \"great benefits\", \"work life balance\", \"good people\", \"great products\", \"overall\", \"flexibility\", \"surrounded\", \"tons\", \"amazing people\", \"great work life balance\", \"good work environment\", \"amazing perks\", \"good culture\", \"great coworkers\", \"work-life balance\", \"great salary\", \"company culture\", \"smartest people\", \"wonderful\", \"intelligent people\", \"work/life balance\", \"great work environment\", \"employees\", \"pay\", \"good compensation\", \"interesting\", \"managers\", \"brilliant\", \"good food\", \"compensation\", \"amazing benefits\", \"great food\", \"free\", \"google\", \"amazon\", \"ca n't\", \"working\", \"your\", \"good perks\", \"really\", \"awesome\", \"lots\", \"great culture\", \"competitive\", \"culture\", \"easy\", \"amazing\", \"great colleagues\", \"nice\", \"free food\", \"nice people\", \"great company\", \"great benefits\"], \"Freq\": [430.0, 138.0, 141.0, 129.0, 147.0, 180.0, 131.0, 100.0, 151.0, 102.0, 97.0, 96.0, 86.0, 87.0, 73.0, 67.0, 91.0, 77.0, 52.0, 83.0, 63.0, 53.0, 59.0, 52.0, 45.0, 49.0, 47.0, 53.0, 39.0, 45.0, 429.5323375480593, 64.19628544943954, 38.89217036391763, 28.856479634566366, 0.07379580233678631, 0.07379580233678631, 0.07379580233678631, 0.07379580233678631, 0.07379580233678631, 0.07379580233678631, 0.07379580233678631, 0.07379580233678631, 0.07379580233678631, 0.07379580233678631, 0.07379580233678631, 0.07379580233678631, 0.07379580233678631, 0.07379580233678631, 0.07379580233678631, 0.07379580233678631, 0.07379580233678631, 0.07379580233678631, 0.07379580233678631, 0.07379580233678631, 0.07379580233678631, 0.07379580233678631, 0.07379580233678631, 0.07379580233678631, 0.07379580233678631, 0.07379580233678631, 0.07379580233678631, 0.07379580233678631, 0.07379580233678631, 0.07379580233678631, 0.07379580233678631, 0.07379580233678631, 0.07379580233678631, 0.07379580233678631, 0.07379580233678631, 0.07379580233678631, 0.07379580233678631, 0.07379580233678631, 0.07379580233678631, 0.07379580233678631, 0.07379580233678631, 0.07379580233678631, 0.07379580233678631, 0.07379580233678631, 0.07379580233678631, 0.07379580233678631, 179.61655906934283, 150.45465105953565, 52.055516646714956, 0.04585972286170961, 0.04585972286170961, 0.04585972286170961, 0.04585972286170961, 0.04585972286170961, 0.04585972286170961, 0.04585972286170961, 0.04585972286170961, 0.04585972286170961, 0.04585972286170961, 0.04585972286170961, 0.04585972286170961, 0.04585972286170961, 0.04585972286170961, 0.04585972286170961, 0.04585972286170961, 0.04585972286170961, 0.04585972286170961, 0.04585972286170961, 0.04585972286170961, 0.04585972286170961, 0.04585972286170961, 0.04585972286170961, 0.04585972286170961, 0.04585972286170961, 0.04585972286170961, 0.04585972286170961, 0.04585972286170961, 0.04585972286170961, 0.04585972286170961, 0.04585972286170961, 0.04585972286170961, 0.04585972286170961, 0.04585972286170961, 0.04585972286170961, 0.04585972286170961, 0.04585972286170961, 0.04585972286170961, 0.04585972286170961, 0.04585972286170961, 0.04585972286170961, 0.04585972286170961, 0.04585972286170961, 0.04585972286170961, 0.04585972286170961, 0.04585972286170961, 0.04585972286170961, 90.33539254581903, 82.64098047128547, 46.00745381854556, 37.58019142860973, 33.56813438081336, 0.05963523368103266, 0.05963523368103266, 0.05963523368103266, 0.05963523368103266, 0.05963523368103266, 0.05963523368103266, 0.05963523368103266, 0.05963523368103266, 0.05963523368103266, 0.05963523368103266, 0.05963523368103266, 0.05963523368103266, 0.05963523368103266, 0.05963523368103266, 0.05963523368103266, 0.05963523368103266, 0.05963523368103266, 0.05963523368103266, 0.05963523368103266, 0.05963523368103266, 0.05963523368103266, 0.05963523368103266, 0.05963523368103266, 0.05963523368103266, 0.05963523368103266, 0.05963523368103266, 0.05963523368103266, 0.05963523368103266, 0.05963523368103266, 0.05963523368103266, 0.05963523368103266, 0.05963523368103266, 0.05963523368103266, 0.05963523368103266, 0.05963523368103266, 0.05963523368103266, 0.05963523368103266, 0.05963523368103266, 0.05963523368103266, 0.05963523368103266, 0.05963523368103266, 0.05963523368103266, 0.05963523368103266, 0.05963523368103266, 146.6709098344896, 76.63580876273645, 6.825252624536693, 0.06932263856329492, 0.06932263856329492, 0.06932263856329492, 0.06932263856329492, 0.06932263856329492, 0.06932263856329492, 0.06932263856329492, 0.06932263856329492, 0.06932263856329492, 0.06932263856329492, 0.06932263856329492, 0.06932263856329492, 0.06932263856329492, 0.06932263856329492, 0.06932263856329492, 0.06932263856329492, 0.06932263856329492, 0.06932263856329492, 0.06932263856329492, 0.06932263856329492, 0.06932263856329492, 0.06932263856329492, 0.06932263856329492, 0.06932263856329492, 0.06932263856329492, 0.06932263856329492, 0.06932263856329492, 0.06932263856329492, 0.06932263856329492, 0.06932263856329492, 0.06932263856329492, 0.06932263856329492, 0.06932263856329492, 0.06932263856329492, 0.06932263856329492, 0.06932263856329492, 0.06932263856329492, 0.06932263856329492, 0.06932263856329492, 0.06932263856329492, 0.06932263856329492, 0.06932263856329492, 0.06932263856329492, 0.06932263856329492, 0.06932263856329492, 0.06932263856329492, 0.06932263856329492, 0.06932263856329492, 140.62073570590707, 16.26100486094098, 13.377119577720197, 11.62230133475041, 0.05060305786901933, 0.05060305786901933, 0.05060305786901933, 0.05060305786901933, 0.05060305786901933, 0.05060305786901933, 0.05060305786901933, 0.05060305786901933, 0.05060305786901933, 0.05060305786901933, 0.05060305786901933, 0.05060305786901933, 0.05060305786901933, 0.05060305786901933, 0.05060305786901933, 0.05060305786901933, 0.05060305786901933, 0.05060305786901933, 0.05060305786901933, 0.05060305786901933, 0.05060305786901933, 0.05060305786901933, 0.05060305786901933, 0.05060305786901933, 0.05060305786901933, 0.05060305786901933, 0.05060305786901933, 0.05060305786901933, 0.05060305786901933, 0.05060305786901933, 0.05060305786901933, 0.05060305786901933, 0.05060305786901933, 0.05060305786901933, 0.05060305786901933, 0.05060305786901933, 0.05060305786901933, 0.05060305786901933, 0.05060305786901933, 0.05060305786901933, 0.05060305786901933, 0.05060305786901933, 0.05060305786901933, 0.05060305786901933, 0.05060305786901933, 0.05060305786901933, 0.05060305786901933, 101.24481315932509, 50.047310070315014, 26.695780168246525, 0.06027790140269381, 0.06027790140269381, 0.06027790140269381, 0.06027790140269381, 0.06027790140269381, 0.06027790140269381, 0.06027790140269381, 0.06027790140269381, 0.06027790140269381, 0.06027790140269381, 0.06027790140269381, 0.06027790140269381, 0.06027790140269381, 0.06027790140269381, 0.06027790140269381, 0.06027790140269381, 0.06027790140269381, 0.06027790140269381, 0.06027790140269381, 0.06027790140269381, 0.06027790140269381, 0.06027790140269381, 0.06027790140269381, 0.06027790140269381, 0.06027790140269381, 0.06027790140269381, 0.06027790140269381, 0.06027790140269381, 0.06027790140269381, 0.06027790140269381, 0.06027790140269381, 0.06027790140269381, 0.06027790140269381, 0.06027790140269381, 0.06027790140269381, 0.06027790140269381, 0.06027790140269381, 0.06027790140269381, 0.06027790140269381, 0.06027790140269381, 0.06027790140269381, 0.06027790140269381, 0.06027790140269381, 0.06027790140269381, 0.06027790140269381, 0.06027790140269381, 0.06027790140269381, 94.8812906965039, 52.60293162181803, 26.462584674978185, 0.068218781760212, 0.068218781760212, 0.068218781760212, 0.068218781760212, 0.068218781760212, 0.068218781760212, 0.068218781760212, 0.068218781760212, 0.068218781760212, 0.068218781760212, 0.068218781760212, 0.068218781760212, 0.068218781760212, 0.068218781760212, 0.068218781760212, 0.068218781760212, 0.068218781760212, 0.068218781760212, 0.068218781760212, 0.068218781760212, 0.068218781760212, 0.068218781760212, 0.068218781760212, 0.068218781760212, 0.068218781760212, 0.068218781760212, 0.068218781760212, 0.068218781760212, 0.068218781760212, 0.068218781760212, 0.068218781760212, 0.068218781760212, 0.068218781760212, 0.068218781760212, 0.068218781760212, 0.068218781760212, 0.068218781760212, 0.068218781760212, 0.068218781760212, 0.068218781760212, 0.068218781760212, 0.068218781760212, 0.068218781760212, 0.068218781760212, 0.068218781760212, 0.068218781760212, 0.068218781760212, 130.12728615604095, 18.405336024539984, 17.503658364473257, 0.07492509925934968, 0.07492509925934968, 0.07492509925934968, 0.07492509925934968, 0.07492509925934968, 0.07492509925934968, 0.07492509925934968, 0.07492509925934968, 0.07492509925934968, 0.07492509925934968, 0.07492509925934968, 0.07492509925934968, 0.07492509925934968, 0.07492509925934968, 0.07492509925934968, 0.07492509925934968, 0.07492509925934968, 0.07492509925934968, 0.07492509925934968, 0.07492509925934968, 0.07492509925934968, 0.07492509925934968, 0.07492509925934968, 0.07492509925934968, 0.07492509925934968, 0.07492509925934968, 0.07492509925934968, 0.07492509925934968, 0.07492509925934968, 0.07492509925934968, 0.07492509925934968, 0.07492509925934968, 0.07492509925934968, 0.07492509925934968, 0.07492509925934968, 0.07492509925934968, 0.07492509925934968, 0.07492509925934968, 0.07492509925934968, 0.07492509925934968, 0.07492509925934968, 0.07492509925934968, 0.07492509925934968, 0.07492509925934968, 0.07492509925934968, 0.07492509925934968, 0.07492509925934968, 0.07492509925934968, 95.86095342130835, 27.930641260916985, 14.648522634566657, 14.453385831881924, 4.590865096020893, 0.03976376658043318, 0.03976376658043318, 0.03976376658043318, 0.03976376658043318, 0.03976376658043318, 0.03976376658043318, 0.03976376658043318, 0.03976376658043318, 0.03976376658043318, 0.03976376658043318, 0.03976376658043318, 0.03976376658043318, 0.03976376658043318, 0.03976376658043318, 0.03976376658043318, 0.03976376658043318, 0.03976376658043318, 0.03976376658043318, 0.03976376658043318, 0.03976376658043318, 0.03976376658043318, 0.03976376658043318, 0.03976376658043318, 0.03976376658043318, 0.03976376658043318, 0.03976376658043318, 0.03976376658043318, 0.03976376658043318, 0.03976376658043318, 0.03976376658043318, 0.03976376658043318, 0.03976376658043318, 0.03976376658043318, 0.03976376658043318, 0.03976376658043318, 0.03976376658043318, 0.03976376658043318, 0.03976376658043318, 0.03976376658043318, 0.03976376658043318, 0.03976376658043318, 0.03976376658043318, 0.03976376658043318, 86.78009073069074, 34.20970588818551, 16.622966842795545, 15.228805752315752, 0.045336625081170416, 0.045336625081170416, 0.045336625081170416, 0.045336625081170416, 0.045336625081170416, 0.045336625081170416, 0.045336625081170416, 0.045336625081170416, 0.045336625081170416, 0.045336625081170416, 0.045336625081170416, 0.045336625081170416, 0.045336625081170416, 0.045336625081170416, 0.045336625081170416, 0.045336625081170416, 0.045336625081170416, 0.045336625081170416, 0.045336625081170416, 0.045336625081170416, 0.045336625081170416, 0.045336625081170416, 0.045336625081170416, 0.045336625081170416, 0.045336625081170416, 0.045336625081170416, 0.045336625081170416, 0.045336625081170416, 0.045336625081170416, 0.045336625081170416, 0.045336625081170416, 0.045336625081170416, 0.045336625081170416, 0.045336625081170416, 0.045336625081170416, 0.045336625081170416, 0.045336625081170416, 0.045336625081170416, 0.045336625081170416, 0.045336625081170416, 0.045336625081170416, 0.045336625081170416, 0.045336625081170416, 0.045336625081170416, 0.045336625081170416, 0.045336625081170416, 137.73218065897373, 11.095953819648157, 0.05864219723512291, 0.05864219723512291, 0.05864219723512291, 0.05864219723512291, 0.05864219723512291, 0.05864219723512291, 0.05864219723512291, 0.05864219723512291, 0.05864219723512291, 0.05864219723512291, 0.05864219723512291, 0.05864219723512291, 0.05864219723512291, 0.05864219723512291, 0.05864219723512291, 0.05864219723512291, 0.05864219723512291, 0.05864219723512291, 0.05864219723512291, 0.05864219723512291, 0.05864219723512291, 0.05864219723512291, 0.05864219723512291, 0.05864219723512291, 0.05864219723512291, 0.05864219723512291, 0.05864219723512291, 0.05864219723512291, 0.05864219723512291, 0.05864219723512291, 0.05864219723512291, 0.05864219723512291, 0.05864219723512291, 0.05864219723512291, 0.05864219723512291, 0.05864219723512291, 0.05864219723512291, 0.05864219723512291, 0.05864219723512291, 0.05864219723512291, 0.05864219723512291, 0.05864219723512291, 0.05864219723512291, 0.05864219723512291, 0.05864219723512291, 0.05864219723512291, 0.05864219723512291, 0.05864219723512291, 0.05864219723512291, 128.5204131822531, 15.222969345281184, 3.8817258102263965, 3.3728615694745647, 0.010214012191454604, 0.010214012191454604, 0.010214012191454604, 0.010214012191454604, 0.010214012191454604, 0.010214012191454604, 0.010214012191454604, 0.010214012191454604, 0.010214012191454604, 0.010214012191454604, 0.010214012191454604, 0.010214012191454604, 0.010214012191454604, 0.010214012191454604, 0.010214012191454604, 0.010214012191454604, 0.010214012191454604, 0.010214012191454604, 0.010214012191454604, 0.010214012191454604, 0.010214012191454604, 0.010214012191454604, 0.010214012191454604, 0.010214012191454604, 0.010214012191454604, 0.010214012191454604, 0.010214012191454604, 0.010214012191454604, 0.010214012191454604, 0.010214012191454604, 0.010214012191454604, 0.010214012191454604, 0.010214012191454604, 0.010214012191454604, 0.010214012191454604, 0.010214012191454604, 0.010214012191454604, 0.010214012191454604, 0.010214012191454604, 0.010214012191454604, 0.010214012191454604, 0.010214012191454604, 0.010214012191454604, 0.010214012191454604, 0.010214012191454604, 72.06620256365694, 37.78023864197747, 18.65690002571459, 16.536952899121847, 0.04867753814228043, 0.04867753814228043, 0.04867753814228043, 0.04867753814228043, 0.04867753814228043, 0.04867753814228043, 0.04867753814228043, 0.04867753814228043, 0.04867753814228043, 0.04867753814228043, 0.04867753814228043, 0.04867753814228043, 0.04867753814228043, 0.04867753814228043, 0.04867753814228043, 0.04867753814228043, 0.04867753814228043, 0.04867753814228043, 0.04867753814228043, 0.04867753814228043, 0.04867753814228043, 0.04867753814228043, 0.04867753814228043, 0.04867753814228043, 0.04867753814228043, 0.04867753814228043, 0.04867753814228043, 0.04867753814228043, 0.04867753814228043, 0.04867753814228043, 0.04867753814228043, 0.04867753814228043, 0.04867753814228043, 0.04867753814228043, 0.04867753814228043, 0.04867753814228043, 0.04867753814228043, 0.04867753814228043, 0.04867753814228043, 0.04867753814228043, 0.04867753814228043, 0.04867753814228043, 0.04867753814228043, 0.04867753814228043, 0.04867753814228043, 62.472459719231594, 33.656256532577125, 30.22527911188737, 14.728977260498958, 0.031719844349426665, 0.031719844349426665, 0.031719844349426665, 0.031719844349426665, 0.031719844349426665, 0.031719844349426665, 0.031719844349426665, 0.031719844349426665, 0.031719844349426665, 0.031719844349426665, 0.031719844349426665, 0.031719844349426665, 0.031719844349426665, 0.031719844349426665, 0.031719844349426665, 0.031719844349426665, 0.031719844349426665, 0.031719844349426665, 0.031719844349426665, 0.031719844349426665, 0.031719844349426665, 0.031719844349426665, 0.031719844349426665, 0.031719844349426665, 0.031719844349426665, 0.031719844349426665, 0.031719844349426665, 0.031719844349426665, 0.031719844349426665, 0.031719844349426665, 0.031719844349426665, 0.031719844349426665, 0.031719844349426665, 0.031719844349426665, 0.031719844349426665, 0.031719844349426665, 0.031719844349426665, 0.031719844349426665, 0.031719844349426665, 0.031719844349426665, 0.031719844349426665, 0.031719844349426665, 0.031719844349426665, 0.031719844349426665, 0.031719844349426665, 85.32437959665754, 20.129011348145575, 13.463413571375442, 8.3487571175103, 0.04485308421277347, 0.04485308421277347, 0.04485308421277347, 0.04485308421277347, 0.04485308421277347, 0.04485308421277347, 0.04485308421277347, 0.04485308421277347, 0.04485308421277347, 0.04485308421277347, 0.04485308421277347, 0.04485308421277347, 0.04485308421277347, 0.04485308421277347, 0.04485308421277347, 0.04485308421277347, 0.04485308421277347, 0.04485308421277347, 0.04485308421277347, 0.04485308421277347, 0.04485308421277347, 0.04485308421277347, 0.04485308421277347, 0.04485308421277347, 0.04485308421277347, 0.04485308421277347, 0.04485308421277347, 0.04485308421277347, 0.04485308421277347, 0.04485308421277347, 0.04485308421277347, 0.04485308421277347, 0.04485308421277347, 0.04485308421277347, 0.04485308421277347, 0.04485308421277347, 0.04485308421277347, 0.04485308421277347, 0.04485308421277347, 0.04485308421277347, 0.04485308421277347, 0.04485308421277347, 0.04485308421277347, 0.04485308421277347, 0.04485308421277347, 98.92342784391481, 22.34838227445278, 0.03149433868794028, 0.03149433868794028, 0.03149433868794028, 0.03149433868794028, 0.03149433868794028, 0.03149433868794028, 0.03149433868794028, 0.03149433868794028, 0.03149433868794028, 0.03149433868794028, 0.03149433868794028, 0.03149433868794028, 0.03149433868794028, 0.03149433868794028, 0.03149433868794028, 0.03149433868794028, 0.03149433868794028, 0.03149433868794028, 0.03149433868794028, 0.03149433868794028, 0.03149433868794028, 0.03149433868794028, 0.03149433868794028, 0.03149433868794028, 0.03149433868794028, 0.03149433868794028, 0.03149433868794028, 0.03149433868794028, 0.03149433868794028, 0.03149433868794028, 0.03149433868794028, 0.03149433868794028, 0.03149433868794028, 0.03149433868794028, 0.03149433868794028, 0.03149433868794028, 0.03149433868794028, 0.03149433868794028, 0.03149433868794028, 0.03149433868794028, 0.03149433868794028, 0.03149433868794028, 0.03149433868794028, 0.03149433868794028, 0.03149433868794028, 0.03149433868794028, 0.03149433868794028, 0.03149433868794028, 0.03149433868794028, 58.72911881741269, 21.167777912552932, 20.202476893418673, 13.148688831046126, 7.124309208744851, 0.03586047943307684, 0.03586047943307684, 0.03586047943307684, 0.03586047943307684, 0.03586047943307684, 0.03586047943307684, 0.03586047943307684, 0.03586047943307684, 0.03586047943307684, 0.03586047943307684, 0.03586047943307684, 0.03586047943307684, 0.03586047943307684, 0.03586047943307684, 0.03586047943307684, 0.03586047943307684, 0.03586047943307684, 0.03586047943307684, 0.03586047943307684, 0.03586047943307684, 0.03586047943307684, 0.03586047943307684, 0.03586047943307684, 0.03586047943307684, 0.03586047943307684, 0.03586047943307684, 0.03586047943307684, 0.03586047943307684, 0.03586047943307684, 0.03586047943307684, 0.03586047943307684, 0.03586047943307684, 0.03586047943307684, 0.03586047943307684, 0.03586047943307684, 0.03586047943307684, 0.03586047943307684, 0.03586047943307684, 0.03586047943307684, 0.03586047943307684, 0.03586047943307684, 0.03586047943307684, 0.03586047943307684, 66.81302730130808, 33.34196448895333, 17.8796810872348, 0.03786880934033882, 0.03786880934033882, 0.03786880934033882, 0.03786880934033882, 0.03786880934033882, 0.03786880934033882, 0.03786880934033882, 0.03786880934033882, 0.03786880934033882, 0.03786880934033882, 0.03786880934033882, 0.03786880934033882, 0.03786880934033882, 0.03786880934033882, 0.03786880934033882, 0.03786880934033882, 0.03786880934033882, 0.03786880934033882, 0.03786880934033882, 0.03786880934033882, 0.03786880934033882, 0.03786880934033882, 0.03786880934033882, 0.03786880934033882, 0.03786880934033882, 0.03786880934033882, 0.03786880934033882, 0.03786880934033882, 0.03786880934033882, 0.03786880934033882, 0.03786880934033882, 0.03786880934033882, 0.03786880934033882, 0.03786880934033882, 0.03786880934033882, 0.03786880934033882, 0.03786880934033882, 0.03786880934033882, 0.03786880934033882, 0.03786880934033882, 0.03786880934033882, 0.03786880934033882, 0.03786880934033882, 0.03786880934033882, 0.03786880934033882, 0.03786880934033882, 0.03786880934033882, 48.19442902990706, 33.768609522118346, 29.901201774196544, 0.04901873936312105, 0.04901873936312105, 0.04901873936312105, 0.04901873936312105, 0.04901873936312105, 0.04901873936312105, 0.04901873936312105, 0.04901873936312105, 0.04901873936312105, 0.04901873936312105, 0.04901873936312105, 0.04901873936312105, 0.04901873936312105, 0.04901873936312105, 0.04901873936312105, 0.04901873936312105, 0.04901873936312105, 0.04901873936312105, 0.04901873936312105, 0.04901873936312105, 0.04901873936312105, 0.04901873936312105, 0.04901873936312105, 0.04901873936312105, 0.04901873936312105, 0.04901873936312105, 0.04901873936312105, 0.04901873936312105, 0.04901873936312105, 0.04901873936312105, 0.04901873936312105, 0.04901873936312105, 0.04901873936312105, 0.04901873936312105, 0.04901873936312105, 0.04901873936312105, 0.04901873936312105, 0.04901873936312105, 0.04901873936312105, 0.04901873936312105, 0.04901873936312105, 0.04901873936312105, 0.04901873936312105, 0.04901873936312105, 0.04901873936312105, 0.04901873936312105, 0.04901873936312105, 46.0947525173179, 43.889345546892194, 12.436968296987882, 8.342246235336626, 0.044233557744157916, 0.044233557744157916, 0.044233557744157916, 0.044233557744157916, 0.044233557744157916, 0.044233557744157916, 0.044233557744157916, 0.044233557744157916, 0.044233557744157916, 0.044233557744157916, 0.044233557744157916, 0.044233557744157916, 0.044233557744157916, 0.044233557744157916, 0.044233557744157916, 0.044233557744157916, 0.044233557744157916, 0.044233557744157916, 0.044233557744157916, 0.044233557744157916, 0.044233557744157916, 0.044233557744157916, 0.044233557744157916, 0.044233557744157916, 0.044233557744157916, 0.044233557744157916, 0.044233557744157916, 0.044233557744157916, 0.044233557744157916, 0.044233557744157916, 0.044233557744157916, 0.044233557744157916, 0.044233557744157916, 0.044233557744157916, 0.044233557744157916, 0.044233557744157916, 0.044233557744157916, 0.044233557744157916, 0.044233557744157916, 0.044233557744157916, 0.044233557744157916, 0.044233557744157916, 0.044233557744157916, 0.044233557744157916, 0.044233557744157916, 0.044233557744157916, 0.044233557744157916, 51.82358121529175, 35.53928672691731, 13.451212264734346, 0.04418275068881346, 0.04418275068881346, 0.04418275068881346, 0.04418275068881346, 0.04418275068881346, 0.04418275068881346, 0.04418275068881346, 0.04418275068881346, 0.04418275068881346, 0.04418275068881346, 0.04418275068881346, 0.04418275068881346, 0.04418275068881346, 0.04418275068881346, 0.04418275068881346, 0.04418275068881346, 0.04418275068881346, 0.04418275068881346, 0.04418275068881346, 0.04418275068881346, 0.04418275068881346, 0.04418275068881346, 0.04418275068881346, 0.04418275068881346, 0.04418275068881346, 0.04418275068881346, 0.04418275068881346, 0.04418275068881346, 0.04418275068881346, 0.04418275068881346, 0.04418275068881346, 0.04418275068881346, 0.04418275068881346, 0.04418275068881346, 0.04418275068881346, 0.04418275068881346, 0.04418275068881346, 0.04418275068881346, 0.04418275068881346, 0.04418275068881346, 0.04418275068881346, 0.04418275068881346, 0.04418275068881346, 0.04418275068881346, 0.04418275068881346, 0.04418275068881346, 0.04418275068881346, 52.225552910157006, 24.44885904903293, 0.06152209123692397, 0.06152209123692397, 0.06152209123692397, 0.06152209123692397, 0.06152209123692397, 0.06152209123692397, 0.06152209123692397, 0.06152209123692397, 0.06152209123692397, 0.06152209123692397, 0.06152209123692397, 0.06152209123692397, 0.06152209123692397, 0.06152209123692397, 0.06152209123692397, 0.06152209123692397, 0.06152209123692397, 0.06152209123692397, 0.06152209123692397, 0.06152209123692397, 0.06152209123692397, 0.06152209123692397, 0.06152209123692397, 0.06152209123692397, 0.06152209123692397, 0.06152209123692397, 0.06152209123692397, 0.06152209123692397, 0.06152209123692397, 0.06152209123692397, 0.06152209123692397, 0.06152209123692397, 0.06152209123692397, 0.06152209123692397, 0.06152209123692397, 0.06152209123692397, 0.06152209123692397, 0.06152209123692397, 0.06152209123692397, 0.06152209123692397, 0.06152209123692397, 0.06152209123692397, 0.06152209123692397, 0.06152209123692397, 0.06152209123692397, 0.06152209123692397, 0.06152209123692397, 0.06152209123692397, 0.06152209123692397, 38.70217638576651, 21.967318285823207, 11.21799191477663, 0.03504433110338947, 0.03504433110338947, 0.03504433110338947, 0.03504433110338947, 0.03504433110338947, 0.03504433110338947, 0.03504433110338947, 0.03504433110338947, 0.03504433110338947, 0.03504433110338947, 0.03504433110338947, 0.03504433110338947, 0.03504433110338947, 0.03504433110338947, 0.03504433110338947, 0.03504433110338947, 0.03504433110338947, 0.03504433110338947, 0.03504433110338947, 0.03504433110338947, 0.03504433110338947, 0.03504433110338947, 0.03504433110338947, 0.03504433110338947, 0.03504433110338947, 0.03504433110338947, 0.03504433110338947, 0.03504433110338947, 0.03504433110338947, 0.03504433110338947, 0.03504433110338947, 0.03504433110338947, 0.03504433110338947, 0.03504433110338947, 0.03504433110338947, 0.03504433110338947, 0.03504433110338947, 0.03504433110338947, 0.03504433110338947, 0.03504433110338947, 0.03504433110338947, 0.03504433110338947, 0.03504433110338947, 0.03504433110338947, 0.03504433110338947, 0.03504433110338947, 0.03504433110338947, 44.495479250267, 27.349011380850598, 0.03450361465405052, 0.03450361465405052, 0.03450361465405052, 0.03450361465405052, 0.03450361465405052, 0.03450361465405052, 0.03450361465405052, 0.03450361465405052, 0.03450361465405052, 0.03450361465405052, 0.03450361465405052, 0.03450361465405052, 0.03450361465405052, 0.03450361465405052, 0.03450361465405052, 0.03450361465405052, 0.03450361465405052, 0.03450361465405052, 0.03450361465405052, 0.03450361465405052, 0.03450361465405052, 0.03450361465405052, 0.03450361465405052, 0.03450361465405052, 0.03450361465405052, 0.03450361465405052, 0.03450361465405052, 0.03450361465405052, 0.03450361465405052, 0.03450361465405052, 0.03450361465405052, 0.03450361465405052, 0.03450361465405052, 0.03450361465405052, 0.03450361465405052, 0.03450361465405052, 0.03450361465405052, 0.03450361465405052, 0.03450361465405052, 0.03450361465405052, 0.03450361465405052, 0.03450361465405052, 0.03450361465405052, 0.03450361465405052, 0.03450361465405052, 0.03450361465405052, 0.03450361465405052, 0.03450361465405052, 0.03450361465405052, 51.05944069579074, 15.254578438860934, 0.0454927650919519, 0.0454927650919519, 0.0454927650919519, 0.0454927650919519, 0.0454927650919519, 0.0454927650919519, 0.0454927650919519, 0.0454927650919519, 0.0454927650919519, 0.0454927650919519, 0.0454927650919519, 0.0454927650919519, 0.0454927650919519, 0.0454927650919519, 0.0454927650919519, 0.0454927650919519, 0.0454927650919519, 0.0454927650919519, 0.0454927650919519, 0.0454927650919519, 0.0454927650919519, 0.0454927650919519, 0.0454927650919519, 0.0454927650919519, 0.0454927650919519, 0.0454927650919519, 0.0454927650919519, 0.0454927650919519, 0.0454927650919519, 0.0454927650919519, 0.0454927650919519, 0.0454927650919519, 0.0454927650919519, 0.0454927650919519, 0.0454927650919519, 0.0454927650919519, 0.0454927650919519, 0.0454927650919519, 0.0454927650919519, 0.0454927650919519, 0.0454927650919519, 0.0454927650919519, 0.0454927650919519, 0.0454927650919519, 0.0454927650919519, 0.0454927650919519, 0.0454927650919519, 0.0454927650919519, 0.0454927650919519], \"Total\": [430.0, 138.0, 141.0, 129.0, 147.0, 180.0, 131.0, 100.0, 151.0, 102.0, 97.0, 96.0, 86.0, 87.0, 73.0, 67.0, 91.0, 77.0, 52.0, 83.0, 63.0, 53.0, 59.0, 52.0, 45.0, 49.0, 47.0, 53.0, 39.0, 45.0, 430.6596085285932, 65.32355642997331, 40.01944134445136, 29.9837506151001, 4.563714340153634, 5.072578580905466, 5.752168112310985, 7.956996768843924, 8.2895155121823, 9.499079460462992, 9.50497081616805, 12.238378405283559, 12.384014366543765, 12.772765059751917, 13.593801522114248, 14.313895134483573, 14.527583302721704, 14.608096296916058, 14.619627270033194, 15.614688848172015, 15.809825650856748, 15.898324199020056, 16.384535910105104, 16.410152456639505, 16.41382211596025, 17.41146858594248, 17.68934214385009, 17.7786970005849, 18.629800048084427, 19.04287906076498, 19.531477708151154, 131.25342783965212, 129.71126595293217, 47.25158574244426, 31.053249817703943, 23.13334073759034, 45.66204241848347, 141.77119943090855, 77.76755290704371, 47.14888536773504, 49.34647707341446, 67.97622527483828, 138.87460524460914, 27.595432676088492, 86.4805932953153, 96.01413869761423, 27.836569049714353, 87.93582088848011, 151.60985811954444, 38.93262788670571, 180.77176612935162, 151.60985811954444, 53.21072370672377, 4.563714340153634, 5.072578580905466, 5.752168112310985, 7.956996768843924, 8.2895155121823, 9.499079460462992, 9.50497081616805, 12.238378405283559, 12.384014366543765, 12.772765059751917, 13.593801522114248, 14.313895134483573, 14.527583302721704, 14.608096296916058, 14.619627270033194, 15.614688848172015, 15.809825650856748, 15.898324199020056, 16.384535910105104, 16.410152456639505, 16.41382211596025, 17.41146858594248, 17.68934214385009, 17.7786970005849, 18.629800048084427, 19.04287906076498, 19.531477708151154, 131.25342783965212, 430.6596085285932, 129.71126595293217, 40.01944134445136, 47.25158574244426, 29.9837506151001, 31.053249817703943, 23.13334073759034, 45.66204241848347, 141.77119943090855, 77.76755290704371, 47.14888536773504, 49.34647707341446, 67.97622527483828, 138.87460524460914, 27.595432676088492, 86.4805932953153, 96.01413869761423, 27.836569049714353, 87.93582088848011, 91.47682409500855, 83.782412020475, 47.14888536773504, 38.721622977799214, 34.709565930002846, 4.563714340153634, 5.072578580905466, 5.752168112310985, 7.956996768843924, 8.2895155121823, 9.499079460462992, 9.50497081616805, 12.238378405283559, 12.384014366543765, 12.772765059751917, 13.593801522114248, 14.313895134483573, 14.527583302721704, 14.608096296916058, 14.619627270033194, 15.614688848172015, 15.809825650856748, 15.898324199020056, 16.384535910105104, 16.410152456639505, 16.41382211596025, 17.41146858594248, 17.68934214385009, 17.7786970005849, 18.629800048084427, 19.531477708151154, 131.25342783965212, 430.6596085285932, 129.71126595293217, 40.01944134445136, 47.25158574244426, 29.9837506151001, 31.053249817703943, 23.13334073759034, 45.66204241848347, 141.77119943090855, 77.76755290704371, 49.34647707341446, 67.97622527483828, 138.87460524460914, 27.595432676088492, 86.4805932953153, 96.01413869761423, 27.836569049714353, 147.8026539787968, 77.76755290704371, 7.956996768843924, 4.563714340153634, 5.072578580905466, 5.752168112310985, 8.2895155121823, 9.499079460462992, 9.50497081616805, 12.238378405283559, 12.384014366543765, 12.772765059751917, 13.593801522114248, 14.313895134483573, 14.527583302721704, 14.608096296916058, 14.619627270033194, 15.614688848172015, 15.809825650856748, 15.898324199020056, 16.384535910105104, 16.410152456639505, 16.41382211596025, 17.41146858594248, 17.68934214385009, 17.7786970005849, 18.629800048084427, 19.04287906076498, 19.531477708151154, 19.809289270442836, 131.25342783965212, 430.6596085285932, 129.71126595293217, 40.01944134445136, 47.25158574244426, 29.9837506151001, 31.053249817703943, 23.13334073759034, 45.66204241848347, 141.77119943090855, 47.14888536773504, 49.34647707341446, 67.97622527483828, 138.87460524460914, 27.595432676088492, 86.4805932953153, 96.01413869761423, 27.836569049714353, 87.93582088848011, 151.60985811954444, 38.93262788670571, 141.77119943090855, 17.41146858594248, 14.527583302721704, 12.772765059751917, 4.563714340153634, 5.072578580905466, 5.752168112310985, 7.956996768843924, 8.2895155121823, 9.499079460462992, 9.50497081616805, 12.238378405283559, 12.384014366543765, 13.593801522114248, 14.313895134483573, 14.608096296916058, 14.619627270033194, 15.614688848172015, 15.809825650856748, 15.898324199020056, 16.384535910105104, 16.410152456639505, 16.41382211596025, 17.68934214385009, 17.7786970005849, 18.629800048084427, 19.04287906076498, 19.531477708151154, 19.809289270442836, 21.285225046803323, 131.25342783965212, 430.6596085285932, 129.71126595293217, 40.01944134445136, 47.25158574244426, 29.9837506151001, 31.053249817703943, 23.13334073759034, 45.66204241848347, 77.76755290704371, 47.14888536773504, 49.34647707341446, 67.97622527483828, 138.87460524460914, 27.595432676088492, 86.4805932953153, 96.01413869761423, 27.836569049714353, 87.93582088848011, 151.60985811954444, 38.93262788670571, 102.38560204079295, 51.18809895178284, 27.836569049714353, 4.563714340153634, 5.072578580905466, 5.752168112310985, 7.956996768843924, 8.2895155121823, 9.499079460462992, 9.50497081616805, 12.238378405283559, 12.384014366543765, 12.772765059751917, 13.593801522114248, 14.313895134483573, 14.527583302721704, 14.608096296916058, 14.619627270033194, 15.614688848172015, 15.809825650856748, 15.898324199020056, 16.384535910105104, 16.410152456639505, 16.41382211596025, 17.41146858594248, 17.68934214385009, 17.7786970005849, 18.629800048084427, 19.04287906076498, 19.531477708151154, 131.25342783965212, 430.6596085285932, 129.71126595293217, 40.01944134445136, 47.25158574244426, 29.9837506151001, 31.053249817703943, 23.13334073759034, 45.66204241848347, 141.77119943090855, 77.76755290704371, 47.14888536773504, 49.34647707341446, 67.97622527483828, 138.87460524460914, 27.595432676088492, 86.4805932953153, 96.01413869761423, 87.93582088848011, 151.60985811954444, 96.01413869761423, 53.73577962292834, 27.595432676088492, 4.563714340153634, 5.072578580905466, 5.752168112310985, 7.956996768843924, 8.2895155121823, 9.499079460462992, 9.50497081616805, 12.238378405283559, 12.384014366543765, 12.772765059751917, 13.593801522114248, 14.313895134483573, 14.527583302721704, 14.608096296916058, 14.619627270033194, 15.614688848172015, 15.809825650856748, 15.898324199020056, 16.384535910105104, 16.410152456639505, 16.41382211596025, 17.41146858594248, 17.68934214385009, 17.7786970005849, 18.629800048084427, 19.04287906076498, 19.531477708151154, 131.25342783965212, 430.6596085285932, 129.71126595293217, 40.01944134445136, 47.25158574244426, 29.9837506151001, 31.053249817703943, 23.13334073759034, 45.66204241848347, 141.77119943090855, 77.76755290704371, 47.14888536773504, 49.34647707341446, 67.97622527483828, 138.87460524460914, 86.4805932953153, 27.836569049714353, 87.93582088848011, 151.60985811954444, 38.93262788670571, 131.25342783965212, 19.531477708151154, 18.629800048084427, 4.563714340153634, 5.072578580905466, 5.752168112310985, 7.956996768843924, 8.2895155121823, 9.499079460462992, 9.50497081616805, 12.238378405283559, 12.384014366543765, 12.772765059751917, 13.593801522114248, 14.313895134483573, 14.527583302721704, 14.608096296916058, 14.619627270033194, 15.614688848172015, 15.809825650856748, 15.898324199020056, 16.384535910105104, 16.410152456639505, 16.41382211596025, 17.41146858594248, 17.68934214385009, 17.7786970005849, 19.04287906076498, 19.809289270442836, 21.285225046803323, 430.6596085285932, 129.71126595293217, 40.01944134445136, 47.25158574244426, 29.9837506151001, 31.053249817703943, 23.13334073759034, 45.66204241848347, 141.77119943090855, 77.76755290704371, 47.14888536773504, 49.34647707341446, 67.97622527483828, 138.87460524460914, 27.595432676088492, 86.4805932953153, 96.01413869761423, 27.836569049714353, 87.93582088848011, 151.60985811954444, 38.93262788670571, 97.02225643759847, 29.091944277207073, 15.809825650856748, 15.614688848172015, 5.752168112310985, 4.563714340153634, 5.072578580905466, 7.956996768843924, 8.2895155121823, 9.499079460462992, 9.50497081616805, 12.238378405283559, 12.384014366543765, 12.772765059751917, 13.593801522114248, 14.313895134483573, 14.527583302721704, 14.608096296916058, 14.619627270033194, 15.898324199020056, 16.384535910105104, 16.410152456639505, 16.41382211596025, 17.41146858594248, 17.68934214385009, 17.7786970005849, 18.629800048084427, 19.04287906076498, 19.531477708151154, 19.809289270442836, 131.25342783965212, 430.6596085285932, 129.71126595293217, 40.01944134445136, 47.25158574244426, 29.9837506151001, 31.053249817703943, 23.13334073759034, 45.66204241848347, 141.77119943090855, 77.76755290704371, 47.14888536773504, 49.34647707341446, 67.97622527483828, 138.87460524460914, 27.595432676088492, 86.4805932953153, 96.01413869761423, 87.93582088848011, 35.36543604597486, 17.7786970005849, 16.384535910105104, 4.563714340153634, 5.072578580905466, 5.752168112310985, 7.956996768843924, 8.2895155121823, 9.499079460462992, 9.50497081616805, 12.238378405283559, 12.384014366543765, 12.772765059751917, 13.593801522114248, 14.313895134483573, 14.527583302721704, 14.608096296916058, 14.619627270033194, 15.614688848172015, 15.809825650856748, 15.898324199020056, 16.410152456639505, 16.41382211596025, 17.41146858594248, 17.68934214385009, 18.629800048084427, 19.04287906076498, 19.531477708151154, 19.809289270442836, 131.25342783965212, 430.6596085285932, 129.71126595293217, 40.01944134445136, 47.25158574244426, 29.9837506151001, 31.053249817703943, 23.13334073759034, 45.66204241848347, 141.77119943090855, 77.76755290704371, 47.14888536773504, 49.34647707341446, 67.97622527483828, 138.87460524460914, 27.595432676088492, 86.4805932953153, 96.01413869761423, 27.836569049714353, 151.60985811954444, 138.87460524460914, 12.238378405283559, 4.563714340153634, 5.072578580905466, 5.752168112310985, 7.956996768843924, 8.2895155121823, 9.499079460462992, 9.50497081616805, 12.384014366543765, 12.772765059751917, 13.593801522114248, 14.313895134483573, 14.527583302721704, 14.608096296916058, 14.619627270033194, 15.614688848172015, 15.809825650856748, 15.898324199020056, 16.384535910105104, 16.410152456639505, 16.41382211596025, 17.41146858594248, 17.68934214385009, 17.7786970005849, 18.629800048084427, 19.04287906076498, 19.531477708151154, 19.809289270442836, 21.285225046803323, 131.25342783965212, 430.6596085285932, 129.71126595293217, 40.01944134445136, 47.25158574244426, 29.9837506151001, 31.053249817703943, 23.13334073759034, 45.66204241848347, 141.77119943090855, 77.76755290704371, 47.14888536773504, 49.34647707341446, 67.97622527483828, 27.595432676088492, 86.4805932953153, 96.01413869761423, 27.836569049714353, 87.93582088848011, 151.60985811954444, 38.93262788670571, 129.71126595293217, 16.41382211596025, 5.072578580905466, 4.563714340153634, 5.752168112310985, 7.956996768843924, 8.2895155121823, 9.499079460462992, 9.50497081616805, 12.238378405283559, 12.384014366543765, 12.772765059751917, 13.593801522114248, 14.313895134483573, 14.527583302721704, 14.608096296916058, 14.619627270033194, 15.614688848172015, 15.809825650856748, 15.898324199020056, 16.384535910105104, 16.410152456639505, 17.41146858594248, 17.68934214385009, 17.7786970005849, 18.629800048084427, 19.04287906076498, 19.531477708151154, 19.809289270442836, 21.285225046803323, 131.25342783965212, 430.6596085285932, 40.01944134445136, 47.25158574244426, 29.9837506151001, 31.053249817703943, 23.13334073759034, 45.66204241848347, 141.77119943090855, 77.76755290704371, 47.14888536773504, 49.34647707341446, 67.97622527483828, 138.87460524460914, 27.595432676088492, 86.4805932953153, 96.01413869761423, 27.836569049714353, 87.93582088848011, 73.2185918083852, 38.93262788670571, 19.809289270442836, 17.68934214385009, 4.563714340153634, 5.072578580905466, 5.752168112310985, 7.956996768843924, 8.2895155121823, 9.499079460462992, 9.50497081616805, 12.238378405283559, 12.384014366543765, 12.772765059751917, 13.593801522114248, 14.313895134483573, 14.527583302721704, 14.608096296916058, 14.619627270033194, 15.614688848172015, 15.809825650856748, 15.898324199020056, 16.384535910105104, 16.410152456639505, 16.41382211596025, 17.41146858594248, 17.7786970005849, 18.629800048084427, 19.04287906076498, 19.531477708151154, 131.25342783965212, 430.6596085285932, 129.71126595293217, 40.01944134445136, 47.25158574244426, 29.9837506151001, 31.053249817703943, 23.13334073759034, 45.66204241848347, 141.77119943090855, 77.76755290704371, 47.14888536773504, 49.34647707341446, 67.97622527483828, 138.87460524460914, 27.595432676088492, 86.4805932953153, 96.01413869761423, 27.836569049714353, 63.64180665775269, 34.82560347109822, 31.394626050408466, 15.898324199020056, 4.563714340153634, 5.072578580905466, 5.752168112310985, 7.956996768843924, 8.2895155121823, 9.499079460462992, 9.50497081616805, 12.238378405283559, 12.384014366543765, 12.772765059751917, 13.593801522114248, 14.313895134483573, 14.527583302721704, 14.608096296916058, 14.619627270033194, 15.614688848172015, 15.809825650856748, 16.384535910105104, 16.410152456639505, 16.41382211596025, 17.41146858594248, 17.68934214385009, 17.7786970005849, 18.629800048084427, 19.04287906076498, 19.531477708151154, 131.25342783965212, 430.6596085285932, 129.71126595293217, 40.01944134445136, 47.25158574244426, 29.9837506151001, 31.053249817703943, 23.13334073759034, 45.66204241848347, 141.77119943090855, 77.76755290704371, 47.14888536773504, 49.34647707341446, 67.97622527483828, 138.87460524460914, 27.595432676088492, 86.4805932953153, 96.01413869761423, 27.836569049714353, 86.4805932953153, 21.285225046803323, 14.619627270033194, 9.50497081616805, 4.563714340153634, 5.072578580905466, 5.752168112310985, 7.956996768843924, 8.2895155121823, 9.499079460462992, 12.238378405283559, 12.384014366543765, 12.772765059751917, 13.593801522114248, 14.313895134483573, 14.527583302721704, 14.608096296916058, 15.614688848172015, 15.809825650856748, 15.898324199020056, 16.384535910105104, 16.410152456639505, 16.41382211596025, 17.41146858594248, 17.68934214385009, 17.7786970005849, 18.629800048084427, 19.04287906076498, 19.531477708151154, 19.809289270442836, 131.25342783965212, 430.6596085285932, 129.71126595293217, 40.01944134445136, 47.25158574244426, 29.9837506151001, 31.053249817703943, 23.13334073759034, 45.66204241848347, 141.77119943090855, 77.76755290704371, 47.14888536773504, 49.34647707341446, 67.97622527483828, 138.87460524460914, 27.595432676088492, 96.01413869761423, 27.836569049714353, 87.93582088848011, 100.09300028809741, 23.51795471863536, 4.563714340153634, 5.072578580905466, 5.752168112310985, 7.956996768843924, 8.2895155121823, 9.499079460462992, 9.50497081616805, 12.238378405283559, 12.384014366543765, 12.772765059751917, 13.593801522114248, 14.313895134483573, 14.527583302721704, 14.608096296916058, 14.619627270033194, 15.614688848172015, 15.809825650856748, 15.898324199020056, 16.384535910105104, 16.410152456639505, 16.41382211596025, 17.41146858594248, 17.68934214385009, 17.7786970005849, 18.629800048084427, 19.04287906076498, 19.531477708151154, 19.809289270442836, 131.25342783965212, 430.6596085285932, 129.71126595293217, 40.01944134445136, 47.25158574244426, 29.9837506151001, 31.053249817703943, 23.13334073759034, 45.66204241848347, 141.77119943090855, 77.76755290704371, 47.14888536773504, 49.34647707341446, 67.97622527483828, 138.87460524460914, 27.595432676088492, 86.4805932953153, 96.01413869761423, 27.836569049714353, 87.93582088848011, 151.60985811954444, 59.894325120850134, 22.332984215990376, 21.367683196856117, 14.313895134483573, 8.2895155121823, 4.563714340153634, 5.072578580905466, 5.752168112310985, 7.956996768843924, 9.499079460462992, 9.50497081616805, 12.238378405283559, 12.384014366543765, 12.772765059751917, 13.593801522114248, 14.527583302721704, 14.608096296916058, 14.619627270033194, 15.614688848172015, 15.809825650856748, 15.898324199020056, 16.384535910105104, 16.410152456639505, 16.41382211596025, 17.41146858594248, 17.68934214385009, 17.7786970005849, 18.629800048084427, 19.04287906076498, 19.531477708151154, 131.25342783965212, 430.6596085285932, 129.71126595293217, 40.01944134445136, 47.25158574244426, 29.9837506151001, 31.053249817703943, 23.13334073759034, 45.66204241848347, 141.77119943090855, 77.76755290704371, 47.14888536773504, 49.34647707341446, 67.97622527483828, 138.87460524460914, 27.595432676088492, 86.4805932953153, 96.01413869761423, 67.97622527483828, 34.50516246248351, 19.04287906076498, 4.563714340153634, 5.072578580905466, 5.752168112310985, 7.956996768843924, 8.2895155121823, 9.499079460462992, 9.50497081616805, 12.238378405283559, 12.384014366543765, 12.772765059751917, 13.593801522114248, 14.313895134483573, 14.527583302721704, 14.608096296916058, 14.619627270033194, 15.614688848172015, 15.809825650856748, 15.898324199020056, 16.384535910105104, 16.410152456639505, 16.41382211596025, 17.41146858594248, 17.68934214385009, 17.7786970005849, 18.629800048084427, 19.531477708151154, 19.809289270442836, 131.25342783965212, 430.6596085285932, 129.71126595293217, 40.01944134445136, 47.25158574244426, 29.9837506151001, 31.053249817703943, 23.13334073759034, 45.66204241848347, 141.77119943090855, 77.76755290704371, 47.14888536773504, 49.34647707341446, 138.87460524460914, 27.595432676088492, 86.4805932953153, 96.01413869761423, 27.836569049714353, 87.93582088848011, 151.60985811954444, 49.34647707341446, 34.920657565625746, 31.053249817703943, 4.563714340153634, 5.072578580905466, 5.752168112310985, 7.956996768843924, 8.2895155121823, 9.499079460462992, 9.50497081616805, 12.238378405283559, 12.384014366543765, 12.772765059751917, 13.593801522114248, 14.313895134483573, 14.527583302721704, 14.608096296916058, 14.619627270033194, 15.614688848172015, 15.809825650856748, 15.898324199020056, 16.384535910105104, 16.410152456639505, 16.41382211596025, 17.41146858594248, 17.68934214385009, 17.7786970005849, 18.629800048084427, 19.04287906076498, 19.531477708151154, 131.25342783965212, 430.6596085285932, 129.71126595293217, 40.01944134445136, 47.25158574244426, 29.9837506151001, 23.13334073759034, 45.66204241848347, 141.77119943090855, 77.76755290704371, 47.14888536773504, 67.97622527483828, 138.87460524460914, 27.595432676088492, 86.4805932953153, 96.01413869761423, 27.836569049714353, 87.93582088848011, 151.60985811954444, 38.93262788670571, 47.25158574244426, 45.04617877201856, 13.593801522114248, 9.499079460462992, 4.563714340153634, 5.072578580905466, 5.752168112310985, 7.956996768843924, 8.2895155121823, 9.50497081616805, 12.238378405283559, 12.384014366543765, 12.772765059751917, 14.313895134483573, 14.527583302721704, 14.608096296916058, 14.619627270033194, 15.614688848172015, 15.809825650856748, 15.898324199020056, 16.384535910105104, 16.410152456639505, 16.41382211596025, 17.41146858594248, 17.68934214385009, 17.7786970005849, 18.629800048084427, 19.04287906076498, 19.531477708151154, 19.809289270442836, 131.25342783965212, 430.6596085285932, 129.71126595293217, 40.01944134445136, 29.9837506151001, 31.053249817703943, 23.13334073759034, 45.66204241848347, 141.77119943090855, 77.76755290704371, 47.14888536773504, 49.34647707341446, 67.97622527483828, 138.87460524460914, 27.595432676088492, 86.4805932953153, 96.01413869761423, 27.836569049714353, 87.93582088848011, 151.60985811954444, 38.93262788670571, 52.98046524747346, 36.69617075909902, 14.608096296916058, 4.563714340153634, 5.072578580905466, 5.752168112310985, 7.956996768843924, 8.2895155121823, 9.499079460462992, 9.50497081616805, 12.238378405283559, 12.384014366543765, 12.772765059751917, 13.593801522114248, 14.313895134483573, 14.527583302721704, 14.619627270033194, 15.614688848172015, 15.809825650856748, 15.898324199020056, 16.384535910105104, 16.410152456639505, 16.41382211596025, 17.41146858594248, 17.68934214385009, 17.7786970005849, 18.629800048084427, 19.04287906076498, 19.531477708151154, 19.809289270442836, 131.25342783965212, 430.6596085285932, 129.71126595293217, 40.01944134445136, 47.25158574244426, 29.9837506151001, 31.053249817703943, 23.13334073759034, 45.66204241848347, 141.77119943090855, 77.76755290704371, 47.14888536773504, 49.34647707341446, 67.97622527483828, 138.87460524460914, 27.595432676088492, 86.4805932953153, 96.01413869761423, 27.836569049714353, 87.93582088848011, 53.36509760179061, 25.58840374066653, 4.563714340153634, 5.072578580905466, 5.752168112310985, 7.956996768843924, 8.2895155121823, 9.499079460462992, 9.50497081616805, 12.238378405283559, 12.384014366543765, 12.772765059751917, 13.593801522114248, 14.313895134483573, 14.527583302721704, 14.608096296916058, 14.619627270033194, 15.614688848172015, 15.809825650856748, 15.898324199020056, 16.384535910105104, 16.410152456639505, 16.41382211596025, 17.41146858594248, 17.68934214385009, 17.7786970005849, 18.629800048084427, 19.04287906076498, 19.531477708151154, 19.809289270442836, 131.25342783965212, 430.6596085285932, 129.71126595293217, 40.01944134445136, 47.25158574244426, 29.9837506151001, 31.053249817703943, 23.13334073759034, 45.66204241848347, 141.77119943090855, 77.76755290704371, 47.14888536773504, 49.34647707341446, 67.97622527483828, 138.87460524460914, 27.595432676088492, 86.4805932953153, 96.01413869761423, 27.836569049714353, 87.93582088848011, 151.60985811954444, 39.86819883753365, 23.13334073759034, 12.384014366543765, 4.563714340153634, 5.072578580905466, 5.752168112310985, 7.956996768843924, 8.2895155121823, 9.499079460462992, 9.50497081616805, 12.238378405283559, 12.772765059751917, 13.593801522114248, 14.313895134483573, 14.527583302721704, 14.608096296916058, 14.619627270033194, 15.614688848172015, 15.809825650856748, 15.898324199020056, 16.384535910105104, 16.410152456639505, 16.41382211596025, 17.41146858594248, 17.68934214385009, 17.7786970005849, 18.629800048084427, 19.04287906076498, 19.531477708151154, 19.809289270442836, 131.25342783965212, 430.6596085285932, 129.71126595293217, 40.01944134445136, 47.25158574244426, 29.9837506151001, 31.053249817703943, 45.66204241848347, 141.77119943090855, 77.76755290704371, 47.14888536773504, 49.34647707341446, 67.97622527483828, 138.87460524460914, 27.595432676088492, 86.4805932953153, 96.01413869761423, 27.836569049714353, 87.93582088848011, 151.60985811954444, 45.66204241848347, 28.515574549067072, 4.563714340153634, 5.072578580905466, 5.752168112310985, 7.956996768843924, 8.2895155121823, 9.499079460462992, 9.50497081616805, 12.238378405283559, 12.384014366543765, 12.772765059751917, 13.593801522114248, 14.313895134483573, 14.527583302721704, 14.608096296916058, 14.619627270033194, 15.614688848172015, 15.809825650856748, 15.898324199020056, 16.384535910105104, 16.410152456639505, 16.41382211596025, 17.41146858594248, 17.68934214385009, 17.7786970005849, 18.629800048084427, 19.04287906076498, 19.531477708151154, 19.809289270442836, 131.25342783965212, 430.6596085285932, 129.71126595293217, 40.01944134445136, 47.25158574244426, 29.9837506151001, 31.053249817703943, 23.13334073759034, 141.77119943090855, 77.76755290704371, 47.14888536773504, 49.34647707341446, 67.97622527483828, 138.87460524460914, 27.595432676088492, 86.4805932953153, 96.01413869761423, 27.836569049714353, 87.93582088848011, 151.60985811954444, 38.93262788670571, 52.21501471356931, 16.410152456639505, 4.563714340153634, 5.072578580905466, 5.752168112310985, 7.956996768843924, 8.2895155121823, 9.499079460462992, 9.50497081616805, 12.238378405283559, 12.384014366543765, 12.772765059751917, 13.593801522114248, 14.313895134483573, 14.527583302721704, 14.608096296916058, 14.619627270033194, 15.614688848172015, 15.809825650856748, 15.898324199020056, 16.384535910105104, 16.41382211596025, 17.41146858594248, 17.68934214385009, 17.7786970005849, 18.629800048084427, 19.04287906076498, 19.531477708151154, 19.809289270442836, 21.285225046803323, 131.25342783965212, 430.6596085285932, 129.71126595293217, 40.01944134445136, 47.25158574244426, 29.9837506151001, 31.053249817703943, 23.13334073759034, 45.66204241848347, 141.77119943090855, 77.76755290704371, 47.14888536773504, 49.34647707341446, 67.97622527483828, 138.87460524460914, 27.595432676088492, 86.4805932953153, 96.01413869761423, 27.836569049714353, 87.93582088848011, 151.60985811954444], \"Category\": [\"Default\", \"Default\", \"Default\", \"Default\", \"Default\", \"Default\", \"Default\", \"Default\", \"Default\", \"Default\", \"Default\", \"Default\", \"Default\", \"Default\", \"Default\", \"Default\", \"Default\", \"Default\", \"Default\", \"Default\", \"Default\", \"Default\", \"Default\", \"Default\", \"Default\", \"Default\", \"Default\", \"Default\", \"Default\", \"Default\", \"Topic1\", \"Topic1\", \"Topic1\", \"Topic1\", \"Topic1\", \"Topic1\", \"Topic1\", \"Topic1\", \"Topic1\", \"Topic1\", \"Topic1\", \"Topic1\", \"Topic1\", \"Topic1\", \"Topic1\", \"Topic1\", \"Topic1\", \"Topic1\", \"Topic1\", \"Topic1\", \"Topic1\", \"Topic1\", \"Topic1\", \"Topic1\", \"Topic1\", \"Topic1\", \"Topic1\", \"Topic1\", \"Topic1\", \"Topic1\", \"Topic1\", \"Topic1\", \"Topic1\", \"Topic1\", \"Topic1\", \"Topic1\", \"Topic1\", \"Topic1\", \"Topic1\", \"Topic1\", \"Topic1\", \"Topic1\", \"Topic1\", \"Topic1\", \"Topic1\", \"Topic1\", \"Topic1\", \"Topic1\", \"Topic1\", \"Topic1\", \"Topic2\", \"Topic2\", \"Topic2\", \"Topic2\", \"Topic2\", \"Topic2\", \"Topic2\", \"Topic2\", \"Topic2\", \"Topic2\", \"Topic2\", \"Topic2\", \"Topic2\", \"Topic2\", \"Topic2\", \"Topic2\", \"Topic2\", \"Topic2\", \"Topic2\", \"Topic2\", \"Topic2\", \"Topic2\", \"Topic2\", \"Topic2\", \"Topic2\", \"Topic2\", \"Topic2\", \"Topic2\", \"Topic2\", \"Topic2\", \"Topic2\", \"Topic2\", \"Topic2\", \"Topic2\", \"Topic2\", \"Topic2\", \"Topic2\", \"Topic2\", \"Topic2\", \"Topic2\", \"Topic2\", \"Topic2\", \"Topic2\", \"Topic2\", \"Topic2\", \"Topic2\", \"Topic2\", \"Topic2\", \"Topic2\", \"Topic2\", \"Topic3\", \"Topic3\", \"Topic3\", \"Topic3\", \"Topic3\", \"Topic3\", \"Topic3\", \"Topic3\", \"Topic3\", \"Topic3\", \"Topic3\", \"Topic3\", \"Topic3\", \"Topic3\", \"Topic3\", \"Topic3\", \"Topic3\", \"Topic3\", \"Topic3\", \"Topic3\", \"Topic3\", \"Topic3\", \"Topic3\", \"Topic3\", \"Topic3\", \"Topic3\", \"Topic3\", \"Topic3\", \"Topic3\", \"Topic3\", \"Topic3\", \"Topic3\", \"Topic3\", \"Topic3\", \"Topic3\", \"Topic3\", \"Topic3\", \"Topic3\", \"Topic3\", \"Topic3\", \"Topic3\", \"Topic3\", \"Topic3\", \"Topic3\", \"Topic3\", \"Topic3\", \"Topic3\", \"Topic3\", \"Topic3\", \"Topic4\", \"Topic4\", \"Topic4\", \"Topic4\", \"Topic4\", \"Topic4\", \"Topic4\", \"Topic4\", \"Topic4\", \"Topic4\", \"Topic4\", \"Topic4\", \"Topic4\", \"Topic4\", \"Topic4\", \"Topic4\", \"Topic4\", \"Topic4\", \"Topic4\", \"Topic4\", \"Topic4\", \"Topic4\", \"Topic4\", \"Topic4\", \"Topic4\", \"Topic4\", \"Topic4\", \"Topic4\", \"Topic4\", \"Topic4\", \"Topic4\", \"Topic4\", \"Topic4\", \"Topic4\", \"Topic4\", \"Topic4\", \"Topic4\", \"Topic4\", \"Topic4\", \"Topic4\", \"Topic4\", \"Topic4\", \"Topic4\", \"Topic4\", \"Topic4\", \"Topic4\", \"Topic4\", \"Topic4\", \"Topic4\", \"Topic4\", \"Topic4\", \"Topic5\", \"Topic5\", \"Topic5\", \"Topic5\", \"Topic5\", \"Topic5\", \"Topic5\", \"Topic5\", \"Topic5\", \"Topic5\", \"Topic5\", \"Topic5\", \"Topic5\", \"Topic5\", \"Topic5\", \"Topic5\", \"Topic5\", \"Topic5\", \"Topic5\", \"Topic5\", \"Topic5\", \"Topic5\", \"Topic5\", \"Topic5\", \"Topic5\", \"Topic5\", \"Topic5\", \"Topic5\", \"Topic5\", \"Topic5\", \"Topic5\", \"Topic5\", \"Topic5\", \"Topic5\", \"Topic5\", \"Topic5\", \"Topic5\", \"Topic5\", \"Topic5\", \"Topic5\", \"Topic5\", \"Topic5\", \"Topic5\", \"Topic5\", \"Topic5\", \"Topic5\", \"Topic5\", \"Topic5\", \"Topic5\", \"Topic5\", \"Topic5\", \"Topic6\", \"Topic6\", \"Topic6\", \"Topic6\", \"Topic6\", \"Topic6\", \"Topic6\", \"Topic6\", \"Topic6\", \"Topic6\", \"Topic6\", \"Topic6\", \"Topic6\", \"Topic6\", \"Topic6\", \"Topic6\", \"Topic6\", \"Topic6\", \"Topic6\", \"Topic6\", \"Topic6\", \"Topic6\", \"Topic6\", \"Topic6\", \"Topic6\", \"Topic6\", \"Topic6\", \"Topic6\", \"Topic6\", \"Topic6\", \"Topic6\", \"Topic6\", \"Topic6\", \"Topic6\", \"Topic6\", \"Topic6\", \"Topic6\", \"Topic6\", \"Topic6\", \"Topic6\", \"Topic6\", \"Topic6\", \"Topic6\", \"Topic6\", \"Topic6\", \"Topic6\", \"Topic6\", \"Topic6\", \"Topic6\", \"Topic6\", \"Topic7\", \"Topic7\", \"Topic7\", \"Topic7\", \"Topic7\", \"Topic7\", \"Topic7\", \"Topic7\", \"Topic7\", \"Topic7\", \"Topic7\", \"Topic7\", \"Topic7\", \"Topic7\", \"Topic7\", \"Topic7\", \"Topic7\", \"Topic7\", \"Topic7\", \"Topic7\", \"Topic7\", \"Topic7\", \"Topic7\", \"Topic7\", \"Topic7\", \"Topic7\", \"Topic7\", \"Topic7\", \"Topic7\", \"Topic7\", \"Topic7\", \"Topic7\", \"Topic7\", \"Topic7\", \"Topic7\", \"Topic7\", \"Topic7\", \"Topic7\", \"Topic7\", \"Topic7\", \"Topic7\", \"Topic7\", \"Topic7\", \"Topic7\", \"Topic7\", \"Topic7\", \"Topic7\", \"Topic7\", \"Topic7\", \"Topic7\", \"Topic8\", \"Topic8\", \"Topic8\", \"Topic8\", \"Topic8\", \"Topic8\", \"Topic8\", \"Topic8\", \"Topic8\", \"Topic8\", \"Topic8\", \"Topic8\", \"Topic8\", \"Topic8\", \"Topic8\", \"Topic8\", \"Topic8\", \"Topic8\", \"Topic8\", \"Topic8\", \"Topic8\", \"Topic8\", \"Topic8\", \"Topic8\", \"Topic8\", \"Topic8\", \"Topic8\", \"Topic8\", \"Topic8\", \"Topic8\", \"Topic8\", \"Topic8\", \"Topic8\", \"Topic8\", \"Topic8\", \"Topic8\", \"Topic8\", \"Topic8\", \"Topic8\", \"Topic8\", \"Topic8\", \"Topic8\", \"Topic8\", \"Topic8\", \"Topic8\", \"Topic8\", \"Topic8\", \"Topic8\", \"Topic8\", \"Topic8\", \"Topic8\", \"Topic9\", \"Topic9\", \"Topic9\", \"Topic9\", \"Topic9\", \"Topic9\", \"Topic9\", \"Topic9\", \"Topic9\", \"Topic9\", \"Topic9\", \"Topic9\", \"Topic9\", \"Topic9\", \"Topic9\", \"Topic9\", \"Topic9\", \"Topic9\", \"Topic9\", \"Topic9\", \"Topic9\", \"Topic9\", \"Topic9\", \"Topic9\", \"Topic9\", \"Topic9\", \"Topic9\", \"Topic9\", \"Topic9\", \"Topic9\", \"Topic9\", \"Topic9\", \"Topic9\", \"Topic9\", \"Topic9\", \"Topic9\", \"Topic9\", \"Topic9\", \"Topic9\", \"Topic9\", \"Topic9\", \"Topic9\", \"Topic9\", \"Topic9\", \"Topic9\", \"Topic9\", \"Topic9\", \"Topic9\", \"Topic10\", \"Topic10\", \"Topic10\", \"Topic10\", \"Topic10\", \"Topic10\", \"Topic10\", \"Topic10\", \"Topic10\", \"Topic10\", \"Topic10\", \"Topic10\", \"Topic10\", \"Topic10\", \"Topic10\", \"Topic10\", \"Topic10\", \"Topic10\", \"Topic10\", \"Topic10\", \"Topic10\", \"Topic10\", \"Topic10\", \"Topic10\", \"Topic10\", \"Topic10\", \"Topic10\", \"Topic10\", \"Topic10\", \"Topic10\", \"Topic10\", \"Topic10\", \"Topic10\", \"Topic10\", \"Topic10\", \"Topic10\", \"Topic10\", \"Topic10\", \"Topic10\", \"Topic10\", \"Topic10\", \"Topic10\", \"Topic10\", \"Topic10\", \"Topic10\", \"Topic10\", \"Topic10\", \"Topic10\", \"Topic10\", \"Topic10\", \"Topic11\", \"Topic11\", \"Topic11\", \"Topic11\", \"Topic11\", \"Topic11\", \"Topic11\", \"Topic11\", \"Topic11\", \"Topic11\", \"Topic11\", \"Topic11\", \"Topic11\", \"Topic11\", \"Topic11\", \"Topic11\", \"Topic11\", \"Topic11\", \"Topic11\", \"Topic11\", \"Topic11\", \"Topic11\", \"Topic11\", \"Topic11\", \"Topic11\", \"Topic11\", \"Topic11\", \"Topic11\", \"Topic11\", \"Topic11\", \"Topic11\", \"Topic11\", \"Topic11\", \"Topic11\", \"Topic11\", \"Topic11\", \"Topic11\", \"Topic11\", \"Topic11\", \"Topic11\", \"Topic11\", \"Topic11\", \"Topic11\", \"Topic11\", \"Topic11\", \"Topic11\", \"Topic11\", \"Topic11\", \"Topic11\", \"Topic11\", \"Topic11\", \"Topic12\", \"Topic12\", \"Topic12\", \"Topic12\", \"Topic12\", \"Topic12\", \"Topic12\", \"Topic12\", \"Topic12\", \"Topic12\", \"Topic12\", \"Topic12\", \"Topic12\", \"Topic12\", \"Topic12\", \"Topic12\", \"Topic12\", \"Topic12\", \"Topic12\", \"Topic12\", \"Topic12\", \"Topic12\", \"Topic12\", \"Topic12\", \"Topic12\", \"Topic12\", \"Topic12\", \"Topic12\", \"Topic12\", \"Topic12\", \"Topic12\", \"Topic12\", \"Topic12\", \"Topic12\", \"Topic12\", \"Topic12\", \"Topic12\", \"Topic12\", \"Topic12\", \"Topic12\", \"Topic12\", \"Topic12\", \"Topic12\", \"Topic12\", \"Topic12\", \"Topic12\", \"Topic12\", \"Topic12\", \"Topic12\", \"Topic13\", \"Topic13\", \"Topic13\", \"Topic13\", \"Topic13\", \"Topic13\", \"Topic13\", \"Topic13\", \"Topic13\", \"Topic13\", \"Topic13\", \"Topic13\", \"Topic13\", \"Topic13\", \"Topic13\", \"Topic13\", \"Topic13\", \"Topic13\", \"Topic13\", \"Topic13\", \"Topic13\", \"Topic13\", \"Topic13\", \"Topic13\", \"Topic13\", \"Topic13\", \"Topic13\", \"Topic13\", \"Topic13\", \"Topic13\", \"Topic13\", \"Topic13\", \"Topic13\", \"Topic13\", \"Topic13\", \"Topic13\", \"Topic13\", \"Topic13\", \"Topic13\", \"Topic13\", \"Topic13\", \"Topic13\", \"Topic13\", \"Topic13\", \"Topic13\", \"Topic13\", \"Topic13\", \"Topic13\", \"Topic13\", \"Topic14\", \"Topic14\", \"Topic14\", \"Topic14\", \"Topic14\", \"Topic14\", \"Topic14\", \"Topic14\", \"Topic14\", \"Topic14\", \"Topic14\", \"Topic14\", \"Topic14\", \"Topic14\", \"Topic14\", \"Topic14\", \"Topic14\", \"Topic14\", \"Topic14\", \"Topic14\", \"Topic14\", \"Topic14\", \"Topic14\", \"Topic14\", \"Topic14\", \"Topic14\", \"Topic14\", \"Topic14\", \"Topic14\", \"Topic14\", \"Topic14\", \"Topic14\", \"Topic14\", \"Topic14\", \"Topic14\", \"Topic14\", \"Topic14\", \"Topic14\", \"Topic14\", \"Topic14\", \"Topic14\", \"Topic14\", \"Topic14\", \"Topic14\", \"Topic14\", \"Topic14\", \"Topic14\", \"Topic14\", \"Topic14\", \"Topic15\", \"Topic15\", \"Topic15\", \"Topic15\", \"Topic15\", \"Topic15\", \"Topic15\", \"Topic15\", \"Topic15\", \"Topic15\", \"Topic15\", \"Topic15\", \"Topic15\", \"Topic15\", \"Topic15\", \"Topic15\", \"Topic15\", \"Topic15\", \"Topic15\", \"Topic15\", \"Topic15\", \"Topic15\", \"Topic15\", \"Topic15\", \"Topic15\", \"Topic15\", \"Topic15\", \"Topic15\", \"Topic15\", \"Topic15\", \"Topic15\", \"Topic15\", \"Topic15\", \"Topic15\", \"Topic15\", \"Topic15\", \"Topic15\", \"Topic15\", \"Topic15\", \"Topic15\", \"Topic15\", \"Topic15\", \"Topic15\", \"Topic15\", \"Topic15\", \"Topic15\", \"Topic15\", \"Topic15\", \"Topic15\", \"Topic16\", \"Topic16\", \"Topic16\", \"Topic16\", \"Topic16\", \"Topic16\", \"Topic16\", \"Topic16\", \"Topic16\", \"Topic16\", \"Topic16\", \"Topic16\", \"Topic16\", \"Topic16\", \"Topic16\", \"Topic16\", \"Topic16\", \"Topic16\", \"Topic16\", \"Topic16\", \"Topic16\", \"Topic16\", \"Topic16\", \"Topic16\", \"Topic16\", \"Topic16\", \"Topic16\", \"Topic16\", \"Topic16\", \"Topic16\", \"Topic16\", \"Topic16\", \"Topic16\", \"Topic16\", \"Topic16\", \"Topic16\", \"Topic16\", \"Topic16\", \"Topic16\", \"Topic16\", \"Topic16\", \"Topic16\", \"Topic16\", \"Topic16\", \"Topic16\", \"Topic16\", \"Topic16\", \"Topic16\", \"Topic16\", \"Topic16\", \"Topic16\", \"Topic17\", \"Topic17\", \"Topic17\", \"Topic17\", \"Topic17\", \"Topic17\", \"Topic17\", \"Topic17\", \"Topic17\", \"Topic17\", \"Topic17\", \"Topic17\", \"Topic17\", \"Topic17\", \"Topic17\", \"Topic17\", \"Topic17\", \"Topic17\", \"Topic17\", \"Topic17\", \"Topic17\", \"Topic17\", \"Topic17\", \"Topic17\", \"Topic17\", \"Topic17\", \"Topic17\", \"Topic17\", \"Topic17\", \"Topic17\", \"Topic17\", \"Topic17\", \"Topic17\", \"Topic17\", \"Topic17\", \"Topic17\", \"Topic17\", \"Topic17\", \"Topic17\", \"Topic17\", \"Topic17\", \"Topic17\", \"Topic17\", \"Topic17\", \"Topic17\", \"Topic17\", \"Topic17\", \"Topic17\", \"Topic18\", \"Topic18\", \"Topic18\", \"Topic18\", \"Topic18\", \"Topic18\", \"Topic18\", \"Topic18\", \"Topic18\", \"Topic18\", \"Topic18\", \"Topic18\", \"Topic18\", \"Topic18\", \"Topic18\", \"Topic18\", \"Topic18\", \"Topic18\", \"Topic18\", \"Topic18\", \"Topic18\", \"Topic18\", \"Topic18\", \"Topic18\", \"Topic18\", \"Topic18\", \"Topic18\", \"Topic18\", \"Topic18\", \"Topic18\", \"Topic18\", \"Topic18\", \"Topic18\", \"Topic18\", \"Topic18\", \"Topic18\", \"Topic18\", \"Topic18\", \"Topic18\", \"Topic18\", \"Topic18\", \"Topic18\", \"Topic18\", \"Topic18\", \"Topic18\", \"Topic18\", \"Topic18\", \"Topic18\", \"Topic18\", \"Topic18\", \"Topic19\", \"Topic19\", \"Topic19\", \"Topic19\", \"Topic19\", \"Topic19\", \"Topic19\", \"Topic19\", \"Topic19\", \"Topic19\", \"Topic19\", \"Topic19\", \"Topic19\", \"Topic19\", \"Topic19\", \"Topic19\", \"Topic19\", \"Topic19\", \"Topic19\", \"Topic19\", \"Topic19\", \"Topic19\", \"Topic19\", \"Topic19\", \"Topic19\", \"Topic19\", \"Topic19\", \"Topic19\", \"Topic19\", \"Topic19\", \"Topic19\", \"Topic19\", \"Topic19\", \"Topic19\", \"Topic19\", \"Topic19\", \"Topic19\", \"Topic19\", \"Topic19\", \"Topic19\", \"Topic19\", \"Topic19\", \"Topic19\", \"Topic19\", \"Topic19\", \"Topic19\", \"Topic19\", \"Topic19\", \"Topic19\", \"Topic19\", \"Topic20\", \"Topic20\", \"Topic20\", \"Topic20\", \"Topic20\", \"Topic20\", \"Topic20\", \"Topic20\", \"Topic20\", \"Topic20\", \"Topic20\", \"Topic20\", \"Topic20\", \"Topic20\", \"Topic20\", \"Topic20\", \"Topic20\", \"Topic20\", \"Topic20\", \"Topic20\", \"Topic20\", \"Topic20\", \"Topic20\", \"Topic20\", \"Topic20\", \"Topic20\", \"Topic20\", \"Topic20\", \"Topic20\", \"Topic20\", \"Topic20\", \"Topic20\", \"Topic20\", \"Topic20\", \"Topic20\", \"Topic20\", \"Topic20\", \"Topic20\", \"Topic20\", \"Topic20\", \"Topic20\", \"Topic20\", \"Topic20\", \"Topic20\", \"Topic20\", \"Topic20\", \"Topic20\", \"Topic20\", \"Topic20\", \"Topic20\", \"Topic20\", \"Topic21\", \"Topic21\", \"Topic21\", \"Topic21\", \"Topic21\", \"Topic21\", \"Topic21\", \"Topic21\", \"Topic21\", \"Topic21\", \"Topic21\", \"Topic21\", \"Topic21\", \"Topic21\", \"Topic21\", \"Topic21\", \"Topic21\", \"Topic21\", \"Topic21\", \"Topic21\", \"Topic21\", \"Topic21\", \"Topic21\", \"Topic21\", \"Topic21\", \"Topic21\", \"Topic21\", \"Topic21\", \"Topic21\", \"Topic21\", \"Topic21\", \"Topic21\", \"Topic21\", \"Topic21\", \"Topic21\", \"Topic21\", \"Topic21\", \"Topic21\", \"Topic21\", \"Topic21\", \"Topic21\", \"Topic21\", \"Topic21\", \"Topic21\", \"Topic21\", \"Topic21\", \"Topic21\", \"Topic21\", \"Topic21\", \"Topic21\", \"Topic22\", \"Topic22\", \"Topic22\", \"Topic22\", \"Topic22\", \"Topic22\", \"Topic22\", \"Topic22\", \"Topic22\", \"Topic22\", \"Topic22\", \"Topic22\", \"Topic22\", \"Topic22\", \"Topic22\", \"Topic22\", \"Topic22\", \"Topic22\", \"Topic22\", \"Topic22\", \"Topic22\", \"Topic22\", \"Topic22\", \"Topic22\", \"Topic22\", \"Topic22\", \"Topic22\", \"Topic22\", \"Topic22\", \"Topic22\", \"Topic22\", \"Topic22\", \"Topic22\", \"Topic22\", \"Topic22\", \"Topic22\", \"Topic22\", \"Topic22\", \"Topic22\", \"Topic22\", \"Topic22\", \"Topic22\", \"Topic22\", \"Topic22\", \"Topic22\", \"Topic22\", \"Topic22\", \"Topic22\", \"Topic22\", \"Topic22\", \"Topic22\", \"Topic23\", \"Topic23\", \"Topic23\", \"Topic23\", \"Topic23\", \"Topic23\", \"Topic23\", \"Topic23\", \"Topic23\", \"Topic23\", \"Topic23\", \"Topic23\", \"Topic23\", \"Topic23\", \"Topic23\", \"Topic23\", \"Topic23\", \"Topic23\", \"Topic23\", \"Topic23\", \"Topic23\", \"Topic23\", \"Topic23\", \"Topic23\", \"Topic23\", \"Topic23\", \"Topic23\", \"Topic23\", \"Topic23\", \"Topic23\", \"Topic23\", \"Topic23\", \"Topic23\", \"Topic23\", \"Topic23\", \"Topic23\", \"Topic23\", \"Topic23\", \"Topic23\", \"Topic23\", \"Topic23\", \"Topic23\", \"Topic23\", \"Topic23\", \"Topic23\", \"Topic23\", \"Topic23\", \"Topic23\", \"Topic23\", \"Topic23\", \"Topic24\", \"Topic24\", \"Topic24\", \"Topic24\", \"Topic24\", \"Topic24\", \"Topic24\", \"Topic24\", \"Topic24\", \"Topic24\", \"Topic24\", \"Topic24\", \"Topic24\", \"Topic24\", \"Topic24\", \"Topic24\", \"Topic24\", \"Topic24\", \"Topic24\", \"Topic24\", \"Topic24\", \"Topic24\", \"Topic24\", \"Topic24\", \"Topic24\", \"Topic24\", \"Topic24\", \"Topic24\", \"Topic24\", \"Topic24\", \"Topic24\", \"Topic24\", \"Topic24\", \"Topic24\", \"Topic24\", \"Topic24\", \"Topic24\", \"Topic24\", \"Topic24\", \"Topic24\", \"Topic24\", \"Topic24\", \"Topic24\", \"Topic24\", \"Topic24\", \"Topic24\", \"Topic24\", \"Topic24\", \"Topic24\", \"Topic24\", \"Topic24\", \"Topic25\", \"Topic25\", \"Topic25\", \"Topic25\", \"Topic25\", \"Topic25\", \"Topic25\", \"Topic25\", \"Topic25\", \"Topic25\", \"Topic25\", \"Topic25\", \"Topic25\", \"Topic25\", \"Topic25\", \"Topic25\", \"Topic25\", \"Topic25\", \"Topic25\", \"Topic25\", \"Topic25\", \"Topic25\", \"Topic25\", \"Topic25\", \"Topic25\", \"Topic25\", \"Topic25\", \"Topic25\", \"Topic25\", \"Topic25\", \"Topic25\", \"Topic25\", \"Topic25\", \"Topic25\", \"Topic25\", \"Topic25\", \"Topic25\", \"Topic25\", \"Topic25\", \"Topic25\", \"Topic25\", \"Topic25\", \"Topic25\", \"Topic25\", \"Topic25\", \"Topic25\", \"Topic25\", \"Topic25\", \"Topic25\", \"Topic25\", \"Topic25\"], \"logprob\": [30.0, 29.0, 28.0, 27.0, 26.0, 25.0, 24.0, 23.0, 22.0, 21.0, 20.0, 19.0, 18.0, 17.0, 16.0, 15.0, 14.0, 13.0, 12.0, 11.0, 10.0, 9.0, 8.0, 7.0, 6.0, 5.0, 4.0, 3.0, 2.0, 1.0, -0.2783, -2.1791, -2.6802, -2.9787, -8.9475, -8.9475, -8.9475, -8.9475, -8.9475, -8.9475, -8.9475, -8.9475, -8.9475, -8.9475, -8.9475, -8.9475, -8.9475, -8.9475, -8.9475, -8.9475, -8.9475, -8.9475, -8.9475, -8.9475, -8.9475, -8.9475, -8.9475, -8.9475, -8.9475, -8.9475, -8.9475, -8.9475, -8.9475, -8.9475, -8.9475, -8.9475, -8.9475, -8.9475, -8.9475, -8.9475, -8.9475, -8.9475, -8.9475, -8.9475, -8.9475, -8.9475, -8.9475, -8.9475, -8.9475, -8.9475, -0.7646, -0.9418, -2.0031, -9.0376, -9.0376, -9.0376, -9.0376, -9.0376, -9.0376, -9.0376, -9.0376, -9.0376, -9.0376, -9.0376, -9.0376, -9.0376, -9.0376, -9.0376, -9.0376, -9.0376, -9.0376, -9.0376, -9.0376, -9.0376, -9.0376, -9.0376, -9.0376, -9.0376, -9.0376, -9.0376, -9.0376, -9.0376, -9.0376, -9.0376, -9.0376, -9.0376, -9.0376, -9.0376, -9.0376, -9.0376, -9.0376, -9.0376, -9.0376, -9.0376, -9.0376, -9.0376, -9.0376, -9.0376, -9.0376, -9.0376, -1.1829, -1.2719, -1.8576, -2.06, -2.1729, -8.506, -8.506, -8.506, -8.506, -8.506, -8.506, -8.506, -8.506, -8.506, -8.506, -8.506, -8.506, -8.506, -8.506, -8.506, -8.506, -8.506, -8.506, -8.506, -8.506, -8.506, -8.506, -8.506, -8.506, -8.506, -8.506, -8.506, -8.506, -8.506, -8.506, -8.506, -8.506, -8.506, -8.506, -8.506, -8.506, -8.506, -8.506, -8.506, -8.506, -8.506, -8.506, -8.506, -8.506, -0.4746, -1.1237, -3.5421, -8.1317, -8.1317, -8.1317, -8.1317, -8.1317, -8.1317, -8.1317, -8.1317, -8.1317, -8.1317, -8.1317, -8.1317, -8.1317, -8.1317, -8.1317, -8.1317, -8.1317, -8.1317, -8.1317, -8.1317, -8.1317, -8.1317, -8.1317, -8.1317, -8.1317, -8.1317, -8.1317, -8.1317, -8.1317, -8.1317, -8.1317, -8.1317, -8.1317, -8.1317, -8.1317, -8.1317, -8.1317, -8.1317, -8.1317, -8.1317, -8.1317, -8.1317, -8.1317, -8.1317, -8.1317, -8.1317, -8.1317, -8.1317, -0.2793, -2.4366, -2.6318, -2.7724, -8.2091, -8.2091, -8.2091, -8.2091, -8.2091, -8.2091, -8.2091, -8.2091, -8.2091, -8.2091, -8.2091, -8.2091, -8.2091, -8.2091, -8.2091, -8.2091, -8.2091, -8.2091, -8.2091, -8.2091, -8.2091, -8.2091, -8.2091, -8.2091, -8.2091, -8.2091, -8.2091, -8.2091, -8.2091, -8.2091, -8.2091, -8.2091, -8.2091, -8.2091, -8.2091, -8.2091, -8.2091, -8.2091, -8.2091, -8.2091, -8.2091, -8.2091, -8.2091, -8.2091, -8.2091, -8.2091, -8.2091, -0.5912, -1.2958, -1.9243, -8.0176, -8.0176, -8.0176, -8.0176, -8.0176, -8.0176, -8.0176, -8.0176, -8.0176, -8.0176, -8.0176, -8.0176, -8.0176, -8.0176, -8.0176, -8.0176, -8.0176, -8.0176, -8.0176, -8.0176, -8.0176, -8.0176, -8.0176, -8.0176, -8.0176, -8.0176, -8.0176, -8.0176, -8.0176, -8.0176, -8.0176, -8.0176, -8.0176, -8.0176, -8.0176, -8.0176, -8.0176, -8.0176, -8.0176, -8.0176, -8.0176, -8.0176, -8.0176, -8.0176, -8.0176, -8.0176, -8.0176, -0.6374, -1.2273, -1.9143, -7.8751, -7.8751, -7.8751, -7.8751, -7.8751, -7.8751, -7.8751, -7.8751, -7.8751, -7.8751, -7.8751, -7.8751, -7.8751, -7.8751, -7.8751, -7.8751, -7.8751, -7.8751, -7.8751, -7.8751, -7.8751, -7.8751, -7.8751, -7.8751, -7.8751, -7.8751, -7.8751, -7.8751, -7.8751, -7.8751, -7.8751, -7.8751, -7.8751, -7.8751, -7.8751, -7.8751, -7.8751, -7.8751, -7.8751, -7.8751, -7.8751, -7.8751, -7.8751, -7.8751, -7.8751, -7.8751, -7.8751, -0.2796, -2.2355, -2.2857, -7.7394, -7.7394, -7.7394, -7.7394, -7.7394, -7.7394, -7.7394, -7.7394, -7.7394, -7.7394, -7.7394, -7.7394, -7.7394, -7.7394, -7.7394, -7.7394, -7.7394, -7.7394, -7.7394, -7.7394, -7.7394, -7.7394, -7.7394, -7.7394, -7.7394, -7.7394, -7.7394, -7.7394, -7.7394, -7.7394, -7.7394, -7.7394, -7.7394, -7.7394, -7.7394, -7.7394, -7.7394, -7.7394, -7.7394, -7.7394, -7.7394, -7.7394, -7.7394, -7.7394, -7.7394, -7.7394, -7.7394, -7.7394, -0.5162, -1.7494, -2.3947, -2.4081, -3.555, -8.3039, -8.3039, -8.3039, -8.3039, -8.3039, -8.3039, -8.3039, -8.3039, -8.3039, -8.3039, -8.3039, -8.3039, -8.3039, -8.3039, -8.3039, -8.3039, -8.3039, -8.3039, -8.3039, -8.3039, -8.3039, -8.3039, -8.3039, -8.3039, -8.3039, -8.3039, -8.3039, -8.3039, -8.3039, -8.3039, -8.3039, -8.3039, -8.3039, -8.3039, -8.3039, -8.3039, -8.3039, -8.3039, -8.3039, -8.3039, -8.3039, -8.3039, -8.3039, -0.5895, -1.5203, -2.2421, -2.3297, -8.1465, -8.1465, -8.1465, -8.1465, -8.1465, -8.1465, -8.1465, -8.1465, -8.1465, -8.1465, -8.1465, -8.1465, -8.1465, -8.1465, -8.1465, -8.1465, -8.1465, -8.1465, -8.1465, -8.1465, -8.1465, -8.1465, -8.1465, -8.1465, -8.1465, -8.1465, -8.1465, -8.1465, -8.1465, -8.1465, -8.1465, -8.1465, -8.1465, -8.1465, -8.1465, -8.1465, -8.1465, -8.1465, -8.1465, -8.1465, -8.1465, -8.1465, -8.1465, -8.1465, -8.1465, -8.1465, -0.1093, -2.628, -7.8709, -7.8709, -7.8709, -7.8709, -7.8709, -7.8709, -7.8709, -7.8709, -7.8709, -7.8709, -7.8709, -7.8709, -7.8709, -7.8709, -7.8709, -7.8709, -7.8709, -7.8709, -7.8709, -7.8709, -7.8709, -7.8709, -7.8709, -7.8709, -7.8709, -7.8709, -7.8709, -7.8709, -7.8709, -7.8709, -7.8709, -7.8709, -7.8709, -7.8709, -7.8709, -7.8709, -7.8709, -7.8709, -7.8709, -7.8709, -7.8709, -7.8709, -7.8709, -7.8709, -7.8709, -7.8709, -7.8709, -7.8709, -7.8709, -0.1666, -2.2999, -3.6664, -3.8069, -9.6067, -9.6067, -9.6067, -9.6067, -9.6067, -9.6067, -9.6067, -9.6067, -9.6067, -9.6067, -9.6067, -9.6067, -9.6067, -9.6067, -9.6067, -9.6067, -9.6067, -9.6067, -9.6067, -9.6067, -9.6067, -9.6067, -9.6067, -9.6067, -9.6067, -9.6067, -9.6067, -9.6067, -9.6067, -9.6067, -9.6067, -9.6067, -9.6067, -9.6067, -9.6067, -9.6067, -9.6067, -9.6067, -9.6067, -9.6067, -9.6067, -9.6067, -9.6067, -9.6067, -9.6067, -0.7259, -1.3717, -2.0773, -2.1979, -8.026, -8.026, -8.026, -8.026, -8.026, -8.026, -8.026, -8.026, -8.026, -8.026, -8.026, -8.026, -8.026, -8.026, -8.026, -8.026, -8.026, -8.026, -8.026, -8.026, -8.026, -8.026, -8.026, -8.026, -8.026, -8.026, -8.026, -8.026, -8.026, -8.026, -8.026, -8.026, -8.026, -8.026, -8.026, -8.026, -8.026, -8.026, -8.026, -8.026, -8.026, -8.026, -8.026, -8.026, -8.026, -0.8324, -1.451, -1.5585, -2.2774, -8.418, -8.418, -8.418, -8.418, -8.418, -8.418, -8.418, -8.418, -8.418, -8.418, -8.418, -8.418, -8.418, -8.418, -8.418, -8.418, -8.418, -8.418, -8.418, -8.418, -8.418, -8.418, -8.418, -8.418, -8.418, -8.418, -8.418, -8.418, -8.418, -8.418, -8.418, -8.418, -8.418, -8.418, -8.418, -8.418, -8.418, -8.418, -8.418, -8.418, -8.418, -8.418, -8.418, -8.418, -8.418, -0.4276, -1.8719, -2.2741, -2.752, -7.9784, -7.9784, -7.9784, -7.9784, -7.9784, -7.9784, -7.9784, -7.9784, -7.9784, -7.9784, -7.9784, -7.9784, -7.9784, -7.9784, -7.9784, -7.9784, -7.9784, -7.9784, -7.9784, -7.9784, -7.9784, -7.9784, -7.9784, -7.9784, -7.9784, -7.9784, -7.9784, -7.9784, -7.9784, -7.9784, -7.9784, -7.9784, -7.9784, -7.9784, -7.9784, -7.9784, -7.9784, -7.9784, -7.9784, -7.9784, -7.9784, -7.9784, -7.9784, -7.9784, -7.9784, -0.2248, -1.7124, -8.2771, -8.2771, -8.2771, -8.2771, -8.2771, -8.2771, -8.2771, -8.2771, -8.2771, -8.2771, -8.2771, -8.2771, -8.2771, -8.2771, -8.2771, -8.2771, -8.2771, -8.2771, -8.2771, -8.2771, -8.2771, -8.2771, -8.2771, -8.2771, -8.2771, -8.2771, -8.2771, -8.2771, -8.2771, -8.2771, -8.2771, -8.2771, -8.2771, -8.2771, -8.2771, -8.2771, -8.2771, -8.2771, -8.2771, -8.2771, -8.2771, -8.2771, -8.2771, -8.2771, -8.2771, -8.2771, -8.2771, -8.2771, -8.2771, -0.7409, -1.7614, -1.808, -2.2375, -2.8503, -8.142, -8.142, -8.142, -8.142, -8.142, -8.142, -8.142, -8.142, -8.142, -8.142, -8.142, -8.142, -8.142, -8.142, -8.142, -8.142, -8.142, -8.142, -8.142, -8.142, -8.142, -8.142, -8.142, -8.142, -8.142, -8.142, -8.142, -8.142, -8.142, -8.142, -8.142, -8.142, -8.142, -8.142, -8.142, -8.142, -8.142, -8.142, -8.142, -8.142, -8.142, -8.142, -8.142, -0.5947, -1.2898, -1.913, -8.0703, -8.0703, -8.0703, -8.0703, -8.0703, -8.0703, -8.0703, -8.0703, -8.0703, -8.0703, -8.0703, -8.0703, -8.0703, -8.0703, -8.0703, -8.0703, -8.0703, -8.0703, -8.0703, -8.0703, -8.0703, -8.0703, -8.0703, -8.0703, -8.0703, -8.0703, -8.0703, -8.0703, -8.0703, -8.0703, -8.0703, -8.0703, -8.0703, -8.0703, -8.0703, -8.0703, -8.0703, -8.0703, -8.0703, -8.0703, -8.0703, -8.0703, -8.0703, -8.0703, -8.0703, -8.0703, -8.0703, -0.8769, -1.2326, -1.3543, -7.7677, -7.7677, -7.7677, -7.7677, -7.7677, -7.7677, -7.7677, -7.7677, -7.7677, -7.7677, -7.7677, -7.7677, -7.7677, -7.7677, -7.7677, -7.7677, -7.7677, -7.7677, -7.7677, -7.7677, -7.7677, -7.7677, -7.7677, -7.7677, -7.7677, -7.7677, -7.7677, -7.7677, -7.7677, -7.7677, -7.7677, -7.7677, -7.7677, -7.7677, -7.7677, -7.7677, -7.7677, -7.7677, -7.7677, -7.7677, -7.7677, -7.7677, -7.7677, -7.7677, -7.7677, -7.7677, -7.7677, -0.9081, -0.9572, -2.2182, -2.6175, -7.8571, -7.8571, -7.8571, -7.8571, -7.8571, -7.8571, -7.8571, -7.8571, -7.8571, -7.8571, -7.8571, -7.8571, -7.8571, -7.8571, -7.8571, -7.8571, -7.8571, -7.8571, -7.8571, -7.8571, -7.8571, -7.8571, -7.8571, -7.8571, -7.8571, -7.8571, -7.8571, -7.8571, -7.8571, -7.8571, -7.8571, -7.8571, -7.8571, -7.8571, -7.8571, -7.8571, -7.8571, -7.8571, -7.8571, -7.8571, -7.8571, -7.8571, -7.8571, -7.8571, -7.8571, -7.8571, -7.8571, -0.7003, -1.0775, -2.0491, -7.7676, -7.7676, -7.7676, -7.7676, -7.7676, -7.7676, -7.7676, -7.7676, -7.7676, -7.7676, -7.7676, -7.7676, -7.7676, -7.7676, -7.7676, -7.7676, -7.7676, -7.7676, -7.7676, -7.7676, -7.7676, -7.7676, -7.7676, -7.7676, -7.7676, -7.7676, -7.7676, -7.7676, -7.7676, -7.7676, -7.7676, -7.7676, -7.7676, -7.7676, -7.7676, -7.7676, -7.7676, -7.7676, -7.7676, -7.7676, -7.7676, -7.7676, -7.7676, -7.7676, -7.7676, -7.7676, -7.7676, -0.4477, -1.2067, -7.1916, -7.1916, -7.1916, -7.1916, -7.1916, -7.1916, -7.1916, -7.1916, -7.1916, -7.1916, -7.1916, -7.1916, -7.1916, -7.1916, -7.1916, -7.1916, -7.1916, -7.1916, -7.1916, -7.1916, -7.1916, -7.1916, -7.1916, -7.1916, -7.1916, -7.1916, -7.1916, -7.1916, -7.1916, -7.1916, -7.1916, -7.1916, -7.1916, -7.1916, -7.1916, -7.1916, -7.1916, -7.1916, -7.1916, -7.1916, -7.1916, -7.1916, -7.1916, -7.1916, -7.1916, -7.1916, -7.1916, -7.1916, -7.1916, -0.6579, -1.2243, -1.8963, -7.665, -7.665, -7.665, -7.665, -7.665, -7.665, -7.665, -7.665, -7.665, -7.665, -7.665, -7.665, -7.665, -7.665, -7.665, -7.665, -7.665, -7.665, -7.665, -7.665, -7.665, -7.665, -7.665, -7.665, -7.665, -7.665, -7.665, -7.665, -7.665, -7.665, -7.665, -7.665, -7.665, -7.665, -7.665, -7.665, -7.665, -7.665, -7.665, -7.665, -7.665, -7.665, -7.665, -7.665, -7.665, -7.665, -7.665, -0.5177, -1.0044, -7.6798, -7.6798, -7.6798, -7.6798, -7.6798, -7.6798, -7.6798, -7.6798, -7.6798, -7.6798, -7.6798, -7.6798, -7.6798, -7.6798, -7.6798, -7.6798, -7.6798, -7.6798, -7.6798, -7.6798, -7.6798, -7.6798, -7.6798, -7.6798, -7.6798, -7.6798, -7.6798, -7.6798, -7.6798, -7.6798, -7.6798, -7.6798, -7.6798, -7.6798, -7.6798, -7.6798, -7.6798, -7.6798, -7.6798, -7.6798, -7.6798, -7.6798, -7.6798, -7.6798, -7.6798, -7.6798, -7.6798, -7.6798, -7.6798, -0.3161, -1.5243, -7.3393, -7.3393, -7.3393, -7.3393, -7.3393, -7.3393, -7.3393, -7.3393, -7.3393, -7.3393, -7.3393, -7.3393, -7.3393, -7.3393, -7.3393, -7.3393, -7.3393, -7.3393, -7.3393, -7.3393, -7.3393, -7.3393, -7.3393, -7.3393, -7.3393, -7.3393, -7.3393, -7.3393, -7.3393, -7.3393, -7.3393, -7.3393, -7.3393, -7.3393, -7.3393, -7.3393, -7.3393, -7.3393, -7.3393, -7.3393, -7.3393, -7.3393, -7.3393, -7.3393, -7.3393, -7.3393, -7.3393, -7.3393, -7.3393], \"loglift\": [30.0, 29.0, 28.0, 27.0, 26.0, 25.0, 24.0, 23.0, 22.0, 21.0, 20.0, 19.0, 18.0, 17.0, 16.0, 15.0, 14.0, 13.0, 12.0, 11.0, 10.0, 9.0, 8.0, 7.0, 6.0, 5.0, 4.0, 3.0, 2.0, 1.0, 2.012, 1.9972, 1.986, 1.9763, -2.11, -2.2157, -2.3414, -2.6659, -2.7069, -2.8431, -2.8437, -3.0964, -3.1083, -3.1392, -3.2015, -3.2531, -3.2679, -3.2734, -3.2742, -3.3401, -3.3525, -3.3581, -3.3882, -3.3898, -3.39, -3.449, -3.4648, -3.4699, -3.5166, -3.5386, -3.5639, -5.469, -5.4572, -4.4474, -4.0276, -3.7331, -4.4131, -5.5461, -4.9456, -4.4452, -4.4907, -4.811, -5.5254, -3.9095, -5.0518, -5.1564, -3.9182, -5.0685, -5.6132, -4.2537, 2.3938, 2.3925, 2.3782, -2.2001, -2.3058, -2.4316, -2.756, -2.797, -2.9332, -2.9338, -3.1866, -3.1984, -3.2293, -3.2916, -3.3432, -3.358, -3.3636, -3.3643, -3.4302, -3.4426, -3.4482, -3.4783, -3.4799, -3.4801, -3.5391, -3.5549, -3.56, -3.6067, -3.6287, -3.654, -5.5591, -6.7473, -5.5473, -4.3713, -4.5375, -4.0826, -4.1177, -3.8233, -4.5032, -5.6362, -5.0357, -4.5353, -4.5808, -4.9011, -5.6156, -3.9996, -5.1419, -5.2465, -4.0083, -5.1586, 2.6566, 2.6555, 2.6447, 2.6392, 2.6357, -1.6685, -1.7742, -1.8999, -2.2244, -2.2653, -2.4015, -2.4022, -2.6549, -2.6667, -2.6977, -2.76, -2.8116, -2.8264, -2.8319, -2.8327, -2.8985, -2.911, -2.9166, -2.9467, -2.9482, -2.9485, -3.0075, -3.0233, -3.0283, -3.0751, -3.1224, -5.0275, -6.2157, -5.0156, -3.8397, -4.0058, -3.551, -3.586, -3.2916, -3.9716, -5.1046, -4.5041, -4.0492, -4.3695, -5.0839, -3.468, -4.6103, -4.7148, -3.4767, 2.8852, 2.8782, 2.7394, -1.2943, -1.4, -1.5257, -1.8911, -2.0273, -2.0279, -2.2807, -2.2925, -2.3234, -2.3857, -2.4374, -2.4522, -2.4577, -2.4585, -2.5243, -2.5368, -2.5423, -2.5725, -2.574, -2.5743, -2.6333, -2.6491, -2.6541, -2.7009, -2.7228, -2.7482, -2.7623, -4.6533, -5.8414, -4.6414, -3.4655, -3.6316, -3.1768, -3.2118, -2.9174, -3.5974, -4.7303, -3.6294, -3.675, -3.9953, -4.7097, -3.0938, -4.236, -4.3406, -3.1025, -4.2527, -4.7974, -3.438, 3.1221, 3.0619, 3.0477, 3.0359, -1.3716, -1.4773, -1.6031, -1.9275, -1.9685, -2.1047, -2.1053, -2.3581, -2.3699, -2.4631, -2.5147, -2.5351, -2.5359, -2.6017, -2.6141, -2.6197, -2.6498, -2.6514, -2.6516, -2.7265, -2.7315, -2.7783, -2.8002, -2.8255, -2.8396, -2.9115, -4.7306, -5.9188, -4.7188, -3.5429, -3.709, -3.2542, -3.2892, -2.9948, -3.6748, -4.2072, -3.7068, -3.7524, -4.0727, -4.7871, -3.1711, -4.3134, -4.418, -3.1798, -4.3301, -4.8748, -3.5153, 3.1356, 3.1243, 3.105, -1.1801, -1.2858, -1.4115, -1.736, -1.7769, -1.9131, -1.9138, -2.1665, -2.1784, -2.2093, -2.2716, -2.3232, -2.338, -2.3435, -2.3443, -2.4102, -2.4226, -2.4282, -2.4583, -2.4599, -2.4601, -2.5191, -2.5349, -2.54, -2.5867, -2.6086, -2.634, -4.5391, -5.7273, -4.5273, -3.3513, -3.5174, -3.0626, -3.0977, -2.8032, -3.4832, -4.6162, -4.0157, -3.5153, -3.5608, -3.8811, -4.5955, -2.9796, -4.1219, -4.2264, -4.1386, -4.6833, 3.1537, 3.1443, 3.1237, -1.0376, -1.1433, -1.269, -1.5935, -1.6344, -1.7706, -1.7713, -2.024, -2.0358, -2.0668, -2.1291, -2.1807, -2.1955, -2.201, -2.2018, -2.2677, -2.2801, -2.2857, -2.3158, -2.3173, -2.3176, -2.3766, -2.3924, -2.3974, -2.4442, -2.4661, -2.4915, -4.3966, -5.5848, -4.3848, -3.2088, -3.3749, -2.9201, -2.9551, -2.6607, -3.3407, -4.4737, -3.8732, -3.3728, -3.4183, -3.7386, -4.453, -3.9794, -2.8458, -3.996, -4.5408, -3.1813, 3.1989, 3.1481, 3.1452, -0.9019, -1.0076, -1.1333, -1.4578, -1.4987, -1.635, -1.6356, -1.8883, -1.9002, -1.9311, -1.9934, -2.045, -2.0598, -2.0653, -2.0661, -2.132, -2.1444, -2.15, -2.1801, -2.1817, -2.1819, -2.2409, -2.2567, -2.2618, -2.3305, -2.3699, -2.4418, -5.4491, -4.2491, -3.0731, -3.2392, -2.7844, -2.8195, -2.525, -3.205, -4.338, -3.7375, -3.2371, -3.2826, -3.6029, -4.3173, -2.7014, -3.8437, -3.9483, -2.7101, -3.8604, -4.4051, -3.0456, 3.2645, 3.2358, 3.2002, 3.1993, 3.051, -1.4664, -1.5721, -2.0223, -2.0633, -2.1995, -2.2001, -2.4528, -2.4647, -2.4956, -2.5579, -2.6095, -2.6243, -2.6298, -2.6306, -2.7145, -2.7446, -2.7462, -2.7464, -2.8054, -2.8212, -2.8263, -2.873, -2.895, -2.9203, -2.9344, -4.8254, -6.0136, -4.8136, -3.6376, -3.8037, -3.3489, -3.384, -3.0895, -3.7695, -4.9025, -4.302, -3.8016, -3.8471, -4.1674, -4.8818, -3.2659, -4.4082, -4.5128, 3.2895, 3.2695, 3.2355, 3.2296, -1.309, -1.4147, -1.5405, -1.8649, -1.9059, -2.0421, -2.0427, -2.2955, -2.3073, -2.3382, -2.4005, -2.4521, -2.4669, -2.4725, -2.4732, -2.5391, -2.5515, -2.5571, -2.5888, -2.589, -2.648, -2.6638, -2.7156, -2.7376, -2.7629, -2.777, -4.668, -5.8562, -4.6562, -3.4802, -3.6464, -3.1915, -3.2266, -2.9322, -3.6121, -4.7451, -4.1446, -3.6442, -3.6897, -4.01, -4.7245, -3.1085, -4.2508, -4.3554, -3.1172, -4.8122, 3.3128, 3.223, -1.0334, -1.1391, -1.2649, -1.5893, -1.6303, -1.7665, -1.7671, -2.0317, -2.0626, -2.1249, -2.1765, -2.1913, -2.1969, -2.1976, -2.2635, -2.2759, -2.2815, -2.3116, -2.3132, -2.3134, -2.3724, -2.3882, -2.3933, -2.44, -2.462, -2.4873, -2.5014, -2.5733, -4.3924, -5.5806, -4.3806, -3.2046, -3.3708, -2.9159, -2.951, -2.6566, -3.3365, -4.4695, -3.869, -3.3686, -3.4141, -3.7344, -2.8329, -3.9752, -4.0798, -2.8416, -3.9919, -4.5366, -3.1771, 3.3237, 3.2576, 3.0654, 3.0306, -3.0006, -3.3251, -3.366, -3.5022, -3.5029, -3.7556, -3.7674, -3.7984, -3.8607, -3.9123, -3.9271, -3.9326, -3.9334, -3.9993, -4.0117, -4.0173, -4.0474, -4.0489, -4.1082, -4.124, -4.129, -4.1758, -4.1977, -4.2231, -4.2372, -4.3091, -6.1282, -7.3164, -4.9404, -5.1065, -4.6517, -4.6867, -4.3923, -5.0723, -6.2053, -5.6048, -5.1044, -5.1499, -5.4702, -6.1846, -4.5687, -5.711, -5.8155, -4.5774, -5.7277, 3.3362, 3.3221, 3.2922, 3.2847, -1.1886, -1.2943, -1.42, -1.7445, -1.7854, -1.9216, -1.9222, -2.175, -2.1868, -2.2177, -2.28, -2.3317, -2.3465, -2.352, -2.3528, -2.4186, -2.4311, -2.4366, -2.4668, -2.4683, -2.4686, -2.5276, -2.5484, -2.5952, -2.6171, -2.6425, -4.5476, -5.7357, -4.5357, -3.3598, -3.5259, -3.0711, -3.1061, -2.8117, -3.4917, -4.6246, -4.0242, -3.5237, -3.5693, -3.8896, -4.604, -2.9881, -4.1303, -4.2349, -2.9968, 3.3699, 3.3543, 3.3505, 3.312, -1.5805, -1.6862, -1.8119, -2.1364, -2.1774, -2.3136, -2.3142, -2.5669, -2.5788, -2.6097, -2.672, -2.7236, -2.7384, -2.7439, -2.7447, -2.8106, -2.823, -2.8587, -2.8603, -2.8605, -2.9195, -2.9353, -2.9404, -2.9871, -3.0091, -3.0344, -4.9395, -6.1277, -4.9277, -3.7517, -3.9179, -3.463, -3.4981, -3.2036, -3.8836, -5.0166, -4.4161, -3.9157, -3.9612, -4.2815, -4.9959, -3.38, -4.5223, -4.6269, -3.3887, 3.4681, 3.4257, 3.3991, 3.3518, -1.141, -1.2467, -1.3724, -1.6969, -1.7378, -1.874, -2.1274, -2.1392, -2.1701, -2.2324, -2.2841, -2.2989, -2.3044, -2.371, -2.3835, -2.389, -2.4192, -2.4207, -2.421, -2.48, -2.4958, -2.5008, -2.5476, -2.5695, -2.5949, -2.609, -4.5, -5.6881, -4.4881, -3.3122, -3.4783, -3.0235, -3.0585, -2.7641, -3.4441, -4.577, -3.9766, -3.4761, -3.5217, -3.842, -4.5564, -2.9405, -4.1873, -2.9492, -4.0994, 3.5248, 3.4855, -1.4396, -1.5453, -1.671, -1.9955, -2.0364, -2.1726, -2.1733, -2.426, -2.4378, -2.4688, -2.5311, -2.5827, -2.5975, -2.603, -2.6038, -2.6697, -2.6821, -2.6877, -2.7178, -2.7193, -2.7196, -2.7786, -2.7944, -2.7994, -2.8462, -2.8681, -2.8935, -2.9076, -4.7986, -5.9868, -4.7867, -3.6108, -3.7769, -3.3221, -3.3571, -3.0627, -3.7427, -4.8757, -4.2752, -3.7747, -3.8203, -4.1406, -4.855, -3.2391, -4.3814, -4.4859, -3.2478, -4.398, -4.9427, 3.5221, 3.4882, 3.4857, 3.4569, 3.3903, -1.3045, -1.4102, -1.5359, -1.8604, -2.0376, -2.0382, -2.2909, -2.3028, -2.3337, -2.396, -2.4624, -2.4679, -2.4687, -2.5346, -2.547, -2.5526, -2.5827, -2.5843, -2.5845, -2.6435, -2.6593, -2.6644, -2.7111, -2.733, -2.7584, -4.6635, -5.8517, -4.6517, -3.4757, -3.6418, -3.187, -3.2221, -2.9276, -3.6076, -4.7406, -4.1401, -3.6397, -3.6852, -4.0055, -4.7199, -3.104, -4.2463, -4.3509, 3.5417, 3.5247, 3.496, -1.2328, -1.3385, -1.4642, -1.7887, -1.8296, -1.9658, -1.9665, -2.2192, -2.2311, -2.262, -2.3243, -2.3759, -2.3907, -2.3962, -2.397, -2.4629, -2.4753, -2.4809, -2.511, -2.5125, -2.5128, -2.5718, -2.5876, -2.5926, -2.6394, -2.6867, -2.7008, -4.5918, -5.78, -4.58, -3.404, -3.5701, -3.1153, -3.1503, -2.8559, -3.5359, -4.6689, -4.0684, -3.568, -3.6135, -4.6482, -3.0323, -4.1746, -4.2791, -3.041, -4.1913, -4.736, 3.5798, 3.5699, 3.5656, -0.9302, -1.036, -1.1617, -1.4862, -1.5271, -1.6633, -1.6639, -1.9167, -1.9285, -1.9594, -2.0217, -2.0733, -2.0882, -2.0937, -2.0945, -2.1603, -2.1727, -2.1783, -2.2084, -2.21, -2.2102, -2.2692, -2.2851, -2.2901, -2.3369, -2.3588, -2.3841, -4.2892, -5.4774, -4.2774, -3.1015, -3.2676, -2.8128, -2.5534, -3.2334, -4.3663, -3.7658, -3.2654, -3.6313, -4.3457, -2.7298, -3.872, -3.9766, -2.7385, -3.8887, -4.4334, -3.0739, 3.592, 3.5908, 3.5278, 3.4869, -1.0196, -1.1253, -1.2511, -1.5756, -1.6165, -1.7533, -2.0061, -2.0179, -2.0488, -2.1627, -2.1775, -2.1831, -2.1839, -2.2497, -2.2621, -2.2677, -2.2978, -2.2994, -2.2996, -2.3586, -2.3745, -2.3795, -2.4263, -2.4482, -2.4735, -2.4877, -4.3786, -5.5668, -4.3668, -3.1909, -2.9022, -2.9372, -2.6428, -3.3228, -4.4557, -3.8552, -3.3548, -3.4004, -3.7207, -4.4351, -2.8192, -3.9614, -4.066, -2.8279, -3.9781, -4.5228, -3.1633, 3.6854, 3.6754, 3.6249, -0.9301, -1.0358, -1.1615, -1.486, -1.527, -1.6632, -1.6638, -1.9165, -1.9284, -1.9593, -2.0216, -2.0732, -2.088, -2.0943, -2.1602, -2.1726, -2.1782, -2.2083, -2.2099, -2.2101, -2.2691, -2.2849, -2.29, -2.3367, -2.3587, -2.384, -2.3981, -4.2891, -5.4773, -4.2773, -3.1013, -3.2675, -2.8126, -2.8477, -2.5532, -3.2332, -4.3662, -3.7657, -3.2653, -3.3108, -3.6311, -4.3455, -2.7296, -3.8719, -3.9765, -2.7383, -3.8886, 3.9307, 3.9068, -0.3542, -0.4599, -0.5856, -0.9101, -0.951, -1.0872, -1.0878, -1.3406, -1.3524, -1.3833, -1.4456, -1.4973, -1.5121, -1.5176, -1.5184, -1.5842, -1.5967, -1.6022, -1.6324, -1.6339, -1.6342, -1.6932, -1.709, -1.714, -1.7608, -1.7827, -1.8081, -1.8222, -3.7132, -4.9014, -3.7013, -2.5254, -2.6915, -2.2367, -2.2717, -1.9773, -2.6573, -3.7902, -3.1898, -2.6893, -2.7349, -3.0552, -3.7696, -2.1537, -3.296, -3.4005, -2.1624, -3.3126, -3.8573, 4.0121, 3.9901, 3.9429, -0.8275, -0.9332, -1.0589, -1.3834, -1.4243, -1.5606, -1.5612, -1.8139, -1.8567, -1.919, -1.9706, -1.9854, -1.9909, -1.9917, -2.0576, -2.07, -2.0756, -2.1057, -2.1073, -2.1075, -2.1665, -2.1823, -2.1874, -2.2341, -2.256, -2.2814, -2.2955, -4.1865, -5.3747, -4.1747, -2.9987, -3.1648, -2.71, -2.7451, -3.1306, -4.2636, -3.6631, -3.1627, -3.2082, -3.5285, -4.2429, -2.627, -3.7693, -3.8739, -2.6357, -3.786, -4.3307, 4.0166, 4.0007, -0.8423, -0.9481, -1.0738, -1.3983, -1.4392, -1.5754, -1.576, -1.8288, -1.8406, -1.8715, -1.9338, -1.9854, -2.0003, -2.0058, -2.0066, -2.0724, -2.0848, -2.0904, -2.1205, -2.1221, -2.1223, -2.1813, -2.1972, -2.2022, -2.249, -2.2709, -2.2962, -2.3104, -4.2013, -5.3895, -4.1895, -3.0136, -3.1797, -2.7249, -2.7599, -2.4655, -4.2784, -3.6779, -3.1775, -3.2231, -3.5434, -4.2578, -2.6419, -3.7841, -3.8887, -2.6506, -3.8008, -4.3455, -2.986, 4.0841, 4.0335, -0.5019, -0.6076, -0.7333, -1.0578, -1.0987, -1.2349, -1.2355, -1.4883, -1.5001, -1.531, -1.5933, -1.6449, -1.6598, -1.6653, -1.6661, -1.7319, -1.7443, -1.7499, -1.7801, -1.7818, -1.8408, -1.8567, -1.8617, -1.9085, -1.9304, -1.9557, -1.9699, -2.0417, -3.8608, -5.049, -3.849, -2.6731, -2.8392, -2.3844, -2.4194, -2.125, -2.805, -3.9379, -3.3374, -2.837, -2.8826, -3.2029, -3.9173, -2.3014, -3.4436, -3.5482, -2.3101, -3.4603, -4.005]}, \"token.table\": {\"Topic\": [20, 11, 13, 17, 11, 12, 24, 16, 8, 1, 3, 5, 8, 3, 19, 18, 10, 21, 18, 1, 2, 12, 17, 8, 7, 3, 10, 14, 16, 5, 23, 19, 18, 25, 19, 14, 6, 15, 1, 2, 7, 10, 5, 4, 22, 15, 4, 3, 9, 25, 17, 14, 20, 9, 9, 13, 7, 22, 14, 5, 21, 10, 15, 6, 23, 17, 12, 12, 3, 23, 6, 2, 21, 24, 9, 4, 15, 17, 13, 13, 20, 9, 20, 1], \"Freq\": [0.976775415794682, 0.9937021945584029, 0.959145971397855, 0.8444401834718539, 0.898811887958218, 0.9945165445136411, 0.9636012247710869, 0.9890801526085597, 0.9661939448379004, 0.9745263474400623, 0.9795570497356898, 0.8948494549375247, 0.9215892555066626, 0.9756328201870654, 0.9727138155898898, 0.9856387248498831, 0.9154973984187617, 0.9810287900699721, 0.9563786298899467, 0.9797384511452288, 0.9772466220644396, 0.7885535800385751, 0.9850682828624309, 0.9904503230103568, 0.9894376108417934, 0.9813638240780106, 0.9613906627872536, 0.9742023876446209, 0.9354554961604484, 0.9189345471362446, 0.8882418636171183, 0.9736357322626136, 0.9452352211324138, 0.976730549244611, 0.9660824608088694, 0.9762932041713681, 0.9767895472558576, 0.8416648672284106, 0.9984683761478192, 0.98938157360272, 0.9421849008560413, 0.9893579103597963, 0.9394989999317402, 0.9901301651093333, 0.974419655109095, 0.939618911992836, 0.9945694210679603, 0.9906613810511473, 0.9894636913721343, 0.9140682903242034, 0.908208414122144, 0.9434956673562219, 0.8421868701380538, 0.9624657511095748, 0.8965916731436474, 0.9610306512110882, 0.9863074542122323, 0.9379248601528767, 0.9555775549557686, 0.9945602531825627, 0.9814938347012682, 0.9562005584234164, 0.9828794734298439, 0.9699471207022571, 0.9782232741170066, 0.9359929111520454, 0.6573592859668353, 0.9138639309009267, 0.9838557568037702, 0.9510083411450934, 0.9864668272376726, 0.9957307153330605, 0.8899174632867428, 0.9468509902734309, 0.8692374600976683, 0.8797288981452023, 0.8892155565858338, 0.9403132065514128, 0.9833567980715296, 0.9760450825610933, 0.8827552749301607, 0.9487770663168026, 0.9735123018036618, 0.9671905417127945], \"Term\": [\"ability\", \"amazing\", \"amazing benefits\", \"amazing people\", \"amazing perks\", \"amazon\", \"awesome\", \"benefits\", \"brilliant\", \"ca n't\", \"challenging\", \"company culture\", \"compensation\", \"competitive\", \"culture\", \"easy\", \"employees\", \"everyone\", \"excellent\", \"fantastic\", \"fast\", \"flexibility\", \"flexible\", \"free\", \"free food\", \"friendly\", \"fun\", \"good benefits\", \"good company\", \"good compensation\", \"good culture\", \"good environment\", \"good food\", \"good people\", \"good perks\", \"good place\", \"good salary\", \"good work environment\", \"google\", \"great benefits\", \"great colleagues\", \"great company\", \"great coworkers\", \"great culture\", \"great environment\", \"great food\", \"great people\", \"great perks\", \"great place\", \"great products\", \"great salary\", \"great work environment\", \"great work life balance\", \"innovative\", \"intelligent people\", \"interesting\", \"interesting projects\", \"interesting work\", \"learning\", \"lots\", \"management\", \"managers\", \"nice\", \"nice people\", \"opportunities\", \"opportunity\", \"overall\", \"pay\", \"perks\", \"really\", \"smart\", \"smart people\", \"smartest people\", \"strong\", \"surrounded\", \"tons\", \"wonderful\", \"work culture\", \"work environment\", \"work life balance\", \"work-life balance\", \"work/life balance\", \"working\", \"your\"]}, \"R\": 30, \"lambda.step\": 0.01, \"plot.opts\": {\"xlab\": \"PC1\", \"ylab\": \"PC2\"}, \"topic.order\": [9, 21, 25, 1, 24, 20, 18, 3, 22, 10, 19, 13, 4, 14, 2, 12, 17, 8, 15, 6, 5, 7, 16, 23, 11]};\n",
              "\n",
              "function LDAvis_load_lib(url, callback){\n",
              "  var s = document.createElement('script');\n",
              "  s.src = url;\n",
              "  s.async = true;\n",
              "  s.onreadystatechange = s.onload = callback;\n",
              "  s.onerror = function(){console.warn(\"failed to load library \" + url);};\n",
              "  document.getElementsByTagName(\"head\")[0].appendChild(s);\n",
              "}\n",
              "\n",
              "if(typeof(LDAvis) !== \"undefined\"){\n",
              "   // already loaded: just create the visualization\n",
              "   !function(LDAvis){\n",
              "       new LDAvis(\"#\" + \"ldavis_el62139987020326736550984457\", ldavis_el62139987020326736550984457_data);\n",
              "   }(LDAvis);\n",
              "}else if(typeof define === \"function\" && define.amd){\n",
              "   // require.js is available: use it to load d3/LDAvis\n",
              "   require.config({paths: {d3: \"https://d3js.org/d3.v5\"}});\n",
              "   require([\"d3\"], function(d3){\n",
              "      window.d3 = d3;\n",
              "      LDAvis_load_lib(\"https://cdn.jsdelivr.net/gh/bmabey/pyLDAvis@3.3.1/pyLDAvis/js/ldavis.v3.0.0.js\", function(){\n",
              "        new LDAvis(\"#\" + \"ldavis_el62139987020326736550984457\", ldavis_el62139987020326736550984457_data);\n",
              "      });\n",
              "    });\n",
              "}else{\n",
              "    // require.js not available: dynamically load d3 & LDAvis\n",
              "    LDAvis_load_lib(\"https://d3js.org/d3.v5.js\", function(){\n",
              "         LDAvis_load_lib(\"https://cdn.jsdelivr.net/gh/bmabey/pyLDAvis@3.3.1/pyLDAvis/js/ldavis.v3.0.0.js\", function(){\n",
              "                 new LDAvis(\"#\" + \"ldavis_el62139987020326736550984457\", ldavis_el62139987020326736550984457_data);\n",
              "            })\n",
              "         });\n",
              "}\n",
              "</script>"
            ]
          },
          "metadata": {},
          "execution_count": 33
        }
      ],
      "source": [
        "pyLDAvis.enable_notebook()\n",
        "vis = pyLDAvis.gensim_models.prepare(pos_lda_model,pos_corpus,pos_dic, mds = \"mmds\",R=30)\n",
        "vis"
      ]
    },
    {
      "cell_type": "code",
      "execution_count": null,
      "metadata": {
        "colab": {
          "base_uri": "https://localhost:8080/",
          "height": 882
        },
        "id": "pJw4fJAYZWJk",
        "outputId": "934e8b9b-d8f2-403e-bc8e-56827b261874"
      },
      "outputs": [
        {
          "output_type": "execute_result",
          "data": {
            "text/plain": [
              "PreparedData(topic_coordinates=              x         y  topics  cluster       Freq\n",
              "topic                                                \n",
              "8     -0.277417  0.456702       1        1  28.723094\n",
              "22    -0.468091  0.057078       2        1   5.542368\n",
              "10    -0.444196  0.260412       3        1   4.910821\n",
              "11     0.468789  0.240282       4        1   4.650108\n",
              "3     -0.164353 -0.477473       5        1   4.497642\n",
              "19     0.133958 -0.020145       6        1   4.423210\n",
              "15     0.183997  0.432339       7        1   4.335389\n",
              "13     0.301882  0.326677       8        1   3.862707\n",
              "6     -0.480579 -0.154579       9        1   3.679121\n",
              "12     0.364944 -0.378331      10        1   3.474611\n",
              "2      0.009722 -0.463594      11        1   3.336777\n",
              "17    -0.337758 -0.370636      12        1   3.016366\n",
              "20     0.457044 -0.163728      13        1   2.669380\n",
              "1      0.024387  0.475578      14        1   2.602655\n",
              "23     0.181123 -0.433544      15        1   2.482802\n",
              "9     -0.280230  0.212925      16        1   2.451595\n",
              "5      0.077534 -0.249827      17        1   2.370823\n",
              "4      0.465385  0.048071      18        1   2.182911\n",
              "18    -0.008290  0.214514      19        1   2.169536\n",
              "24     0.321937 -0.134536      20        1   1.757663\n",
              "14    -0.095789 -0.152036      21        1   1.735767\n",
              "0     -0.106820  0.363619      22        1   1.518470\n",
              "16     0.197518  0.127283      23        1   1.271326\n",
              "7     -0.263228 -0.197804      24        1   1.203796\n",
              "21    -0.261471 -0.019247      25        1   1.131062, topic_info=             Term        Freq       Total Category  logprob  loglift\n",
              "1          google  481.000000  481.000000  Default  30.0000  30.0000\n",
              "26            too  108.000000  108.000000  Default  29.0000  29.0000\n",
              "8      long hours  103.000000  103.000000  Default  28.0000  28.0000\n",
              "3     big company   93.000000   93.000000  Default  27.0000  27.0000\n",
              "36         amazon   74.000000   74.000000  Default  26.0000  26.0000\n",
              "..            ...         ...         ...      ...      ...      ...\n",
              "13           hard    0.081851   66.439509  Topic25  -5.7279  -2.2171\n",
              "15          large    0.081851   35.729458  Topic25  -5.7279  -1.5968\n",
              "24  large company    0.081851   49.818060  Topic25  -5.7279  -1.9292\n",
              "26            too    0.081851  108.497280  Topic25  -5.7279  -2.7076\n",
              "29   smart people    0.081851   34.752129  Topic25  -5.7279  -1.5691\n",
              "\n",
              "[1075 rows x 6 columns], token_table=      Topic      Freq               Term\n",
              "term                                    \n",
              "36       10  0.980670             amazon\n",
              "3         7  0.986984        big company\n",
              "0        23  0.953911        bureaucracy\n",
              "38        6  0.955650                 ca\n",
              "4         5  0.956869             ca n't\n",
              "30       13  0.929993             career\n",
              "43        2  0.924016      career growth\n",
              "12       22  0.958027          difficult\n",
              "11        9  0.958036           everyone\n",
              "1         1  0.997282             google\n",
              "13       12  0.978334               hard\n",
              "17       24  0.960805          hard work\n",
              "16       10  0.802285               have\n",
              "27       15  0.961076                 hr\n",
              "40        2  0.809148               huge\n",
              "23        8  0.914898       huge company\n",
              "41        2  0.924110           internal\n",
              "34        6  0.960904               lack\n",
              "15       21  0.951596              large\n",
              "24        8  0.983579      large company\n",
              "32       19  0.927439            limited\n",
              "8         4  0.982912         long hours\n",
              "18        6  0.935341          long time\n",
              "10       11  0.979372               lots\n",
              "19       16  0.956093                low\n",
              "37        1  0.991333         management\n",
              "33        9  0.971607           managers\n",
              "42        2  0.946759  middle management\n",
              "5        17  0.965373           mountain\n",
              "20       14  0.874858                mtv\n",
              "31       15  0.966641               need\n",
              "39        2  0.969163                pay\n",
              "22        2  0.892712           politics\n",
              "2        16  0.972975               poor\n",
              "14        9  0.957850          promotion\n",
              "35        6  0.909867         promotions\n",
              "9        25  0.927146             really\n",
              "25        8  0.954270           red tape\n",
              "29       13  0.949582       smart people\n",
              "26        3  0.986200                too\n",
              "46       18  0.956549   upper management\n",
              "44       14  0.934578             wo n't\n",
              "6         5  0.974474  work life balance\n",
              "45       14  0.962238  work-life balance\n",
              "28       19  0.950785  work/life balance\n",
              "21       18  0.948319            working\n",
              "7        20  0.965698               your, R=30, lambda_step=0.01, plot_opts={'xlab': 'PC1', 'ylab': 'PC2'}, topic_order=[9, 23, 11, 12, 4, 20, 16, 14, 7, 13, 3, 18, 21, 2, 24, 10, 6, 5, 19, 25, 15, 1, 17, 8, 22])"
            ],
            "text/html": [
              "\n",
              "<link rel=\"stylesheet\" type=\"text/css\" href=\"https://cdn.jsdelivr.net/gh/bmabey/pyLDAvis@3.3.1/pyLDAvis/js/ldavis.v1.0.0.css\">\n",
              "\n",
              "\n",
              "<div id=\"ldavis_el621399869688935203483505444\"></div>\n",
              "<script type=\"text/javascript\">\n",
              "\n",
              "var ldavis_el621399869688935203483505444_data = {\"mdsDat\": {\"x\": [-0.27741731386589363, -0.4680911643357094, -0.44419561281413605, 0.4687894251935454, -0.16435347995703456, 0.1339580337604909, 0.18399735110850657, 0.301881744524783, -0.48057885114755144, 0.36494423726233444, 0.009721527082551291, -0.33775792315501724, 0.45704389001536216, 0.02438708473146628, 0.18112349157931504, -0.28022974880262785, 0.077534112955877, 0.46538518211111346, -0.008289833142577106, 0.3219370267011442, -0.09578901210972224, -0.10682025590638143, 0.19751832701671235, -0.2632276205472231, -0.261470618259328], \"y\": [0.45670150664437087, 0.057078380757694655, 0.26041167888844624, 0.24028182663988382, -0.4774734896313874, -0.020145419424072525, 0.43233938928862764, 0.32667682154923294, -0.15457939985276076, -0.3783306479177956, -0.4635938413702413, -0.37063585166753693, -0.1637277182920045, 0.47557844632110147, -0.43354369680434135, 0.2129252869855704, -0.2498269300722228, 0.04807106425075831, 0.21451435225320048, -0.13453635989906906, -0.15203600060186104, 0.3636191538587804, 0.12728282543756636, -0.1978041758263239, -0.01924720151561642], \"topics\": [1, 2, 3, 4, 5, 6, 7, 8, 9, 10, 11, 12, 13, 14, 15, 16, 17, 18, 19, 20, 21, 22, 23, 24, 25], \"cluster\": [1, 1, 1, 1, 1, 1, 1, 1, 1, 1, 1, 1, 1, 1, 1, 1, 1, 1, 1, 1, 1, 1, 1, 1, 1], \"Freq\": [28.723093664767585, 5.5423684235341035, 4.910821057085747, 4.650108302532826, 4.497641689651209, 4.423210026828558, 4.335389372379093, 3.8627073433572483, 3.679121085265749, 3.474611306492712, 3.3367768028135125, 3.0163657178029846, 2.6693803450570015, 2.602655257632695, 2.4828016778929527, 2.4515947681988863, 2.3708233992371586, 2.1829109837313885, 2.1695362487360956, 1.757662701524256, 1.735766745594676, 1.5184696012824388, 1.2713256186658903, 1.2037960818870062, 1.1310617780482242]}, \"tinfo\": {\"Term\": [\"google\", \"too\", \"long hours\", \"big company\", \"amazon\", \"lots\", \"hard\", \"work life balance\", \"mountain\", \"large company\", \"your\", \"management\", \"large\", \"difficult\", \"poor\", \"smart people\", \"managers\", \"lack\", \"hard work\", \"bureaucracy\", \"hr\", \"work/life balance\", \"pay\", \"really\", \"work-life balance\", \"upper management\", \"need\", \"working\", \"ca n't\", \"career\", \"google\", \"management\", \"huge\", \"have\", \"mtv\", \"huge company\", \"career growth\", \"politics\", \"long time\", \"promotions\", \"limited\", \"wo n't\", \"promotion\", \"low\", \"red tape\", \"really\", \"internal\", \"everyone\", \"ca\", \"working\", \"career\", \"hard work\", \"upper management\", \"bureaucracy\", \"need\", \"work-life balance\", \"work/life balance\", \"hr\", \"ca n't\", \"middle management\", \"poor\", \"big company\", \"mountain\", \"work life balance\", \"your\", \"long hours\", \"lots\", \"difficult\", \"hard\", \"large\", \"large company\", \"too\", \"pay\", \"middle management\", \"internal\", \"politics\", \"career growth\", \"huge\", \"have\", \"mtv\", \"huge company\", \"long time\", \"promotions\", \"limited\", \"wo n't\", \"promotion\", \"low\", \"red tape\", \"really\", \"everyone\", \"ca\", \"working\", \"career\", \"hard work\", \"upper management\", \"bureaucracy\", \"need\", \"work-life balance\", \"work/life balance\", \"hr\", \"ca n't\", \"difficult\", \"google\", \"poor\", \"big company\", \"mountain\", \"work life balance\", \"your\", \"long hours\", \"lots\", \"hard\", \"large\", \"large company\", \"too\", \"huge\", \"have\", \"mtv\", \"huge company\", \"career growth\", \"politics\", \"long time\", \"promotions\", \"limited\", \"wo n't\", \"promotion\", \"low\", \"red tape\", \"really\", \"internal\", \"everyone\", \"ca\", \"working\", \"career\", \"hard work\", \"upper management\", \"bureaucracy\", \"need\", \"work-life balance\", \"work/life balance\", \"hr\", \"ca n't\", \"middle management\", \"difficult\", \"google\", \"poor\", \"big company\", \"mountain\", \"work life balance\", \"your\", \"long hours\", \"lots\", \"hard\", \"large\", \"large company\", \"smart people\", \"long hours\", \"huge\", \"have\", \"mtv\", \"huge company\", \"career growth\", \"politics\", \"long time\", \"promotions\", \"limited\", \"wo n't\", \"promotion\", \"low\", \"red tape\", \"really\", \"internal\", \"everyone\", \"ca\", \"working\", \"career\", \"hard work\", \"upper management\", \"bureaucracy\", \"need\", \"work-life balance\", \"work/life balance\", \"hr\", \"ca n't\", \"middle management\", \"difficult\", \"google\", \"poor\", \"big company\", \"mountain\", \"work life balance\", \"your\", \"lots\", \"hard\", \"large\", \"large company\", \"too\", \"smart people\", \"work life balance\", \"ca n't\", \"huge\", \"have\", \"mtv\", \"huge company\", \"career growth\", \"politics\", \"long time\", \"promotions\", \"limited\", \"wo n't\", \"promotion\", \"low\", \"red tape\", \"really\", \"internal\", \"everyone\", \"ca\", \"working\", \"career\", \"hard work\", \"upper management\", \"bureaucracy\", \"need\", \"work-life balance\", \"work/life balance\", \"hr\", \"middle management\", \"difficult\", \"google\", \"poor\", \"big company\", \"mountain\", \"your\", \"long hours\", \"lots\", \"hard\", \"large\", \"large company\", \"too\", \"smart people\", \"lack\", \"ca\", \"promotions\", \"long time\", \"huge\", \"have\", \"mtv\", \"huge company\", \"career growth\", \"politics\", \"limited\", \"wo n't\", \"promotion\", \"low\", \"red tape\", \"really\", \"internal\", \"everyone\", \"working\", \"career\", \"hard work\", \"upper management\", \"bureaucracy\", \"need\", \"work-life balance\", \"work/life balance\", \"hr\", \"ca n't\", \"middle management\", \"difficult\", \"google\", \"poor\", \"big company\", \"mountain\", \"work life balance\", \"your\", \"long hours\", \"lots\", \"hard\", \"large\", \"large company\", \"too\", \"big company\", \"huge\", \"have\", \"mtv\", \"huge company\", \"career growth\", \"politics\", \"long time\", \"promotions\", \"limited\", \"wo n't\", \"promotion\", \"low\", \"red tape\", \"really\", \"internal\", \"everyone\", \"ca\", \"working\", \"career\", \"hard work\", \"upper management\", \"bureaucracy\", \"need\", \"work-life balance\", \"work/life balance\", \"hr\", \"ca n't\", \"middle management\", \"difficult\", \"google\", \"poor\", \"mountain\", \"work life balance\", \"your\", \"long hours\", \"lots\", \"hard\", \"large\", \"large company\", \"too\", \"smart people\", \"large company\", \"red tape\", \"huge company\", \"huge\", \"have\", \"mtv\", \"career growth\", \"politics\", \"long time\", \"promotions\", \"limited\", \"wo n't\", \"promotion\", \"low\", \"really\", \"internal\", \"everyone\", \"ca\", \"working\", \"career\", \"hard work\", \"upper management\", \"bureaucracy\", \"need\", \"work-life balance\", \"work/life balance\", \"hr\", \"ca n't\", \"middle management\", \"difficult\", \"google\", \"poor\", \"big company\", \"mountain\", \"work life balance\", \"your\", \"long hours\", \"lots\", \"hard\", \"large\", \"too\", \"smart people\", \"managers\", \"everyone\", \"promotion\", \"huge\", \"have\", \"mtv\", \"huge company\", \"career growth\", \"politics\", \"long time\", \"promotions\", \"limited\", \"wo n't\", \"low\", \"red tape\", \"really\", \"internal\", \"ca\", \"working\", \"career\", \"hard work\", \"upper management\", \"bureaucracy\", \"need\", \"work-life balance\", \"work/life balance\", \"hr\", \"ca n't\", \"middle management\", \"difficult\", \"google\", \"poor\", \"big company\", \"mountain\", \"work life balance\", \"your\", \"long hours\", \"lots\", \"hard\", \"large\", \"large company\", \"too\", \"amazon\", \"have\", \"huge\", \"mtv\", \"huge company\", \"career growth\", \"politics\", \"long time\", \"promotions\", \"limited\", \"wo n't\", \"promotion\", \"low\", \"red tape\", \"really\", \"internal\", \"everyone\", \"ca\", \"working\", \"career\", \"hard work\", \"upper management\", \"bureaucracy\", \"need\", \"work-life balance\", \"work/life balance\", \"hr\", \"ca n't\", \"middle management\", \"difficult\", \"google\", \"poor\", \"big company\", \"mountain\", \"work life balance\", \"your\", \"long hours\", \"lots\", \"hard\", \"large\", \"large company\", \"too\", \"lots\", \"huge\", \"have\", \"mtv\", \"huge company\", \"career growth\", \"politics\", \"long time\", \"promotions\", \"limited\", \"wo n't\", \"promotion\", \"low\", \"red tape\", \"really\", \"internal\", \"everyone\", \"ca\", \"working\", \"career\", \"hard work\", \"upper management\", \"bureaucracy\", \"need\", \"work-life balance\", \"work/life balance\", \"hr\", \"ca n't\", \"middle management\", \"difficult\", \"google\", \"poor\", \"big company\", \"mountain\", \"work life balance\", \"your\", \"long hours\", \"hard\", \"large\", \"large company\", \"too\", \"smart people\", \"hard\", \"huge\", \"have\", \"mtv\", \"huge company\", \"career growth\", \"politics\", \"long time\", \"promotions\", \"limited\", \"wo n't\", \"promotion\", \"low\", \"red tape\", \"really\", \"internal\", \"everyone\", \"ca\", \"working\", \"career\", \"hard work\", \"upper management\", \"bureaucracy\", \"need\", \"work-life balance\", \"work/life balance\", \"hr\", \"ca n't\", \"middle management\", \"difficult\", \"google\", \"poor\", \"big company\", \"mountain\", \"work life balance\", \"your\", \"long hours\", \"lots\", \"large\", \"large company\", \"too\", \"smart people\", \"smart people\", \"career\", \"huge\", \"have\", \"mtv\", \"huge company\", \"career growth\", \"politics\", \"long time\", \"promotions\", \"limited\", \"wo n't\", \"promotion\", \"low\", \"red tape\", \"really\", \"internal\", \"everyone\", \"ca\", \"working\", \"hard work\", \"upper management\", \"bureaucracy\", \"need\", \"work-life balance\", \"work/life balance\", \"hr\", \"ca n't\", \"middle management\", \"difficult\", \"google\", \"poor\", \"big company\", \"mountain\", \"work life balance\", \"your\", \"long hours\", \"lots\", \"hard\", \"large\", \"large company\", \"too\", \"work-life balance\", \"wo n't\", \"mtv\", \"huge\", \"have\", \"huge company\", \"career growth\", \"politics\", \"long time\", \"promotions\", \"limited\", \"promotion\", \"low\", \"red tape\", \"really\", \"internal\", \"everyone\", \"ca\", \"working\", \"career\", \"hard work\", \"upper management\", \"bureaucracy\", \"need\", \"work/life balance\", \"hr\", \"ca n't\", \"middle management\", \"difficult\", \"poor\", \"google\", \"big company\", \"mountain\", \"work life balance\", \"your\", \"long hours\", \"lots\", \"hard\", \"large\", \"large company\", \"too\", \"hr\", \"need\", \"huge\", \"have\", \"mtv\", \"huge company\", \"career growth\", \"politics\", \"long time\", \"promotions\", \"limited\", \"wo n't\", \"promotion\", \"low\", \"red tape\", \"really\", \"internal\", \"everyone\", \"ca\", \"working\", \"career\", \"hard work\", \"upper management\", \"bureaucracy\", \"work-life balance\", \"work/life balance\", \"ca n't\", \"middle management\", \"difficult\", \"poor\", \"google\", \"big company\", \"mountain\", \"work life balance\", \"your\", \"long hours\", \"lots\", \"hard\", \"large\", \"large company\", \"too\", \"poor\", \"low\", \"huge\", \"have\", \"mtv\", \"huge company\", \"career growth\", \"politics\", \"long time\", \"promotions\", \"limited\", \"wo n't\", \"promotion\", \"red tape\", \"really\", \"internal\", \"everyone\", \"ca\", \"working\", \"career\", \"hard work\", \"upper management\", \"bureaucracy\", \"need\", \"work-life balance\", \"work/life balance\", \"hr\", \"ca n't\", \"middle management\", \"difficult\", \"google\", \"big company\", \"mountain\", \"work life balance\", \"your\", \"long hours\", \"lots\", \"hard\", \"large\", \"large company\", \"too\", \"smart people\", \"mountain\", \"huge\", \"have\", \"mtv\", \"huge company\", \"career growth\", \"politics\", \"long time\", \"promotions\", \"limited\", \"wo n't\", \"promotion\", \"low\", \"red tape\", \"really\", \"internal\", \"everyone\", \"ca\", \"working\", \"career\", \"hard work\", \"upper management\", \"bureaucracy\", \"need\", \"work-life balance\", \"work/life balance\", \"hr\", \"ca n't\", \"middle management\", \"difficult\", \"google\", \"poor\", \"big company\", \"work life balance\", \"your\", \"long hours\", \"lots\", \"hard\", \"large\", \"large company\", \"too\", \"smart people\", \"upper management\", \"working\", \"huge\", \"have\", \"mtv\", \"huge company\", \"career growth\", \"politics\", \"long time\", \"promotions\", \"limited\", \"wo n't\", \"promotion\", \"low\", \"red tape\", \"really\", \"internal\", \"everyone\", \"ca\", \"career\", \"hard work\", \"bureaucracy\", \"need\", \"work-life balance\", \"work/life balance\", \"hr\", \"ca n't\", \"middle management\", \"difficult\", \"poor\", \"google\", \"big company\", \"mountain\", \"work life balance\", \"your\", \"long hours\", \"lots\", \"hard\", \"large\", \"large company\", \"too\", \"work/life balance\", \"limited\", \"huge\", \"have\", \"mtv\", \"huge company\", \"career growth\", \"politics\", \"long time\", \"promotions\", \"wo n't\", \"promotion\", \"low\", \"red tape\", \"really\", \"internal\", \"everyone\", \"ca\", \"working\", \"career\", \"hard work\", \"upper management\", \"bureaucracy\", \"need\", \"work-life balance\", \"hr\", \"ca n't\", \"middle management\", \"difficult\", \"poor\", \"google\", \"big company\", \"mountain\", \"work life balance\", \"your\", \"long hours\", \"lots\", \"hard\", \"large\", \"large company\", \"too\", \"your\", \"huge\", \"have\", \"mtv\", \"huge company\", \"career growth\", \"politics\", \"long time\", \"promotions\", \"limited\", \"wo n't\", \"promotion\", \"low\", \"red tape\", \"really\", \"internal\", \"everyone\", \"ca\", \"working\", \"career\", \"hard work\", \"upper management\", \"bureaucracy\", \"need\", \"work-life balance\", \"work/life balance\", \"hr\", \"ca n't\", \"middle management\", \"difficult\", \"google\", \"poor\", \"big company\", \"mountain\", \"work life balance\", \"long hours\", \"lots\", \"hard\", \"large\", \"large company\", \"too\", \"smart people\", \"large\", \"huge\", \"have\", \"mtv\", \"huge company\", \"career growth\", \"politics\", \"long time\", \"promotions\", \"limited\", \"wo n't\", \"promotion\", \"low\", \"red tape\", \"really\", \"internal\", \"everyone\", \"ca\", \"working\", \"career\", \"hard work\", \"upper management\", \"bureaucracy\", \"need\", \"work-life balance\", \"work/life balance\", \"hr\", \"ca n't\", \"middle management\", \"difficult\", \"google\", \"poor\", \"big company\", \"mountain\", \"work life balance\", \"your\", \"long hours\", \"lots\", \"hard\", \"large company\", \"too\", \"smart people\", \"difficult\", \"huge\", \"have\", \"mtv\", \"huge company\", \"career growth\", \"politics\", \"long time\", \"promotions\", \"limited\", \"wo n't\", \"promotion\", \"low\", \"red tape\", \"really\", \"internal\", \"everyone\", \"ca\", \"working\", \"career\", \"hard work\", \"upper management\", \"bureaucracy\", \"need\", \"work-life balance\", \"work/life balance\", \"hr\", \"ca n't\", \"middle management\", \"poor\", \"google\", \"big company\", \"mountain\", \"work life balance\", \"your\", \"long hours\", \"lots\", \"hard\", \"large\", \"large company\", \"too\", \"smart people\", \"bureaucracy\", \"huge\", \"have\", \"mtv\", \"huge company\", \"career growth\", \"politics\", \"long time\", \"promotions\", \"limited\", \"wo n't\", \"promotion\", \"low\", \"red tape\", \"really\", \"internal\", \"everyone\", \"ca\", \"working\", \"career\", \"hard work\", \"upper management\", \"need\", \"work-life balance\", \"work/life balance\", \"hr\", \"ca n't\", \"middle management\", \"difficult\", \"poor\", \"google\", \"big company\", \"mountain\", \"work life balance\", \"your\", \"long hours\", \"lots\", \"hard\", \"large\", \"large company\", \"too\", \"smart people\", \"hard work\", \"huge\", \"have\", \"mtv\", \"huge company\", \"career growth\", \"politics\", \"long time\", \"promotions\", \"limited\", \"wo n't\", \"promotion\", \"low\", \"red tape\", \"really\", \"internal\", \"everyone\", \"ca\", \"working\", \"career\", \"upper management\", \"bureaucracy\", \"need\", \"work-life balance\", \"work/life balance\", \"hr\", \"ca n't\", \"middle management\", \"difficult\", \"poor\", \"google\", \"big company\", \"mountain\", \"work life balance\", \"your\", \"long hours\", \"lots\", \"hard\", \"large\", \"large company\", \"too\", \"smart people\", \"really\", \"huge\", \"have\", \"mtv\", \"huge company\", \"career growth\", \"politics\", \"long time\", \"promotions\", \"limited\", \"wo n't\", \"promotion\", \"low\", \"red tape\", \"internal\", \"everyone\", \"ca\", \"working\", \"career\", \"hard work\", \"upper management\", \"bureaucracy\", \"need\", \"work-life balance\", \"work/life balance\", \"hr\", \"ca n't\", \"middle management\", \"difficult\", \"poor\", \"google\", \"big company\", \"mountain\", \"work life balance\", \"your\", \"long hours\", \"lots\", \"hard\", \"large\", \"large company\", \"too\", \"smart people\"], \"Freq\": [481.0, 108.0, 103.0, 93.0, 74.0, 72.0, 66.0, 70.0, 50.0, 49.0, 38.0, 157.0, 35.0, 32.0, 33.0, 34.0, 38.0, 38.0, 24.0, 25.0, 30.0, 28.0, 39.0, 22.0, 28.0, 25.0, 25.0, 24.0, 30.0, 24.0, 480.02583628312834, 156.08142758770538, 0.05987032439766562, 0.05987032439766562, 0.05987032439766562, 0.05987032439766562, 0.05987032439766562, 0.05987032439766562, 0.05987032439766562, 0.05987032439766562, 0.05987032439766562, 0.05987032439766562, 0.05987032439766562, 0.05987032439766562, 0.05987032439766562, 0.05987032439766562, 0.05987032439766562, 0.05987032439766562, 0.05987032439766562, 0.05987032439766562, 0.05987032439766562, 0.05987032439766562, 0.05987032439766562, 0.05987032439766562, 0.05987032439766562, 0.05987032439766562, 0.05987032439766562, 0.05987032439766562, 0.05987032439766562, 0.05987032439766562, 0.05987032439766562, 0.05987032439766562, 0.05987032439766562, 0.05987032439766562, 0.05987032439766562, 0.05987032439766562, 0.05987032439766562, 0.05987032439766562, 0.05987032439766562, 0.05987032439766562, 0.05987032439766562, 0.05987032439766562, 37.90754753503689, 30.385517536916456, 21.423035740939422, 14.38100848364591, 13.849717225189227, 3.6419368220626844, 0.04081741520227053, 0.04081741520227053, 0.04081741520227053, 0.04081741520227053, 0.04081741520227053, 0.04081741520227053, 0.04081741520227053, 0.04081741520227053, 0.04081741520227053, 0.04081741520227053, 0.04081741520227053, 0.04081741520227053, 0.04081741520227053, 0.04081741520227053, 0.04081741520227053, 0.04081741520227053, 0.04081741520227053, 0.04081741520227053, 0.04081741520227053, 0.04081741520227053, 0.04081741520227053, 0.04081741520227053, 0.04081741520227053, 0.04081741520227053, 0.04081741520227053, 0.04081741520227053, 0.04081741520227053, 0.04081741520227053, 0.04081741520227053, 0.04081741520227053, 0.04081741520227053, 0.04081741520227053, 0.04081741520227053, 0.04081741520227053, 0.04081741520227053, 107.19879346978493, 0.043866440272482175, 0.043866440272482175, 0.043866440272482175, 0.043866440272482175, 0.043866440272482175, 0.043866440272482175, 0.043866440272482175, 0.043866440272482175, 0.043866440272482175, 0.043866440272482175, 0.043866440272482175, 0.043866440272482175, 0.043866440272482175, 0.043866440272482175, 0.043866440272482175, 0.043866440272482175, 0.043866440272482175, 0.043866440272482175, 0.043866440272482175, 0.043866440272482175, 0.043866440272482175, 0.043866440272482175, 0.043866440272482175, 0.043866440272482175, 0.043866440272482175, 0.043866440272482175, 0.043866440272482175, 0.043866440272482175, 0.043866440272482175, 0.043866440272482175, 0.043866440272482175, 0.043866440272482175, 0.043866440272482175, 0.043866440272482175, 0.043866440272482175, 0.043866440272482175, 0.043866440272482175, 0.043866440272482175, 0.043866440272482175, 0.043866440272482175, 0.043866440272482175, 102.4519780586965, 0.021010356468720473, 0.021010356468720473, 0.021010356468720473, 0.021010356468720473, 0.021010356468720473, 0.021010356468720473, 0.021010356468720473, 0.021010356468720473, 0.021010356468720473, 0.021010356468720473, 0.021010356468720473, 0.021010356468720473, 0.021010356468720473, 0.021010356468720473, 0.021010356468720473, 0.021010356468720473, 0.021010356468720473, 0.021010356468720473, 0.021010356468720473, 0.021010356468720473, 0.021010356468720473, 0.021010356468720473, 0.021010356468720473, 0.021010356468720473, 0.021010356468720473, 0.021010356468720473, 0.021010356468720473, 0.021010356468720473, 0.021010356468720473, 0.021010356468720473, 0.021010356468720473, 0.021010356468720473, 0.021010356468720473, 0.021010356468720473, 0.021010356468720473, 0.021010356468720473, 0.021010356468720473, 0.021010356468720473, 0.021010356468720473, 0.021010356468720473, 0.021010356468720473, 69.49906209842551, 28.99881079540323, 0.03399263139668845, 0.03399263139668845, 0.03399263139668845, 0.03399263139668845, 0.03399263139668845, 0.03399263139668845, 0.03399263139668845, 0.03399263139668845, 0.03399263139668845, 0.03399263139668845, 0.03399263139668845, 0.03399263139668845, 0.03399263139668845, 0.03399263139668845, 0.03399263139668845, 0.03399263139668845, 0.03399263139668845, 0.03399263139668845, 0.03399263139668845, 0.03399263139668845, 0.03399263139668845, 0.03399263139668845, 0.03399263139668845, 0.03399263139668845, 0.03399263139668845, 0.03399263139668845, 0.03399263139668845, 0.03399263139668845, 0.03399263139668845, 0.03399263139668845, 0.03399263139668845, 0.03399263139668845, 0.03399263139668845, 0.03399263139668845, 0.03399263139668845, 0.03399263139668845, 0.03399263139668845, 0.03399263139668845, 0.03399263139668845, 0.03399263139668845, 37.208622468596715, 22.770587031176166, 18.48632270525912, 17.947532707058915, 0.04556090110096849, 0.04556090110096849, 0.04556090110096849, 0.04556090110096849, 0.04556090110096849, 0.04556090110096849, 0.04556090110096849, 0.04556090110096849, 0.04556090110096849, 0.04556090110096849, 0.04556090110096849, 0.04556090110096849, 0.04556090110096849, 0.04556090110096849, 0.04556090110096849, 0.04556090110096849, 0.04556090110096849, 0.04556090110096849, 0.04556090110096849, 0.04556090110096849, 0.04556090110096849, 0.04556090110096849, 0.04556090110096849, 0.04556090110096849, 0.04556090110096849, 0.04556090110096849, 0.04556090110096849, 0.04556090110096849, 0.04556090110096849, 0.04556090110096849, 0.04556090110096849, 0.04556090110096849, 0.04556090110096849, 0.04556090110096849, 0.04556090110096849, 0.04556090110096849, 0.04556090110096849, 0.04556090110096849, 91.967640573128, 0.09676942091207645, 0.09676942091207645, 0.09676942091207645, 0.09676942091207645, 0.09676942091207645, 0.09676942091207645, 0.09676942091207645, 0.09676942091207645, 0.09676942091207645, 0.09676942091207645, 0.09676942091207645, 0.09676942091207645, 0.09676942091207645, 0.09676942091207645, 0.09676942091207645, 0.09676942091207645, 0.09676942091207645, 0.09676942091207645, 0.09676942091207645, 0.09676942091207645, 0.09676942091207645, 0.09676942091207645, 0.09676942091207645, 0.09676942091207645, 0.09676942091207645, 0.09676942091207645, 0.09676942091207645, 0.09676942091207645, 0.09676942091207645, 0.09676942091207645, 0.09676942091207645, 0.09676942091207645, 0.09676942091207645, 0.09676942091207645, 0.09676942091207645, 0.09676942091207645, 0.09676942091207645, 0.09676942091207645, 0.09676942091207645, 0.09676942091207645, 0.09676942091207645, 48.55868543933288, 20.746974801019288, 12.949858292546972, 0.08297890408319097, 0.08297890408319097, 0.08297890408319097, 0.08297890408319097, 0.08297890408319097, 0.08297890408319097, 0.08297890408319097, 0.08297890408319097, 0.08297890408319097, 0.08297890408319097, 0.08297890408319097, 0.08297890408319097, 0.08297890408319097, 0.08297890408319097, 0.08297890408319097, 0.08297890408319097, 0.08297890408319097, 0.08297890408319097, 0.08297890408319097, 0.08297890408319097, 0.08297890408319097, 0.08297890408319097, 0.08297890408319097, 0.08297890408319097, 0.08297890408319097, 0.08297890408319097, 0.08297890408319097, 0.08297890408319097, 0.08297890408319097, 0.08297890408319097, 0.08297890408319097, 0.08297890408319097, 0.08297890408319097, 0.08297890408319097, 0.08297890408319097, 0.08297890408319097, 0.08297890408319097, 0.08297890408319097, 0.08297890408319097, 36.77800807491651, 22.70420617253676, 20.62084630068965, 0.03910409834119696, 0.03910409834119696, 0.03910409834119696, 0.03910409834119696, 0.03910409834119696, 0.03910409834119696, 0.03910409834119696, 0.03910409834119696, 0.03910409834119696, 0.03910409834119696, 0.03910409834119696, 0.03910409834119696, 0.03910409834119696, 0.03910409834119696, 0.03910409834119696, 0.03910409834119696, 0.03910409834119696, 0.03910409834119696, 0.03910409834119696, 0.03910409834119696, 0.03910409834119696, 0.03910409834119696, 0.03910409834119696, 0.03910409834119696, 0.03910409834119696, 0.03910409834119696, 0.03910409834119696, 0.03910409834119696, 0.03910409834119696, 0.03910409834119696, 0.03910409834119696, 0.03910409834119696, 0.03910409834119696, 0.03910409834119696, 0.03910409834119696, 0.03910409834119696, 0.03910409834119696, 0.03910409834119696, 0.03910409834119696, 73.10791629172478, 3.6547990535743238, 0.011391516719349296, 0.011391516719349296, 0.011391516719349296, 0.011391516719349296, 0.011391516719349296, 0.011391516719349296, 0.011391516719349296, 0.011391516719349296, 0.011391516719349296, 0.011391516719349296, 0.011391516719349296, 0.011391516719349296, 0.011391516719349296, 0.011391516719349296, 0.011391516719349296, 0.011391516719349296, 0.011391516719349296, 0.011391516719349296, 0.011391516719349296, 0.011391516719349296, 0.011391516719349296, 0.011391516719349296, 0.011391516719349296, 0.011391516719349296, 0.011391516719349296, 0.011391516719349296, 0.011391516719349296, 0.011391516719349296, 0.011391516719349296, 0.011391516719349296, 0.011391516719349296, 0.011391516719349296, 0.011391516719349296, 0.011391516719349296, 0.011391516719349296, 0.011391516719349296, 0.011391516719349296, 0.011391516719349296, 0.011391516719349296, 0.011391516719349296, 71.21810225218566, 0.06503905157208277, 0.06503905157208277, 0.06503905157208277, 0.06503905157208277, 0.06503905157208277, 0.06503905157208277, 0.06503905157208277, 0.06503905157208277, 0.06503905157208277, 0.06503905157208277, 0.06503905157208277, 0.06503905157208277, 0.06503905157208277, 0.06503905157208277, 0.06503905157208277, 0.06503905157208277, 0.06503905157208277, 0.06503905157208277, 0.06503905157208277, 0.06503905157208277, 0.06503905157208277, 0.06503905157208277, 0.06503905157208277, 0.06503905157208277, 0.06503905157208277, 0.06503905157208277, 0.06503905157208277, 0.06503905157208277, 0.06503905157208277, 0.06503905157208277, 0.06503905157208277, 0.06503905157208277, 0.06503905157208277, 0.06503905157208277, 0.06503905157208277, 0.06503905157208277, 0.06503905157208277, 0.06503905157208277, 0.06503905157208277, 0.06503905157208277, 0.06503905157208277, 65.13942807152618, 0.04227247628837467, 0.04227247628837467, 0.04227247628837467, 0.04227247628837467, 0.04227247628837467, 0.04227247628837467, 0.04227247628837467, 0.04227247628837467, 0.04227247628837467, 0.04227247628837467, 0.04227247628837467, 0.04227247628837467, 0.04227247628837467, 0.04227247628837467, 0.04227247628837467, 0.04227247628837467, 0.04227247628837467, 0.04227247628837467, 0.04227247628837467, 0.04227247628837467, 0.04227247628837467, 0.04227247628837467, 0.04227247628837467, 0.04227247628837467, 0.04227247628837467, 0.04227247628837467, 0.04227247628837467, 0.04227247628837467, 0.04227247628837467, 0.04227247628837467, 0.04227247628837467, 0.04227247628837467, 0.04227247628837467, 0.04227247628837467, 0.04227247628837467, 0.04227247628837467, 0.04227247628837467, 0.04227247628837467, 0.04227247628837467, 0.04227247628837467, 0.04227247628837467, 33.464418862616114, 23.443660684054965, 0.05464289578584443, 0.05464289578584443, 0.05464289578584443, 0.05464289578584443, 0.05464289578584443, 0.05464289578584443, 0.05464289578584443, 0.05464289578584443, 0.05464289578584443, 0.05464289578584443, 0.05464289578584443, 0.05464289578584443, 0.05464289578584443, 0.05464289578584443, 0.05464289578584443, 0.05464289578584443, 0.05464289578584443, 0.05464289578584443, 0.05464289578584443, 0.05464289578584443, 0.05464289578584443, 0.05464289578584443, 0.05464289578584443, 0.05464289578584443, 0.05464289578584443, 0.05464289578584443, 0.05464289578584443, 0.05464289578584443, 0.05464289578584443, 0.05464289578584443, 0.05464289578584443, 0.05464289578584443, 0.05464289578584443, 0.05464289578584443, 0.05464289578584443, 0.05464289578584443, 0.05464289578584443, 0.05464289578584443, 0.05464289578584443, 0.05464289578584443, 26.763258697709915, 20.103705369072248, 8.991059412642379, 0.04602338217295856, 0.04602338217295856, 0.04602338217295856, 0.04602338217295856, 0.04602338217295856, 0.04602338217295856, 0.04602338217295856, 0.04602338217295856, 0.04602338217295856, 0.04602338217295856, 0.04602338217295856, 0.04602338217295856, 0.04602338217295856, 0.04602338217295856, 0.04602338217295856, 0.04602338217295856, 0.04602338217295856, 0.04602338217295856, 0.04602338217295856, 0.04602338217295856, 0.04602338217295856, 0.04602338217295856, 0.04602338217295856, 0.04602338217295856, 0.04602338217295856, 0.04602338217295856, 0.04602338217295856, 0.04602338217295856, 0.04602338217295856, 0.04602338217295856, 0.04602338217295856, 0.04602338217295856, 0.04602338217295856, 0.04602338217295856, 0.04602338217295856, 0.04602338217295856, 0.04602338217295856, 0.04602338217295856, 28.871839783007573, 24.560088054981684, 0.03967937675077218, 0.03967937675077218, 0.03967937675077218, 0.03967937675077218, 0.03967937675077218, 0.03967937675077218, 0.03967937675077218, 0.03967937675077218, 0.03967937675077218, 0.03967937675077218, 0.03967937675077218, 0.03967937675077218, 0.03967937675077218, 0.03967937675077218, 0.03967937675077218, 0.03967937675077218, 0.03967937675077218, 0.03967937675077218, 0.03967937675077218, 0.03967937675077218, 0.03967937675077218, 0.03967937675077218, 0.03967937675077218, 0.03967937675077218, 0.03967937675077218, 0.03967937675077218, 0.03967937675077218, 0.03967937675077218, 0.03967937675077218, 0.03967937675077218, 0.03967937675077218, 0.03967937675077218, 0.03967937675077218, 0.03967937675077218, 0.03967937675077218, 0.03967937675077218, 0.03967937675077218, 0.03967937675077218, 0.03967937675077218, 32.60247922982675, 20.650280894118623, 0.028237681322621788, 0.028237681322621788, 0.028237681322621788, 0.028237681322621788, 0.028237681322621788, 0.028237681322621788, 0.028237681322621788, 0.028237681322621788, 0.028237681322621788, 0.028237681322621788, 0.028237681322621788, 0.028237681322621788, 0.028237681322621788, 0.028237681322621788, 0.028237681322621788, 0.028237681322621788, 0.028237681322621788, 0.028237681322621788, 0.028237681322621788, 0.028237681322621788, 0.028237681322621788, 0.028237681322621788, 0.028237681322621788, 0.028237681322621788, 0.028237681322621788, 0.028237681322621788, 0.028237681322621788, 0.028237681322621788, 0.028237681322621788, 0.028237681322621788, 0.028237681322621788, 0.028237681322621788, 0.028237681322621788, 0.028237681322621788, 0.028237681322621788, 0.028237681322621788, 0.028237681322621788, 0.028237681322621788, 0.028237681322621788, 0.028237681322621788, 49.485677333069546, 0.07046565220718244, 0.07046565220718244, 0.07046565220718244, 0.07046565220718244, 0.07046565220718244, 0.07046565220718244, 0.07046565220718244, 0.07046565220718244, 0.07046565220718244, 0.07046565220718244, 0.07046565220718244, 0.07046565220718244, 0.07046565220718244, 0.07046565220718244, 0.07046565220718244, 0.07046565220718244, 0.07046565220718244, 0.07046565220718244, 0.07046565220718244, 0.07046565220718244, 0.07046565220718244, 0.07046565220718244, 0.07046565220718244, 0.07046565220718244, 0.07046565220718244, 0.07046565220718244, 0.07046565220718244, 0.07046565220718244, 0.07046565220718244, 0.07046565220718244, 0.07046565220718244, 0.07046565220718244, 0.07046565220718244, 0.07046565220718244, 0.07046565220718244, 0.07046565220718244, 0.07046565220718244, 0.07046565220718244, 0.07046565220718244, 0.07046565220718244, 0.07046565220718244, 23.788027133772253, 22.951281140078304, 0.04019169111154242, 0.04019169111154242, 0.04019169111154242, 0.04019169111154242, 0.04019169111154242, 0.04019169111154242, 0.04019169111154242, 0.04019169111154242, 0.04019169111154242, 0.04019169111154242, 0.04019169111154242, 0.04019169111154242, 0.04019169111154242, 0.04019169111154242, 0.04019169111154242, 0.04019169111154242, 0.04019169111154242, 0.04019169111154242, 0.04019169111154242, 0.04019169111154242, 0.04019169111154242, 0.04019169111154242, 0.04019169111154242, 0.04019169111154242, 0.04019169111154242, 0.04019169111154242, 0.04019169111154242, 0.04019169111154242, 0.04019169111154242, 0.04019169111154242, 0.04019169111154242, 0.04019169111154242, 0.04019169111154242, 0.04019169111154242, 0.04019169111154242, 0.04019169111154242, 0.04019169111154242, 0.04019169111154242, 0.04019169111154242, 27.09887834323682, 19.187809998427447, 0.04363974935604155, 0.04363974935604155, 0.04363974935604155, 0.04363974935604155, 0.04363974935604155, 0.04363974935604155, 0.04363974935604155, 0.04363974935604155, 0.04363974935604155, 0.04363974935604155, 0.04363974935604155, 0.04363974935604155, 0.04363974935604155, 0.04363974935604155, 0.04363974935604155, 0.04363974935604155, 0.04363974935604155, 0.04363974935604155, 0.04363974935604155, 0.04363974935604155, 0.04363974935604155, 0.04363974935604155, 0.04363974935604155, 0.04363974935604155, 0.04363974935604155, 0.04363974935604155, 0.04363974935604155, 0.04363974935604155, 0.04363974935604155, 0.04363974935604155, 0.04363974935604155, 0.04363974935604155, 0.04363974935604155, 0.04363974935604155, 0.04363974935604155, 0.04363974935604155, 0.04363974935604155, 0.04363974935604155, 0.04363974935604155, 37.016978303686855, 0.045074531623271255, 0.045074531623271255, 0.045074531623271255, 0.045074531623271255, 0.045074531623271255, 0.045074531623271255, 0.045074531623271255, 0.045074531623271255, 0.045074531623271255, 0.045074531623271255, 0.045074531623271255, 0.045074531623271255, 0.045074531623271255, 0.045074531623271255, 0.045074531623271255, 0.045074531623271255, 0.045074531623271255, 0.045074531623271255, 0.045074531623271255, 0.045074531623271255, 0.045074531623271255, 0.045074531623271255, 0.045074531623271255, 0.045074531623271255, 0.045074531623271255, 0.045074531623271255, 0.045074531623271255, 0.045074531623271255, 0.045074531623271255, 0.045074531623271255, 0.045074531623271255, 0.045074531623271255, 0.045074531623271255, 0.045074531623271255, 0.045074531623271255, 0.045074531623271255, 0.045074531623271255, 0.045074531623271255, 0.045074531623271255, 0.045074531623271255, 0.045074531623271255, 34.476813821804186, 0.08970928368888385, 0.08970928368888385, 0.08970928368888385, 0.08970928368888385, 0.08970928368888385, 0.08970928368888385, 0.08970928368888385, 0.08970928368888385, 0.08970928368888385, 0.08970928368888385, 0.08970928368888385, 0.08970928368888385, 0.08970928368888385, 0.08970928368888385, 0.08970928368888385, 0.08970928368888385, 0.08970928368888385, 0.08970928368888385, 0.08970928368888385, 0.08970928368888385, 0.08970928368888385, 0.08970928368888385, 0.08970928368888385, 0.08970928368888385, 0.08970928368888385, 0.08970928368888385, 0.08970928368888385, 0.08970928368888385, 0.08970928368888385, 0.08970928368888385, 0.08970928368888385, 0.08970928368888385, 0.08970928368888385, 0.08970928368888385, 0.08970928368888385, 0.08970928368888385, 0.08970928368888385, 0.08970928368888385, 0.08970928368888385, 0.08970928368888385, 0.08970928368888385, 31.074415893872356, 0.058615957263507386, 0.058615957263507386, 0.058615957263507386, 0.058615957263507386, 0.058615957263507386, 0.058615957263507386, 0.058615957263507386, 0.058615957263507386, 0.058615957263507386, 0.058615957263507386, 0.058615957263507386, 0.058615957263507386, 0.058615957263507386, 0.058615957263507386, 0.058615957263507386, 0.058615957263507386, 0.058615957263507386, 0.058615957263507386, 0.058615957263507386, 0.058615957263507386, 0.058615957263507386, 0.058615957263507386, 0.058615957263507386, 0.058615957263507386, 0.058615957263507386, 0.058615957263507386, 0.058615957263507386, 0.058615957263507386, 0.058615957263507386, 0.058615957263507386, 0.058615957263507386, 0.058615957263507386, 0.058615957263507386, 0.058615957263507386, 0.058615957263507386, 0.058615957263507386, 0.058615957263507386, 0.058615957263507386, 0.058615957263507386, 0.058615957263507386, 0.058615957263507386, 23.91205328015392, 0.09483109122901497, 0.09483109122901497, 0.09483109122901497, 0.09483109122901497, 0.09483109122901497, 0.09483109122901497, 0.09483109122901497, 0.09483109122901497, 0.09483109122901497, 0.09483109122901497, 0.09483109122901497, 0.09483109122901497, 0.09483109122901497, 0.09483109122901497, 0.09483109122901497, 0.09483109122901497, 0.09483109122901497, 0.09483109122901497, 0.09483109122901497, 0.09483109122901497, 0.09483109122901497, 0.09483109122901497, 0.09483109122901497, 0.09483109122901497, 0.09483109122901497, 0.09483109122901497, 0.09483109122901497, 0.09483109122901497, 0.09483109122901497, 0.09483109122901497, 0.09483109122901497, 0.09483109122901497, 0.09483109122901497, 0.09483109122901497, 0.09483109122901497, 0.09483109122901497, 0.09483109122901497, 0.09483109122901497, 0.09483109122901497, 0.09483109122901497, 0.09483109122901497, 23.703430790308232, 0.06671726090629836, 0.06671726090629836, 0.06671726090629836, 0.06671726090629836, 0.06671726090629836, 0.06671726090629836, 0.06671726090629836, 0.06671726090629836, 0.06671726090629836, 0.06671726090629836, 0.06671726090629836, 0.06671726090629836, 0.06671726090629836, 0.06671726090629836, 0.06671726090629836, 0.06671726090629836, 0.06671726090629836, 0.06671726090629836, 0.06671726090629836, 0.06671726090629836, 0.06671726090629836, 0.06671726090629836, 0.06671726090629836, 0.06671726090629836, 0.06671726090629836, 0.06671726090629836, 0.06671726090629836, 0.06671726090629836, 0.06671726090629836, 0.06671726090629836, 0.06671726090629836, 0.06671726090629836, 0.06671726090629836, 0.06671726090629836, 0.06671726090629836, 0.06671726090629836, 0.06671726090629836, 0.06671726090629836, 0.06671726090629836, 0.06671726090629836, 0.06671726090629836, 21.389654756493112, 0.0818513142970137, 0.0818513142970137, 0.0818513142970137, 0.0818513142970137, 0.0818513142970137, 0.0818513142970137, 0.0818513142970137, 0.0818513142970137, 0.0818513142970137, 0.0818513142970137, 0.0818513142970137, 0.0818513142970137, 0.0818513142970137, 0.0818513142970137, 0.0818513142970137, 0.0818513142970137, 0.0818513142970137, 0.0818513142970137, 0.0818513142970137, 0.0818513142970137, 0.0818513142970137, 0.0818513142970137, 0.0818513142970137, 0.0818513142970137, 0.0818513142970137, 0.0818513142970137, 0.0818513142970137, 0.0818513142970137, 0.0818513142970137, 0.0818513142970137, 0.0818513142970137, 0.0818513142970137, 0.0818513142970137, 0.0818513142970137, 0.0818513142970137, 0.0818513142970137, 0.0818513142970137, 0.0818513142970137, 0.0818513142970137, 0.0818513142970137, 0.0818513142970137], \"Total\": [481.0, 108.0, 103.0, 93.0, 74.0, 72.0, 66.0, 70.0, 50.0, 49.0, 38.0, 157.0, 35.0, 32.0, 33.0, 34.0, 38.0, 38.0, 24.0, 25.0, 30.0, 28.0, 39.0, 22.0, 28.0, 25.0, 25.0, 24.0, 30.0, 24.0, 481.3083193632006, 157.36391066777773, 4.943472811330433, 4.985760941324994, 10.28738943493944, 14.2092327929338, 15.151253214456977, 15.68254447291366, 19.244325210427967, 19.78311520862817, 20.48652365354143, 21.40003539136931, 21.924095606818472, 21.964396617266022, 22.006349301406118, 22.650156846666118, 22.724571730207174, 24.007455478665584, 24.067379534545218, 24.253442853436784, 24.731371192739143, 24.979066933871955, 25.090188847130733, 25.159575593394926, 25.862762082700936, 28.05958872000698, 28.3975919983508, 30.174513810726825, 30.307171568476566, 31.687053526184208, 33.91659495297415, 93.21322455668594, 50.75756508533239, 70.80742287149886, 38.31425717653361, 103.77332110669781, 72.4954166050836, 32.358153341078875, 66.43950899970784, 35.72945794258533, 49.818059939719724, 108.49728043398248, 39.209083524304646, 31.687053526184208, 22.724571730207174, 15.68254447291366, 15.151253214456977, 4.943472811330433, 4.985760941324994, 10.28738943493944, 14.2092327929338, 19.244325210427967, 19.78311520862817, 20.48652365354143, 21.40003539136931, 21.924095606818472, 21.964396617266022, 22.006349301406118, 22.650156846666118, 24.007455478665584, 24.067379534545218, 24.253442853436784, 24.731371192739143, 24.979066933871955, 25.090188847130733, 25.159575593394926, 25.862762082700936, 28.05958872000698, 28.3975919983508, 30.174513810726825, 30.307171568476566, 32.358153341078875, 481.3083193632006, 33.91659495297415, 93.21322455668594, 50.75756508533239, 70.80742287149886, 38.31425717653361, 103.77332110669781, 72.4954166050836, 66.43950899970784, 35.72945794258533, 49.818059939719724, 108.49728043398248, 4.943472811330433, 4.985760941324994, 10.28738943493944, 14.2092327929338, 15.151253214456977, 15.68254447291366, 19.244325210427967, 19.78311520862817, 20.48652365354143, 21.40003539136931, 21.924095606818472, 21.964396617266022, 22.006349301406118, 22.650156846666118, 22.724571730207174, 24.007455478665584, 24.067379534545218, 24.253442853436784, 24.731371192739143, 24.979066933871955, 25.090188847130733, 25.159575593394926, 25.862762082700936, 28.05958872000698, 28.3975919983508, 30.174513810726825, 30.307171568476566, 31.687053526184208, 32.358153341078875, 481.3083193632006, 33.91659495297415, 93.21322455668594, 50.75756508533239, 70.80742287149886, 38.31425717653361, 103.77332110669781, 72.4954166050836, 66.43950899970784, 35.72945794258533, 49.818059939719724, 34.75212937130029, 103.77332110669781, 4.943472811330433, 4.985760941324994, 10.28738943493944, 14.2092327929338, 15.151253214456977, 15.68254447291366, 19.244325210427967, 19.78311520862817, 20.48652365354143, 21.40003539136931, 21.924095606818472, 21.964396617266022, 22.006349301406118, 22.650156846666118, 22.724571730207174, 24.007455478665584, 24.067379534545218, 24.253442853436784, 24.731371192739143, 24.979066933871955, 25.090188847130733, 25.159575593394926, 25.862762082700936, 28.05958872000698, 28.3975919983508, 30.174513810726825, 30.307171568476566, 31.687053526184208, 32.358153341078875, 481.3083193632006, 33.91659495297415, 93.21322455668594, 50.75756508533239, 70.80742287149886, 38.31425717653361, 72.4954166050836, 66.43950899970784, 35.72945794258533, 49.818059939719724, 108.49728043398248, 34.75212937130029, 70.80742287149886, 30.307171568476566, 4.943472811330433, 4.985760941324994, 10.28738943493944, 14.2092327929338, 15.151253214456977, 15.68254447291366, 19.244325210427967, 19.78311520862817, 20.48652365354143, 21.40003539136931, 21.924095606818472, 21.964396617266022, 22.006349301406118, 22.650156846666118, 22.724571730207174, 24.007455478665584, 24.067379534545218, 24.253442853436784, 24.731371192739143, 24.979066933871955, 25.090188847130733, 25.159575593394926, 25.862762082700936, 28.05958872000698, 28.3975919983508, 30.174513810726825, 31.687053526184208, 32.358153341078875, 481.3083193632006, 33.91659495297415, 93.21322455668594, 50.75756508533239, 38.31425717653361, 103.77332110669781, 72.4954166050836, 66.43950899970784, 35.72945794258533, 49.818059939719724, 108.49728043398248, 34.75212937130029, 38.50541497196578, 24.067379534545218, 19.78311520862817, 19.244325210427967, 4.943472811330433, 4.985760941324994, 10.28738943493944, 14.2092327929338, 15.151253214456977, 15.68254447291366, 20.48652365354143, 21.40003539136931, 21.924095606818472, 21.964396617266022, 22.006349301406118, 22.650156846666118, 22.724571730207174, 24.007455478665584, 24.253442853436784, 24.731371192739143, 24.979066933871955, 25.090188847130733, 25.159575593394926, 25.862762082700936, 28.05958872000698, 28.3975919983508, 30.174513810726825, 30.307171568476566, 31.687053526184208, 32.358153341078875, 481.3083193632006, 33.91659495297415, 93.21322455668594, 50.75756508533239, 70.80742287149886, 38.31425717653361, 103.77332110669781, 72.4954166050836, 66.43950899970784, 35.72945794258533, 49.818059939719724, 108.49728043398248, 93.21322455668594, 4.943472811330433, 4.985760941324994, 10.28738943493944, 14.2092327929338, 15.151253214456977, 15.68254447291366, 19.244325210427967, 19.78311520862817, 20.48652365354143, 21.40003539136931, 21.924095606818472, 21.964396617266022, 22.006349301406118, 22.650156846666118, 22.724571730207174, 24.007455478665584, 24.067379534545218, 24.253442853436784, 24.731371192739143, 24.979066933871955, 25.090188847130733, 25.159575593394926, 25.862762082700936, 28.05958872000698, 28.3975919983508, 30.174513810726825, 30.307171568476566, 31.687053526184208, 32.358153341078875, 481.3083193632006, 33.91659495297415, 50.75756508533239, 70.80742287149886, 38.31425717653361, 103.77332110669781, 72.4954166050836, 66.43950899970784, 35.72945794258533, 49.818059939719724, 108.49728043398248, 34.75212937130029, 49.818059939719724, 22.006349301406118, 14.2092327929338, 4.943472811330433, 4.985760941324994, 10.28738943493944, 15.151253214456977, 15.68254447291366, 19.244325210427967, 19.78311520862817, 20.48652365354143, 21.40003539136931, 21.924095606818472, 21.964396617266022, 22.650156846666118, 22.724571730207174, 24.007455478665584, 24.067379534545218, 24.253442853436784, 24.731371192739143, 24.979066933871955, 25.090188847130733, 25.159575593394926, 25.862762082700936, 28.05958872000698, 28.3975919983508, 30.174513810726825, 30.307171568476566, 31.687053526184208, 32.358153341078875, 481.3083193632006, 33.91659495297415, 93.21322455668594, 50.75756508533239, 70.80742287149886, 38.31425717653361, 103.77332110669781, 72.4954166050836, 66.43950899970784, 35.72945794258533, 108.49728043398248, 34.75212937130029, 38.08125738104534, 24.007455478665584, 21.924095606818472, 4.943472811330433, 4.985760941324994, 10.28738943493944, 14.2092327929338, 15.151253214456977, 15.68254447291366, 19.244325210427967, 19.78311520862817, 20.48652365354143, 21.40003539136931, 21.964396617266022, 22.006349301406118, 22.650156846666118, 22.724571730207174, 24.067379534545218, 24.253442853436784, 24.731371192739143, 24.979066933871955, 25.090188847130733, 25.159575593394926, 25.862762082700936, 28.05958872000698, 28.3975919983508, 30.174513810726825, 30.307171568476566, 31.687053526184208, 32.358153341078875, 481.3083193632006, 33.91659495297415, 93.21322455668594, 50.75756508533239, 70.80742287149886, 38.31425717653361, 103.77332110669781, 72.4954166050836, 66.43950899970784, 35.72945794258533, 49.818059939719724, 108.49728043398248, 74.43887817947547, 4.985760941324994, 4.943472811330433, 10.28738943493944, 14.2092327929338, 15.151253214456977, 15.68254447291366, 19.244325210427967, 19.78311520862817, 20.48652365354143, 21.40003539136931, 21.924095606818472, 21.964396617266022, 22.006349301406118, 22.650156846666118, 22.724571730207174, 24.007455478665584, 24.067379534545218, 24.253442853436784, 24.731371192739143, 24.979066933871955, 25.090188847130733, 25.159575593394926, 25.862762082700936, 28.05958872000698, 28.3975919983508, 30.174513810726825, 30.307171568476566, 31.687053526184208, 32.358153341078875, 481.3083193632006, 33.91659495297415, 93.21322455668594, 50.75756508533239, 70.80742287149886, 38.31425717653361, 103.77332110669781, 72.4954166050836, 66.43950899970784, 35.72945794258533, 49.818059939719724, 108.49728043398248, 72.4954166050836, 4.943472811330433, 4.985760941324994, 10.28738943493944, 14.2092327929338, 15.151253214456977, 15.68254447291366, 19.244325210427967, 19.78311520862817, 20.48652365354143, 21.40003539136931, 21.924095606818472, 21.964396617266022, 22.006349301406118, 22.650156846666118, 22.724571730207174, 24.007455478665584, 24.067379534545218, 24.253442853436784, 24.731371192739143, 24.979066933871955, 25.090188847130733, 25.159575593394926, 25.862762082700936, 28.05958872000698, 28.3975919983508, 30.174513810726825, 30.307171568476566, 31.687053526184208, 32.358153341078875, 481.3083193632006, 33.91659495297415, 93.21322455668594, 50.75756508533239, 70.80742287149886, 38.31425717653361, 103.77332110669781, 66.43950899970784, 35.72945794258533, 49.818059939719724, 108.49728043398248, 34.75212937130029, 66.43950899970784, 4.943472811330433, 4.985760941324994, 10.28738943493944, 14.2092327929338, 15.151253214456977, 15.68254447291366, 19.244325210427967, 19.78311520862817, 20.48652365354143, 21.40003539136931, 21.924095606818472, 21.964396617266022, 22.006349301406118, 22.650156846666118, 22.724571730207174, 24.007455478665584, 24.067379534545218, 24.253442853436784, 24.731371192739143, 24.979066933871955, 25.090188847130733, 25.159575593394926, 25.862762082700936, 28.05958872000698, 28.3975919983508, 30.174513810726825, 30.307171568476566, 31.687053526184208, 32.358153341078875, 481.3083193632006, 33.91659495297415, 93.21322455668594, 50.75756508533239, 70.80742287149886, 38.31425717653361, 103.77332110669781, 72.4954166050836, 35.72945794258533, 49.818059939719724, 108.49728043398248, 34.75212937130029, 34.75212937130029, 24.731371192739143, 4.943472811330433, 4.985760941324994, 10.28738943493944, 14.2092327929338, 15.151253214456977, 15.68254447291366, 19.244325210427967, 19.78311520862817, 20.48652365354143, 21.40003539136931, 21.924095606818472, 21.964396617266022, 22.006349301406118, 22.650156846666118, 22.724571730207174, 24.007455478665584, 24.067379534545218, 24.253442853436784, 24.979066933871955, 25.090188847130733, 25.159575593394926, 25.862762082700936, 28.05958872000698, 28.3975919983508, 30.174513810726825, 30.307171568476566, 31.687053526184208, 32.358153341078875, 481.3083193632006, 33.91659495297415, 93.21322455668594, 50.75756508533239, 70.80742287149886, 38.31425717653361, 103.77332110669781, 72.4954166050836, 66.43950899970784, 35.72945794258533, 49.818059939719724, 108.49728043398248, 28.05958872000698, 21.40003539136931, 10.28738943493944, 4.943472811330433, 4.985760941324994, 14.2092327929338, 15.151253214456977, 15.68254447291366, 19.244325210427967, 19.78311520862817, 20.48652365354143, 21.924095606818472, 21.964396617266022, 22.006349301406118, 22.650156846666118, 22.724571730207174, 24.007455478665584, 24.067379534545218, 24.253442853436784, 24.731371192739143, 24.979066933871955, 25.090188847130733, 25.159575593394926, 25.862762082700936, 28.3975919983508, 30.174513810726825, 30.307171568476566, 31.687053526184208, 32.358153341078875, 33.91659495297415, 481.3083193632006, 93.21322455668594, 50.75756508533239, 70.80742287149886, 38.31425717653361, 103.77332110669781, 72.4954166050836, 66.43950899970784, 35.72945794258533, 49.818059939719724, 108.49728043398248, 30.174513810726825, 25.862762082700936, 4.943472811330433, 4.985760941324994, 10.28738943493944, 14.2092327929338, 15.151253214456977, 15.68254447291366, 19.244325210427967, 19.78311520862817, 20.48652365354143, 21.40003539136931, 21.924095606818472, 21.964396617266022, 22.006349301406118, 22.650156846666118, 22.724571730207174, 24.007455478665584, 24.067379534545218, 24.253442853436784, 24.731371192739143, 24.979066933871955, 25.090188847130733, 25.159575593394926, 28.05958872000698, 28.3975919983508, 30.307171568476566, 31.687053526184208, 32.358153341078875, 33.91659495297415, 481.3083193632006, 93.21322455668594, 50.75756508533239, 70.80742287149886, 38.31425717653361, 103.77332110669781, 72.4954166050836, 66.43950899970784, 35.72945794258533, 49.818059939719724, 108.49728043398248, 33.91659495297415, 21.964396617266022, 4.943472811330433, 4.985760941324994, 10.28738943493944, 14.2092327929338, 15.151253214456977, 15.68254447291366, 19.244325210427967, 19.78311520862817, 20.48652365354143, 21.40003539136931, 21.924095606818472, 22.006349301406118, 22.650156846666118, 22.724571730207174, 24.007455478665584, 24.067379534545218, 24.253442853436784, 24.731371192739143, 24.979066933871955, 25.090188847130733, 25.159575593394926, 25.862762082700936, 28.05958872000698, 28.3975919983508, 30.174513810726825, 30.307171568476566, 31.687053526184208, 32.358153341078875, 481.3083193632006, 93.21322455668594, 50.75756508533239, 70.80742287149886, 38.31425717653361, 103.77332110669781, 72.4954166050836, 66.43950899970784, 35.72945794258533, 49.818059939719724, 108.49728043398248, 34.75212937130029, 50.75756508533239, 4.943472811330433, 4.985760941324994, 10.28738943493944, 14.2092327929338, 15.151253214456977, 15.68254447291366, 19.244325210427967, 19.78311520862817, 20.48652365354143, 21.40003539136931, 21.924095606818472, 21.964396617266022, 22.006349301406118, 22.650156846666118, 22.724571730207174, 24.007455478665584, 24.067379534545218, 24.253442853436784, 24.731371192739143, 24.979066933871955, 25.090188847130733, 25.159575593394926, 25.862762082700936, 28.05958872000698, 28.3975919983508, 30.174513810726825, 30.307171568476566, 31.687053526184208, 32.358153341078875, 481.3083193632006, 33.91659495297415, 93.21322455668594, 70.80742287149886, 38.31425717653361, 103.77332110669781, 72.4954166050836, 66.43950899970784, 35.72945794258533, 49.818059939719724, 108.49728043398248, 34.75212937130029, 25.090188847130733, 24.253442853436784, 4.943472811330433, 4.985760941324994, 10.28738943493944, 14.2092327929338, 15.151253214456977, 15.68254447291366, 19.244325210427967, 19.78311520862817, 20.48652365354143, 21.40003539136931, 21.924095606818472, 21.964396617266022, 22.006349301406118, 22.650156846666118, 22.724571730207174, 24.007455478665584, 24.067379534545218, 24.731371192739143, 24.979066933871955, 25.159575593394926, 25.862762082700936, 28.05958872000698, 28.3975919983508, 30.174513810726825, 30.307171568476566, 31.687053526184208, 32.358153341078875, 33.91659495297415, 481.3083193632006, 93.21322455668594, 50.75756508533239, 70.80742287149886, 38.31425717653361, 103.77332110669781, 72.4954166050836, 66.43950899970784, 35.72945794258533, 49.818059939719724, 108.49728043398248, 28.3975919983508, 20.48652365354143, 4.943472811330433, 4.985760941324994, 10.28738943493944, 14.2092327929338, 15.151253214456977, 15.68254447291366, 19.244325210427967, 19.78311520862817, 21.40003539136931, 21.924095606818472, 21.964396617266022, 22.006349301406118, 22.650156846666118, 22.724571730207174, 24.007455478665584, 24.067379534545218, 24.253442853436784, 24.731371192739143, 24.979066933871955, 25.090188847130733, 25.159575593394926, 25.862762082700936, 28.05958872000698, 30.174513810726825, 30.307171568476566, 31.687053526184208, 32.358153341078875, 33.91659495297415, 481.3083193632006, 93.21322455668594, 50.75756508533239, 70.80742287149886, 38.31425717653361, 103.77332110669781, 72.4954166050836, 66.43950899970784, 35.72945794258533, 49.818059939719724, 108.49728043398248, 38.31425717653361, 4.943472811330433, 4.985760941324994, 10.28738943493944, 14.2092327929338, 15.151253214456977, 15.68254447291366, 19.244325210427967, 19.78311520862817, 20.48652365354143, 21.40003539136931, 21.924095606818472, 21.964396617266022, 22.006349301406118, 22.650156846666118, 22.724571730207174, 24.007455478665584, 24.067379534545218, 24.253442853436784, 24.731371192739143, 24.979066933871955, 25.090188847130733, 25.159575593394926, 25.862762082700936, 28.05958872000698, 28.3975919983508, 30.174513810726825, 30.307171568476566, 31.687053526184208, 32.358153341078875, 481.3083193632006, 33.91659495297415, 93.21322455668594, 50.75756508533239, 70.80742287149886, 103.77332110669781, 72.4954166050836, 66.43950899970784, 35.72945794258533, 49.818059939719724, 108.49728043398248, 34.75212937130029, 35.72945794258533, 4.943472811330433, 4.985760941324994, 10.28738943493944, 14.2092327929338, 15.151253214456977, 15.68254447291366, 19.244325210427967, 19.78311520862817, 20.48652365354143, 21.40003539136931, 21.924095606818472, 21.964396617266022, 22.006349301406118, 22.650156846666118, 22.724571730207174, 24.007455478665584, 24.067379534545218, 24.253442853436784, 24.731371192739143, 24.979066933871955, 25.090188847130733, 25.159575593394926, 25.862762082700936, 28.05958872000698, 28.3975919983508, 30.174513810726825, 30.307171568476566, 31.687053526184208, 32.358153341078875, 481.3083193632006, 33.91659495297415, 93.21322455668594, 50.75756508533239, 70.80742287149886, 38.31425717653361, 103.77332110669781, 72.4954166050836, 66.43950899970784, 49.818059939719724, 108.49728043398248, 34.75212937130029, 32.358153341078875, 4.943472811330433, 4.985760941324994, 10.28738943493944, 14.2092327929338, 15.151253214456977, 15.68254447291366, 19.244325210427967, 19.78311520862817, 20.48652365354143, 21.40003539136931, 21.924095606818472, 21.964396617266022, 22.006349301406118, 22.650156846666118, 22.724571730207174, 24.007455478665584, 24.067379534545218, 24.253442853436784, 24.731371192739143, 24.979066933871955, 25.090188847130733, 25.159575593394926, 25.862762082700936, 28.05958872000698, 28.3975919983508, 30.174513810726825, 30.307171568476566, 31.687053526184208, 33.91659495297415, 481.3083193632006, 93.21322455668594, 50.75756508533239, 70.80742287149886, 38.31425717653361, 103.77332110669781, 72.4954166050836, 66.43950899970784, 35.72945794258533, 49.818059939719724, 108.49728043398248, 34.75212937130029, 25.159575593394926, 4.943472811330433, 4.985760941324994, 10.28738943493944, 14.2092327929338, 15.151253214456977, 15.68254447291366, 19.244325210427967, 19.78311520862817, 20.48652365354143, 21.40003539136931, 21.924095606818472, 21.964396617266022, 22.006349301406118, 22.650156846666118, 22.724571730207174, 24.007455478665584, 24.067379534545218, 24.253442853436784, 24.731371192739143, 24.979066933871955, 25.090188847130733, 25.862762082700936, 28.05958872000698, 28.3975919983508, 30.174513810726825, 30.307171568476566, 31.687053526184208, 32.358153341078875, 33.91659495297415, 481.3083193632006, 93.21322455668594, 50.75756508533239, 70.80742287149886, 38.31425717653361, 103.77332110669781, 72.4954166050836, 66.43950899970784, 35.72945794258533, 49.818059939719724, 108.49728043398248, 34.75212937130029, 24.979066933871955, 4.943472811330433, 4.985760941324994, 10.28738943493944, 14.2092327929338, 15.151253214456977, 15.68254447291366, 19.244325210427967, 19.78311520862817, 20.48652365354143, 21.40003539136931, 21.924095606818472, 21.964396617266022, 22.006349301406118, 22.650156846666118, 22.724571730207174, 24.007455478665584, 24.067379534545218, 24.253442853436784, 24.731371192739143, 25.090188847130733, 25.159575593394926, 25.862762082700936, 28.05958872000698, 28.3975919983508, 30.174513810726825, 30.307171568476566, 31.687053526184208, 32.358153341078875, 33.91659495297415, 481.3083193632006, 93.21322455668594, 50.75756508533239, 70.80742287149886, 38.31425717653361, 103.77332110669781, 72.4954166050836, 66.43950899970784, 35.72945794258533, 49.818059939719724, 108.49728043398248, 34.75212937130029, 22.650156846666118, 4.943472811330433, 4.985760941324994, 10.28738943493944, 14.2092327929338, 15.151253214456977, 15.68254447291366, 19.244325210427967, 19.78311520862817, 20.48652365354143, 21.40003539136931, 21.924095606818472, 21.964396617266022, 22.006349301406118, 22.724571730207174, 24.007455478665584, 24.067379534545218, 24.253442853436784, 24.731371192739143, 24.979066933871955, 25.090188847130733, 25.159575593394926, 25.862762082700936, 28.05958872000698, 28.3975919983508, 30.174513810726825, 30.307171568476566, 31.687053526184208, 32.358153341078875, 33.91659495297415, 481.3083193632006, 93.21322455668594, 50.75756508533239, 70.80742287149886, 38.31425717653361, 103.77332110669781, 72.4954166050836, 66.43950899970784, 35.72945794258533, 49.818059939719724, 108.49728043398248, 34.75212937130029], \"Category\": [\"Default\", \"Default\", \"Default\", \"Default\", \"Default\", \"Default\", \"Default\", \"Default\", \"Default\", \"Default\", \"Default\", \"Default\", \"Default\", \"Default\", \"Default\", \"Default\", \"Default\", \"Default\", \"Default\", \"Default\", \"Default\", \"Default\", \"Default\", \"Default\", \"Default\", \"Default\", \"Default\", \"Default\", \"Default\", \"Default\", \"Topic1\", \"Topic1\", \"Topic1\", \"Topic1\", \"Topic1\", \"Topic1\", \"Topic1\", \"Topic1\", \"Topic1\", \"Topic1\", \"Topic1\", \"Topic1\", \"Topic1\", \"Topic1\", \"Topic1\", \"Topic1\", \"Topic1\", \"Topic1\", \"Topic1\", \"Topic1\", \"Topic1\", \"Topic1\", \"Topic1\", \"Topic1\", \"Topic1\", \"Topic1\", \"Topic1\", \"Topic1\", \"Topic1\", \"Topic1\", \"Topic1\", \"Topic1\", \"Topic1\", \"Topic1\", \"Topic1\", \"Topic1\", \"Topic1\", \"Topic1\", \"Topic1\", \"Topic1\", \"Topic1\", \"Topic1\", \"Topic2\", \"Topic2\", \"Topic2\", \"Topic2\", \"Topic2\", \"Topic2\", \"Topic2\", \"Topic2\", \"Topic2\", \"Topic2\", \"Topic2\", \"Topic2\", \"Topic2\", \"Topic2\", \"Topic2\", \"Topic2\", \"Topic2\", \"Topic2\", \"Topic2\", \"Topic2\", \"Topic2\", \"Topic2\", \"Topic2\", \"Topic2\", \"Topic2\", \"Topic2\", \"Topic2\", \"Topic2\", \"Topic2\", \"Topic2\", \"Topic2\", \"Topic2\", \"Topic2\", \"Topic2\", \"Topic2\", \"Topic2\", \"Topic2\", \"Topic2\", \"Topic2\", \"Topic2\", \"Topic2\", \"Topic3\", \"Topic3\", \"Topic3\", \"Topic3\", \"Topic3\", \"Topic3\", \"Topic3\", \"Topic3\", \"Topic3\", \"Topic3\", \"Topic3\", \"Topic3\", \"Topic3\", \"Topic3\", \"Topic3\", \"Topic3\", \"Topic3\", \"Topic3\", \"Topic3\", \"Topic3\", \"Topic3\", \"Topic3\", \"Topic3\", \"Topic3\", \"Topic3\", \"Topic3\", \"Topic3\", \"Topic3\", \"Topic3\", \"Topic3\", \"Topic3\", \"Topic3\", \"Topic3\", \"Topic3\", \"Topic3\", \"Topic3\", \"Topic3\", \"Topic3\", \"Topic3\", \"Topic3\", \"Topic3\", \"Topic3\", \"Topic4\", \"Topic4\", \"Topic4\", \"Topic4\", \"Topic4\", \"Topic4\", \"Topic4\", \"Topic4\", \"Topic4\", \"Topic4\", \"Topic4\", \"Topic4\", \"Topic4\", \"Topic4\", \"Topic4\", \"Topic4\", \"Topic4\", \"Topic4\", \"Topic4\", \"Topic4\", \"Topic4\", \"Topic4\", \"Topic4\", \"Topic4\", \"Topic4\", \"Topic4\", \"Topic4\", \"Topic4\", \"Topic4\", \"Topic4\", \"Topic4\", \"Topic4\", \"Topic4\", \"Topic4\", \"Topic4\", \"Topic4\", \"Topic4\", \"Topic4\", \"Topic4\", \"Topic4\", \"Topic4\", \"Topic4\", \"Topic5\", \"Topic5\", \"Topic5\", \"Topic5\", \"Topic5\", \"Topic5\", \"Topic5\", \"Topic5\", \"Topic5\", \"Topic5\", \"Topic5\", \"Topic5\", \"Topic5\", \"Topic5\", \"Topic5\", \"Topic5\", \"Topic5\", \"Topic5\", \"Topic5\", \"Topic5\", \"Topic5\", \"Topic5\", \"Topic5\", \"Topic5\", \"Topic5\", \"Topic5\", \"Topic5\", \"Topic5\", \"Topic5\", \"Topic5\", \"Topic5\", \"Topic5\", \"Topic5\", \"Topic5\", \"Topic5\", \"Topic5\", \"Topic5\", \"Topic5\", \"Topic5\", \"Topic5\", \"Topic5\", \"Topic5\", \"Topic6\", \"Topic6\", \"Topic6\", \"Topic6\", \"Topic6\", \"Topic6\", \"Topic6\", \"Topic6\", \"Topic6\", \"Topic6\", \"Topic6\", \"Topic6\", \"Topic6\", \"Topic6\", \"Topic6\", \"Topic6\", \"Topic6\", \"Topic6\", \"Topic6\", \"Topic6\", \"Topic6\", \"Topic6\", \"Topic6\", \"Topic6\", \"Topic6\", \"Topic6\", \"Topic6\", \"Topic6\", \"Topic6\", \"Topic6\", \"Topic6\", \"Topic6\", \"Topic6\", \"Topic6\", \"Topic6\", \"Topic6\", \"Topic6\", \"Topic6\", \"Topic6\", \"Topic6\", \"Topic6\", \"Topic6\", \"Topic7\", \"Topic7\", \"Topic7\", \"Topic7\", \"Topic7\", \"Topic7\", \"Topic7\", \"Topic7\", \"Topic7\", \"Topic7\", \"Topic7\", \"Topic7\", \"Topic7\", \"Topic7\", \"Topic7\", \"Topic7\", \"Topic7\", \"Topic7\", \"Topic7\", \"Topic7\", \"Topic7\", \"Topic7\", \"Topic7\", \"Topic7\", \"Topic7\", \"Topic7\", \"Topic7\", \"Topic7\", \"Topic7\", \"Topic7\", \"Topic7\", \"Topic7\", \"Topic7\", \"Topic7\", \"Topic7\", \"Topic7\", \"Topic7\", \"Topic7\", \"Topic7\", \"Topic7\", \"Topic7\", \"Topic7\", \"Topic8\", \"Topic8\", \"Topic8\", \"Topic8\", \"Topic8\", \"Topic8\", \"Topic8\", \"Topic8\", \"Topic8\", \"Topic8\", \"Topic8\", \"Topic8\", \"Topic8\", \"Topic8\", \"Topic8\", \"Topic8\", \"Topic8\", \"Topic8\", \"Topic8\", \"Topic8\", \"Topic8\", \"Topic8\", \"Topic8\", \"Topic8\", \"Topic8\", \"Topic8\", \"Topic8\", \"Topic8\", \"Topic8\", \"Topic8\", \"Topic8\", \"Topic8\", \"Topic8\", \"Topic8\", \"Topic8\", \"Topic8\", \"Topic8\", \"Topic8\", \"Topic8\", \"Topic8\", \"Topic8\", \"Topic8\", \"Topic9\", \"Topic9\", \"Topic9\", \"Topic9\", \"Topic9\", \"Topic9\", \"Topic9\", \"Topic9\", \"Topic9\", \"Topic9\", \"Topic9\", \"Topic9\", \"Topic9\", \"Topic9\", \"Topic9\", \"Topic9\", \"Topic9\", \"Topic9\", \"Topic9\", \"Topic9\", \"Topic9\", \"Topic9\", \"Topic9\", \"Topic9\", \"Topic9\", \"Topic9\", \"Topic9\", \"Topic9\", \"Topic9\", \"Topic9\", \"Topic9\", \"Topic9\", \"Topic9\", \"Topic9\", \"Topic9\", \"Topic9\", \"Topic9\", \"Topic9\", \"Topic9\", \"Topic9\", \"Topic9\", \"Topic9\", \"Topic10\", \"Topic10\", \"Topic10\", \"Topic10\", \"Topic10\", \"Topic10\", \"Topic10\", \"Topic10\", \"Topic10\", \"Topic10\", \"Topic10\", \"Topic10\", \"Topic10\", \"Topic10\", \"Topic10\", \"Topic10\", \"Topic10\", \"Topic10\", \"Topic10\", \"Topic10\", \"Topic10\", \"Topic10\", \"Topic10\", \"Topic10\", \"Topic10\", \"Topic10\", \"Topic10\", \"Topic10\", \"Topic10\", \"Topic10\", \"Topic10\", \"Topic10\", \"Topic10\", \"Topic10\", \"Topic10\", \"Topic10\", \"Topic10\", \"Topic10\", \"Topic10\", \"Topic10\", \"Topic10\", \"Topic10\", \"Topic11\", \"Topic11\", \"Topic11\", \"Topic11\", \"Topic11\", \"Topic11\", \"Topic11\", \"Topic11\", \"Topic11\", \"Topic11\", \"Topic11\", \"Topic11\", \"Topic11\", \"Topic11\", \"Topic11\", \"Topic11\", \"Topic11\", \"Topic11\", \"Topic11\", \"Topic11\", \"Topic11\", \"Topic11\", \"Topic11\", \"Topic11\", \"Topic11\", \"Topic11\", \"Topic11\", \"Topic11\", \"Topic11\", \"Topic11\", \"Topic11\", \"Topic11\", \"Topic11\", \"Topic11\", \"Topic11\", \"Topic11\", \"Topic11\", \"Topic11\", \"Topic11\", \"Topic11\", \"Topic11\", \"Topic11\", \"Topic12\", \"Topic12\", \"Topic12\", \"Topic12\", \"Topic12\", \"Topic12\", \"Topic12\", \"Topic12\", \"Topic12\", \"Topic12\", \"Topic12\", \"Topic12\", \"Topic12\", \"Topic12\", \"Topic12\", \"Topic12\", \"Topic12\", \"Topic12\", \"Topic12\", \"Topic12\", \"Topic12\", \"Topic12\", \"Topic12\", \"Topic12\", \"Topic12\", \"Topic12\", \"Topic12\", \"Topic12\", \"Topic12\", \"Topic12\", \"Topic12\", \"Topic12\", \"Topic12\", \"Topic12\", \"Topic12\", \"Topic12\", \"Topic12\", \"Topic12\", \"Topic12\", \"Topic12\", \"Topic12\", \"Topic12\", \"Topic13\", \"Topic13\", \"Topic13\", \"Topic13\", \"Topic13\", \"Topic13\", \"Topic13\", \"Topic13\", \"Topic13\", \"Topic13\", \"Topic13\", \"Topic13\", \"Topic13\", \"Topic13\", \"Topic13\", \"Topic13\", \"Topic13\", \"Topic13\", \"Topic13\", \"Topic13\", \"Topic13\", \"Topic13\", \"Topic13\", \"Topic13\", \"Topic13\", \"Topic13\", \"Topic13\", \"Topic13\", \"Topic13\", \"Topic13\", \"Topic13\", \"Topic13\", \"Topic13\", \"Topic13\", \"Topic13\", \"Topic13\", \"Topic13\", \"Topic13\", \"Topic13\", \"Topic13\", \"Topic13\", \"Topic13\", \"Topic14\", \"Topic14\", \"Topic14\", \"Topic14\", \"Topic14\", \"Topic14\", \"Topic14\", \"Topic14\", \"Topic14\", \"Topic14\", \"Topic14\", \"Topic14\", \"Topic14\", \"Topic14\", \"Topic14\", \"Topic14\", \"Topic14\", \"Topic14\", \"Topic14\", \"Topic14\", \"Topic14\", \"Topic14\", \"Topic14\", \"Topic14\", \"Topic14\", \"Topic14\", \"Topic14\", \"Topic14\", \"Topic14\", \"Topic14\", \"Topic14\", \"Topic14\", \"Topic14\", \"Topic14\", \"Topic14\", \"Topic14\", \"Topic14\", \"Topic14\", \"Topic14\", \"Topic14\", \"Topic14\", \"Topic15\", \"Topic15\", \"Topic15\", \"Topic15\", \"Topic15\", \"Topic15\", \"Topic15\", \"Topic15\", \"Topic15\", \"Topic15\", \"Topic15\", \"Topic15\", \"Topic15\", \"Topic15\", \"Topic15\", \"Topic15\", \"Topic15\", \"Topic15\", \"Topic15\", \"Topic15\", \"Topic15\", \"Topic15\", \"Topic15\", \"Topic15\", \"Topic15\", \"Topic15\", \"Topic15\", \"Topic15\", \"Topic15\", \"Topic15\", \"Topic15\", \"Topic15\", \"Topic15\", \"Topic15\", \"Topic15\", \"Topic15\", \"Topic15\", \"Topic15\", \"Topic15\", \"Topic15\", \"Topic15\", \"Topic16\", \"Topic16\", \"Topic16\", \"Topic16\", \"Topic16\", \"Topic16\", \"Topic16\", \"Topic16\", \"Topic16\", \"Topic16\", \"Topic16\", \"Topic16\", \"Topic16\", \"Topic16\", \"Topic16\", \"Topic16\", \"Topic16\", \"Topic16\", \"Topic16\", \"Topic16\", \"Topic16\", \"Topic16\", \"Topic16\", \"Topic16\", \"Topic16\", \"Topic16\", \"Topic16\", \"Topic16\", \"Topic16\", \"Topic16\", \"Topic16\", \"Topic16\", \"Topic16\", \"Topic16\", \"Topic16\", \"Topic16\", \"Topic16\", \"Topic16\", \"Topic16\", \"Topic16\", \"Topic16\", \"Topic16\", \"Topic17\", \"Topic17\", \"Topic17\", \"Topic17\", \"Topic17\", \"Topic17\", \"Topic17\", \"Topic17\", \"Topic17\", \"Topic17\", \"Topic17\", \"Topic17\", \"Topic17\", \"Topic17\", \"Topic17\", \"Topic17\", \"Topic17\", \"Topic17\", \"Topic17\", \"Topic17\", \"Topic17\", \"Topic17\", \"Topic17\", \"Topic17\", \"Topic17\", \"Topic17\", \"Topic17\", \"Topic17\", \"Topic17\", \"Topic17\", \"Topic17\", \"Topic17\", \"Topic17\", \"Topic17\", \"Topic17\", \"Topic17\", \"Topic17\", \"Topic17\", \"Topic17\", \"Topic17\", \"Topic17\", \"Topic17\", \"Topic18\", \"Topic18\", \"Topic18\", \"Topic18\", \"Topic18\", \"Topic18\", \"Topic18\", \"Topic18\", \"Topic18\", \"Topic18\", \"Topic18\", \"Topic18\", \"Topic18\", \"Topic18\", \"Topic18\", \"Topic18\", \"Topic18\", \"Topic18\", \"Topic18\", \"Topic18\", \"Topic18\", \"Topic18\", \"Topic18\", \"Topic18\", \"Topic18\", \"Topic18\", \"Topic18\", \"Topic18\", \"Topic18\", \"Topic18\", \"Topic18\", \"Topic18\", \"Topic18\", \"Topic18\", \"Topic18\", \"Topic18\", \"Topic18\", \"Topic18\", \"Topic18\", \"Topic18\", \"Topic18\", \"Topic19\", \"Topic19\", \"Topic19\", \"Topic19\", \"Topic19\", \"Topic19\", \"Topic19\", \"Topic19\", \"Topic19\", \"Topic19\", \"Topic19\", \"Topic19\", \"Topic19\", \"Topic19\", \"Topic19\", \"Topic19\", \"Topic19\", \"Topic19\", \"Topic19\", \"Topic19\", \"Topic19\", \"Topic19\", \"Topic19\", \"Topic19\", \"Topic19\", \"Topic19\", \"Topic19\", \"Topic19\", \"Topic19\", \"Topic19\", \"Topic19\", \"Topic19\", \"Topic19\", \"Topic19\", \"Topic19\", \"Topic19\", \"Topic19\", \"Topic19\", \"Topic19\", \"Topic19\", \"Topic19\", \"Topic20\", \"Topic20\", \"Topic20\", \"Topic20\", \"Topic20\", \"Topic20\", \"Topic20\", \"Topic20\", \"Topic20\", \"Topic20\", \"Topic20\", \"Topic20\", \"Topic20\", \"Topic20\", \"Topic20\", \"Topic20\", \"Topic20\", \"Topic20\", \"Topic20\", \"Topic20\", \"Topic20\", \"Topic20\", \"Topic20\", \"Topic20\", \"Topic20\", \"Topic20\", \"Topic20\", \"Topic20\", \"Topic20\", \"Topic20\", \"Topic20\", \"Topic20\", \"Topic20\", \"Topic20\", \"Topic20\", \"Topic20\", \"Topic20\", \"Topic20\", \"Topic20\", \"Topic20\", \"Topic20\", \"Topic20\", \"Topic21\", \"Topic21\", \"Topic21\", \"Topic21\", \"Topic21\", \"Topic21\", \"Topic21\", \"Topic21\", \"Topic21\", \"Topic21\", \"Topic21\", \"Topic21\", \"Topic21\", \"Topic21\", \"Topic21\", \"Topic21\", \"Topic21\", \"Topic21\", \"Topic21\", \"Topic21\", \"Topic21\", \"Topic21\", \"Topic21\", \"Topic21\", \"Topic21\", \"Topic21\", \"Topic21\", \"Topic21\", \"Topic21\", \"Topic21\", \"Topic21\", \"Topic21\", \"Topic21\", \"Topic21\", \"Topic21\", \"Topic21\", \"Topic21\", \"Topic21\", \"Topic21\", \"Topic21\", \"Topic21\", \"Topic21\", \"Topic22\", \"Topic22\", \"Topic22\", \"Topic22\", \"Topic22\", \"Topic22\", \"Topic22\", \"Topic22\", \"Topic22\", \"Topic22\", \"Topic22\", \"Topic22\", \"Topic22\", \"Topic22\", \"Topic22\", \"Topic22\", \"Topic22\", \"Topic22\", \"Topic22\", \"Topic22\", \"Topic22\", \"Topic22\", \"Topic22\", \"Topic22\", \"Topic22\", \"Topic22\", \"Topic22\", \"Topic22\", \"Topic22\", \"Topic22\", \"Topic22\", \"Topic22\", \"Topic22\", \"Topic22\", \"Topic22\", \"Topic22\", \"Topic22\", \"Topic22\", \"Topic22\", \"Topic22\", \"Topic22\", \"Topic22\", \"Topic23\", \"Topic23\", \"Topic23\", \"Topic23\", \"Topic23\", \"Topic23\", \"Topic23\", \"Topic23\", \"Topic23\", \"Topic23\", \"Topic23\", \"Topic23\", \"Topic23\", \"Topic23\", \"Topic23\", \"Topic23\", \"Topic23\", \"Topic23\", \"Topic23\", \"Topic23\", \"Topic23\", \"Topic23\", \"Topic23\", \"Topic23\", \"Topic23\", \"Topic23\", \"Topic23\", \"Topic23\", \"Topic23\", \"Topic23\", \"Topic23\", \"Topic23\", \"Topic23\", \"Topic23\", \"Topic23\", \"Topic23\", \"Topic23\", \"Topic23\", \"Topic23\", \"Topic23\", \"Topic23\", \"Topic23\", \"Topic24\", \"Topic24\", \"Topic24\", \"Topic24\", \"Topic24\", \"Topic24\", \"Topic24\", \"Topic24\", \"Topic24\", \"Topic24\", \"Topic24\", \"Topic24\", \"Topic24\", \"Topic24\", \"Topic24\", \"Topic24\", \"Topic24\", \"Topic24\", \"Topic24\", \"Topic24\", \"Topic24\", \"Topic24\", \"Topic24\", \"Topic24\", \"Topic24\", \"Topic24\", \"Topic24\", \"Topic24\", \"Topic24\", \"Topic24\", \"Topic24\", \"Topic24\", \"Topic24\", \"Topic24\", \"Topic24\", \"Topic24\", \"Topic24\", \"Topic24\", \"Topic24\", \"Topic24\", \"Topic24\", \"Topic24\", \"Topic25\", \"Topic25\", \"Topic25\", \"Topic25\", \"Topic25\", \"Topic25\", \"Topic25\", \"Topic25\", \"Topic25\", \"Topic25\", \"Topic25\", \"Topic25\", \"Topic25\", \"Topic25\", \"Topic25\", \"Topic25\", \"Topic25\", \"Topic25\", \"Topic25\", \"Topic25\", \"Topic25\", \"Topic25\", \"Topic25\", \"Topic25\", \"Topic25\", \"Topic25\", \"Topic25\", \"Topic25\", \"Topic25\", \"Topic25\", \"Topic25\", \"Topic25\", \"Topic25\", \"Topic25\", \"Topic25\", \"Topic25\", \"Topic25\", \"Topic25\", \"Topic25\", \"Topic25\", \"Topic25\", \"Topic25\"], \"logprob\": [30.0, 29.0, 28.0, 27.0, 26.0, 25.0, 24.0, 23.0, 22.0, 21.0, 20.0, 19.0, 18.0, 17.0, 16.0, 15.0, 14.0, 13.0, 12.0, 11.0, 10.0, 9.0, 8.0, 7.0, 6.0, 5.0, 4.0, 3.0, 2.0, 1.0, -0.2858, -1.4092, -9.2752, -9.2752, -9.2752, -9.2752, -9.2752, -9.2752, -9.2752, -9.2752, -9.2752, -9.2752, -9.2752, -9.2752, -9.2752, -9.2752, -9.2752, -9.2752, -9.2752, -9.2752, -9.2752, -9.2752, -9.2752, -9.2752, -9.2752, -9.2752, -9.2752, -9.2752, -9.2752, -9.2752, -9.2752, -9.2752, -9.2752, -9.2752, -9.2752, -9.2752, -9.2752, -9.2752, -9.2752, -9.2752, -9.2752, -9.2752, -1.1792, -1.4003, -1.7498, -2.1484, -2.186, -3.5218, -8.013, -8.013, -8.013, -8.013, -8.013, -8.013, -8.013, -8.013, -8.013, -8.013, -8.013, -8.013, -8.013, -8.013, -8.013, -8.013, -8.013, -8.013, -8.013, -8.013, -8.013, -8.013, -8.013, -8.013, -8.013, -8.013, -8.013, -8.013, -8.013, -8.013, -8.013, -8.013, -8.013, -8.013, -8.013, -0.0186, -7.8199, -7.8199, -7.8199, -7.8199, -7.8199, -7.8199, -7.8199, -7.8199, -7.8199, -7.8199, -7.8199, -7.8199, -7.8199, -7.8199, -7.8199, -7.8199, -7.8199, -7.8199, -7.8199, -7.8199, -7.8199, -7.8199, -7.8199, -7.8199, -7.8199, -7.8199, -7.8199, -7.8199, -7.8199, -7.8199, -7.8199, -7.8199, -7.8199, -7.8199, -7.8199, -7.8199, -7.8199, -7.8199, -7.8199, -7.8199, -7.8199, -0.0094, -8.5015, -8.5015, -8.5015, -8.5015, -8.5015, -8.5015, -8.5015, -8.5015, -8.5015, -8.5015, -8.5015, -8.5015, -8.5015, -8.5015, -8.5015, -8.5015, -8.5015, -8.5015, -8.5015, -8.5015, -8.5015, -8.5015, -8.5015, -8.5015, -8.5015, -8.5015, -8.5015, -8.5015, -8.5015, -8.5015, -8.5015, -8.5015, -8.5015, -8.5015, -8.5015, -8.5015, -8.5015, -8.5015, -8.5015, -8.5015, -8.5015, -0.3641, -1.2382, -7.9871, -7.9871, -7.9871, -7.9871, -7.9871, -7.9871, -7.9871, -7.9871, -7.9871, -7.9871, -7.9871, -7.9871, -7.9871, -7.9871, -7.9871, -7.9871, -7.9871, -7.9871, -7.9871, -7.9871, -7.9871, -7.9871, -7.9871, -7.9871, -7.9871, -7.9871, -7.9871, -7.9871, -7.9871, -7.9871, -7.9871, -7.9871, -7.9871, -7.9871, -7.9871, -7.9871, -7.9871, -7.9871, -7.9871, -7.9871, -0.9722, -1.4633, -1.6717, -1.7013, -7.6775, -7.6775, -7.6775, -7.6775, -7.6775, -7.6775, -7.6775, -7.6775, -7.6775, -7.6775, -7.6775, -7.6775, -7.6775, -7.6775, -7.6775, -7.6775, -7.6775, -7.6775, -7.6775, -7.6775, -7.6775, -7.6775, -7.6775, -7.6775, -7.6775, -7.6775, -7.6775, -7.6775, -7.6775, -7.6775, -7.6775, -7.6775, -7.6775, -7.6775, -7.6775, -7.6775, -7.6775, -7.6775, -0.0473, -6.9041, -6.9041, -6.9041, -6.9041, -6.9041, -6.9041, -6.9041, -6.9041, -6.9041, -6.9041, -6.9041, -6.9041, -6.9041, -6.9041, -6.9041, -6.9041, -6.9041, -6.9041, -6.9041, -6.9041, -6.9041, -6.9041, -6.9041, -6.9041, -6.9041, -6.9041, -6.9041, -6.9041, -6.9041, -6.9041, -6.9041, -6.9041, -6.9041, -6.9041, -6.9041, -6.9041, -6.9041, -6.9041, -6.9041, -6.9041, -6.9041, -0.5705, -1.4209, -1.8922, -6.9424, -6.9424, -6.9424, -6.9424, -6.9424, -6.9424, -6.9424, -6.9424, -6.9424, -6.9424, -6.9424, -6.9424, -6.9424, -6.9424, -6.9424, -6.9424, -6.9424, -6.9424, -6.9424, -6.9424, -6.9424, -6.9424, -6.9424, -6.9424, -6.9424, -6.9424, -6.9424, -6.9424, -6.9424, -6.9424, -6.9424, -6.9424, -6.9424, -6.9424, -6.9424, -6.9424, -6.9424, -6.9424, -6.9424, -0.7997, -1.282, -1.3783, -7.6461, -7.6461, -7.6461, -7.6461, -7.6461, -7.6461, -7.6461, -7.6461, -7.6461, -7.6461, -7.6461, -7.6461, -7.6461, -7.6461, -7.6461, -7.6461, -7.6461, -7.6461, -7.6461, -7.6461, -7.6461, -7.6461, -7.6461, -7.6461, -7.6461, -7.6461, -7.6461, -7.6461, -7.6461, -7.6461, -7.6461, -7.6461, -7.6461, -7.6461, -7.6461, -7.6461, -7.6461, -7.6461, -7.6461, -0.0554, -3.0513, -8.8223, -8.8223, -8.8223, -8.8223, -8.8223, -8.8223, -8.8223, -8.8223, -8.8223, -8.8223, -8.8223, -8.8223, -8.8223, -8.8223, -8.8223, -8.8223, -8.8223, -8.8223, -8.8223, -8.8223, -8.8223, -8.8223, -8.8223, -8.8223, -8.8223, -8.8223, -8.8223, -8.8223, -8.8223, -8.8223, -8.8223, -8.8223, -8.8223, -8.8223, -8.8223, -8.8223, -8.8223, -8.8223, -8.8223, -8.8223, -0.0412, -7.0397, -7.0397, -7.0397, -7.0397, -7.0397, -7.0397, -7.0397, -7.0397, -7.0397, -7.0397, -7.0397, -7.0397, -7.0397, -7.0397, -7.0397, -7.0397, -7.0397, -7.0397, -7.0397, -7.0397, -7.0397, -7.0397, -7.0397, -7.0397, -7.0397, -7.0397, -7.0397, -7.0397, -7.0397, -7.0397, -7.0397, -7.0397, -7.0397, -7.0397, -7.0397, -7.0397, -7.0397, -7.0397, -7.0397, -7.0397, -7.0397, -0.0294, -7.3696, -7.3696, -7.3696, -7.3696, -7.3696, -7.3696, -7.3696, -7.3696, -7.3696, -7.3696, -7.3696, -7.3696, -7.3696, -7.3696, -7.3696, -7.3696, -7.3696, -7.3696, -7.3696, -7.3696, -7.3696, -7.3696, -7.3696, -7.3696, -7.3696, -7.3696, -7.3696, -7.3696, -7.3696, -7.3696, -7.3696, -7.3696, -7.3696, -7.3696, -7.3696, -7.3696, -7.3696, -7.3696, -7.3696, -7.3696, -7.3696, -0.5733, -0.9291, -6.9907, -6.9907, -6.9907, -6.9907, -6.9907, -6.9907, -6.9907, -6.9907, -6.9907, -6.9907, -6.9907, -6.9907, -6.9907, -6.9907, -6.9907, -6.9907, -6.9907, -6.9907, -6.9907, -6.9907, -6.9907, -6.9907, -6.9907, -6.9907, -6.9907, -6.9907, -6.9907, -6.9907, -6.9907, -6.9907, -6.9907, -6.9907, -6.9907, -6.9907, -6.9907, -6.9907, -6.9907, -6.9907, -6.9907, -6.9907, -0.7714, -1.0575, -1.8622, -7.137, -7.137, -7.137, -7.137, -7.137, -7.137, -7.137, -7.137, -7.137, -7.137, -7.137, -7.137, -7.137, -7.137, -7.137, -7.137, -7.137, -7.137, -7.137, -7.137, -7.137, -7.137, -7.137, -7.137, -7.137, -7.137, -7.137, -7.137, -7.137, -7.137, -7.137, -7.137, -7.137, -7.137, -7.137, -7.137, -7.137, -7.137, -0.6484, -0.8102, -7.2382, -7.2382, -7.2382, -7.2382, -7.2382, -7.2382, -7.2382, -7.2382, -7.2382, -7.2382, -7.2382, -7.2382, -7.2382, -7.2382, -7.2382, -7.2382, -7.2382, -7.2382, -7.2382, -7.2382, -7.2382, -7.2382, -7.2382, -7.2382, -7.2382, -7.2382, -7.2382, -7.2382, -7.2382, -7.2382, -7.2382, -7.2382, -7.2382, -7.2382, -7.2382, -7.2382, -7.2382, -7.2382, -7.2382, -0.5142, -0.9709, -7.5657, -7.5657, -7.5657, -7.5657, -7.5657, -7.5657, -7.5657, -7.5657, -7.5657, -7.5657, -7.5657, -7.5657, -7.5657, -7.5657, -7.5657, -7.5657, -7.5657, -7.5657, -7.5657, -7.5657, -7.5657, -7.5657, -7.5657, -7.5657, -7.5657, -7.5657, -7.5657, -7.5657, -7.5657, -7.5657, -7.5657, -7.5657, -7.5657, -7.5657, -7.5657, -7.5657, -7.5657, -7.5657, -7.5657, -7.5657, -0.0634, -6.6178, -6.6178, -6.6178, -6.6178, -6.6178, -6.6178, -6.6178, -6.6178, -6.6178, -6.6178, -6.6178, -6.6178, -6.6178, -6.6178, -6.6178, -6.6178, -6.6178, -6.6178, -6.6178, -6.6178, -6.6178, -6.6178, -6.6178, -6.6178, -6.6178, -6.6178, -6.6178, -6.6178, -6.6178, -6.6178, -6.6178, -6.6178, -6.6178, -6.6178, -6.6178, -6.6178, -6.6178, -6.6178, -6.6178, -6.6178, -6.6178, -0.7134, -0.7492, -7.0966, -7.0966, -7.0966, -7.0966, -7.0966, -7.0966, -7.0966, -7.0966, -7.0966, -7.0966, -7.0966, -7.0966, -7.0966, -7.0966, -7.0966, -7.0966, -7.0966, -7.0966, -7.0966, -7.0966, -7.0966, -7.0966, -7.0966, -7.0966, -7.0966, -7.0966, -7.0966, -7.0966, -7.0966, -7.0966, -7.0966, -7.0966, -7.0966, -7.0966, -7.0966, -7.0966, -7.0966, -7.0966, -7.0966, -0.5769, -0.9221, -7.0082, -7.0082, -7.0082, -7.0082, -7.0082, -7.0082, -7.0082, -7.0082, -7.0082, -7.0082, -7.0082, -7.0082, -7.0082, -7.0082, -7.0082, -7.0082, -7.0082, -7.0082, -7.0082, -7.0082, -7.0082, -7.0082, -7.0082, -7.0082, -7.0082, -7.0082, -7.0082, -7.0082, -7.0082, -7.0082, -7.0082, -7.0082, -7.0082, -7.0082, -7.0082, -7.0082, -7.0082, -7.0082, -7.0082, -0.0545, -6.7653, -6.7653, -6.7653, -6.7653, -6.7653, -6.7653, -6.7653, -6.7653, -6.7653, -6.7653, -6.7653, -6.7653, -6.7653, -6.7653, -6.7653, -6.7653, -6.7653, -6.7653, -6.7653, -6.7653, -6.7653, -6.7653, -6.7653, -6.7653, -6.7653, -6.7653, -6.7653, -6.7653, -6.7653, -6.7653, -6.7653, -6.7653, -6.7653, -6.7653, -6.7653, -6.7653, -6.7653, -6.7653, -6.7653, -6.7653, -6.7653, -0.1131, -6.0645, -6.0645, -6.0645, -6.0645, -6.0645, -6.0645, -6.0645, -6.0645, -6.0645, -6.0645, -6.0645, -6.0645, -6.0645, -6.0645, -6.0645, -6.0645, -6.0645, -6.0645, -6.0645, -6.0645, -6.0645, -6.0645, -6.0645, -6.0645, -6.0645, -6.0645, -6.0645, -6.0645, -6.0645, -6.0645, -6.0645, -6.0645, -6.0645, -6.0645, -6.0645, -6.0645, -6.0645, -6.0645, -6.0645, -6.0645, -6.0645, -0.0832, -6.3563, -6.3563, -6.3563, -6.3563, -6.3563, -6.3563, -6.3563, -6.3563, -6.3563, -6.3563, -6.3563, -6.3563, -6.3563, -6.3563, -6.3563, -6.3563, -6.3563, -6.3563, -6.3563, -6.3563, -6.3563, -6.3563, -6.3563, -6.3563, -6.3563, -6.3563, -6.3563, -6.3563, -6.3563, -6.3563, -6.3563, -6.3563, -6.3563, -6.3563, -6.3563, -6.3563, -6.3563, -6.3563, -6.3563, -6.3563, -6.3563, -0.1676, -5.6976, -5.6976, -5.6976, -5.6976, -5.6976, -5.6976, -5.6976, -5.6976, -5.6976, -5.6976, -5.6976, -5.6976, -5.6976, -5.6976, -5.6976, -5.6976, -5.6976, -5.6976, -5.6976, -5.6976, -5.6976, -5.6976, -5.6976, -5.6976, -5.6976, -5.6976, -5.6976, -5.6976, -5.6976, -5.6976, -5.6976, -5.6976, -5.6976, -5.6976, -5.6976, -5.6976, -5.6976, -5.6976, -5.6976, -5.6976, -5.6976, -0.1218, -5.9947, -5.9947, -5.9947, -5.9947, -5.9947, -5.9947, -5.9947, -5.9947, -5.9947, -5.9947, -5.9947, -5.9947, -5.9947, -5.9947, -5.9947, -5.9947, -5.9947, -5.9947, -5.9947, -5.9947, -5.9947, -5.9947, -5.9947, -5.9947, -5.9947, -5.9947, -5.9947, -5.9947, -5.9947, -5.9947, -5.9947, -5.9947, -5.9947, -5.9947, -5.9947, -5.9947, -5.9947, -5.9947, -5.9947, -5.9947, -5.9947, -0.1621, -5.7279, -5.7279, -5.7279, -5.7279, -5.7279, -5.7279, -5.7279, -5.7279, -5.7279, -5.7279, -5.7279, -5.7279, -5.7279, -5.7279, -5.7279, -5.7279, -5.7279, -5.7279, -5.7279, -5.7279, -5.7279, -5.7279, -5.7279, -5.7279, -5.7279, -5.7279, -5.7279, -5.7279, -5.7279, -5.7279, -5.7279, -5.7279, -5.7279, -5.7279, -5.7279, -5.7279, -5.7279, -5.7279, -5.7279, -5.7279, -5.7279], \"loglift\": [30.0, 29.0, 28.0, 27.0, 26.0, 25.0, 24.0, 23.0, 22.0, 21.0, 20.0, 19.0, 18.0, 17.0, 16.0, 15.0, 14.0, 13.0, 12.0, 11.0, 10.0, 9.0, 8.0, 7.0, 6.0, 5.0, 4.0, 3.0, 2.0, 1.0, 1.2448, 1.2393, -3.1662, -3.1747, -3.899, -4.222, -4.2862, -4.3207, -4.5253, -4.5529, -4.5879, -4.6315, -4.6557, -4.6575, -4.6594, -4.6883, -4.6916, -4.7465, -4.749, -4.7567, -4.7762, -4.7861, -4.7906, -4.7933, -4.8209, -4.9024, -4.9144, -4.9751, -4.9795, -5.024, -5.092, -6.103, -5.4952, -5.8281, -5.2139, -6.2103, -5.8516, -5.045, -5.7644, -5.1441, -5.4765, -6.2548, 2.859, 2.8508, 2.8338, 2.8061, 2.8029, 2.5872, -1.9125, -2.6368, -2.9598, -3.2631, -3.2907, -3.3257, -3.3693, -3.3935, -3.3953, -3.3972, -3.4261, -3.4843, -3.4868, -3.4945, -3.514, -3.5239, -3.5284, -3.5311, -3.5587, -3.6402, -3.6522, -3.7129, -3.7173, -3.7828, -6.4824, -3.8298, -4.8408, -4.233, -4.5659, -3.9517, -4.9481, -4.5894, -4.5022, -3.8819, -4.2143, 3.0017, -1.7109, -1.7195, -2.4438, -2.7668, -2.831, -2.8654, -3.0701, -3.0977, -3.1326, -3.1763, -3.2005, -3.2023, -3.2042, -3.233, -3.2363, -3.2912, -3.2937, -3.3014, -3.3209, -3.3309, -3.3354, -3.3381, -3.3657, -3.4472, -3.4592, -3.5199, -3.5243, -3.5688, -3.5897, -6.2894, -3.6368, -4.6478, -4.0399, -4.3728, -3.7587, -4.7551, -4.3964, -4.3092, -3.6889, -4.0213, -3.6611, 3.0555, -2.3925, -2.401, -3.1254, -3.4484, -3.5125, -3.547, -3.7517, -3.7793, -3.8142, -3.8579, -3.882, -3.8839, -3.8858, -3.9146, -3.9179, -3.9728, -3.9753, -3.983, -4.0025, -4.0125, -4.0169, -4.0197, -4.0473, -4.1288, -4.1408, -4.2015, -4.2058, -4.2504, -4.2713, -6.971, -4.3184, -5.3293, -4.7215, -5.0544, -4.4403, -5.078, -4.9908, -4.3704, -4.7028, -5.4812, -4.3427, 3.083, 3.0575, -1.8781, -1.8866, -2.6109, -2.9339, -2.9981, -3.0325, -3.2372, -3.2648, -3.2998, -3.3434, -3.3676, -3.3694, -3.3713, -3.4002, -3.4034, -3.4584, -3.4609, -3.4686, -3.4881, -3.498, -3.5025, -3.5052, -3.5328, -3.6143, -3.6263, -3.687, -3.7359, -3.7569, -6.4565, -3.8039, -4.8149, -4.2071, -3.9258, -4.9222, -4.5635, -4.4763, -3.856, -4.1884, -4.9667, -3.8282, 3.084, 3.0629, 3.0505, 3.0485, -1.5685, -1.577, -2.3013, -2.6243, -2.6885, -2.7229, -2.9902, -3.0338, -3.058, -3.0598, -3.0617, -3.0906, -3.0938, -3.1488, -3.159, -3.1785, -3.1884, -3.1929, -3.1956, -3.2232, -3.3047, -3.3167, -3.3774, -3.3818, -3.4263, -3.4473, -6.1469, -3.4943, -4.5053, -3.8975, -4.2304, -3.6162, -4.6126, -4.2539, -4.1667, -3.5464, -3.8788, -4.6571, 3.1249, -0.7951, -0.8037, -1.528, -1.851, -1.9151, -1.9496, -2.1543, -2.1819, -2.2168, -2.2605, -2.2847, -2.2865, -2.2884, -2.3172, -2.3205, -2.3754, -2.3779, -2.3856, -2.4051, -2.4151, -2.4195, -2.4223, -2.4499, -2.5314, -2.5434, -2.6041, -2.6085, -2.653, -2.6739, -5.3736, -2.721, -3.1241, -3.457, -2.8429, -3.8393, -3.4806, -3.3934, -2.773, -3.1054, -3.8838, -2.7453, 3.2282, 3.1949, 3.161, -0.8334, -0.842, -1.5663, -1.9535, -1.9879, -2.1926, -2.2202, -2.2551, -2.2988, -2.323, -2.3248, -2.3555, -2.3588, -2.4137, -2.4162, -2.4239, -2.4434, -2.4534, -2.4578, -2.4606, -2.4882, -2.5697, -2.5817, -2.6424, -2.6468, -2.6913, -2.7122, -5.4119, -2.7593, -3.7703, -3.1624, -3.4953, -2.8812, -3.8776, -3.5189, -3.4317, -2.8113, -3.9221, -2.7836, 3.2677, 3.2467, 3.2412, -1.5371, -1.5456, -2.27, -2.5929, -2.6571, -2.6916, -2.8962, -2.9239, -2.9588, -3.0024, -3.0285, -3.0304, -3.0592, -3.0625, -3.1199, -3.1276, -3.1471, -3.1571, -3.1615, -3.1643, -3.1918, -3.2734, -3.2853, -3.346, -3.3504, -3.3949, -3.4159, -6.1155, -3.4629, -4.4739, -3.8661, -4.199, -3.5849, -4.5812, -4.2226, -4.1353, -3.515, -3.8474, -4.6258, 3.3416, 3.0491, -2.7133, -3.4461, -3.7691, -3.8333, -3.8677, -4.0724, -4.1, -4.135, -4.1786, -4.2028, -4.2046, -4.2065, -4.2354, -4.2386, -4.2936, -4.2961, -4.3038, -4.3233, -4.3332, -4.3377, -4.3404, -4.368, -4.4495, -4.4615, -4.5222, -4.5266, -4.5711, -4.5921, -7.2917, -4.6391, -5.6501, -5.0423, -5.3752, -4.761, -5.7574, -5.3987, -5.3115, -4.6912, -5.0236, -5.8019, 3.3824, -0.9307, -0.9392, -1.6635, -1.9865, -2.0507, -2.0852, -2.2898, -2.3174, -2.3524, -2.396, -2.4202, -2.422, -2.4239, -2.4528, -2.456, -2.511, -2.5135, -2.5212, -2.5407, -2.5506, -2.5551, -2.5578, -2.5854, -2.6669, -2.6789, -2.7396, -2.744, -2.7885, -2.8095, -5.5091, -2.8565, -3.8675, -3.2597, -3.5926, -2.9784, -3.9748, -3.5289, -2.9086, -3.241, -4.0193, -2.8808, 3.4814, -1.2606, -1.2691, -1.9934, -2.3164, -2.3806, -2.4151, -2.6197, -2.6473, -2.6823, -2.7259, -2.7501, -2.7519, -2.7538, -2.7827, -2.7859, -2.8409, -2.8434, -2.8511, -2.8706, -2.8805, -2.885, -2.8877, -2.9153, -2.9968, -3.0088, -3.0695, -3.0739, -3.1184, -3.1394, -5.839, -3.1864, -4.1974, -3.5896, -3.9225, -3.3083, -4.3047, -3.946, -3.2385, -3.5709, -4.3492, -3.2107, 3.5856, 3.5699, -0.8817, -0.8902, -1.6145, -1.9375, -2.0017, -2.0362, -2.2408, -2.2684, -2.3034, -2.347, -2.3712, -2.373, -2.3749, -2.4038, -2.4071, -2.462, -2.4645, -2.4722, -2.5017, -2.5061, -2.5089, -2.5364, -2.6179, -2.6299, -2.6906, -2.695, -2.7395, -2.7605, -5.4601, -2.8075, -3.8185, -3.2107, -3.5436, -2.9294, -3.9258, -3.5671, -3.4799, -2.8596, -3.192, -3.9703, 3.6013, 3.5861, 3.5139, -1.028, -1.0366, -2.0839, -2.1481, -2.1825, -2.3872, -2.4148, -2.4497, -2.5176, -2.5194, -2.5213, -2.5501, -2.5534, -2.6083, -2.6108, -2.6185, -2.638, -2.648, -2.6524, -2.6552, -2.6828, -2.7763, -2.837, -2.8414, -2.8859, -2.9068, -2.9539, -5.6065, -3.9649, -3.357, -3.6899, -3.0758, -4.0722, -3.7135, -3.6263, -3.0059, -3.3383, -4.1167, 3.6517, 3.6441, -1.1292, -1.1377, -1.8621, -2.185, -2.2492, -2.2837, -2.4884, -2.516, -2.5509, -2.5945, -2.6187, -2.6206, -2.6225, -2.6513, -2.6546, -2.7095, -2.712, -2.7197, -2.7392, -2.7492, -2.7536, -2.7564, -2.8655, -2.8774, -2.9425, -2.987, -3.008, -3.055, -5.7076, -4.066, -3.4582, -3.7911, -3.177, -4.1734, -3.8147, -3.7274, -3.1071, -3.4395, -4.2179, 3.6689, 3.6467, -1.4567, -1.4653, -2.1896, -2.5126, -2.5767, -2.6112, -2.8159, -2.8435, -2.8784, -2.9221, -2.9463, -2.95, -2.9788, -2.9821, -3.037, -3.0395, -3.0472, -3.0667, -3.0767, -3.0811, -3.0839, -3.1115, -3.193, -3.205, -3.2657, -3.2701, -3.3146, -3.3355, -6.0352, -4.3936, -3.7857, -4.1186, -3.5045, -4.5009, -4.1422, -4.055, -3.4346, -3.767, -4.5454, -3.4069, 3.7166, -0.5088, -0.5173, -1.2416, -1.5646, -1.6288, -1.6632, -1.8679, -1.8955, -1.9305, -1.9741, -1.9983, -2.0001, -2.002, -2.0309, -2.0341, -2.0891, -2.0916, -2.0993, -2.1188, -2.1287, -2.1332, -2.1359, -2.1635, -2.245, -2.257, -2.3177, -2.3221, -2.3666, -2.3876, -5.0872, -2.4346, -3.4456, -3.1707, -2.5565, -3.5529, -3.1942, -3.107, -2.4867, -2.8191, -3.5974, -2.4589, 3.7712, 3.7693, -0.9877, -0.9962, -1.7205, -2.0435, -2.1077, -2.1421, -2.3468, -2.3744, -2.4094, -2.453, -2.4772, -2.479, -2.4809, -2.5098, -2.513, -2.5679, -2.5704, -2.5977, -2.6076, -2.6148, -2.6424, -2.7239, -2.7359, -2.7966, -2.801, -2.8455, -2.8665, -2.9135, -5.5661, -3.9245, -3.3166, -3.6495, -3.0354, -4.0318, -3.6731, -3.5859, -2.9656, -3.298, -4.0763, 3.7838, 3.7652, -0.8992, -0.9077, -1.632, -1.955, -2.0192, -2.0537, -2.2583, -2.286, -2.3645, -2.3887, -2.3906, -2.3925, -2.4213, -2.4246, -2.4795, -2.482, -2.4897, -2.5092, -2.5192, -2.5236, -2.5264, -2.5539, -2.6355, -2.7081, -2.7125, -2.757, -2.778, -2.825, -5.4776, -3.836, -3.2282, -3.5611, -2.947, -3.9433, -3.5847, -3.4974, -2.8771, -3.2095, -3.9879, 4.0067, -0.6563, -0.6648, -1.3892, -1.7121, -1.7763, -1.8108, -2.0155, -2.0431, -2.078, -2.1216, -2.1458, -2.1477, -2.1496, -2.1784, -2.1817, -2.2366, -2.2391, -2.2468, -2.2663, -2.2763, -2.2807, -2.2835, -2.3111, -2.3926, -2.4046, -2.4653, -2.4696, -2.5142, -2.5351, -5.2348, -2.5822, -3.5931, -2.9853, -3.3182, -3.7005, -3.3418, -3.2545, -2.6342, -2.9666, -3.745, -2.6065, 4.018, 0.0445, 0.036, -0.6884, -1.0114, -1.0755, -1.11, -1.3147, -1.3423, -1.3772, -1.4209, -1.445, -1.4469, -1.4488, -1.4776, -1.4809, -1.5358, -1.5383, -1.546, -1.5655, -1.5755, -1.5799, -1.5827, -1.6103, -1.6918, -1.7038, -1.7645, -1.7688, -1.8134, -1.8343, -4.534, -1.8814, -2.8923, -2.2845, -2.6174, -2.0033, -2.9997, -2.641, -2.5538, -2.2658, -3.0442, -1.9057, 4.147, -0.2473, -0.2559, -0.9802, -1.3032, -1.3674, -1.4018, -1.6065, -1.6341, -1.669, -1.7127, -1.7369, -1.7387, -1.7406, -1.7694, -1.7727, -1.8276, -1.8301, -1.8378, -1.8574, -1.8673, -1.8718, -1.8745, -1.9021, -1.9836, -1.9956, -2.0563, -2.0607, -2.1052, -2.1732, -4.8258, -3.1842, -2.5763, -2.9092, -2.2951, -3.2915, -2.9328, -2.8456, -2.2253, -2.5577, -3.336, -2.1975, 4.3143, 0.4114, 0.4029, -0.3215, -0.6444, -0.7086, -0.7431, -0.9478, -0.9754, -1.0103, -1.0539, -1.0781, -1.08, -1.0819, -1.1107, -1.114, -1.1689, -1.1714, -1.1791, -1.1986, -1.2086, -1.213, -1.2434, -1.3249, -1.3369, -1.3975, -1.4019, -1.4465, -1.4674, -1.5145, -4.1671, -2.5254, -1.9176, -2.2505, -1.6364, -2.6328, -2.2741, -2.1868, -1.5665, -1.8989, -2.6773, -1.5388, 4.3673, 0.1143, 0.1058, -0.6185, -0.9415, -1.0057, -1.0401, -1.2448, -1.2724, -1.3074, -1.351, -1.3752, -1.377, -1.3789, -1.4078, -1.411, -1.466, -1.4685, -1.4762, -1.4957, -1.5101, -1.5128, -1.5404, -1.6219, -1.6339, -1.6946, -1.699, -1.7435, -1.7645, -1.8115, -4.4641, -2.8225, -2.2147, -2.5476, -1.9334, -2.9298, -2.5711, -2.4839, -1.8636, -2.196, -2.9743, -1.8358, 4.4248, 0.3811, 0.3726, -0.3518, -0.6747, -0.7389, -0.7734, -0.9781, -1.0057, -1.0406, -1.0842, -1.1084, -1.1103, -1.1122, -1.1443, -1.1992, -1.2017, -1.2094, -1.2289, -1.2389, -1.2433, -1.2461, -1.2736, -1.3552, -1.3671, -1.4278, -1.4322, -1.4767, -1.4977, -1.5447, -4.1973, -2.5557, -1.9479, -2.2808, -1.6667, -2.663, -2.3044, -2.2171, -1.5968, -1.9292, -2.7076, -1.5691]}, \"token.table\": {\"Topic\": [10, 7, 23, 6, 5, 13, 2, 22, 9, 1, 12, 24, 10, 15, 2, 8, 2, 6, 21, 8, 19, 4, 6, 11, 16, 1, 9, 2, 17, 14, 15, 2, 2, 16, 9, 6, 25, 8, 13, 3, 18, 14, 5, 14, 19, 18, 20], \"Freq\": [0.9806703403562012, 0.9869844159725625, 0.9539111624085047, 0.9556503634717212, 0.9568692325668491, 0.9299929155061384, 0.924015974245716, 0.9580274768228293, 0.9580357243790011, 0.9972817437169347, 0.9783335394649866, 0.9608045033682052, 0.8022847559427865, 0.9610759656942909, 0.809147769728197, 0.9148980940381842, 0.9241098247887002, 0.9609038112415668, 0.9515957408207971, 0.9835790486279558, 0.9274389506643086, 0.9829115895320097, 0.935340668128301, 0.9793722599977618, 0.9560927334326171, 0.9913327607201045, 0.9716065735375763, 0.9467589018717019, 0.9653733373069096, 0.8748575191907257, 0.9666407601809082, 0.9691631781305174, 0.8927122779202258, 0.9729750302397684, 0.9578502291090596, 0.9098668137033097, 0.9271458975830887, 0.9542700478110735, 0.9495821003490142, 0.9861998344290893, 0.9565491972271303, 0.9345778936452624, 0.9744741045754629, 0.9622379098075848, 0.9507848412487944, 0.9483189722378254, 0.9656979601489298], \"Term\": [\"amazon\", \"big company\", \"bureaucracy\", \"ca\", \"ca n't\", \"career\", \"career growth\", \"difficult\", \"everyone\", \"google\", \"hard\", \"hard work\", \"have\", \"hr\", \"huge\", \"huge company\", \"internal\", \"lack\", \"large\", \"large company\", \"limited\", \"long hours\", \"long time\", \"lots\", \"low\", \"management\", \"managers\", \"middle management\", \"mountain\", \"mtv\", \"need\", \"pay\", \"politics\", \"poor\", \"promotion\", \"promotions\", \"really\", \"red tape\", \"smart people\", \"too\", \"upper management\", \"wo n't\", \"work life balance\", \"work-life balance\", \"work/life balance\", \"working\", \"your\"]}, \"R\": 30, \"lambda.step\": 0.01, \"plot.opts\": {\"xlab\": \"PC1\", \"ylab\": \"PC2\"}, \"topic.order\": [9, 23, 11, 12, 4, 20, 16, 14, 7, 13, 3, 18, 21, 2, 24, 10, 6, 5, 19, 25, 15, 1, 17, 8, 22]};\n",
              "\n",
              "function LDAvis_load_lib(url, callback){\n",
              "  var s = document.createElement('script');\n",
              "  s.src = url;\n",
              "  s.async = true;\n",
              "  s.onreadystatechange = s.onload = callback;\n",
              "  s.onerror = function(){console.warn(\"failed to load library \" + url);};\n",
              "  document.getElementsByTagName(\"head\")[0].appendChild(s);\n",
              "}\n",
              "\n",
              "if(typeof(LDAvis) !== \"undefined\"){\n",
              "   // already loaded: just create the visualization\n",
              "   !function(LDAvis){\n",
              "       new LDAvis(\"#\" + \"ldavis_el621399869688935203483505444\", ldavis_el621399869688935203483505444_data);\n",
              "   }(LDAvis);\n",
              "}else if(typeof define === \"function\" && define.amd){\n",
              "   // require.js is available: use it to load d3/LDAvis\n",
              "   require.config({paths: {d3: \"https://d3js.org/d3.v5\"}});\n",
              "   require([\"d3\"], function(d3){\n",
              "      window.d3 = d3;\n",
              "      LDAvis_load_lib(\"https://cdn.jsdelivr.net/gh/bmabey/pyLDAvis@3.3.1/pyLDAvis/js/ldavis.v3.0.0.js\", function(){\n",
              "        new LDAvis(\"#\" + \"ldavis_el621399869688935203483505444\", ldavis_el621399869688935203483505444_data);\n",
              "      });\n",
              "    });\n",
              "}else{\n",
              "    // require.js not available: dynamically load d3 & LDAvis\n",
              "    LDAvis_load_lib(\"https://d3js.org/d3.v5.js\", function(){\n",
              "         LDAvis_load_lib(\"https://cdn.jsdelivr.net/gh/bmabey/pyLDAvis@3.3.1/pyLDAvis/js/ldavis.v3.0.0.js\", function(){\n",
              "                 new LDAvis(\"#\" + \"ldavis_el621399869688935203483505444\", ldavis_el621399869688935203483505444_data);\n",
              "            })\n",
              "         });\n",
              "}\n",
              "</script>"
            ]
          },
          "metadata": {},
          "execution_count": 34
        }
      ],
      "source": [
        "pyLDAvis.enable_notebook()\n",
        "vis = pyLDAvis.gensim_models.prepare(neg_lda_model,neg_corpus,neg_dic, mds = \"mmds\",R=30)\n",
        "vis"
      ]
    },
    {
      "cell_type": "code",
      "execution_count": null,
      "metadata": {
        "id": "YwKR0aF1ZcXh"
      },
      "outputs": [],
      "source": [
        "# Vectorized reviews\n",
        "def vector(corpus,model):\n",
        "  vector = model[corpus]\n",
        "  vector_corpus = []\n",
        "  for i in range(len(vector)):\n",
        "    k = [0]*25\n",
        "    for j in vector[i]:\n",
        "      k = k[:j[0]]+[j[1]]+k[j[0]+1:]\n",
        "    vector_corpus.append(k)\n",
        "  return vector_corpus"
      ]
    },
    {
      "cell_type": "code",
      "execution_count": null,
      "metadata": {
        "id": "haSo93u_Zqfy"
      },
      "outputs": [],
      "source": [
        "pos_vector = vector(pos_corpus,pos_lda_model)\n",
        "neg_vector = vector(neg_corpus,neg_lda_model)"
      ]
    },
    {
      "cell_type": "code",
      "execution_count": null,
      "metadata": {
        "id": "RMQf2ZCiaiZ9"
      },
      "outputs": [],
      "source": [
        "for i in range(len(pos_vector)):\n",
        "  for j in range(len(pos_vector[i])):\n",
        "    pos_vector[i][j] = pos_vector[i][j]*len(pos_nouns[i])"
      ]
    },
    {
      "cell_type": "code",
      "execution_count": null,
      "metadata": {
        "id": "SWD-subjaloB"
      },
      "outputs": [],
      "source": [
        "for i in range(len(neg_vector)):\n",
        "  for j in range(len(neg_vector[i])):\n",
        "    neg_vector[i][j] = neg_vector[i][j]*len(neg_nouns[i])"
      ]
    },
    {
      "cell_type": "code",
      "execution_count": null,
      "metadata": {
        "id": "SIeu76w5Zzhm"
      },
      "outputs": [],
      "source": [
        "if len(pos_vector) > len(neg_vector):\n",
        "  neg_vector = neg_vector+(len(pos_vector)-len(neg_vector))*[[]]\n",
        "if len(neg_vector) > len(pos_vector):\n",
        "  pos_vector = pos_vector+(len(neg_vector)-len(pos_vector))*[[]]"
      ]
    },
    {
      "cell_type": "code",
      "execution_count": null,
      "metadata": {
        "id": "3udfj4oSao_N"
      },
      "outputs": [],
      "source": [
        "sentiments = []\n",
        "number_of_pos = 0\n",
        "number_of_neg = 0\n",
        "number_of_neu = 0\n",
        "probalities = []\n",
        "for i in range(len(pos_vector)):\n",
        "  if len(pos_vector[i]) > len(neg_vector[i]):\n",
        "    neg_vector[i] = neg_vector[i] + (len(pos_vector[i])-len(neg_vector[i]))*[0]\n",
        "  if len(pos_vector[i]) < len(neg_vector[i]):\n",
        "    pos_vector[i] = pos_vector[i] + (len(neg_vector[i])-len(pos_vector[i]))*[0]\n",
        "  diff = np.array(pos_vector[i]) - np.array(neg_vector[i])\n",
        "  sum = np.array(pos_vector[i]) + np.array(neg_vector[i])\n",
        "  prob = np.sum(diff)/np.sum(sum)\n",
        "  probalities.append(prob)\n",
        "  if prob > 0:\n",
        "    s = \"Positive\"\n",
        "    number_of_pos+=1\n",
        "  else:\n",
        "    s = \"Negative\"\n",
        "    number_of_neg+=1\n",
        "  sentiments.append(s)"
      ]
    },
    {
      "cell_type": "code",
      "execution_count": null,
      "metadata": {
        "colab": {
          "base_uri": "https://localhost:8080/"
        },
        "id": "NQLtOeLYykEs",
        "outputId": "c055d41c-2d09-4da5-98fb-173c413dd4bf"
      },
      "outputs": [
        {
          "output_type": "execute_result",
          "data": {
            "text/plain": [
              "-0.9454125474880395"
            ]
          },
          "metadata": {},
          "execution_count": 41
        }
      ],
      "source": [
        "min(probalities)"
      ]
    },
    {
      "cell_type": "code",
      "execution_count": null,
      "metadata": {
        "colab": {
          "base_uri": "https://localhost:8080/"
        },
        "id": "Z7MY6lWDasF9",
        "outputId": "d699a0f6-6288-4076-ec67-744076db2246"
      },
      "outputs": [
        {
          "output_type": "execute_result",
          "data": {
            "text/plain": [
              "2431"
            ]
          },
          "metadata": {},
          "execution_count": 42
        }
      ],
      "source": [
        "number_of_pos"
      ]
    },
    {
      "cell_type": "code",
      "execution_count": null,
      "metadata": {
        "colab": {
          "base_uri": "https://localhost:8080/"
        },
        "id": "1QsNI5hebGd-",
        "outputId": "d794c0e6-9588-4b89-9550-3a6cfda68240"
      },
      "outputs": [
        {
          "output_type": "execute_result",
          "data": {
            "text/plain": [
              "1231"
            ]
          },
          "metadata": {},
          "execution_count": 43
        }
      ],
      "source": [
        "number_of_neg"
      ]
    },
    {
      "cell_type": "markdown",
      "metadata": {
        "id": "56zBar6_NYiU"
      },
      "source": [
        "Dominanace Analysis"
      ]
    },
    {
      "cell_type": "code",
      "execution_count": null,
      "metadata": {
        "id": "VvZo8mcYIvNL"
      },
      "outputs": [],
      "source": [
        "df = pd.read_csv(\"/content/employee_reviews.csv\",encoding='latin-1')"
      ]
    },
    {
      "cell_type": "code",
      "execution_count": null,
      "metadata": {
        "id": "Sqfv51KPNcKR"
      },
      "outputs": [],
      "source": [
        "df = df.drop([\"company\",\"dates\",\"summary\",\"pros\",\"cons\",\"advice-to-mgmt\",\"link\",\"Unnamed: 0\",\"location\",\"work-balance-stars\",\"culture-values-stars\",\"carrer-opportunities-stars\",\"comp-benefit-stars\",\"senior-mangemnet-stars\",\"helpful-count\"],axis=1)"
      ]
    },
    {
      "cell_type": "code",
      "execution_count": null,
      "metadata": {
        "id": "8cykNzz3Ng2-"
      },
      "outputs": [],
      "source": [
        "# Removing none values\n",
        "heads = df.columns.values.tolist()\n",
        "for i in heads:\n",
        "  df.drop(df[(df[i] == \"none\")].index, inplace=True)"
      ]
    },
    {
      "cell_type": "code",
      "source": [
        "df = df[0:2000]"
      ],
      "metadata": {
        "id": "kgCPiuYyUFOY"
      },
      "execution_count": null,
      "outputs": []
    },
    {
      "cell_type": "code",
      "execution_count": null,
      "metadata": {
        "id": "EVluuqeeOIpQ"
      },
      "outputs": [],
      "source": [
        "# Converting catogorical to numerical data\n",
        "df = pd.get_dummies(df,prefix=[\"job-title\"],columns=[\"job-title\"])"
      ]
    },
    {
      "cell_type": "code",
      "execution_count": null,
      "metadata": {
        "colab": {
          "base_uri": "https://localhost:8080/",
          "height": 592
        },
        "id": "DEJfFxkOOn4I",
        "outputId": "c9fd4833-f9f8-40a9-bd97-923911588fac"
      },
      "outputs": [
        {
          "output_type": "execute_result",
          "data": {
            "text/plain": [
              "      overall-ratings  job-title_Current Employee - Account Executive  \\\n",
              "0                   5                                               0   \n",
              "1                   4                                               0   \n",
              "2                   5                                               0   \n",
              "3                   5                                               0   \n",
              "4                   5                                               0   \n",
              "...               ...                                             ...   \n",
              "1995                5                                               0   \n",
              "1996                5                                               0   \n",
              "1997                5                                               0   \n",
              "1998                5                                               0   \n",
              "1999                5                                               0   \n",
              "\n",
              "      job-title_Current Employee - Account Manager  \\\n",
              "0                                                0   \n",
              "1                                                0   \n",
              "2                                                0   \n",
              "3                                                0   \n",
              "4                                                0   \n",
              "...                                            ...   \n",
              "1995                                             0   \n",
              "1996                                             0   \n",
              "1997                                             0   \n",
              "1998                                             0   \n",
              "1999                                             0   \n",
              "\n",
              "      job-title_Current Employee - Account Strategist  \\\n",
              "0                                                   0   \n",
              "1                                                   0   \n",
              "2                                                   0   \n",
              "3                                                   0   \n",
              "4                                                   0   \n",
              "...                                               ...   \n",
              "1995                                                0   \n",
              "1996                                                0   \n",
              "1997                                                0   \n",
              "1998                                                0   \n",
              "1999                                                0   \n",
              "\n",
              "      job-title_Current Employee - Administrative  \\\n",
              "0                                               0   \n",
              "1                                               0   \n",
              "2                                               0   \n",
              "3                                               0   \n",
              "4                                               0   \n",
              "...                                           ...   \n",
              "1995                                            0   \n",
              "1996                                            0   \n",
              "1997                                            0   \n",
              "1998                                            0   \n",
              "1999                                            0   \n",
              "\n",
              "      job-title_Current Employee - Administrative Business Partner  \\\n",
              "0                                                     0              \n",
              "1                                                     0              \n",
              "2                                                     0              \n",
              "3                                                     0              \n",
              "4                                                     0              \n",
              "...                                                 ...              \n",
              "1995                                                  0              \n",
              "1996                                                  0              \n",
              "1997                                                  0              \n",
              "1998                                                  0              \n",
              "1999                                                  0              \n",
              "\n",
              "      job-title_Current Employee - Analytical Lead  \\\n",
              "0                                                0   \n",
              "1                                                0   \n",
              "2                                                0   \n",
              "3                                                0   \n",
              "4                                                0   \n",
              "...                                            ...   \n",
              "1995                                             0   \n",
              "1996                                             0   \n",
              "1997                                             0   \n",
              "1998                                             0   \n",
              "1999                                             0   \n",
              "\n",
              "      job-title_Current Employee - Anonymous Employee  \\\n",
              "0                                                   1   \n",
              "1                                                   0   \n",
              "2                                                   0   \n",
              "3                                                   1   \n",
              "4                                                   0   \n",
              "...                                               ...   \n",
              "1995                                                0   \n",
              "1996                                                0   \n",
              "1997                                                0   \n",
              "1998                                                0   \n",
              "1999                                                0   \n",
              "\n",
              "      job-title_Current Employee - Anti-abuse Associate  \\\n",
              "0                                                     0   \n",
              "1                                                     0   \n",
              "2                                                     0   \n",
              "3                                                     0   \n",
              "4                                                     0   \n",
              "...                                                 ...   \n",
              "1995                                                  0   \n",
              "1996                                                  0   \n",
              "1997                                                  0   \n",
              "1998                                                  0   \n",
              "1999                                                  0   \n",
              "\n",
              "      job-title_Current Employee - Applications Engineer  ...  \\\n",
              "0                                                     0   ...   \n",
              "1                                                     0   ...   \n",
              "2                                                     0   ...   \n",
              "3                                                     0   ...   \n",
              "4                                                     0   ...   \n",
              "...                                                 ...   ...   \n",
              "1995                                                  0   ...   \n",
              "1996                                                  0   ...   \n",
              "1997                                                  0   ...   \n",
              "1998                                                  0   ...   \n",
              "1999                                                  0   ...   \n",
              "\n",
              "      job-title_Former Employee - Utility Personal In the SNS Warehouse  \\\n",
              "0                                                     0                   \n",
              "1                                                     0                   \n",
              "2                                                     0                   \n",
              "3                                                     0                   \n",
              "4                                                     0                   \n",
              "...                                                 ...                   \n",
              "1995                                                  0                   \n",
              "1996                                                  0                   \n",
              "1997                                                  0                   \n",
              "1998                                                  0                   \n",
              "1999                                                  0                   \n",
              "\n",
              "      job-title_Former Employee - Vice President Sales  \\\n",
              "0                                                    0   \n",
              "1                                                    0   \n",
              "2                                                    0   \n",
              "3                                                    0   \n",
              "4                                                    0   \n",
              "...                                                ...   \n",
              "1995                                                 0   \n",
              "1996                                                 0   \n",
              "1997                                                 0   \n",
              "1998                                                 0   \n",
              "1999                                                 0   \n",
              "\n",
              "      job-title_Former Employee - Video Producer  \\\n",
              "0                                              0   \n",
              "1                                              0   \n",
              "2                                              0   \n",
              "3                                              0   \n",
              "4                                              0   \n",
              "...                                          ...   \n",
              "1995                                           0   \n",
              "1996                                           0   \n",
              "1997                                           0   \n",
              "1998                                           0   \n",
              "1999                                           0   \n",
              "\n",
              "      job-title_Former Employee - Video Production Specialist  \\\n",
              "0                                                     0         \n",
              "1                                                     0         \n",
              "2                                                     0         \n",
              "3                                                     0         \n",
              "4                                                     0         \n",
              "...                                                 ...         \n",
              "1995                                                  0         \n",
              "1996                                                  0         \n",
              "1997                                                  0         \n",
              "1998                                                  0         \n",
              "1999                                                  0         \n",
              "\n",
              "      job-title_Former Employee - Visual Data Specialist  \\\n",
              "0                                                     0    \n",
              "1                                                     0    \n",
              "2                                                     0    \n",
              "3                                                     0    \n",
              "4                                                     0    \n",
              "...                                                 ...    \n",
              "1995                                                  0    \n",
              "1996                                                  0    \n",
              "1997                                                  0    \n",
              "1998                                                  0    \n",
              "1999                                                  0    \n",
              "\n",
              "      job-title_Former Employee - Visual Data Specialist II  \\\n",
              "0                                                     0       \n",
              "1                                                     0       \n",
              "2                                                     0       \n",
              "3                                                     0       \n",
              "4                                                     0       \n",
              "...                                                 ...       \n",
              "1995                                                  0       \n",
              "1996                                                  0       \n",
              "1997                                                  0       \n",
              "1998                                                  0       \n",
              "1999                                                  0       \n",
              "\n",
              "      job-title_Former Employee - Visual Designer  \\\n",
              "0                                               0   \n",
              "1                                               0   \n",
              "2                                               0   \n",
              "3                                               0   \n",
              "4                                               0   \n",
              "...                                           ...   \n",
              "1995                                            0   \n",
              "1996                                            0   \n",
              "1997                                            0   \n",
              "1998                                            0   \n",
              "1999                                            0   \n",
              "\n",
              "      job-title_Former Employee - Web Applications Developer  \\\n",
              "0                                                     0        \n",
              "1                                                     0        \n",
              "2                                                     0        \n",
              "3                                                     0        \n",
              "4                                                     0        \n",
              "...                                                 ...        \n",
              "1995                                                  0        \n",
              "1996                                                  0        \n",
              "1997                                                  0        \n",
              "1998                                                  0        \n",
              "1999                                                  0        \n",
              "\n",
              "      job-title_Former Employee - Web Developer  \\\n",
              "0                                             0   \n",
              "1                                             0   \n",
              "2                                             0   \n",
              "3                                             0   \n",
              "4                                             0   \n",
              "...                                         ...   \n",
              "1995                                          0   \n",
              "1996                                          0   \n",
              "1997                                          0   \n",
              "1998                                          0   \n",
              "1999                                          0   \n",
              "\n",
              "      job-title_Former Employee - Worker  \n",
              "0                                      0  \n",
              "1                                      0  \n",
              "2                                      0  \n",
              "3                                      0  \n",
              "4                                      0  \n",
              "...                                  ...  \n",
              "1995                                   0  \n",
              "1996                                   0  \n",
              "1997                                   0  \n",
              "1998                                   0  \n",
              "1999                                   0  \n",
              "\n",
              "[2000 rows x 427 columns]"
            ],
            "text/html": [
              "\n",
              "  <div id=\"df-ba28eec5-cc00-46d2-8fb8-81eeda7c5c7d\">\n",
              "    <div class=\"colab-df-container\">\n",
              "      <div>\n",
              "<style scoped>\n",
              "    .dataframe tbody tr th:only-of-type {\n",
              "        vertical-align: middle;\n",
              "    }\n",
              "\n",
              "    .dataframe tbody tr th {\n",
              "        vertical-align: top;\n",
              "    }\n",
              "\n",
              "    .dataframe thead th {\n",
              "        text-align: right;\n",
              "    }\n",
              "</style>\n",
              "<table border=\"1\" class=\"dataframe\">\n",
              "  <thead>\n",
              "    <tr style=\"text-align: right;\">\n",
              "      <th></th>\n",
              "      <th>overall-ratings</th>\n",
              "      <th>job-title_Current Employee - Account Executive</th>\n",
              "      <th>job-title_Current Employee - Account Manager</th>\n",
              "      <th>job-title_Current Employee - Account Strategist</th>\n",
              "      <th>job-title_Current Employee - Administrative</th>\n",
              "      <th>job-title_Current Employee - Administrative Business Partner</th>\n",
              "      <th>job-title_Current Employee - Analytical Lead</th>\n",
              "      <th>job-title_Current Employee - Anonymous Employee</th>\n",
              "      <th>job-title_Current Employee - Anti-abuse Associate</th>\n",
              "      <th>job-title_Current Employee - Applications Engineer</th>\n",
              "      <th>...</th>\n",
              "      <th>job-title_Former Employee - Utility Personal In the SNS Warehouse</th>\n",
              "      <th>job-title_Former Employee - Vice President Sales</th>\n",
              "      <th>job-title_Former Employee - Video Producer</th>\n",
              "      <th>job-title_Former Employee - Video Production Specialist</th>\n",
              "      <th>job-title_Former Employee - Visual Data Specialist</th>\n",
              "      <th>job-title_Former Employee - Visual Data Specialist II</th>\n",
              "      <th>job-title_Former Employee - Visual Designer</th>\n",
              "      <th>job-title_Former Employee - Web Applications Developer</th>\n",
              "      <th>job-title_Former Employee - Web Developer</th>\n",
              "      <th>job-title_Former Employee - Worker</th>\n",
              "    </tr>\n",
              "  </thead>\n",
              "  <tbody>\n",
              "    <tr>\n",
              "      <th>0</th>\n",
              "      <td>5</td>\n",
              "      <td>0</td>\n",
              "      <td>0</td>\n",
              "      <td>0</td>\n",
              "      <td>0</td>\n",
              "      <td>0</td>\n",
              "      <td>0</td>\n",
              "      <td>1</td>\n",
              "      <td>0</td>\n",
              "      <td>0</td>\n",
              "      <td>...</td>\n",
              "      <td>0</td>\n",
              "      <td>0</td>\n",
              "      <td>0</td>\n",
              "      <td>0</td>\n",
              "      <td>0</td>\n",
              "      <td>0</td>\n",
              "      <td>0</td>\n",
              "      <td>0</td>\n",
              "      <td>0</td>\n",
              "      <td>0</td>\n",
              "    </tr>\n",
              "    <tr>\n",
              "      <th>1</th>\n",
              "      <td>4</td>\n",
              "      <td>0</td>\n",
              "      <td>0</td>\n",
              "      <td>0</td>\n",
              "      <td>0</td>\n",
              "      <td>0</td>\n",
              "      <td>0</td>\n",
              "      <td>0</td>\n",
              "      <td>0</td>\n",
              "      <td>0</td>\n",
              "      <td>...</td>\n",
              "      <td>0</td>\n",
              "      <td>0</td>\n",
              "      <td>0</td>\n",
              "      <td>0</td>\n",
              "      <td>0</td>\n",
              "      <td>0</td>\n",
              "      <td>0</td>\n",
              "      <td>0</td>\n",
              "      <td>0</td>\n",
              "      <td>0</td>\n",
              "    </tr>\n",
              "    <tr>\n",
              "      <th>2</th>\n",
              "      <td>5</td>\n",
              "      <td>0</td>\n",
              "      <td>0</td>\n",
              "      <td>0</td>\n",
              "      <td>0</td>\n",
              "      <td>0</td>\n",
              "      <td>0</td>\n",
              "      <td>0</td>\n",
              "      <td>0</td>\n",
              "      <td>0</td>\n",
              "      <td>...</td>\n",
              "      <td>0</td>\n",
              "      <td>0</td>\n",
              "      <td>0</td>\n",
              "      <td>0</td>\n",
              "      <td>0</td>\n",
              "      <td>0</td>\n",
              "      <td>0</td>\n",
              "      <td>0</td>\n",
              "      <td>0</td>\n",
              "      <td>0</td>\n",
              "    </tr>\n",
              "    <tr>\n",
              "      <th>3</th>\n",
              "      <td>5</td>\n",
              "      <td>0</td>\n",
              "      <td>0</td>\n",
              "      <td>0</td>\n",
              "      <td>0</td>\n",
              "      <td>0</td>\n",
              "      <td>0</td>\n",
              "      <td>1</td>\n",
              "      <td>0</td>\n",
              "      <td>0</td>\n",
              "      <td>...</td>\n",
              "      <td>0</td>\n",
              "      <td>0</td>\n",
              "      <td>0</td>\n",
              "      <td>0</td>\n",
              "      <td>0</td>\n",
              "      <td>0</td>\n",
              "      <td>0</td>\n",
              "      <td>0</td>\n",
              "      <td>0</td>\n",
              "      <td>0</td>\n",
              "    </tr>\n",
              "    <tr>\n",
              "      <th>4</th>\n",
              "      <td>5</td>\n",
              "      <td>0</td>\n",
              "      <td>0</td>\n",
              "      <td>0</td>\n",
              "      <td>0</td>\n",
              "      <td>0</td>\n",
              "      <td>0</td>\n",
              "      <td>0</td>\n",
              "      <td>0</td>\n",
              "      <td>0</td>\n",
              "      <td>...</td>\n",
              "      <td>0</td>\n",
              "      <td>0</td>\n",
              "      <td>0</td>\n",
              "      <td>0</td>\n",
              "      <td>0</td>\n",
              "      <td>0</td>\n",
              "      <td>0</td>\n",
              "      <td>0</td>\n",
              "      <td>0</td>\n",
              "      <td>0</td>\n",
              "    </tr>\n",
              "    <tr>\n",
              "      <th>...</th>\n",
              "      <td>...</td>\n",
              "      <td>...</td>\n",
              "      <td>...</td>\n",
              "      <td>...</td>\n",
              "      <td>...</td>\n",
              "      <td>...</td>\n",
              "      <td>...</td>\n",
              "      <td>...</td>\n",
              "      <td>...</td>\n",
              "      <td>...</td>\n",
              "      <td>...</td>\n",
              "      <td>...</td>\n",
              "      <td>...</td>\n",
              "      <td>...</td>\n",
              "      <td>...</td>\n",
              "      <td>...</td>\n",
              "      <td>...</td>\n",
              "      <td>...</td>\n",
              "      <td>...</td>\n",
              "      <td>...</td>\n",
              "      <td>...</td>\n",
              "    </tr>\n",
              "    <tr>\n",
              "      <th>1995</th>\n",
              "      <td>5</td>\n",
              "      <td>0</td>\n",
              "      <td>0</td>\n",
              "      <td>0</td>\n",
              "      <td>0</td>\n",
              "      <td>0</td>\n",
              "      <td>0</td>\n",
              "      <td>0</td>\n",
              "      <td>0</td>\n",
              "      <td>0</td>\n",
              "      <td>...</td>\n",
              "      <td>0</td>\n",
              "      <td>0</td>\n",
              "      <td>0</td>\n",
              "      <td>0</td>\n",
              "      <td>0</td>\n",
              "      <td>0</td>\n",
              "      <td>0</td>\n",
              "      <td>0</td>\n",
              "      <td>0</td>\n",
              "      <td>0</td>\n",
              "    </tr>\n",
              "    <tr>\n",
              "      <th>1996</th>\n",
              "      <td>5</td>\n",
              "      <td>0</td>\n",
              "      <td>0</td>\n",
              "      <td>0</td>\n",
              "      <td>0</td>\n",
              "      <td>0</td>\n",
              "      <td>0</td>\n",
              "      <td>0</td>\n",
              "      <td>0</td>\n",
              "      <td>0</td>\n",
              "      <td>...</td>\n",
              "      <td>0</td>\n",
              "      <td>0</td>\n",
              "      <td>0</td>\n",
              "      <td>0</td>\n",
              "      <td>0</td>\n",
              "      <td>0</td>\n",
              "      <td>0</td>\n",
              "      <td>0</td>\n",
              "      <td>0</td>\n",
              "      <td>0</td>\n",
              "    </tr>\n",
              "    <tr>\n",
              "      <th>1997</th>\n",
              "      <td>5</td>\n",
              "      <td>0</td>\n",
              "      <td>0</td>\n",
              "      <td>0</td>\n",
              "      <td>0</td>\n",
              "      <td>0</td>\n",
              "      <td>0</td>\n",
              "      <td>0</td>\n",
              "      <td>0</td>\n",
              "      <td>0</td>\n",
              "      <td>...</td>\n",
              "      <td>0</td>\n",
              "      <td>0</td>\n",
              "      <td>0</td>\n",
              "      <td>0</td>\n",
              "      <td>0</td>\n",
              "      <td>0</td>\n",
              "      <td>0</td>\n",
              "      <td>0</td>\n",
              "      <td>0</td>\n",
              "      <td>0</td>\n",
              "    </tr>\n",
              "    <tr>\n",
              "      <th>1998</th>\n",
              "      <td>5</td>\n",
              "      <td>0</td>\n",
              "      <td>0</td>\n",
              "      <td>0</td>\n",
              "      <td>0</td>\n",
              "      <td>0</td>\n",
              "      <td>0</td>\n",
              "      <td>0</td>\n",
              "      <td>0</td>\n",
              "      <td>0</td>\n",
              "      <td>...</td>\n",
              "      <td>0</td>\n",
              "      <td>0</td>\n",
              "      <td>0</td>\n",
              "      <td>0</td>\n",
              "      <td>0</td>\n",
              "      <td>0</td>\n",
              "      <td>0</td>\n",
              "      <td>0</td>\n",
              "      <td>0</td>\n",
              "      <td>0</td>\n",
              "    </tr>\n",
              "    <tr>\n",
              "      <th>1999</th>\n",
              "      <td>5</td>\n",
              "      <td>0</td>\n",
              "      <td>0</td>\n",
              "      <td>0</td>\n",
              "      <td>0</td>\n",
              "      <td>0</td>\n",
              "      <td>0</td>\n",
              "      <td>0</td>\n",
              "      <td>0</td>\n",
              "      <td>0</td>\n",
              "      <td>...</td>\n",
              "      <td>0</td>\n",
              "      <td>0</td>\n",
              "      <td>0</td>\n",
              "      <td>0</td>\n",
              "      <td>0</td>\n",
              "      <td>0</td>\n",
              "      <td>0</td>\n",
              "      <td>0</td>\n",
              "      <td>0</td>\n",
              "      <td>0</td>\n",
              "    </tr>\n",
              "  </tbody>\n",
              "</table>\n",
              "<p>2000 rows × 427 columns</p>\n",
              "</div>\n",
              "      <button class=\"colab-df-convert\" onclick=\"convertToInteractive('df-ba28eec5-cc00-46d2-8fb8-81eeda7c5c7d')\"\n",
              "              title=\"Convert this dataframe to an interactive table.\"\n",
              "              style=\"display:none;\">\n",
              "        \n",
              "  <svg xmlns=\"http://www.w3.org/2000/svg\" height=\"24px\"viewBox=\"0 0 24 24\"\n",
              "       width=\"24px\">\n",
              "    <path d=\"M0 0h24v24H0V0z\" fill=\"none\"/>\n",
              "    <path d=\"M18.56 5.44l.94 2.06.94-2.06 2.06-.94-2.06-.94-.94-2.06-.94 2.06-2.06.94zm-11 1L8.5 8.5l.94-2.06 2.06-.94-2.06-.94L8.5 2.5l-.94 2.06-2.06.94zm10 10l.94 2.06.94-2.06 2.06-.94-2.06-.94-.94-2.06-.94 2.06-2.06.94z\"/><path d=\"M17.41 7.96l-1.37-1.37c-.4-.4-.92-.59-1.43-.59-.52 0-1.04.2-1.43.59L10.3 9.45l-7.72 7.72c-.78.78-.78 2.05 0 2.83L4 21.41c.39.39.9.59 1.41.59.51 0 1.02-.2 1.41-.59l7.78-7.78 2.81-2.81c.8-.78.8-2.07 0-2.86zM5.41 20L4 18.59l7.72-7.72 1.47 1.35L5.41 20z\"/>\n",
              "  </svg>\n",
              "      </button>\n",
              "      \n",
              "  <style>\n",
              "    .colab-df-container {\n",
              "      display:flex;\n",
              "      flex-wrap:wrap;\n",
              "      gap: 12px;\n",
              "    }\n",
              "\n",
              "    .colab-df-convert {\n",
              "      background-color: #E8F0FE;\n",
              "      border: none;\n",
              "      border-radius: 50%;\n",
              "      cursor: pointer;\n",
              "      display: none;\n",
              "      fill: #1967D2;\n",
              "      height: 32px;\n",
              "      padding: 0 0 0 0;\n",
              "      width: 32px;\n",
              "    }\n",
              "\n",
              "    .colab-df-convert:hover {\n",
              "      background-color: #E2EBFA;\n",
              "      box-shadow: 0px 1px 2px rgba(60, 64, 67, 0.3), 0px 1px 3px 1px rgba(60, 64, 67, 0.15);\n",
              "      fill: #174EA6;\n",
              "    }\n",
              "\n",
              "    [theme=dark] .colab-df-convert {\n",
              "      background-color: #3B4455;\n",
              "      fill: #D2E3FC;\n",
              "    }\n",
              "\n",
              "    [theme=dark] .colab-df-convert:hover {\n",
              "      background-color: #434B5C;\n",
              "      box-shadow: 0px 1px 3px 1px rgba(0, 0, 0, 0.15);\n",
              "      filter: drop-shadow(0px 1px 2px rgba(0, 0, 0, 0.3));\n",
              "      fill: #FFFFFF;\n",
              "    }\n",
              "  </style>\n",
              "\n",
              "      <script>\n",
              "        const buttonEl =\n",
              "          document.querySelector('#df-ba28eec5-cc00-46d2-8fb8-81eeda7c5c7d button.colab-df-convert');\n",
              "        buttonEl.style.display =\n",
              "          google.colab.kernel.accessAllowed ? 'block' : 'none';\n",
              "\n",
              "        async function convertToInteractive(key) {\n",
              "          const element = document.querySelector('#df-ba28eec5-cc00-46d2-8fb8-81eeda7c5c7d');\n",
              "          const dataTable =\n",
              "            await google.colab.kernel.invokeFunction('convertToInteractive',\n",
              "                                                     [key], {});\n",
              "          if (!dataTable) return;\n",
              "\n",
              "          const docLinkHtml = 'Like what you see? Visit the ' +\n",
              "            '<a target=\"_blank\" href=https://colab.research.google.com/notebooks/data_table.ipynb>data table notebook</a>'\n",
              "            + ' to learn more about interactive tables.';\n",
              "          element.innerHTML = '';\n",
              "          dataTable['output_type'] = 'display_data';\n",
              "          await google.colab.output.renderOutput(dataTable, element);\n",
              "          const docLink = document.createElement('div');\n",
              "          docLink.innerHTML = docLinkHtml;\n",
              "          element.appendChild(docLink);\n",
              "        }\n",
              "      </script>\n",
              "    </div>\n",
              "  </div>\n",
              "  "
            ]
          },
          "metadata": {},
          "execution_count": 136
        }
      ],
      "source": [
        "df"
      ]
    },
    {
      "cell_type": "code",
      "execution_count": null,
      "metadata": {
        "colab": {
          "base_uri": "https://localhost:8080/"
        },
        "id": "vlRySPQfOYt8",
        "outputId": "6bacaecc-614b-4680-83b9-1e0ae724e2d3"
      },
      "outputs": [
        {
          "output_type": "stream",
          "name": "stdout",
          "text": [
            "Selecting 15 Best Predictors for the Model\n",
            "Selected Predictors :  ['job-title_Current Employee - Anonymous Employee', 'job-title_Current Employee - Cloud Solutions Consultant', 'job-title_Current Employee - Electrical Engineer', 'job-title_Current Employee - QA Developer', 'job-title_Current Employee - Site Reliability Engineer', 'job-title_Former Employee - Director of Developmental Sales &amp, Marketing', 'job-title_Former Employee - Escalation Manager', 'job-title_Former Employee - Line Cook', 'job-title_Former Employee - Operations Engineer', 'job-title_Former Employee - Sales', 'job-title_Former Employee - Security', 'job-title_Former Employee - Store Leader', 'job-title_Former Employee - Teacher', 'job-title_Former Employee - Technical Program Manager', 'job-title_Former Employee - Visual Data Specialist II']\n",
            "\n",
            "********************  R-Squared of Complete Model :  ********************\n",
            "R Squared : 0.09108556075738827\n",
            "\n"
          ]
        }
      ],
      "source": [
        "from dominance_analysis import Dominance\n",
        "dominance_regression=Dominance(data=df,target='overall-ratings',objective=1)"
      ]
    },
    {
      "cell_type": "code",
      "execution_count": null,
      "metadata": {
        "colab": {
          "base_uri": "https://localhost:8080/"
        },
        "id": "dJ8MO7Q9Or-9",
        "outputId": "950e7904-11c7-482f-ccf8-387d0b503f4c"
      },
      "outputs": [
        {
          "output_type": "stream",
          "name": "stdout",
          "text": [
            "Selecting 15 Best Predictors for the Model\n",
            "Selected Predictors :  ['job-title_Current Employee - Anonymous Employee', 'job-title_Current Employee - Cloud Solutions Consultant', 'job-title_Current Employee - Electrical Engineer', 'job-title_Current Employee - QA Developer', 'job-title_Current Employee - Site Reliability Engineer', 'job-title_Former Employee - Director of Developmental Sales &amp, Marketing', 'job-title_Former Employee - Escalation Manager', 'job-title_Former Employee - Line Cook', 'job-title_Former Employee - Operations Engineer', 'job-title_Former Employee - Sales', 'job-title_Former Employee - Security', 'job-title_Former Employee - Store Leader', 'job-title_Former Employee - Teacher', 'job-title_Former Employee - Technical Program Manager', 'job-title_Former Employee - Visual Data Specialist II']\n",
            "\n",
            "Creating models for 32767 possible combinations of 15 features :\n"
          ]
        },
        {
          "output_type": "stream",
          "name": "stderr",
          "text": [
            "100%|██████████| 15/15 [04:59<00:00, 19.94s/it]\n"
          ]
        },
        {
          "output_type": "stream",
          "name": "stdout",
          "text": [
            "#########################  Model Training Done!!!!!  #########################\n",
            "\n",
            "#########################  Calculating Variable Dominances  #########################\n"
          ]
        },
        {
          "output_type": "stream",
          "name": "stderr",
          "text": [
            "100%|██████████| 14/14 [04:50<00:00, 20.73s/it]"
          ]
        },
        {
          "output_type": "stream",
          "name": "stdout",
          "text": [
            "#########################  Variable Dominance Calculation Done!!!!!  #########################\n",
            "\n"
          ]
        },
        {
          "output_type": "stream",
          "name": "stderr",
          "text": [
            "\n"
          ]
        }
      ],
      "source": [
        "incr_variable_rsquare=dominance_regression.incremental_rsquare()"
      ]
    },
    {
      "cell_type": "code",
      "source": [
        "dominance_regression.plot_incremental_rsquare()"
      ],
      "metadata": {
        "colab": {
          "base_uri": "https://localhost:8080/",
          "height": 1000
        },
        "id": "2SMx0aBvSBMx",
        "outputId": "228483f7-7a06-48c6-c020-54dd40cdaf38"
      },
      "execution_count": null,
      "outputs": [
        {
          "output_type": "display_data",
          "data": {
            "application/vnd.plotly.v1+json": {
              "data": [
                {
                  "marker": {
                    "color": "rgba(255, 153, 51, 0.6)",
                    "line": {
                      "color": "rgba(255, 153, 51, 1.0)",
                      "width": 1
                    }
                  },
                  "name": "incremental_r2",
                  "orientation": "v",
                  "text": "",
                  "x": [
                    "job-title_Former Employee - Visual Data Specialist II",
                    "job-title_Current Employee - Cloud Solutions Consultant",
                    "job-title_Current Employee - QA Developer",
                    "job-title_Former Employee - Line Cook",
                    "job-title_Former Employee - Teacher",
                    "job-title_Former Employee - Escalation Manager",
                    "job-title_Current Employee - Electrical Engineer",
                    "job-title_Former Employee - Store Leader",
                    "job-title_Former Employee - Director of Developmental Sales &amp, Marketing",
                    "job-title_Former Employee - Operations Engineer",
                    "job-title_Former Employee - Sales",
                    "job-title_Current Employee - Site Reliability Engineer",
                    "job-title_Former Employee - Security",
                    "job-title_Former Employee - Technical Program Manager",
                    "job-title_Current Employee - Anonymous Employee"
                  ],
                  "y": [
                    0.007001546615075849,
                    0.007001546615075847,
                    0.007001546615075846,
                    0.0070015466150758435,
                    0.0070015466150758435,
                    0.007001546615075839,
                    0.0070015466150758375,
                    0.007001546615075837,
                    0.007001546615075833,
                    0.006993173663917467,
                    0.0059818669978949825,
                    0.004391960229328281,
                    0.004391960229328271,
                    0.003589422148518837,
                    0.002723257952717857
                  ],
                  "type": "bar"
                }
              ],
              "layout": {
                "legend": {
                  "bgcolor": "#F5F6F9",
                  "font": {
                    "color": "#4D5663"
                  }
                },
                "paper_bgcolor": "#F5F6F9",
                "plot_bgcolor": "#F5F6F9",
                "template": {
                  "data": {
                    "barpolar": [
                      {
                        "marker": {
                          "line": {
                            "color": "#E5ECF6",
                            "width": 0.5
                          },
                          "pattern": {
                            "fillmode": "overlay",
                            "size": 10,
                            "solidity": 0.2
                          }
                        },
                        "type": "barpolar"
                      }
                    ],
                    "bar": [
                      {
                        "error_x": {
                          "color": "#2a3f5f"
                        },
                        "error_y": {
                          "color": "#2a3f5f"
                        },
                        "marker": {
                          "line": {
                            "color": "#E5ECF6",
                            "width": 0.5
                          },
                          "pattern": {
                            "fillmode": "overlay",
                            "size": 10,
                            "solidity": 0.2
                          }
                        },
                        "type": "bar"
                      }
                    ],
                    "carpet": [
                      {
                        "aaxis": {
                          "endlinecolor": "#2a3f5f",
                          "gridcolor": "white",
                          "linecolor": "white",
                          "minorgridcolor": "white",
                          "startlinecolor": "#2a3f5f"
                        },
                        "baxis": {
                          "endlinecolor": "#2a3f5f",
                          "gridcolor": "white",
                          "linecolor": "white",
                          "minorgridcolor": "white",
                          "startlinecolor": "#2a3f5f"
                        },
                        "type": "carpet"
                      }
                    ],
                    "choropleth": [
                      {
                        "colorbar": {
                          "outlinewidth": 0,
                          "ticks": ""
                        },
                        "type": "choropleth"
                      }
                    ],
                    "contourcarpet": [
                      {
                        "colorbar": {
                          "outlinewidth": 0,
                          "ticks": ""
                        },
                        "type": "contourcarpet"
                      }
                    ],
                    "contour": [
                      {
                        "colorbar": {
                          "outlinewidth": 0,
                          "ticks": ""
                        },
                        "colorscale": [
                          [
                            0,
                            "#0d0887"
                          ],
                          [
                            0.1111111111111111,
                            "#46039f"
                          ],
                          [
                            0.2222222222222222,
                            "#7201a8"
                          ],
                          [
                            0.3333333333333333,
                            "#9c179e"
                          ],
                          [
                            0.4444444444444444,
                            "#bd3786"
                          ],
                          [
                            0.5555555555555556,
                            "#d8576b"
                          ],
                          [
                            0.6666666666666666,
                            "#ed7953"
                          ],
                          [
                            0.7777777777777778,
                            "#fb9f3a"
                          ],
                          [
                            0.8888888888888888,
                            "#fdca26"
                          ],
                          [
                            1,
                            "#f0f921"
                          ]
                        ],
                        "type": "contour"
                      }
                    ],
                    "heatmapgl": [
                      {
                        "colorbar": {
                          "outlinewidth": 0,
                          "ticks": ""
                        },
                        "colorscale": [
                          [
                            0,
                            "#0d0887"
                          ],
                          [
                            0.1111111111111111,
                            "#46039f"
                          ],
                          [
                            0.2222222222222222,
                            "#7201a8"
                          ],
                          [
                            0.3333333333333333,
                            "#9c179e"
                          ],
                          [
                            0.4444444444444444,
                            "#bd3786"
                          ],
                          [
                            0.5555555555555556,
                            "#d8576b"
                          ],
                          [
                            0.6666666666666666,
                            "#ed7953"
                          ],
                          [
                            0.7777777777777778,
                            "#fb9f3a"
                          ],
                          [
                            0.8888888888888888,
                            "#fdca26"
                          ],
                          [
                            1,
                            "#f0f921"
                          ]
                        ],
                        "type": "heatmapgl"
                      }
                    ],
                    "heatmap": [
                      {
                        "colorbar": {
                          "outlinewidth": 0,
                          "ticks": ""
                        },
                        "colorscale": [
                          [
                            0,
                            "#0d0887"
                          ],
                          [
                            0.1111111111111111,
                            "#46039f"
                          ],
                          [
                            0.2222222222222222,
                            "#7201a8"
                          ],
                          [
                            0.3333333333333333,
                            "#9c179e"
                          ],
                          [
                            0.4444444444444444,
                            "#bd3786"
                          ],
                          [
                            0.5555555555555556,
                            "#d8576b"
                          ],
                          [
                            0.6666666666666666,
                            "#ed7953"
                          ],
                          [
                            0.7777777777777778,
                            "#fb9f3a"
                          ],
                          [
                            0.8888888888888888,
                            "#fdca26"
                          ],
                          [
                            1,
                            "#f0f921"
                          ]
                        ],
                        "type": "heatmap"
                      }
                    ],
                    "histogram2dcontour": [
                      {
                        "colorbar": {
                          "outlinewidth": 0,
                          "ticks": ""
                        },
                        "colorscale": [
                          [
                            0,
                            "#0d0887"
                          ],
                          [
                            0.1111111111111111,
                            "#46039f"
                          ],
                          [
                            0.2222222222222222,
                            "#7201a8"
                          ],
                          [
                            0.3333333333333333,
                            "#9c179e"
                          ],
                          [
                            0.4444444444444444,
                            "#bd3786"
                          ],
                          [
                            0.5555555555555556,
                            "#d8576b"
                          ],
                          [
                            0.6666666666666666,
                            "#ed7953"
                          ],
                          [
                            0.7777777777777778,
                            "#fb9f3a"
                          ],
                          [
                            0.8888888888888888,
                            "#fdca26"
                          ],
                          [
                            1,
                            "#f0f921"
                          ]
                        ],
                        "type": "histogram2dcontour"
                      }
                    ],
                    "histogram2d": [
                      {
                        "colorbar": {
                          "outlinewidth": 0,
                          "ticks": ""
                        },
                        "colorscale": [
                          [
                            0,
                            "#0d0887"
                          ],
                          [
                            0.1111111111111111,
                            "#46039f"
                          ],
                          [
                            0.2222222222222222,
                            "#7201a8"
                          ],
                          [
                            0.3333333333333333,
                            "#9c179e"
                          ],
                          [
                            0.4444444444444444,
                            "#bd3786"
                          ],
                          [
                            0.5555555555555556,
                            "#d8576b"
                          ],
                          [
                            0.6666666666666666,
                            "#ed7953"
                          ],
                          [
                            0.7777777777777778,
                            "#fb9f3a"
                          ],
                          [
                            0.8888888888888888,
                            "#fdca26"
                          ],
                          [
                            1,
                            "#f0f921"
                          ]
                        ],
                        "type": "histogram2d"
                      }
                    ],
                    "histogram": [
                      {
                        "marker": {
                          "pattern": {
                            "fillmode": "overlay",
                            "size": 10,
                            "solidity": 0.2
                          }
                        },
                        "type": "histogram"
                      }
                    ],
                    "mesh3d": [
                      {
                        "colorbar": {
                          "outlinewidth": 0,
                          "ticks": ""
                        },
                        "type": "mesh3d"
                      }
                    ],
                    "parcoords": [
                      {
                        "line": {
                          "colorbar": {
                            "outlinewidth": 0,
                            "ticks": ""
                          }
                        },
                        "type": "parcoords"
                      }
                    ],
                    "pie": [
                      {
                        "automargin": true,
                        "type": "pie"
                      }
                    ],
                    "scatter3d": [
                      {
                        "line": {
                          "colorbar": {
                            "outlinewidth": 0,
                            "ticks": ""
                          }
                        },
                        "marker": {
                          "colorbar": {
                            "outlinewidth": 0,
                            "ticks": ""
                          }
                        },
                        "type": "scatter3d"
                      }
                    ],
                    "scattercarpet": [
                      {
                        "marker": {
                          "colorbar": {
                            "outlinewidth": 0,
                            "ticks": ""
                          }
                        },
                        "type": "scattercarpet"
                      }
                    ],
                    "scattergeo": [
                      {
                        "marker": {
                          "colorbar": {
                            "outlinewidth": 0,
                            "ticks": ""
                          }
                        },
                        "type": "scattergeo"
                      }
                    ],
                    "scattergl": [
                      {
                        "marker": {
                          "colorbar": {
                            "outlinewidth": 0,
                            "ticks": ""
                          }
                        },
                        "type": "scattergl"
                      }
                    ],
                    "scattermapbox": [
                      {
                        "marker": {
                          "colorbar": {
                            "outlinewidth": 0,
                            "ticks": ""
                          }
                        },
                        "type": "scattermapbox"
                      }
                    ],
                    "scatterpolargl": [
                      {
                        "marker": {
                          "colorbar": {
                            "outlinewidth": 0,
                            "ticks": ""
                          }
                        },
                        "type": "scatterpolargl"
                      }
                    ],
                    "scatterpolar": [
                      {
                        "marker": {
                          "colorbar": {
                            "outlinewidth": 0,
                            "ticks": ""
                          }
                        },
                        "type": "scatterpolar"
                      }
                    ],
                    "scatter": [
                      {
                        "marker": {
                          "colorbar": {
                            "outlinewidth": 0,
                            "ticks": ""
                          }
                        },
                        "type": "scatter"
                      }
                    ],
                    "scatterternary": [
                      {
                        "marker": {
                          "colorbar": {
                            "outlinewidth": 0,
                            "ticks": ""
                          }
                        },
                        "type": "scatterternary"
                      }
                    ],
                    "surface": [
                      {
                        "colorbar": {
                          "outlinewidth": 0,
                          "ticks": ""
                        },
                        "colorscale": [
                          [
                            0,
                            "#0d0887"
                          ],
                          [
                            0.1111111111111111,
                            "#46039f"
                          ],
                          [
                            0.2222222222222222,
                            "#7201a8"
                          ],
                          [
                            0.3333333333333333,
                            "#9c179e"
                          ],
                          [
                            0.4444444444444444,
                            "#bd3786"
                          ],
                          [
                            0.5555555555555556,
                            "#d8576b"
                          ],
                          [
                            0.6666666666666666,
                            "#ed7953"
                          ],
                          [
                            0.7777777777777778,
                            "#fb9f3a"
                          ],
                          [
                            0.8888888888888888,
                            "#fdca26"
                          ],
                          [
                            1,
                            "#f0f921"
                          ]
                        ],
                        "type": "surface"
                      }
                    ],
                    "table": [
                      {
                        "cells": {
                          "fill": {
                            "color": "#EBF0F8"
                          },
                          "line": {
                            "color": "white"
                          }
                        },
                        "header": {
                          "fill": {
                            "color": "#C8D4E3"
                          },
                          "line": {
                            "color": "white"
                          }
                        },
                        "type": "table"
                      }
                    ]
                  },
                  "layout": {
                    "annotationdefaults": {
                      "arrowcolor": "#2a3f5f",
                      "arrowhead": 0,
                      "arrowwidth": 1
                    },
                    "autotypenumbers": "strict",
                    "coloraxis": {
                      "colorbar": {
                        "outlinewidth": 0,
                        "ticks": ""
                      }
                    },
                    "colorscale": {
                      "diverging": [
                        [
                          0,
                          "#8e0152"
                        ],
                        [
                          0.1,
                          "#c51b7d"
                        ],
                        [
                          0.2,
                          "#de77ae"
                        ],
                        [
                          0.3,
                          "#f1b6da"
                        ],
                        [
                          0.4,
                          "#fde0ef"
                        ],
                        [
                          0.5,
                          "#f7f7f7"
                        ],
                        [
                          0.6,
                          "#e6f5d0"
                        ],
                        [
                          0.7,
                          "#b8e186"
                        ],
                        [
                          0.8,
                          "#7fbc41"
                        ],
                        [
                          0.9,
                          "#4d9221"
                        ],
                        [
                          1,
                          "#276419"
                        ]
                      ],
                      "sequential": [
                        [
                          0,
                          "#0d0887"
                        ],
                        [
                          0.1111111111111111,
                          "#46039f"
                        ],
                        [
                          0.2222222222222222,
                          "#7201a8"
                        ],
                        [
                          0.3333333333333333,
                          "#9c179e"
                        ],
                        [
                          0.4444444444444444,
                          "#bd3786"
                        ],
                        [
                          0.5555555555555556,
                          "#d8576b"
                        ],
                        [
                          0.6666666666666666,
                          "#ed7953"
                        ],
                        [
                          0.7777777777777778,
                          "#fb9f3a"
                        ],
                        [
                          0.8888888888888888,
                          "#fdca26"
                        ],
                        [
                          1,
                          "#f0f921"
                        ]
                      ],
                      "sequentialminus": [
                        [
                          0,
                          "#0d0887"
                        ],
                        [
                          0.1111111111111111,
                          "#46039f"
                        ],
                        [
                          0.2222222222222222,
                          "#7201a8"
                        ],
                        [
                          0.3333333333333333,
                          "#9c179e"
                        ],
                        [
                          0.4444444444444444,
                          "#bd3786"
                        ],
                        [
                          0.5555555555555556,
                          "#d8576b"
                        ],
                        [
                          0.6666666666666666,
                          "#ed7953"
                        ],
                        [
                          0.7777777777777778,
                          "#fb9f3a"
                        ],
                        [
                          0.8888888888888888,
                          "#fdca26"
                        ],
                        [
                          1,
                          "#f0f921"
                        ]
                      ]
                    },
                    "colorway": [
                      "#636efa",
                      "#EF553B",
                      "#00cc96",
                      "#ab63fa",
                      "#FFA15A",
                      "#19d3f3",
                      "#FF6692",
                      "#B6E880",
                      "#FF97FF",
                      "#FECB52"
                    ],
                    "font": {
                      "color": "#2a3f5f"
                    },
                    "geo": {
                      "bgcolor": "white",
                      "lakecolor": "white",
                      "landcolor": "#E5ECF6",
                      "showlakes": true,
                      "showland": true,
                      "subunitcolor": "white"
                    },
                    "hoverlabel": {
                      "align": "left"
                    },
                    "hovermode": "closest",
                    "mapbox": {
                      "style": "light"
                    },
                    "paper_bgcolor": "white",
                    "plot_bgcolor": "#E5ECF6",
                    "polar": {
                      "angularaxis": {
                        "gridcolor": "white",
                        "linecolor": "white",
                        "ticks": ""
                      },
                      "bgcolor": "#E5ECF6",
                      "radialaxis": {
                        "gridcolor": "white",
                        "linecolor": "white",
                        "ticks": ""
                      }
                    },
                    "scene": {
                      "xaxis": {
                        "backgroundcolor": "#E5ECF6",
                        "gridcolor": "white",
                        "gridwidth": 2,
                        "linecolor": "white",
                        "showbackground": true,
                        "ticks": "",
                        "zerolinecolor": "white"
                      },
                      "yaxis": {
                        "backgroundcolor": "#E5ECF6",
                        "gridcolor": "white",
                        "gridwidth": 2,
                        "linecolor": "white",
                        "showbackground": true,
                        "ticks": "",
                        "zerolinecolor": "white"
                      },
                      "zaxis": {
                        "backgroundcolor": "#E5ECF6",
                        "gridcolor": "white",
                        "gridwidth": 2,
                        "linecolor": "white",
                        "showbackground": true,
                        "ticks": "",
                        "zerolinecolor": "white"
                      }
                    },
                    "shapedefaults": {
                      "line": {
                        "color": "#2a3f5f"
                      }
                    },
                    "ternary": {
                      "aaxis": {
                        "gridcolor": "white",
                        "linecolor": "white",
                        "ticks": ""
                      },
                      "baxis": {
                        "gridcolor": "white",
                        "linecolor": "white",
                        "ticks": ""
                      },
                      "bgcolor": "#E5ECF6",
                      "caxis": {
                        "gridcolor": "white",
                        "linecolor": "white",
                        "ticks": ""
                      }
                    },
                    "title": {
                      "x": 0.05
                    },
                    "xaxis": {
                      "automargin": true,
                      "gridcolor": "white",
                      "linecolor": "white",
                      "ticks": "",
                      "title": {
                        "standoff": 15
                      },
                      "zerolinecolor": "white",
                      "zerolinewidth": 2
                    },
                    "yaxis": {
                      "automargin": true,
                      "gridcolor": "white",
                      "linecolor": "white",
                      "ticks": "",
                      "title": {
                        "standoff": 15
                      },
                      "zerolinecolor": "white",
                      "zerolinewidth": 2
                    }
                  }
                },
                "title": {
                  "font": {
                    "color": "#4D5663"
                  },
                  "text": "Incremental  R Squared for Top 15 Variables "
                },
                "xaxis": {
                  "gridcolor": "#E1E5ED",
                  "showgrid": true,
                  "tickfont": {
                    "color": "#4D5663"
                  },
                  "title": {
                    "font": {
                      "color": "#4D5663"
                    },
                    "text": "Estimators"
                  },
                  "zerolinecolor": "#E1E5ED"
                },
                "yaxis": {
                  "gridcolor": "#E1E5ED",
                  "showgrid": true,
                  "tickfont": {
                    "color": "#4D5663"
                  },
                  "title": {
                    "font": {
                      "color": "#4D5663"
                    },
                    "text": "Incremental R2"
                  },
                  "zerolinecolor": "#E1E5ED"
                }
              },
              "config": {
                "showLink": false,
                "linkText": "Export to plot.ly",
                "plotlyServerURL": "https://plot.ly"
              }
            },
            "text/html": [
              "<div>                            <div id=\"829e6688-ef45-42dd-a012-169c122d5623\" class=\"plotly-graph-div\" style=\"height:525px; width:100%;\"></div>            <script type=\"text/javascript\">                require([\"plotly\"], function(Plotly) {                    window.PLOTLYENV=window.PLOTLYENV || {};                                    if (document.getElementById(\"829e6688-ef45-42dd-a012-169c122d5623\")) {                    Plotly.newPlot(                        \"829e6688-ef45-42dd-a012-169c122d5623\",                        [{\"marker\":{\"color\":\"rgba(255, 153, 51, 0.6)\",\"line\":{\"color\":\"rgba(255, 153, 51, 1.0)\",\"width\":1}},\"name\":\"incremental_r2\",\"orientation\":\"v\",\"text\":\"\",\"x\":[\"job-title_Former Employee - Visual Data Specialist II\",\"job-title_Current Employee - Cloud Solutions Consultant\",\"job-title_Current Employee - QA Developer\",\"job-title_Former Employee - Line Cook\",\"job-title_Former Employee - Teacher\",\"job-title_Former Employee - Escalation Manager\",\"job-title_Current Employee - Electrical Engineer\",\"job-title_Former Employee - Store Leader\",\"job-title_Former Employee - Director of Developmental Sales &amp, Marketing\",\"job-title_Former Employee - Operations Engineer\",\"job-title_Former Employee - Sales\",\"job-title_Current Employee - Site Reliability Engineer\",\"job-title_Former Employee - Security\",\"job-title_Former Employee - Technical Program Manager\",\"job-title_Current Employee - Anonymous Employee\"],\"y\":[0.007001546615075849,0.007001546615075847,0.007001546615075846,0.0070015466150758435,0.0070015466150758435,0.007001546615075839,0.0070015466150758375,0.007001546615075837,0.007001546615075833,0.006993173663917467,0.0059818669978949825,0.004391960229328281,0.004391960229328271,0.003589422148518837,0.002723257952717857],\"type\":\"bar\"}],                        {\"legend\":{\"bgcolor\":\"#F5F6F9\",\"font\":{\"color\":\"#4D5663\"}},\"paper_bgcolor\":\"#F5F6F9\",\"plot_bgcolor\":\"#F5F6F9\",\"template\":{\"data\":{\"barpolar\":[{\"marker\":{\"line\":{\"color\":\"#E5ECF6\",\"width\":0.5},\"pattern\":{\"fillmode\":\"overlay\",\"size\":10,\"solidity\":0.2}},\"type\":\"barpolar\"}],\"bar\":[{\"error_x\":{\"color\":\"#2a3f5f\"},\"error_y\":{\"color\":\"#2a3f5f\"},\"marker\":{\"line\":{\"color\":\"#E5ECF6\",\"width\":0.5},\"pattern\":{\"fillmode\":\"overlay\",\"size\":10,\"solidity\":0.2}},\"type\":\"bar\"}],\"carpet\":[{\"aaxis\":{\"endlinecolor\":\"#2a3f5f\",\"gridcolor\":\"white\",\"linecolor\":\"white\",\"minorgridcolor\":\"white\",\"startlinecolor\":\"#2a3f5f\"},\"baxis\":{\"endlinecolor\":\"#2a3f5f\",\"gridcolor\":\"white\",\"linecolor\":\"white\",\"minorgridcolor\":\"white\",\"startlinecolor\":\"#2a3f5f\"},\"type\":\"carpet\"}],\"choropleth\":[{\"colorbar\":{\"outlinewidth\":0,\"ticks\":\"\"},\"type\":\"choropleth\"}],\"contourcarpet\":[{\"colorbar\":{\"outlinewidth\":0,\"ticks\":\"\"},\"type\":\"contourcarpet\"}],\"contour\":[{\"colorbar\":{\"outlinewidth\":0,\"ticks\":\"\"},\"colorscale\":[[0.0,\"#0d0887\"],[0.1111111111111111,\"#46039f\"],[0.2222222222222222,\"#7201a8\"],[0.3333333333333333,\"#9c179e\"],[0.4444444444444444,\"#bd3786\"],[0.5555555555555556,\"#d8576b\"],[0.6666666666666666,\"#ed7953\"],[0.7777777777777778,\"#fb9f3a\"],[0.8888888888888888,\"#fdca26\"],[1.0,\"#f0f921\"]],\"type\":\"contour\"}],\"heatmapgl\":[{\"colorbar\":{\"outlinewidth\":0,\"ticks\":\"\"},\"colorscale\":[[0.0,\"#0d0887\"],[0.1111111111111111,\"#46039f\"],[0.2222222222222222,\"#7201a8\"],[0.3333333333333333,\"#9c179e\"],[0.4444444444444444,\"#bd3786\"],[0.5555555555555556,\"#d8576b\"],[0.6666666666666666,\"#ed7953\"],[0.7777777777777778,\"#fb9f3a\"],[0.8888888888888888,\"#fdca26\"],[1.0,\"#f0f921\"]],\"type\":\"heatmapgl\"}],\"heatmap\":[{\"colorbar\":{\"outlinewidth\":0,\"ticks\":\"\"},\"colorscale\":[[0.0,\"#0d0887\"],[0.1111111111111111,\"#46039f\"],[0.2222222222222222,\"#7201a8\"],[0.3333333333333333,\"#9c179e\"],[0.4444444444444444,\"#bd3786\"],[0.5555555555555556,\"#d8576b\"],[0.6666666666666666,\"#ed7953\"],[0.7777777777777778,\"#fb9f3a\"],[0.8888888888888888,\"#fdca26\"],[1.0,\"#f0f921\"]],\"type\":\"heatmap\"}],\"histogram2dcontour\":[{\"colorbar\":{\"outlinewidth\":0,\"ticks\":\"\"},\"colorscale\":[[0.0,\"#0d0887\"],[0.1111111111111111,\"#46039f\"],[0.2222222222222222,\"#7201a8\"],[0.3333333333333333,\"#9c179e\"],[0.4444444444444444,\"#bd3786\"],[0.5555555555555556,\"#d8576b\"],[0.6666666666666666,\"#ed7953\"],[0.7777777777777778,\"#fb9f3a\"],[0.8888888888888888,\"#fdca26\"],[1.0,\"#f0f921\"]],\"type\":\"histogram2dcontour\"}],\"histogram2d\":[{\"colorbar\":{\"outlinewidth\":0,\"ticks\":\"\"},\"colorscale\":[[0.0,\"#0d0887\"],[0.1111111111111111,\"#46039f\"],[0.2222222222222222,\"#7201a8\"],[0.3333333333333333,\"#9c179e\"],[0.4444444444444444,\"#bd3786\"],[0.5555555555555556,\"#d8576b\"],[0.6666666666666666,\"#ed7953\"],[0.7777777777777778,\"#fb9f3a\"],[0.8888888888888888,\"#fdca26\"],[1.0,\"#f0f921\"]],\"type\":\"histogram2d\"}],\"histogram\":[{\"marker\":{\"pattern\":{\"fillmode\":\"overlay\",\"size\":10,\"solidity\":0.2}},\"type\":\"histogram\"}],\"mesh3d\":[{\"colorbar\":{\"outlinewidth\":0,\"ticks\":\"\"},\"type\":\"mesh3d\"}],\"parcoords\":[{\"line\":{\"colorbar\":{\"outlinewidth\":0,\"ticks\":\"\"}},\"type\":\"parcoords\"}],\"pie\":[{\"automargin\":true,\"type\":\"pie\"}],\"scatter3d\":[{\"line\":{\"colorbar\":{\"outlinewidth\":0,\"ticks\":\"\"}},\"marker\":{\"colorbar\":{\"outlinewidth\":0,\"ticks\":\"\"}},\"type\":\"scatter3d\"}],\"scattercarpet\":[{\"marker\":{\"colorbar\":{\"outlinewidth\":0,\"ticks\":\"\"}},\"type\":\"scattercarpet\"}],\"scattergeo\":[{\"marker\":{\"colorbar\":{\"outlinewidth\":0,\"ticks\":\"\"}},\"type\":\"scattergeo\"}],\"scattergl\":[{\"marker\":{\"colorbar\":{\"outlinewidth\":0,\"ticks\":\"\"}},\"type\":\"scattergl\"}],\"scattermapbox\":[{\"marker\":{\"colorbar\":{\"outlinewidth\":0,\"ticks\":\"\"}},\"type\":\"scattermapbox\"}],\"scatterpolargl\":[{\"marker\":{\"colorbar\":{\"outlinewidth\":0,\"ticks\":\"\"}},\"type\":\"scatterpolargl\"}],\"scatterpolar\":[{\"marker\":{\"colorbar\":{\"outlinewidth\":0,\"ticks\":\"\"}},\"type\":\"scatterpolar\"}],\"scatter\":[{\"marker\":{\"colorbar\":{\"outlinewidth\":0,\"ticks\":\"\"}},\"type\":\"scatter\"}],\"scatterternary\":[{\"marker\":{\"colorbar\":{\"outlinewidth\":0,\"ticks\":\"\"}},\"type\":\"scatterternary\"}],\"surface\":[{\"colorbar\":{\"outlinewidth\":0,\"ticks\":\"\"},\"colorscale\":[[0.0,\"#0d0887\"],[0.1111111111111111,\"#46039f\"],[0.2222222222222222,\"#7201a8\"],[0.3333333333333333,\"#9c179e\"],[0.4444444444444444,\"#bd3786\"],[0.5555555555555556,\"#d8576b\"],[0.6666666666666666,\"#ed7953\"],[0.7777777777777778,\"#fb9f3a\"],[0.8888888888888888,\"#fdca26\"],[1.0,\"#f0f921\"]],\"type\":\"surface\"}],\"table\":[{\"cells\":{\"fill\":{\"color\":\"#EBF0F8\"},\"line\":{\"color\":\"white\"}},\"header\":{\"fill\":{\"color\":\"#C8D4E3\"},\"line\":{\"color\":\"white\"}},\"type\":\"table\"}]},\"layout\":{\"annotationdefaults\":{\"arrowcolor\":\"#2a3f5f\",\"arrowhead\":0,\"arrowwidth\":1},\"autotypenumbers\":\"strict\",\"coloraxis\":{\"colorbar\":{\"outlinewidth\":0,\"ticks\":\"\"}},\"colorscale\":{\"diverging\":[[0,\"#8e0152\"],[0.1,\"#c51b7d\"],[0.2,\"#de77ae\"],[0.3,\"#f1b6da\"],[0.4,\"#fde0ef\"],[0.5,\"#f7f7f7\"],[0.6,\"#e6f5d0\"],[0.7,\"#b8e186\"],[0.8,\"#7fbc41\"],[0.9,\"#4d9221\"],[1,\"#276419\"]],\"sequential\":[[0.0,\"#0d0887\"],[0.1111111111111111,\"#46039f\"],[0.2222222222222222,\"#7201a8\"],[0.3333333333333333,\"#9c179e\"],[0.4444444444444444,\"#bd3786\"],[0.5555555555555556,\"#d8576b\"],[0.6666666666666666,\"#ed7953\"],[0.7777777777777778,\"#fb9f3a\"],[0.8888888888888888,\"#fdca26\"],[1.0,\"#f0f921\"]],\"sequentialminus\":[[0.0,\"#0d0887\"],[0.1111111111111111,\"#46039f\"],[0.2222222222222222,\"#7201a8\"],[0.3333333333333333,\"#9c179e\"],[0.4444444444444444,\"#bd3786\"],[0.5555555555555556,\"#d8576b\"],[0.6666666666666666,\"#ed7953\"],[0.7777777777777778,\"#fb9f3a\"],[0.8888888888888888,\"#fdca26\"],[1.0,\"#f0f921\"]]},\"colorway\":[\"#636efa\",\"#EF553B\",\"#00cc96\",\"#ab63fa\",\"#FFA15A\",\"#19d3f3\",\"#FF6692\",\"#B6E880\",\"#FF97FF\",\"#FECB52\"],\"font\":{\"color\":\"#2a3f5f\"},\"geo\":{\"bgcolor\":\"white\",\"lakecolor\":\"white\",\"landcolor\":\"#E5ECF6\",\"showlakes\":true,\"showland\":true,\"subunitcolor\":\"white\"},\"hoverlabel\":{\"align\":\"left\"},\"hovermode\":\"closest\",\"mapbox\":{\"style\":\"light\"},\"paper_bgcolor\":\"white\",\"plot_bgcolor\":\"#E5ECF6\",\"polar\":{\"angularaxis\":{\"gridcolor\":\"white\",\"linecolor\":\"white\",\"ticks\":\"\"},\"bgcolor\":\"#E5ECF6\",\"radialaxis\":{\"gridcolor\":\"white\",\"linecolor\":\"white\",\"ticks\":\"\"}},\"scene\":{\"xaxis\":{\"backgroundcolor\":\"#E5ECF6\",\"gridcolor\":\"white\",\"gridwidth\":2,\"linecolor\":\"white\",\"showbackground\":true,\"ticks\":\"\",\"zerolinecolor\":\"white\"},\"yaxis\":{\"backgroundcolor\":\"#E5ECF6\",\"gridcolor\":\"white\",\"gridwidth\":2,\"linecolor\":\"white\",\"showbackground\":true,\"ticks\":\"\",\"zerolinecolor\":\"white\"},\"zaxis\":{\"backgroundcolor\":\"#E5ECF6\",\"gridcolor\":\"white\",\"gridwidth\":2,\"linecolor\":\"white\",\"showbackground\":true,\"ticks\":\"\",\"zerolinecolor\":\"white\"}},\"shapedefaults\":{\"line\":{\"color\":\"#2a3f5f\"}},\"ternary\":{\"aaxis\":{\"gridcolor\":\"white\",\"linecolor\":\"white\",\"ticks\":\"\"},\"baxis\":{\"gridcolor\":\"white\",\"linecolor\":\"white\",\"ticks\":\"\"},\"bgcolor\":\"#E5ECF6\",\"caxis\":{\"gridcolor\":\"white\",\"linecolor\":\"white\",\"ticks\":\"\"}},\"title\":{\"x\":0.05},\"xaxis\":{\"automargin\":true,\"gridcolor\":\"white\",\"linecolor\":\"white\",\"ticks\":\"\",\"title\":{\"standoff\":15},\"zerolinecolor\":\"white\",\"zerolinewidth\":2},\"yaxis\":{\"automargin\":true,\"gridcolor\":\"white\",\"linecolor\":\"white\",\"ticks\":\"\",\"title\":{\"standoff\":15},\"zerolinecolor\":\"white\",\"zerolinewidth\":2}}},\"title\":{\"font\":{\"color\":\"#4D5663\"},\"text\":\"Incremental  R Squared for Top 15 Variables \"},\"xaxis\":{\"gridcolor\":\"#E1E5ED\",\"showgrid\":true,\"tickfont\":{\"color\":\"#4D5663\"},\"title\":{\"font\":{\"color\":\"#4D5663\"},\"text\":\"Estimators\"},\"zerolinecolor\":\"#E1E5ED\"},\"yaxis\":{\"gridcolor\":\"#E1E5ED\",\"showgrid\":true,\"tickfont\":{\"color\":\"#4D5663\"},\"title\":{\"font\":{\"color\":\"#4D5663\"},\"text\":\"Incremental R2\"},\"zerolinecolor\":\"#E1E5ED\"}},                        {\"responsive\": true}                    ).then(function(){\n",
              "                            \n",
              "var gd = document.getElementById('829e6688-ef45-42dd-a012-169c122d5623');\n",
              "var x = new MutationObserver(function (mutations, observer) {{\n",
              "        var display = window.getComputedStyle(gd).display;\n",
              "        if (!display || display === 'none') {{\n",
              "            console.log([gd, 'removed!']);\n",
              "            Plotly.purge(gd);\n",
              "            observer.disconnect();\n",
              "        }}\n",
              "}});\n",
              "\n",
              "// Listen for the removal of the full notebook cells\n",
              "var notebookContainer = gd.closest('#notebook-container');\n",
              "if (notebookContainer) {{\n",
              "    x.observe(notebookContainer, {childList: true});\n",
              "}}\n",
              "\n",
              "// Listen for the clearing of the current output cell\n",
              "var outputEl = gd.closest('.output');\n",
              "if (outputEl) {{\n",
              "    x.observe(outputEl, {childList: true});\n",
              "}}\n",
              "\n",
              "                        })                };                });            </script>        </div>"
            ]
          },
          "metadata": {}
        },
        {
          "output_type": "display_data",
          "data": {
            "application/vnd.plotly.v1+json": {
              "data": [
                {
                  "labels": [
                    "job-title_Former Employee - Visual Data Specialist II",
                    "job-title_Current Employee - Cloud Solutions Consultant",
                    "job-title_Current Employee - QA Developer",
                    "job-title_Former Employee - Line Cook",
                    "job-title_Former Employee - Teacher",
                    "job-title_Former Employee - Escalation Manager",
                    "job-title_Current Employee - Electrical Engineer",
                    "job-title_Former Employee - Store Leader",
                    "job-title_Former Employee - Director of Developmental Sales &amp, Marketing",
                    "job-title_Former Employee - Operations Engineer",
                    "job-title_Former Employee - Sales",
                    "job-title_Current Employee - Site Reliability Engineer",
                    "job-title_Former Employee - Security",
                    "job-title_Former Employee - Technical Program Manager",
                    "job-title_Current Employee - Anonymous Employee"
                  ],
                  "marker": {
                    "colors": [
                      "rgba(255, 153, 51, 1.0)",
                      "rgba(55, 128, 191, 1.0)",
                      "rgba(50, 171, 96, 1.0)",
                      "rgba(128, 0, 128, 1.0)",
                      "rgba(219, 64, 82, 1.0)",
                      "rgba(0, 128, 128, 1.0)",
                      "rgba(255, 255, 51, 1.0)",
                      "rgba(128, 128, 0, 1.0)",
                      "rgba(251, 128, 114, 1.0)",
                      "rgba(128, 177, 211, 1.0)",
                      "rgba(128, 177, 211, 0.8999999999999999)",
                      "rgba(255, 153, 51, 0.8999999999999999)",
                      "rgba(55, 128, 191, 0.8999999999999999)",
                      "rgba(50, 171, 96, 0.8999999999999999)",
                      "rgba(128, 0, 128, 0.8999999999999999)"
                    ]
                  },
                  "name": "",
                  "values": [
                    7.686779942789042,
                    7.68677994278904,
                    7.686779942789039,
                    7.686779942789037,
                    7.686779942789037,
                    7.686779942789032,
                    7.68677994278903,
                    7.6867799427890295,
                    7.686779942789025,
                    7.677587540515004,
                    6.567305452318656,
                    4.821796333917868,
                    4.821796333917859,
                    3.940714772651478,
                    2.989780081577819
                  ],
                  "type": "pie"
                }
              ],
              "layout": {
                "legend": {
                  "bgcolor": "#F5F6F9",
                  "font": {
                    "color": "#4D5663"
                  }
                },
                "paper_bgcolor": "#F5F6F9",
                "plot_bgcolor": "#F5F6F9",
                "template": {
                  "data": {
                    "barpolar": [
                      {
                        "marker": {
                          "line": {
                            "color": "#E5ECF6",
                            "width": 0.5
                          },
                          "pattern": {
                            "fillmode": "overlay",
                            "size": 10,
                            "solidity": 0.2
                          }
                        },
                        "type": "barpolar"
                      }
                    ],
                    "bar": [
                      {
                        "error_x": {
                          "color": "#2a3f5f"
                        },
                        "error_y": {
                          "color": "#2a3f5f"
                        },
                        "marker": {
                          "line": {
                            "color": "#E5ECF6",
                            "width": 0.5
                          },
                          "pattern": {
                            "fillmode": "overlay",
                            "size": 10,
                            "solidity": 0.2
                          }
                        },
                        "type": "bar"
                      }
                    ],
                    "carpet": [
                      {
                        "aaxis": {
                          "endlinecolor": "#2a3f5f",
                          "gridcolor": "white",
                          "linecolor": "white",
                          "minorgridcolor": "white",
                          "startlinecolor": "#2a3f5f"
                        },
                        "baxis": {
                          "endlinecolor": "#2a3f5f",
                          "gridcolor": "white",
                          "linecolor": "white",
                          "minorgridcolor": "white",
                          "startlinecolor": "#2a3f5f"
                        },
                        "type": "carpet"
                      }
                    ],
                    "choropleth": [
                      {
                        "colorbar": {
                          "outlinewidth": 0,
                          "ticks": ""
                        },
                        "type": "choropleth"
                      }
                    ],
                    "contourcarpet": [
                      {
                        "colorbar": {
                          "outlinewidth": 0,
                          "ticks": ""
                        },
                        "type": "contourcarpet"
                      }
                    ],
                    "contour": [
                      {
                        "colorbar": {
                          "outlinewidth": 0,
                          "ticks": ""
                        },
                        "colorscale": [
                          [
                            0,
                            "#0d0887"
                          ],
                          [
                            0.1111111111111111,
                            "#46039f"
                          ],
                          [
                            0.2222222222222222,
                            "#7201a8"
                          ],
                          [
                            0.3333333333333333,
                            "#9c179e"
                          ],
                          [
                            0.4444444444444444,
                            "#bd3786"
                          ],
                          [
                            0.5555555555555556,
                            "#d8576b"
                          ],
                          [
                            0.6666666666666666,
                            "#ed7953"
                          ],
                          [
                            0.7777777777777778,
                            "#fb9f3a"
                          ],
                          [
                            0.8888888888888888,
                            "#fdca26"
                          ],
                          [
                            1,
                            "#f0f921"
                          ]
                        ],
                        "type": "contour"
                      }
                    ],
                    "heatmapgl": [
                      {
                        "colorbar": {
                          "outlinewidth": 0,
                          "ticks": ""
                        },
                        "colorscale": [
                          [
                            0,
                            "#0d0887"
                          ],
                          [
                            0.1111111111111111,
                            "#46039f"
                          ],
                          [
                            0.2222222222222222,
                            "#7201a8"
                          ],
                          [
                            0.3333333333333333,
                            "#9c179e"
                          ],
                          [
                            0.4444444444444444,
                            "#bd3786"
                          ],
                          [
                            0.5555555555555556,
                            "#d8576b"
                          ],
                          [
                            0.6666666666666666,
                            "#ed7953"
                          ],
                          [
                            0.7777777777777778,
                            "#fb9f3a"
                          ],
                          [
                            0.8888888888888888,
                            "#fdca26"
                          ],
                          [
                            1,
                            "#f0f921"
                          ]
                        ],
                        "type": "heatmapgl"
                      }
                    ],
                    "heatmap": [
                      {
                        "colorbar": {
                          "outlinewidth": 0,
                          "ticks": ""
                        },
                        "colorscale": [
                          [
                            0,
                            "#0d0887"
                          ],
                          [
                            0.1111111111111111,
                            "#46039f"
                          ],
                          [
                            0.2222222222222222,
                            "#7201a8"
                          ],
                          [
                            0.3333333333333333,
                            "#9c179e"
                          ],
                          [
                            0.4444444444444444,
                            "#bd3786"
                          ],
                          [
                            0.5555555555555556,
                            "#d8576b"
                          ],
                          [
                            0.6666666666666666,
                            "#ed7953"
                          ],
                          [
                            0.7777777777777778,
                            "#fb9f3a"
                          ],
                          [
                            0.8888888888888888,
                            "#fdca26"
                          ],
                          [
                            1,
                            "#f0f921"
                          ]
                        ],
                        "type": "heatmap"
                      }
                    ],
                    "histogram2dcontour": [
                      {
                        "colorbar": {
                          "outlinewidth": 0,
                          "ticks": ""
                        },
                        "colorscale": [
                          [
                            0,
                            "#0d0887"
                          ],
                          [
                            0.1111111111111111,
                            "#46039f"
                          ],
                          [
                            0.2222222222222222,
                            "#7201a8"
                          ],
                          [
                            0.3333333333333333,
                            "#9c179e"
                          ],
                          [
                            0.4444444444444444,
                            "#bd3786"
                          ],
                          [
                            0.5555555555555556,
                            "#d8576b"
                          ],
                          [
                            0.6666666666666666,
                            "#ed7953"
                          ],
                          [
                            0.7777777777777778,
                            "#fb9f3a"
                          ],
                          [
                            0.8888888888888888,
                            "#fdca26"
                          ],
                          [
                            1,
                            "#f0f921"
                          ]
                        ],
                        "type": "histogram2dcontour"
                      }
                    ],
                    "histogram2d": [
                      {
                        "colorbar": {
                          "outlinewidth": 0,
                          "ticks": ""
                        },
                        "colorscale": [
                          [
                            0,
                            "#0d0887"
                          ],
                          [
                            0.1111111111111111,
                            "#46039f"
                          ],
                          [
                            0.2222222222222222,
                            "#7201a8"
                          ],
                          [
                            0.3333333333333333,
                            "#9c179e"
                          ],
                          [
                            0.4444444444444444,
                            "#bd3786"
                          ],
                          [
                            0.5555555555555556,
                            "#d8576b"
                          ],
                          [
                            0.6666666666666666,
                            "#ed7953"
                          ],
                          [
                            0.7777777777777778,
                            "#fb9f3a"
                          ],
                          [
                            0.8888888888888888,
                            "#fdca26"
                          ],
                          [
                            1,
                            "#f0f921"
                          ]
                        ],
                        "type": "histogram2d"
                      }
                    ],
                    "histogram": [
                      {
                        "marker": {
                          "pattern": {
                            "fillmode": "overlay",
                            "size": 10,
                            "solidity": 0.2
                          }
                        },
                        "type": "histogram"
                      }
                    ],
                    "mesh3d": [
                      {
                        "colorbar": {
                          "outlinewidth": 0,
                          "ticks": ""
                        },
                        "type": "mesh3d"
                      }
                    ],
                    "parcoords": [
                      {
                        "line": {
                          "colorbar": {
                            "outlinewidth": 0,
                            "ticks": ""
                          }
                        },
                        "type": "parcoords"
                      }
                    ],
                    "pie": [
                      {
                        "automargin": true,
                        "type": "pie"
                      }
                    ],
                    "scatter3d": [
                      {
                        "line": {
                          "colorbar": {
                            "outlinewidth": 0,
                            "ticks": ""
                          }
                        },
                        "marker": {
                          "colorbar": {
                            "outlinewidth": 0,
                            "ticks": ""
                          }
                        },
                        "type": "scatter3d"
                      }
                    ],
                    "scattercarpet": [
                      {
                        "marker": {
                          "colorbar": {
                            "outlinewidth": 0,
                            "ticks": ""
                          }
                        },
                        "type": "scattercarpet"
                      }
                    ],
                    "scattergeo": [
                      {
                        "marker": {
                          "colorbar": {
                            "outlinewidth": 0,
                            "ticks": ""
                          }
                        },
                        "type": "scattergeo"
                      }
                    ],
                    "scattergl": [
                      {
                        "marker": {
                          "colorbar": {
                            "outlinewidth": 0,
                            "ticks": ""
                          }
                        },
                        "type": "scattergl"
                      }
                    ],
                    "scattermapbox": [
                      {
                        "marker": {
                          "colorbar": {
                            "outlinewidth": 0,
                            "ticks": ""
                          }
                        },
                        "type": "scattermapbox"
                      }
                    ],
                    "scatterpolargl": [
                      {
                        "marker": {
                          "colorbar": {
                            "outlinewidth": 0,
                            "ticks": ""
                          }
                        },
                        "type": "scatterpolargl"
                      }
                    ],
                    "scatterpolar": [
                      {
                        "marker": {
                          "colorbar": {
                            "outlinewidth": 0,
                            "ticks": ""
                          }
                        },
                        "type": "scatterpolar"
                      }
                    ],
                    "scatter": [
                      {
                        "marker": {
                          "colorbar": {
                            "outlinewidth": 0,
                            "ticks": ""
                          }
                        },
                        "type": "scatter"
                      }
                    ],
                    "scatterternary": [
                      {
                        "marker": {
                          "colorbar": {
                            "outlinewidth": 0,
                            "ticks": ""
                          }
                        },
                        "type": "scatterternary"
                      }
                    ],
                    "surface": [
                      {
                        "colorbar": {
                          "outlinewidth": 0,
                          "ticks": ""
                        },
                        "colorscale": [
                          [
                            0,
                            "#0d0887"
                          ],
                          [
                            0.1111111111111111,
                            "#46039f"
                          ],
                          [
                            0.2222222222222222,
                            "#7201a8"
                          ],
                          [
                            0.3333333333333333,
                            "#9c179e"
                          ],
                          [
                            0.4444444444444444,
                            "#bd3786"
                          ],
                          [
                            0.5555555555555556,
                            "#d8576b"
                          ],
                          [
                            0.6666666666666666,
                            "#ed7953"
                          ],
                          [
                            0.7777777777777778,
                            "#fb9f3a"
                          ],
                          [
                            0.8888888888888888,
                            "#fdca26"
                          ],
                          [
                            1,
                            "#f0f921"
                          ]
                        ],
                        "type": "surface"
                      }
                    ],
                    "table": [
                      {
                        "cells": {
                          "fill": {
                            "color": "#EBF0F8"
                          },
                          "line": {
                            "color": "white"
                          }
                        },
                        "header": {
                          "fill": {
                            "color": "#C8D4E3"
                          },
                          "line": {
                            "color": "white"
                          }
                        },
                        "type": "table"
                      }
                    ]
                  },
                  "layout": {
                    "annotationdefaults": {
                      "arrowcolor": "#2a3f5f",
                      "arrowhead": 0,
                      "arrowwidth": 1
                    },
                    "autotypenumbers": "strict",
                    "coloraxis": {
                      "colorbar": {
                        "outlinewidth": 0,
                        "ticks": ""
                      }
                    },
                    "colorscale": {
                      "diverging": [
                        [
                          0,
                          "#8e0152"
                        ],
                        [
                          0.1,
                          "#c51b7d"
                        ],
                        [
                          0.2,
                          "#de77ae"
                        ],
                        [
                          0.3,
                          "#f1b6da"
                        ],
                        [
                          0.4,
                          "#fde0ef"
                        ],
                        [
                          0.5,
                          "#f7f7f7"
                        ],
                        [
                          0.6,
                          "#e6f5d0"
                        ],
                        [
                          0.7,
                          "#b8e186"
                        ],
                        [
                          0.8,
                          "#7fbc41"
                        ],
                        [
                          0.9,
                          "#4d9221"
                        ],
                        [
                          1,
                          "#276419"
                        ]
                      ],
                      "sequential": [
                        [
                          0,
                          "#0d0887"
                        ],
                        [
                          0.1111111111111111,
                          "#46039f"
                        ],
                        [
                          0.2222222222222222,
                          "#7201a8"
                        ],
                        [
                          0.3333333333333333,
                          "#9c179e"
                        ],
                        [
                          0.4444444444444444,
                          "#bd3786"
                        ],
                        [
                          0.5555555555555556,
                          "#d8576b"
                        ],
                        [
                          0.6666666666666666,
                          "#ed7953"
                        ],
                        [
                          0.7777777777777778,
                          "#fb9f3a"
                        ],
                        [
                          0.8888888888888888,
                          "#fdca26"
                        ],
                        [
                          1,
                          "#f0f921"
                        ]
                      ],
                      "sequentialminus": [
                        [
                          0,
                          "#0d0887"
                        ],
                        [
                          0.1111111111111111,
                          "#46039f"
                        ],
                        [
                          0.2222222222222222,
                          "#7201a8"
                        ],
                        [
                          0.3333333333333333,
                          "#9c179e"
                        ],
                        [
                          0.4444444444444444,
                          "#bd3786"
                        ],
                        [
                          0.5555555555555556,
                          "#d8576b"
                        ],
                        [
                          0.6666666666666666,
                          "#ed7953"
                        ],
                        [
                          0.7777777777777778,
                          "#fb9f3a"
                        ],
                        [
                          0.8888888888888888,
                          "#fdca26"
                        ],
                        [
                          1,
                          "#f0f921"
                        ]
                      ]
                    },
                    "colorway": [
                      "#636efa",
                      "#EF553B",
                      "#00cc96",
                      "#ab63fa",
                      "#FFA15A",
                      "#19d3f3",
                      "#FF6692",
                      "#B6E880",
                      "#FF97FF",
                      "#FECB52"
                    ],
                    "font": {
                      "color": "#2a3f5f"
                    },
                    "geo": {
                      "bgcolor": "white",
                      "lakecolor": "white",
                      "landcolor": "#E5ECF6",
                      "showlakes": true,
                      "showland": true,
                      "subunitcolor": "white"
                    },
                    "hoverlabel": {
                      "align": "left"
                    },
                    "hovermode": "closest",
                    "mapbox": {
                      "style": "light"
                    },
                    "paper_bgcolor": "white",
                    "plot_bgcolor": "#E5ECF6",
                    "polar": {
                      "angularaxis": {
                        "gridcolor": "white",
                        "linecolor": "white",
                        "ticks": ""
                      },
                      "bgcolor": "#E5ECF6",
                      "radialaxis": {
                        "gridcolor": "white",
                        "linecolor": "white",
                        "ticks": ""
                      }
                    },
                    "scene": {
                      "xaxis": {
                        "backgroundcolor": "#E5ECF6",
                        "gridcolor": "white",
                        "gridwidth": 2,
                        "linecolor": "white",
                        "showbackground": true,
                        "ticks": "",
                        "zerolinecolor": "white"
                      },
                      "yaxis": {
                        "backgroundcolor": "#E5ECF6",
                        "gridcolor": "white",
                        "gridwidth": 2,
                        "linecolor": "white",
                        "showbackground": true,
                        "ticks": "",
                        "zerolinecolor": "white"
                      },
                      "zaxis": {
                        "backgroundcolor": "#E5ECF6",
                        "gridcolor": "white",
                        "gridwidth": 2,
                        "linecolor": "white",
                        "showbackground": true,
                        "ticks": "",
                        "zerolinecolor": "white"
                      }
                    },
                    "shapedefaults": {
                      "line": {
                        "color": "#2a3f5f"
                      }
                    },
                    "ternary": {
                      "aaxis": {
                        "gridcolor": "white",
                        "linecolor": "white",
                        "ticks": ""
                      },
                      "baxis": {
                        "gridcolor": "white",
                        "linecolor": "white",
                        "ticks": ""
                      },
                      "bgcolor": "#E5ECF6",
                      "caxis": {
                        "gridcolor": "white",
                        "linecolor": "white",
                        "ticks": ""
                      }
                    },
                    "title": {
                      "x": 0.05
                    },
                    "xaxis": {
                      "automargin": true,
                      "gridcolor": "white",
                      "linecolor": "white",
                      "ticks": "",
                      "title": {
                        "standoff": 15
                      },
                      "zerolinecolor": "white",
                      "zerolinewidth": 2
                    },
                    "yaxis": {
                      "automargin": true,
                      "gridcolor": "white",
                      "linecolor": "white",
                      "ticks": "",
                      "title": {
                        "standoff": 15
                      },
                      "zerolinecolor": "white",
                      "zerolinewidth": 2
                    }
                  }
                },
                "title": {
                  "font": {
                    "color": "#4D5663"
                  },
                  "text": "Percentage Relative Importance for Top 15 Variables "
                }
              },
              "config": {
                "showLink": false,
                "linkText": "Export to plot.ly",
                "plotlyServerURL": "https://plot.ly"
              }
            },
            "text/html": [
              "<div>                            <div id=\"a3ee5e9f-50d1-45c3-ab7d-c95a01af5c2f\" class=\"plotly-graph-div\" style=\"height:525px; width:100%;\"></div>            <script type=\"text/javascript\">                require([\"plotly\"], function(Plotly) {                    window.PLOTLYENV=window.PLOTLYENV || {};                                    if (document.getElementById(\"a3ee5e9f-50d1-45c3-ab7d-c95a01af5c2f\")) {                    Plotly.newPlot(                        \"a3ee5e9f-50d1-45c3-ab7d-c95a01af5c2f\",                        [{\"labels\":[\"job-title_Former Employee - Visual Data Specialist II\",\"job-title_Current Employee - Cloud Solutions Consultant\",\"job-title_Current Employee - QA Developer\",\"job-title_Former Employee - Line Cook\",\"job-title_Former Employee - Teacher\",\"job-title_Former Employee - Escalation Manager\",\"job-title_Current Employee - Electrical Engineer\",\"job-title_Former Employee - Store Leader\",\"job-title_Former Employee - Director of Developmental Sales &amp, Marketing\",\"job-title_Former Employee - Operations Engineer\",\"job-title_Former Employee - Sales\",\"job-title_Current Employee - Site Reliability Engineer\",\"job-title_Former Employee - Security\",\"job-title_Former Employee - Technical Program Manager\",\"job-title_Current Employee - Anonymous Employee\"],\"marker\":{\"colors\":[\"rgba(255, 153, 51, 1.0)\",\"rgba(55, 128, 191, 1.0)\",\"rgba(50, 171, 96, 1.0)\",\"rgba(128, 0, 128, 1.0)\",\"rgba(219, 64, 82, 1.0)\",\"rgba(0, 128, 128, 1.0)\",\"rgba(255, 255, 51, 1.0)\",\"rgba(128, 128, 0, 1.0)\",\"rgba(251, 128, 114, 1.0)\",\"rgba(128, 177, 211, 1.0)\",\"rgba(128, 177, 211, 0.8999999999999999)\",\"rgba(255, 153, 51, 0.8999999999999999)\",\"rgba(55, 128, 191, 0.8999999999999999)\",\"rgba(50, 171, 96, 0.8999999999999999)\",\"rgba(128, 0, 128, 0.8999999999999999)\"]},\"name\":\"\",\"values\":[7.686779942789042,7.68677994278904,7.686779942789039,7.686779942789037,7.686779942789037,7.686779942789032,7.68677994278903,7.6867799427890295,7.686779942789025,7.677587540515004,6.567305452318656,4.821796333917868,4.821796333917859,3.940714772651478,2.989780081577819],\"type\":\"pie\"}],                        {\"legend\":{\"bgcolor\":\"#F5F6F9\",\"font\":{\"color\":\"#4D5663\"}},\"paper_bgcolor\":\"#F5F6F9\",\"plot_bgcolor\":\"#F5F6F9\",\"template\":{\"data\":{\"barpolar\":[{\"marker\":{\"line\":{\"color\":\"#E5ECF6\",\"width\":0.5},\"pattern\":{\"fillmode\":\"overlay\",\"size\":10,\"solidity\":0.2}},\"type\":\"barpolar\"}],\"bar\":[{\"error_x\":{\"color\":\"#2a3f5f\"},\"error_y\":{\"color\":\"#2a3f5f\"},\"marker\":{\"line\":{\"color\":\"#E5ECF6\",\"width\":0.5},\"pattern\":{\"fillmode\":\"overlay\",\"size\":10,\"solidity\":0.2}},\"type\":\"bar\"}],\"carpet\":[{\"aaxis\":{\"endlinecolor\":\"#2a3f5f\",\"gridcolor\":\"white\",\"linecolor\":\"white\",\"minorgridcolor\":\"white\",\"startlinecolor\":\"#2a3f5f\"},\"baxis\":{\"endlinecolor\":\"#2a3f5f\",\"gridcolor\":\"white\",\"linecolor\":\"white\",\"minorgridcolor\":\"white\",\"startlinecolor\":\"#2a3f5f\"},\"type\":\"carpet\"}],\"choropleth\":[{\"colorbar\":{\"outlinewidth\":0,\"ticks\":\"\"},\"type\":\"choropleth\"}],\"contourcarpet\":[{\"colorbar\":{\"outlinewidth\":0,\"ticks\":\"\"},\"type\":\"contourcarpet\"}],\"contour\":[{\"colorbar\":{\"outlinewidth\":0,\"ticks\":\"\"},\"colorscale\":[[0.0,\"#0d0887\"],[0.1111111111111111,\"#46039f\"],[0.2222222222222222,\"#7201a8\"],[0.3333333333333333,\"#9c179e\"],[0.4444444444444444,\"#bd3786\"],[0.5555555555555556,\"#d8576b\"],[0.6666666666666666,\"#ed7953\"],[0.7777777777777778,\"#fb9f3a\"],[0.8888888888888888,\"#fdca26\"],[1.0,\"#f0f921\"]],\"type\":\"contour\"}],\"heatmapgl\":[{\"colorbar\":{\"outlinewidth\":0,\"ticks\":\"\"},\"colorscale\":[[0.0,\"#0d0887\"],[0.1111111111111111,\"#46039f\"],[0.2222222222222222,\"#7201a8\"],[0.3333333333333333,\"#9c179e\"],[0.4444444444444444,\"#bd3786\"],[0.5555555555555556,\"#d8576b\"],[0.6666666666666666,\"#ed7953\"],[0.7777777777777778,\"#fb9f3a\"],[0.8888888888888888,\"#fdca26\"],[1.0,\"#f0f921\"]],\"type\":\"heatmapgl\"}],\"heatmap\":[{\"colorbar\":{\"outlinewidth\":0,\"ticks\":\"\"},\"colorscale\":[[0.0,\"#0d0887\"],[0.1111111111111111,\"#46039f\"],[0.2222222222222222,\"#7201a8\"],[0.3333333333333333,\"#9c179e\"],[0.4444444444444444,\"#bd3786\"],[0.5555555555555556,\"#d8576b\"],[0.6666666666666666,\"#ed7953\"],[0.7777777777777778,\"#fb9f3a\"],[0.8888888888888888,\"#fdca26\"],[1.0,\"#f0f921\"]],\"type\":\"heatmap\"}],\"histogram2dcontour\":[{\"colorbar\":{\"outlinewidth\":0,\"ticks\":\"\"},\"colorscale\":[[0.0,\"#0d0887\"],[0.1111111111111111,\"#46039f\"],[0.2222222222222222,\"#7201a8\"],[0.3333333333333333,\"#9c179e\"],[0.4444444444444444,\"#bd3786\"],[0.5555555555555556,\"#d8576b\"],[0.6666666666666666,\"#ed7953\"],[0.7777777777777778,\"#fb9f3a\"],[0.8888888888888888,\"#fdca26\"],[1.0,\"#f0f921\"]],\"type\":\"histogram2dcontour\"}],\"histogram2d\":[{\"colorbar\":{\"outlinewidth\":0,\"ticks\":\"\"},\"colorscale\":[[0.0,\"#0d0887\"],[0.1111111111111111,\"#46039f\"],[0.2222222222222222,\"#7201a8\"],[0.3333333333333333,\"#9c179e\"],[0.4444444444444444,\"#bd3786\"],[0.5555555555555556,\"#d8576b\"],[0.6666666666666666,\"#ed7953\"],[0.7777777777777778,\"#fb9f3a\"],[0.8888888888888888,\"#fdca26\"],[1.0,\"#f0f921\"]],\"type\":\"histogram2d\"}],\"histogram\":[{\"marker\":{\"pattern\":{\"fillmode\":\"overlay\",\"size\":10,\"solidity\":0.2}},\"type\":\"histogram\"}],\"mesh3d\":[{\"colorbar\":{\"outlinewidth\":0,\"ticks\":\"\"},\"type\":\"mesh3d\"}],\"parcoords\":[{\"line\":{\"colorbar\":{\"outlinewidth\":0,\"ticks\":\"\"}},\"type\":\"parcoords\"}],\"pie\":[{\"automargin\":true,\"type\":\"pie\"}],\"scatter3d\":[{\"line\":{\"colorbar\":{\"outlinewidth\":0,\"ticks\":\"\"}},\"marker\":{\"colorbar\":{\"outlinewidth\":0,\"ticks\":\"\"}},\"type\":\"scatter3d\"}],\"scattercarpet\":[{\"marker\":{\"colorbar\":{\"outlinewidth\":0,\"ticks\":\"\"}},\"type\":\"scattercarpet\"}],\"scattergeo\":[{\"marker\":{\"colorbar\":{\"outlinewidth\":0,\"ticks\":\"\"}},\"type\":\"scattergeo\"}],\"scattergl\":[{\"marker\":{\"colorbar\":{\"outlinewidth\":0,\"ticks\":\"\"}},\"type\":\"scattergl\"}],\"scattermapbox\":[{\"marker\":{\"colorbar\":{\"outlinewidth\":0,\"ticks\":\"\"}},\"type\":\"scattermapbox\"}],\"scatterpolargl\":[{\"marker\":{\"colorbar\":{\"outlinewidth\":0,\"ticks\":\"\"}},\"type\":\"scatterpolargl\"}],\"scatterpolar\":[{\"marker\":{\"colorbar\":{\"outlinewidth\":0,\"ticks\":\"\"}},\"type\":\"scatterpolar\"}],\"scatter\":[{\"marker\":{\"colorbar\":{\"outlinewidth\":0,\"ticks\":\"\"}},\"type\":\"scatter\"}],\"scatterternary\":[{\"marker\":{\"colorbar\":{\"outlinewidth\":0,\"ticks\":\"\"}},\"type\":\"scatterternary\"}],\"surface\":[{\"colorbar\":{\"outlinewidth\":0,\"ticks\":\"\"},\"colorscale\":[[0.0,\"#0d0887\"],[0.1111111111111111,\"#46039f\"],[0.2222222222222222,\"#7201a8\"],[0.3333333333333333,\"#9c179e\"],[0.4444444444444444,\"#bd3786\"],[0.5555555555555556,\"#d8576b\"],[0.6666666666666666,\"#ed7953\"],[0.7777777777777778,\"#fb9f3a\"],[0.8888888888888888,\"#fdca26\"],[1.0,\"#f0f921\"]],\"type\":\"surface\"}],\"table\":[{\"cells\":{\"fill\":{\"color\":\"#EBF0F8\"},\"line\":{\"color\":\"white\"}},\"header\":{\"fill\":{\"color\":\"#C8D4E3\"},\"line\":{\"color\":\"white\"}},\"type\":\"table\"}]},\"layout\":{\"annotationdefaults\":{\"arrowcolor\":\"#2a3f5f\",\"arrowhead\":0,\"arrowwidth\":1},\"autotypenumbers\":\"strict\",\"coloraxis\":{\"colorbar\":{\"outlinewidth\":0,\"ticks\":\"\"}},\"colorscale\":{\"diverging\":[[0,\"#8e0152\"],[0.1,\"#c51b7d\"],[0.2,\"#de77ae\"],[0.3,\"#f1b6da\"],[0.4,\"#fde0ef\"],[0.5,\"#f7f7f7\"],[0.6,\"#e6f5d0\"],[0.7,\"#b8e186\"],[0.8,\"#7fbc41\"],[0.9,\"#4d9221\"],[1,\"#276419\"]],\"sequential\":[[0.0,\"#0d0887\"],[0.1111111111111111,\"#46039f\"],[0.2222222222222222,\"#7201a8\"],[0.3333333333333333,\"#9c179e\"],[0.4444444444444444,\"#bd3786\"],[0.5555555555555556,\"#d8576b\"],[0.6666666666666666,\"#ed7953\"],[0.7777777777777778,\"#fb9f3a\"],[0.8888888888888888,\"#fdca26\"],[1.0,\"#f0f921\"]],\"sequentialminus\":[[0.0,\"#0d0887\"],[0.1111111111111111,\"#46039f\"],[0.2222222222222222,\"#7201a8\"],[0.3333333333333333,\"#9c179e\"],[0.4444444444444444,\"#bd3786\"],[0.5555555555555556,\"#d8576b\"],[0.6666666666666666,\"#ed7953\"],[0.7777777777777778,\"#fb9f3a\"],[0.8888888888888888,\"#fdca26\"],[1.0,\"#f0f921\"]]},\"colorway\":[\"#636efa\",\"#EF553B\",\"#00cc96\",\"#ab63fa\",\"#FFA15A\",\"#19d3f3\",\"#FF6692\",\"#B6E880\",\"#FF97FF\",\"#FECB52\"],\"font\":{\"color\":\"#2a3f5f\"},\"geo\":{\"bgcolor\":\"white\",\"lakecolor\":\"white\",\"landcolor\":\"#E5ECF6\",\"showlakes\":true,\"showland\":true,\"subunitcolor\":\"white\"},\"hoverlabel\":{\"align\":\"left\"},\"hovermode\":\"closest\",\"mapbox\":{\"style\":\"light\"},\"paper_bgcolor\":\"white\",\"plot_bgcolor\":\"#E5ECF6\",\"polar\":{\"angularaxis\":{\"gridcolor\":\"white\",\"linecolor\":\"white\",\"ticks\":\"\"},\"bgcolor\":\"#E5ECF6\",\"radialaxis\":{\"gridcolor\":\"white\",\"linecolor\":\"white\",\"ticks\":\"\"}},\"scene\":{\"xaxis\":{\"backgroundcolor\":\"#E5ECF6\",\"gridcolor\":\"white\",\"gridwidth\":2,\"linecolor\":\"white\",\"showbackground\":true,\"ticks\":\"\",\"zerolinecolor\":\"white\"},\"yaxis\":{\"backgroundcolor\":\"#E5ECF6\",\"gridcolor\":\"white\",\"gridwidth\":2,\"linecolor\":\"white\",\"showbackground\":true,\"ticks\":\"\",\"zerolinecolor\":\"white\"},\"zaxis\":{\"backgroundcolor\":\"#E5ECF6\",\"gridcolor\":\"white\",\"gridwidth\":2,\"linecolor\":\"white\",\"showbackground\":true,\"ticks\":\"\",\"zerolinecolor\":\"white\"}},\"shapedefaults\":{\"line\":{\"color\":\"#2a3f5f\"}},\"ternary\":{\"aaxis\":{\"gridcolor\":\"white\",\"linecolor\":\"white\",\"ticks\":\"\"},\"baxis\":{\"gridcolor\":\"white\",\"linecolor\":\"white\",\"ticks\":\"\"},\"bgcolor\":\"#E5ECF6\",\"caxis\":{\"gridcolor\":\"white\",\"linecolor\":\"white\",\"ticks\":\"\"}},\"title\":{\"x\":0.05},\"xaxis\":{\"automargin\":true,\"gridcolor\":\"white\",\"linecolor\":\"white\",\"ticks\":\"\",\"title\":{\"standoff\":15},\"zerolinecolor\":\"white\",\"zerolinewidth\":2},\"yaxis\":{\"automargin\":true,\"gridcolor\":\"white\",\"linecolor\":\"white\",\"ticks\":\"\",\"title\":{\"standoff\":15},\"zerolinecolor\":\"white\",\"zerolinewidth\":2}}},\"title\":{\"font\":{\"color\":\"#4D5663\"},\"text\":\"Percentage Relative Importance for Top 15 Variables \"}},                        {\"responsive\": true}                    ).then(function(){\n",
              "                            \n",
              "var gd = document.getElementById('a3ee5e9f-50d1-45c3-ab7d-c95a01af5c2f');\n",
              "var x = new MutationObserver(function (mutations, observer) {{\n",
              "        var display = window.getComputedStyle(gd).display;\n",
              "        if (!display || display === 'none') {{\n",
              "            console.log([gd, 'removed!']);\n",
              "            Plotly.purge(gd);\n",
              "            observer.disconnect();\n",
              "        }}\n",
              "}});\n",
              "\n",
              "// Listen for the removal of the full notebook cells\n",
              "var notebookContainer = gd.closest('#notebook-container');\n",
              "if (notebookContainer) {{\n",
              "    x.observe(notebookContainer, {childList: true});\n",
              "}}\n",
              "\n",
              "// Listen for the clearing of the current output cell\n",
              "var outputEl = gd.closest('.output');\n",
              "if (outputEl) {{\n",
              "    x.observe(outputEl, {childList: true});\n",
              "}}\n",
              "\n",
              "                        })                };                });            </script>        </div>"
            ]
          },
          "metadata": {}
        },
        {
          "output_type": "display_data",
          "data": {
            "application/javascript": [
              "\n",
              "(function(root) {\n",
              "  function now() {\n",
              "    return new Date();\n",
              "  }\n",
              "\n",
              "  var force = true;\n",
              "\n",
              "  if (typeof root._bokeh_onload_callbacks === \"undefined\" || force === true) {\n",
              "    root._bokeh_onload_callbacks = [];\n",
              "    root._bokeh_is_loading = undefined;\n",
              "  }\n",
              "\n",
              "  var JS_MIME_TYPE = 'application/javascript';\n",
              "  var HTML_MIME_TYPE = 'text/html';\n",
              "  var EXEC_MIME_TYPE = 'application/vnd.bokehjs_exec.v0+json';\n",
              "  var CLASS_NAME = 'output_bokeh rendered_html';\n",
              "\n",
              "  /**\n",
              "   * Render data to the DOM node\n",
              "   */\n",
              "  function render(props, node) {\n",
              "    var script = document.createElement(\"script\");\n",
              "    node.appendChild(script);\n",
              "  }\n",
              "\n",
              "  /**\n",
              "   * Handle when an output is cleared or removed\n",
              "   */\n",
              "  function handleClearOutput(event, handle) {\n",
              "    var cell = handle.cell;\n",
              "\n",
              "    var id = cell.output_area._bokeh_element_id;\n",
              "    var server_id = cell.output_area._bokeh_server_id;\n",
              "    // Clean up Bokeh references\n",
              "    if (id != null && id in Bokeh.index) {\n",
              "      Bokeh.index[id].model.document.clear();\n",
              "      delete Bokeh.index[id];\n",
              "    }\n",
              "\n",
              "    if (server_id !== undefined) {\n",
              "      // Clean up Bokeh references\n",
              "      var cmd = \"from bokeh.io.state import curstate; print(curstate().uuid_to_server['\" + server_id + \"'].get_sessions()[0].document.roots[0]._id)\";\n",
              "      cell.notebook.kernel.execute(cmd, {\n",
              "        iopub: {\n",
              "          output: function(msg) {\n",
              "            var id = msg.content.text.trim();\n",
              "            if (id in Bokeh.index) {\n",
              "              Bokeh.index[id].model.document.clear();\n",
              "              delete Bokeh.index[id];\n",
              "            }\n",
              "          }\n",
              "        }\n",
              "      });\n",
              "      // Destroy server and session\n",
              "      var cmd = \"import bokeh.io.notebook as ion; ion.destroy_server('\" + server_id + \"')\";\n",
              "      cell.notebook.kernel.execute(cmd);\n",
              "    }\n",
              "  }\n",
              "\n",
              "  /**\n",
              "   * Handle when a new output is added\n",
              "   */\n",
              "  function handleAddOutput(event, handle) {\n",
              "    var output_area = handle.output_area;\n",
              "    var output = handle.output;\n",
              "\n",
              "    // limit handleAddOutput to display_data with EXEC_MIME_TYPE content only\n",
              "    if ((output.output_type != \"display_data\") || (!Object.prototype.hasOwnProperty.call(output.data, EXEC_MIME_TYPE))) {\n",
              "      return\n",
              "    }\n",
              "\n",
              "    var toinsert = output_area.element.find(\".\" + CLASS_NAME.split(' ')[0]);\n",
              "\n",
              "    if (output.metadata[EXEC_MIME_TYPE][\"id\"] !== undefined) {\n",
              "      toinsert[toinsert.length - 1].firstChild.textContent = output.data[JS_MIME_TYPE];\n",
              "      // store reference to embed id on output_area\n",
              "      output_area._bokeh_element_id = output.metadata[EXEC_MIME_TYPE][\"id\"];\n",
              "    }\n",
              "    if (output.metadata[EXEC_MIME_TYPE][\"server_id\"] !== undefined) {\n",
              "      var bk_div = document.createElement(\"div\");\n",
              "      bk_div.innerHTML = output.data[HTML_MIME_TYPE];\n",
              "      var script_attrs = bk_div.children[0].attributes;\n",
              "      for (var i = 0; i < script_attrs.length; i++) {\n",
              "        toinsert[toinsert.length - 1].firstChild.setAttribute(script_attrs[i].name, script_attrs[i].value);\n",
              "        toinsert[toinsert.length - 1].firstChild.textContent = bk_div.children[0].textContent\n",
              "      }\n",
              "      // store reference to server id on output_area\n",
              "      output_area._bokeh_server_id = output.metadata[EXEC_MIME_TYPE][\"server_id\"];\n",
              "    }\n",
              "  }\n",
              "\n",
              "  function register_renderer(events, OutputArea) {\n",
              "\n",
              "    function append_mime(data, metadata, element) {\n",
              "      // create a DOM node to render to\n",
              "      var toinsert = this.create_output_subarea(\n",
              "        metadata,\n",
              "        CLASS_NAME,\n",
              "        EXEC_MIME_TYPE\n",
              "      );\n",
              "      this.keyboard_manager.register_events(toinsert);\n",
              "      // Render to node\n",
              "      var props = {data: data, metadata: metadata[EXEC_MIME_TYPE]};\n",
              "      render(props, toinsert[toinsert.length - 1]);\n",
              "      element.append(toinsert);\n",
              "      return toinsert\n",
              "    }\n",
              "\n",
              "    /* Handle when an output is cleared or removed */\n",
              "    events.on('clear_output.CodeCell', handleClearOutput);\n",
              "    events.on('delete.Cell', handleClearOutput);\n",
              "\n",
              "    /* Handle when a new output is added */\n",
              "    events.on('output_added.OutputArea', handleAddOutput);\n",
              "\n",
              "    /**\n",
              "     * Register the mime type and append_mime function with output_area\n",
              "     */\n",
              "    OutputArea.prototype.register_mime_type(EXEC_MIME_TYPE, append_mime, {\n",
              "      /* Is output safe? */\n",
              "      safe: true,\n",
              "      /* Index of renderer in `output_area.display_order` */\n",
              "      index: 0\n",
              "    });\n",
              "  }\n",
              "\n",
              "  // register the mime type if in Jupyter Notebook environment and previously unregistered\n",
              "  if (root.Jupyter !== undefined) {\n",
              "    var events = require('base/js/events');\n",
              "    var OutputArea = require('notebook/js/outputarea').OutputArea;\n",
              "\n",
              "    if (OutputArea.prototype.mime_types().indexOf(EXEC_MIME_TYPE) == -1) {\n",
              "      register_renderer(events, OutputArea);\n",
              "    }\n",
              "  }\n",
              "\n",
              "  \n",
              "  if (typeof (root._bokeh_timeout) === \"undefined\" || force === true) {\n",
              "    root._bokeh_timeout = Date.now() + 5000;\n",
              "    root._bokeh_failed_load = false;\n",
              "  }\n",
              "\n",
              "  var NB_LOAD_WARNING = {'data': {'text/html':\n",
              "     \"<div style='background-color: #fdd'>\\n\"+\n",
              "     \"<p>\\n\"+\n",
              "     \"BokehJS does not appear to have successfully loaded. If loading BokehJS from CDN, this \\n\"+\n",
              "     \"may be due to a slow or bad network connection. Possible fixes:\\n\"+\n",
              "     \"</p>\\n\"+\n",
              "     \"<ul>\\n\"+\n",
              "     \"<li>re-rerun `output_notebook()` to attempt to load from CDN again, or</li>\\n\"+\n",
              "     \"<li>use INLINE resources instead, as so:</li>\\n\"+\n",
              "     \"</ul>\\n\"+\n",
              "     \"<code>\\n\"+\n",
              "     \"from bokeh.resources import INLINE\\n\"+\n",
              "     \"output_notebook(resources=INLINE)\\n\"+\n",
              "     \"</code>\\n\"+\n",
              "     \"</div>\"}};\n",
              "\n",
              "  function display_loaded() {\n",
              "    var el = document.getElementById(null);\n",
              "    if (el != null) {\n",
              "      el.textContent = \"BokehJS is loading...\";\n",
              "    }\n",
              "    if (root.Bokeh !== undefined) {\n",
              "      if (el != null) {\n",
              "        el.textContent = \"BokehJS \" + root.Bokeh.version + \" successfully loaded.\";\n",
              "      }\n",
              "    } else if (Date.now() < root._bokeh_timeout) {\n",
              "      setTimeout(display_loaded, 100)\n",
              "    }\n",
              "  }\n",
              "\n",
              "\n",
              "  function run_callbacks() {\n",
              "    try {\n",
              "      root._bokeh_onload_callbacks.forEach(function(callback) {\n",
              "        if (callback != null)\n",
              "          callback();\n",
              "      });\n",
              "    } finally {\n",
              "      delete root._bokeh_onload_callbacks\n",
              "    }\n",
              "    console.debug(\"Bokeh: all callbacks have finished\");\n",
              "  }\n",
              "\n",
              "  function load_libs(css_urls, js_urls, callback) {\n",
              "    if (css_urls == null) css_urls = [];\n",
              "    if (js_urls == null) js_urls = [];\n",
              "\n",
              "    root._bokeh_onload_callbacks.push(callback);\n",
              "    if (root._bokeh_is_loading > 0) {\n",
              "      console.debug(\"Bokeh: BokehJS is being loaded, scheduling callback at\", now());\n",
              "      return null;\n",
              "    }\n",
              "    if (js_urls == null || js_urls.length === 0) {\n",
              "      run_callbacks();\n",
              "      return null;\n",
              "    }\n",
              "    console.debug(\"Bokeh: BokehJS not loaded, scheduling load and callback at\", now());\n",
              "    root._bokeh_is_loading = css_urls.length + js_urls.length;\n",
              "\n",
              "    function on_load() {\n",
              "      root._bokeh_is_loading--;\n",
              "      if (root._bokeh_is_loading === 0) {\n",
              "        console.debug(\"Bokeh: all BokehJS libraries/stylesheets loaded\");\n",
              "        run_callbacks()\n",
              "      }\n",
              "    }\n",
              "\n",
              "    function on_error(url) {\n",
              "      console.error(\"failed to load \" + url);\n",
              "    }\n",
              "\n",
              "    for (let i = 0; i < css_urls.length; i++) {\n",
              "      const url = css_urls[i];\n",
              "      const element = document.createElement(\"link\");\n",
              "      element.onload = on_load;\n",
              "      element.onerror = on_error.bind(null, url);\n",
              "      element.rel = \"stylesheet\";\n",
              "      element.type = \"text/css\";\n",
              "      element.href = url;\n",
              "      console.debug(\"Bokeh: injecting link tag for BokehJS stylesheet: \", url);\n",
              "      document.body.appendChild(element);\n",
              "    }\n",
              "\n",
              "    const hashes = {\"https://cdn.bokeh.org/bokeh/release/bokeh-2.3.3.min.js\": \"dM3QQsP+wXdHg42wTqW85BjZQdLNNIXqlPw/BgKoExPmTG7ZLML4EGqLMfqHT6ON\", \"https://cdn.bokeh.org/bokeh/release/bokeh-tables-2.3.3.min.js\": \"8x57I4YuIfu8XyZfFo0XVr2WAT8EK4rh/uDe3wF7YuW2FNUSNEpJbsPaB1nJ2fz2\", \"https://cdn.bokeh.org/bokeh/release/bokeh-widgets-2.3.3.min.js\": \"3QTqdz9LyAm2i0sG5XTePsHec3UHWwVsrOL68SYRoAXsafvfAyqtQ+h440+qIBhS\"};\n",
              "\n",
              "    for (let i = 0; i < js_urls.length; i++) {\n",
              "      const url = js_urls[i];\n",
              "      const element = document.createElement('script');\n",
              "      element.onload = on_load;\n",
              "      element.onerror = on_error.bind(null, url);\n",
              "      element.async = false;\n",
              "      element.src = url;\n",
              "      if (url in hashes) {\n",
              "        element.crossOrigin = \"anonymous\";\n",
              "        element.integrity = \"sha384-\" + hashes[url];\n",
              "      }\n",
              "      console.debug(\"Bokeh: injecting script tag for BokehJS library: \", url);\n",
              "      document.head.appendChild(element);\n",
              "    }\n",
              "  };\n",
              "\n",
              "  function inject_raw_css(css) {\n",
              "    const element = document.createElement(\"style\");\n",
              "    element.appendChild(document.createTextNode(css));\n",
              "    document.body.appendChild(element);\n",
              "  }\n",
              "\n",
              "  \n",
              "  var js_urls = [\"https://cdn.bokeh.org/bokeh/release/bokeh-2.3.3.min.js\", \"https://cdn.bokeh.org/bokeh/release/bokeh-widgets-2.3.3.min.js\", \"https://cdn.bokeh.org/bokeh/release/bokeh-tables-2.3.3.min.js\"];\n",
              "  var css_urls = [];\n",
              "  \n",
              "\n",
              "  var inline_js = [\n",
              "    function(Bokeh) {\n",
              "      Bokeh.set_log_level(\"info\");\n",
              "    },\n",
              "    function(Bokeh) {\n",
              "    \n",
              "    \n",
              "    }\n",
              "  ];\n",
              "\n",
              "  function run_inline_js() {\n",
              "    \n",
              "    if (root.Bokeh !== undefined || force === true) {\n",
              "      \n",
              "    for (var i = 0; i < inline_js.length; i++) {\n",
              "      inline_js[i].call(root, root.Bokeh);\n",
              "    }\n",
              "    } else if (Date.now() < root._bokeh_timeout) {\n",
              "      setTimeout(run_inline_js, 100);\n",
              "    } else if (!root._bokeh_failed_load) {\n",
              "      console.log(\"Bokeh: BokehJS failed to load within specified timeout.\");\n",
              "      root._bokeh_failed_load = true;\n",
              "    } else if (force !== true) {\n",
              "      var cell = $(document.getElementById(null)).parents('.cell').data().cell;\n",
              "      cell.output_area.append_execute_result(NB_LOAD_WARNING)\n",
              "    }\n",
              "\n",
              "  }\n",
              "\n",
              "  if (root._bokeh_is_loading === 0) {\n",
              "    console.debug(\"Bokeh: BokehJS loaded, going straight to plotting\");\n",
              "    run_inline_js();\n",
              "  } else {\n",
              "    load_libs(css_urls, js_urls, function() {\n",
              "      console.debug(\"Bokeh: BokehJS plotting callback run at\", now());\n",
              "      run_inline_js();\n",
              "    });\n",
              "  }\n",
              "}(window));"
            ],
            "application/vnd.bokehjs_load.v0+json": "\n(function(root) {\n  function now() {\n    return new Date();\n  }\n\n  var force = true;\n\n  if (typeof root._bokeh_onload_callbacks === \"undefined\" || force === true) {\n    root._bokeh_onload_callbacks = [];\n    root._bokeh_is_loading = undefined;\n  }\n\n  \n\n  \n  if (typeof (root._bokeh_timeout) === \"undefined\" || force === true) {\n    root._bokeh_timeout = Date.now() + 5000;\n    root._bokeh_failed_load = false;\n  }\n\n  var NB_LOAD_WARNING = {'data': {'text/html':\n     \"<div style='background-color: #fdd'>\\n\"+\n     \"<p>\\n\"+\n     \"BokehJS does not appear to have successfully loaded. If loading BokehJS from CDN, this \\n\"+\n     \"may be due to a slow or bad network connection. Possible fixes:\\n\"+\n     \"</p>\\n\"+\n     \"<ul>\\n\"+\n     \"<li>re-rerun `output_notebook()` to attempt to load from CDN again, or</li>\\n\"+\n     \"<li>use INLINE resources instead, as so:</li>\\n\"+\n     \"</ul>\\n\"+\n     \"<code>\\n\"+\n     \"from bokeh.resources import INLINE\\n\"+\n     \"output_notebook(resources=INLINE)\\n\"+\n     \"</code>\\n\"+\n     \"</div>\"}};\n\n  function display_loaded() {\n    var el = document.getElementById(null);\n    if (el != null) {\n      el.textContent = \"BokehJS is loading...\";\n    }\n    if (root.Bokeh !== undefined) {\n      if (el != null) {\n        el.textContent = \"BokehJS \" + root.Bokeh.version + \" successfully loaded.\";\n      }\n    } else if (Date.now() < root._bokeh_timeout) {\n      setTimeout(display_loaded, 100)\n    }\n  }\n\n\n  function run_callbacks() {\n    try {\n      root._bokeh_onload_callbacks.forEach(function(callback) {\n        if (callback != null)\n          callback();\n      });\n    } finally {\n      delete root._bokeh_onload_callbacks\n    }\n    console.debug(\"Bokeh: all callbacks have finished\");\n  }\n\n  function load_libs(css_urls, js_urls, callback) {\n    if (css_urls == null) css_urls = [];\n    if (js_urls == null) js_urls = [];\n\n    root._bokeh_onload_callbacks.push(callback);\n    if (root._bokeh_is_loading > 0) {\n      console.debug(\"Bokeh: BokehJS is being loaded, scheduling callback at\", now());\n      return null;\n    }\n    if (js_urls == null || js_urls.length === 0) {\n      run_callbacks();\n      return null;\n    }\n    console.debug(\"Bokeh: BokehJS not loaded, scheduling load and callback at\", now());\n    root._bokeh_is_loading = css_urls.length + js_urls.length;\n\n    function on_load() {\n      root._bokeh_is_loading--;\n      if (root._bokeh_is_loading === 0) {\n        console.debug(\"Bokeh: all BokehJS libraries/stylesheets loaded\");\n        run_callbacks()\n      }\n    }\n\n    function on_error(url) {\n      console.error(\"failed to load \" + url);\n    }\n\n    for (let i = 0; i < css_urls.length; i++) {\n      const url = css_urls[i];\n      const element = document.createElement(\"link\");\n      element.onload = on_load;\n      element.onerror = on_error.bind(null, url);\n      element.rel = \"stylesheet\";\n      element.type = \"text/css\";\n      element.href = url;\n      console.debug(\"Bokeh: injecting link tag for BokehJS stylesheet: \", url);\n      document.body.appendChild(element);\n    }\n\n    const hashes = {\"https://cdn.bokeh.org/bokeh/release/bokeh-2.3.3.min.js\": \"dM3QQsP+wXdHg42wTqW85BjZQdLNNIXqlPw/BgKoExPmTG7ZLML4EGqLMfqHT6ON\", \"https://cdn.bokeh.org/bokeh/release/bokeh-tables-2.3.3.min.js\": \"8x57I4YuIfu8XyZfFo0XVr2WAT8EK4rh/uDe3wF7YuW2FNUSNEpJbsPaB1nJ2fz2\", \"https://cdn.bokeh.org/bokeh/release/bokeh-widgets-2.3.3.min.js\": \"3QTqdz9LyAm2i0sG5XTePsHec3UHWwVsrOL68SYRoAXsafvfAyqtQ+h440+qIBhS\"};\n\n    for (let i = 0; i < js_urls.length; i++) {\n      const url = js_urls[i];\n      const element = document.createElement('script');\n      element.onload = on_load;\n      element.onerror = on_error.bind(null, url);\n      element.async = false;\n      element.src = url;\n      if (url in hashes) {\n        element.crossOrigin = \"anonymous\";\n        element.integrity = \"sha384-\" + hashes[url];\n      }\n      console.debug(\"Bokeh: injecting script tag for BokehJS library: \", url);\n      document.head.appendChild(element);\n    }\n  };\n\n  function inject_raw_css(css) {\n    const element = document.createElement(\"style\");\n    element.appendChild(document.createTextNode(css));\n    document.body.appendChild(element);\n  }\n\n  \n  var js_urls = [\"https://cdn.bokeh.org/bokeh/release/bokeh-2.3.3.min.js\", \"https://cdn.bokeh.org/bokeh/release/bokeh-widgets-2.3.3.min.js\", \"https://cdn.bokeh.org/bokeh/release/bokeh-tables-2.3.3.min.js\"];\n  var css_urls = [];\n  \n\n  var inline_js = [\n    function(Bokeh) {\n      Bokeh.set_log_level(\"info\");\n    },\n    function(Bokeh) {\n    \n    \n    }\n  ];\n\n  function run_inline_js() {\n    \n    if (root.Bokeh !== undefined || force === true) {\n      \n    for (var i = 0; i < inline_js.length; i++) {\n      inline_js[i].call(root, root.Bokeh);\n    }\n    } else if (Date.now() < root._bokeh_timeout) {\n      setTimeout(run_inline_js, 100);\n    } else if (!root._bokeh_failed_load) {\n      console.log(\"Bokeh: BokehJS failed to load within specified timeout.\");\n      root._bokeh_failed_load = true;\n    } else if (force !== true) {\n      var cell = $(document.getElementById(null)).parents('.cell').data().cell;\n      cell.output_area.append_execute_result(NB_LOAD_WARNING)\n    }\n\n  }\n\n  if (root._bokeh_is_loading === 0) {\n    console.debug(\"Bokeh: BokehJS loaded, going straight to plotting\");\n    run_inline_js();\n  } else {\n    load_libs(css_urls, js_urls, function() {\n      console.debug(\"Bokeh: BokehJS plotting callback run at\", now());\n      run_inline_js();\n    });\n  }\n}(window));"
          },
          "metadata": {}
        },
        {
          "output_type": "display_data",
          "data": {
            "text/html": [
              "\n",
              "\n",
              "\n",
              "\n",
              "\n",
              "\n",
              "  <div class=\"bk-root\" id=\"53b4394b-51f3-4526-b395-c73a25ebd4b5\" data-root-id=\"1084\"></div>\n"
            ]
          },
          "metadata": {}
        },
        {
          "output_type": "display_data",
          "data": {
            "application/javascript": [
              "(function(root) {\n",
              "  function embed_document(root) {\n",
              "    \n",
              "  var docs_json = {\"4dc35d56-c96c-492d-8470-f3ea1bda3872\":{\"defs\":[],\"roots\":{\"references\":[{\"attributes\":{\"below\":[{\"id\":\"1095\"}],\"center\":[{\"id\":\"1097\"},{\"id\":\"1101\"},{\"id\":\"1114\"}],\"left\":[{\"id\":\"1098\"}],\"renderers\":[{\"id\":\"1110\"}],\"title\":{\"id\":\"1085\"},\"toolbar\":{\"id\":\"1104\"},\"width\":1000,\"x_range\":{\"id\":\"1087\"},\"x_scale\":{\"id\":\"1091\"},\"y_range\":{\"id\":\"1089\"},\"y_scale\":{\"id\":\"1093\"}},\"id\":\"1084\",\"subtype\":\"Figure\",\"type\":\"Plot\"},{\"attributes\":{\"line_alpha\":{\"value\":0.1},\"line_color\":{\"field\":\"color\"},\"line_width\":{\"value\":35},\"x0\":{\"field\":\"index\"},\"x1\":{\"field\":\"index\"},\"y0\":{\"field\":\"y_start\"},\"y1\":{\"field\":\"running_total\"}},\"id\":\"1109\",\"type\":\"Segment\"},{\"attributes\":{},\"id\":\"1128\",\"type\":\"AllLabels\"},{\"attributes\":{\"axis\":{\"id\":\"1095\"},\"grid_line_alpha\":0.4,\"ticker\":null},\"id\":\"1097\",\"type\":\"Grid\"},{\"attributes\":{},\"id\":\"1130\",\"type\":\"UnionRenderers\"},{\"attributes\":{},\"id\":\"1131\",\"type\":\"Selection\"},{\"attributes\":{\"axis_label\":\"Predictors\",\"axis_label_text_font_size\":\"12pt\",\"formatter\":{\"id\":\"1125\"},\"major_label_orientation\":-0.7853981633974483,\"major_label_policy\":{\"id\":\"1126\"},\"ticker\":{\"id\":\"1096\"}},\"id\":\"1095\",\"type\":\"CategoricalAxis\"},{\"attributes\":{},\"id\":\"1103\",\"type\":\"SaveTool\"},{\"attributes\":{},\"id\":\"1099\",\"type\":\"BasicTicker\"},{\"attributes\":{},\"id\":\"1126\",\"type\":\"AllLabels\"},{\"attributes\":{\"end\":110.0},\"id\":\"1089\",\"type\":\"Range1d\"},{\"attributes\":{\"source\":{\"id\":\"1083\"}},\"id\":\"1111\",\"type\":\"CDSView\"},{\"attributes\":{\"format\":\"(0 a)\"},\"id\":\"1112\",\"type\":\"NumeralTickFormatter\"},{\"attributes\":{\"active_multi\":null,\"tools\":[{\"id\":\"1102\"},{\"id\":\"1103\"}]},\"id\":\"1104\",\"type\":\"Toolbar\"},{\"attributes\":{\"factors\":[\"job-title_Former Employee - Visual Data Specialist II\",\"job-title_Current Employee - Cloud Solutions Consultant\",\"job-title_Current Employee - QA Developer\",\"job-title_Former Employee - Line Cook\",\"job-title_Former Employee - Teacher\",\"job-title_Former Employee - Escalation Manager\",\"job-title_Current Employee - Electrical Engineer\",\"job-title_Former Employee - Store Leader\",\"job-title_Former Employee - Director of Developmental Sales &amp, Marketing\",\"job-title_Former Employee - Operations Engineer\",\"job-title_Former Employee - Sales\",\"job-title_Current Employee - Site Reliability Engineer\",\"job-title_Former Employee - Security\",\"job-title_Former Employee - Technical Program Manager\",\"job-title_Current Employee - Anonymous Employee\",\"net\"]},\"id\":\"1087\",\"type\":\"FactorRange\"},{\"attributes\":{\"data\":{\"Percentage Relative Importance\":{\"__ndarray__\":\"jU/HPUO/HkCLT8c9Q78eQIpPxz1Dvx5Ah0/HPUO/HkCHT8c9Q78eQIJPxz1Dvx5AgE/HPUO/HkB/T8c9Q78eQHpPxz1Dvx5AjsEagtm1HkBXNHK460QaQIqZaPqESRNAf5lo+oRJE0CnN3t3lYYPQB7fxNER6wdAAAAAAAAAWUA=\",\"dtype\":\"float64\",\"order\":\"little\",\"shape\":[16]},\"bar_label\":[\"7.7\",\"7.7\",\"7.7\",\"7.7\",\"7.7\",\"7.7\",\"7.7\",\"7.7\",\"7.7\",\"7.7\",\"6.6\",\"4.8\",\"4.8\",\"3.9\",\"3.0\",\"100.0\"],\"color\":[\"#1de9b6\",\"#1de9b6\",\"#1de9b6\",\"#1de9b6\",\"#1de9b6\",\"#1de9b6\",\"#1de9b6\",\"#1de9b6\",\"#1de9b6\",\"#1de9b6\",\"#1de9b6\",\"#1de9b6\",\"#1de9b6\",\"#1de9b6\",\"#1de9b6\",\"#29b6f6\"],\"index\":[\"job-title_Former Employee - Visual Data Specialist II\",\"job-title_Current Employee - Cloud Solutions Consultant\",\"job-title_Current Employee - QA Developer\",\"job-title_Former Employee - Line Cook\",\"job-title_Former Employee - Teacher\",\"job-title_Former Employee - Escalation Manager\",\"job-title_Current Employee - Electrical Engineer\",\"job-title_Former Employee - Store Leader\",\"job-title_Former Employee - Director of Developmental Sales &amp, Marketing\",\"job-title_Former Employee - Operations Engineer\",\"job-title_Former Employee - Sales\",\"job-title_Current Employee - Site Reliability Engineer\",\"job-title_Former Employee - Security\",\"job-title_Former Employee - Technical Program Manager\",\"job-title_Current Employee - Anonymous Employee\",\"net\"],\"label_pos\":{\"__ndarray__\":\"jU/HPUO/HkCMT8c9Q78uQKh7VW5yDzdAik/HPUO/PkC2kZwGijdDQKZ7VW5yD0dAlmUO1lrnSkCGT8c9Q79OQLscwNKVS1FA1MjhavM2U0AZ7GgmQttUQLJ1D3baD1ZASv+1xXJEV0AH2XFxp0BYQAAAAAAAAFlAAAAAAAAAWUA=\",\"dtype\":\"float64\",\"order\":\"little\",\"shape\":[16]},\"running_total\":{\"__ndarray__\":\"jU/HPUO/HkCMT8c9Q78uQKh7VW5yDzdAik/HPUO/PkC2kZwGijdDQKZ7VW5yD0dAlmUO1lrnSkCGT8c9Q79OQLscwNKVS1FA1MjhavM2U0AZ7GgmQttUQLJ1D3baD1ZASv+1xXJEV0AH2XFxp0BYQAAAAAAAAFlAAAAAAAAAWUA=\",\"dtype\":\"float64\",\"order\":\"little\",\"shape\":[16]},\"y_start\":{\"__ndarray__\":\"AAAAAAAAAACNT8c9Q78eQItPxz1Dvy5AqHtVbnIPN0CKT8c9Q78+QLaRnAaKN0NApntVbnIPR0CWZQ7WWudKQIdPxz1Dv05AuxzA0pVLUUDUyOFq8zZTQBnsaCZC21RAsnUPdtoPVkBK/7XFckRXQAfZcXGnQFhAAAAAAAAAAAA=\",\"dtype\":\"float64\",\"order\":\"little\",\"shape\":[16]}},\"selected\":{\"id\":\"1131\"},\"selection_policy\":{\"id\":\"1130\"}},\"id\":\"1083\",\"type\":\"ColumnDataSource\"},{\"attributes\":{\"data_source\":{\"id\":\"1083\"},\"glyph\":{\"id\":\"1108\"},\"hover_glyph\":null,\"muted_glyph\":null,\"nonselection_glyph\":{\"id\":\"1109\"},\"view\":{\"id\":\"1111\"}},\"id\":\"1110\",\"type\":\"GlyphRenderer\"},{\"attributes\":{},\"id\":\"1091\",\"type\":\"CategoricalScale\"},{\"attributes\":{\"axis\":{\"id\":\"1098\"},\"dimension\":1,\"grid_line_alpha\":0.4,\"ticker\":null},\"id\":\"1101\",\"type\":\"Grid\"},{\"attributes\":{},\"id\":\"1125\",\"type\":\"CategoricalTickFormatter\"},{\"attributes\":{\"axis_label\":\"Percentage Relative Importance(%)\",\"axis_label_text_font_size\":\"12pt\",\"formatter\":{\"id\":\"1112\"},\"major_label_policy\":{\"id\":\"1128\"},\"ticker\":{\"id\":\"1099\"}},\"id\":\"1098\",\"type\":\"LinearAxis\"},{\"attributes\":{\"line_color\":{\"field\":\"color\"},\"line_width\":{\"value\":35},\"x0\":{\"field\":\"index\"},\"x1\":{\"field\":\"index\"},\"y0\":{\"field\":\"y_start\"},\"y1\":{\"field\":\"running_total\"}},\"id\":\"1108\",\"type\":\"Segment\"},{\"attributes\":{},\"id\":\"1093\",\"type\":\"LinearScale\"},{\"attributes\":{\"text\":\"Percentage Relative Importance Waterfall\"},\"id\":\"1085\",\"type\":\"Title\"},{\"attributes\":{},\"id\":\"1102\",\"type\":\"ResetTool\"},{\"attributes\":{\"level\":\"glyph\",\"source\":{\"id\":\"1083\"},\"text\":{\"field\":\"bar_label\"},\"text_font_size\":{\"value\":\"11pt\"},\"x\":{\"field\":\"index\"},\"x_offset\":{\"value\":-14},\"y\":{\"field\":\"label_pos\"}},\"id\":\"1114\",\"type\":\"LabelSet\"},{\"attributes\":{},\"id\":\"1096\",\"type\":\"CategoricalTicker\"}],\"root_ids\":[\"1084\"]},\"title\":\"Bokeh Application\",\"version\":\"2.3.3\"}};\n",
              "  var render_items = [{\"docid\":\"4dc35d56-c96c-492d-8470-f3ea1bda3872\",\"root_ids\":[\"1084\"],\"roots\":{\"1084\":\"53b4394b-51f3-4526-b395-c73a25ebd4b5\"}}];\n",
              "  root.Bokeh.embed.embed_items_notebook(docs_json, render_items);\n",
              "\n",
              "  }\n",
              "  if (root.Bokeh !== undefined) {\n",
              "    embed_document(root);\n",
              "  } else {\n",
              "    var attempts = 0;\n",
              "    var timer = setInterval(function(root) {\n",
              "      if (root.Bokeh !== undefined) {\n",
              "        clearInterval(timer);\n",
              "        embed_document(root);\n",
              "      } else {\n",
              "        attempts++;\n",
              "        if (attempts > 100) {\n",
              "          clearInterval(timer);\n",
              "          console.log(\"Bokeh: ERROR: Unable to run BokehJS code because BokehJS library is missing\");\n",
              "        }\n",
              "      }\n",
              "    }, 10, root)\n",
              "  }\n",
              "})(window);"
            ],
            "application/vnd.bokehjs_exec.v0+json": ""
          },
          "metadata": {
            "application/vnd.bokehjs_exec.v0+json": {
              "id": "1084"
            }
          }
        }
      ]
    },
    {
      "cell_type": "markdown",
      "source": [
        "Correspondance Analysis"
      ],
      "metadata": {
        "id": "FELPHnVuS4-3"
      }
    },
    {
      "cell_type": "code",
      "source": [
        "df"
      ],
      "metadata": {
        "colab": {
          "base_uri": "https://localhost:8080/",
          "height": 592
        },
        "id": "AgODLJVXSQeC",
        "outputId": "3e9a8e57-c45b-4b65-bf60-8fd751c63f32"
      },
      "execution_count": null,
      "outputs": [
        {
          "output_type": "execute_result",
          "data": {
            "text/plain": [
              "      overall-ratings  job-title_Current Employee - Account Executive  \\\n",
              "0                   5                                               0   \n",
              "1                   4                                               0   \n",
              "2                   5                                               0   \n",
              "3                   5                                               0   \n",
              "4                   5                                               0   \n",
              "...               ...                                             ...   \n",
              "1995                5                                               0   \n",
              "1996                5                                               0   \n",
              "1997                5                                               0   \n",
              "1998                5                                               0   \n",
              "1999                5                                               0   \n",
              "\n",
              "      job-title_Current Employee - Account Manager  \\\n",
              "0                                                0   \n",
              "1                                                0   \n",
              "2                                                0   \n",
              "3                                                0   \n",
              "4                                                0   \n",
              "...                                            ...   \n",
              "1995                                             0   \n",
              "1996                                             0   \n",
              "1997                                             0   \n",
              "1998                                             0   \n",
              "1999                                             0   \n",
              "\n",
              "      job-title_Current Employee - Account Strategist  \\\n",
              "0                                                   0   \n",
              "1                                                   0   \n",
              "2                                                   0   \n",
              "3                                                   0   \n",
              "4                                                   0   \n",
              "...                                               ...   \n",
              "1995                                                0   \n",
              "1996                                                0   \n",
              "1997                                                0   \n",
              "1998                                                0   \n",
              "1999                                                0   \n",
              "\n",
              "      job-title_Current Employee - Administrative  \\\n",
              "0                                               0   \n",
              "1                                               0   \n",
              "2                                               0   \n",
              "3                                               0   \n",
              "4                                               0   \n",
              "...                                           ...   \n",
              "1995                                            0   \n",
              "1996                                            0   \n",
              "1997                                            0   \n",
              "1998                                            0   \n",
              "1999                                            0   \n",
              "\n",
              "      job-title_Current Employee - Administrative Business Partner  \\\n",
              "0                                                     0              \n",
              "1                                                     0              \n",
              "2                                                     0              \n",
              "3                                                     0              \n",
              "4                                                     0              \n",
              "...                                                 ...              \n",
              "1995                                                  0              \n",
              "1996                                                  0              \n",
              "1997                                                  0              \n",
              "1998                                                  0              \n",
              "1999                                                  0              \n",
              "\n",
              "      job-title_Current Employee - Analytical Lead  \\\n",
              "0                                                0   \n",
              "1                                                0   \n",
              "2                                                0   \n",
              "3                                                0   \n",
              "4                                                0   \n",
              "...                                            ...   \n",
              "1995                                             0   \n",
              "1996                                             0   \n",
              "1997                                             0   \n",
              "1998                                             0   \n",
              "1999                                             0   \n",
              "\n",
              "      job-title_Current Employee - Anonymous Employee  \\\n",
              "0                                                   1   \n",
              "1                                                   0   \n",
              "2                                                   0   \n",
              "3                                                   1   \n",
              "4                                                   0   \n",
              "...                                               ...   \n",
              "1995                                                0   \n",
              "1996                                                0   \n",
              "1997                                                0   \n",
              "1998                                                0   \n",
              "1999                                                0   \n",
              "\n",
              "      job-title_Current Employee - Anti-abuse Associate  \\\n",
              "0                                                     0   \n",
              "1                                                     0   \n",
              "2                                                     0   \n",
              "3                                                     0   \n",
              "4                                                     0   \n",
              "...                                                 ...   \n",
              "1995                                                  0   \n",
              "1996                                                  0   \n",
              "1997                                                  0   \n",
              "1998                                                  0   \n",
              "1999                                                  0   \n",
              "\n",
              "      job-title_Current Employee - Applications Engineer  ...  \\\n",
              "0                                                     0   ...   \n",
              "1                                                     0   ...   \n",
              "2                                                     0   ...   \n",
              "3                                                     0   ...   \n",
              "4                                                     0   ...   \n",
              "...                                                 ...   ...   \n",
              "1995                                                  0   ...   \n",
              "1996                                                  0   ...   \n",
              "1997                                                  0   ...   \n",
              "1998                                                  0   ...   \n",
              "1999                                                  0   ...   \n",
              "\n",
              "      job-title_Former Employee - Utility Personal In the SNS Warehouse  \\\n",
              "0                                                     0                   \n",
              "1                                                     0                   \n",
              "2                                                     0                   \n",
              "3                                                     0                   \n",
              "4                                                     0                   \n",
              "...                                                 ...                   \n",
              "1995                                                  0                   \n",
              "1996                                                  0                   \n",
              "1997                                                  0                   \n",
              "1998                                                  0                   \n",
              "1999                                                  0                   \n",
              "\n",
              "      job-title_Former Employee - Vice President Sales  \\\n",
              "0                                                    0   \n",
              "1                                                    0   \n",
              "2                                                    0   \n",
              "3                                                    0   \n",
              "4                                                    0   \n",
              "...                                                ...   \n",
              "1995                                                 0   \n",
              "1996                                                 0   \n",
              "1997                                                 0   \n",
              "1998                                                 0   \n",
              "1999                                                 0   \n",
              "\n",
              "      job-title_Former Employee - Video Producer  \\\n",
              "0                                              0   \n",
              "1                                              0   \n",
              "2                                              0   \n",
              "3                                              0   \n",
              "4                                              0   \n",
              "...                                          ...   \n",
              "1995                                           0   \n",
              "1996                                           0   \n",
              "1997                                           0   \n",
              "1998                                           0   \n",
              "1999                                           0   \n",
              "\n",
              "      job-title_Former Employee - Video Production Specialist  \\\n",
              "0                                                     0         \n",
              "1                                                     0         \n",
              "2                                                     0         \n",
              "3                                                     0         \n",
              "4                                                     0         \n",
              "...                                                 ...         \n",
              "1995                                                  0         \n",
              "1996                                                  0         \n",
              "1997                                                  0         \n",
              "1998                                                  0         \n",
              "1999                                                  0         \n",
              "\n",
              "      job-title_Former Employee - Visual Data Specialist  \\\n",
              "0                                                     0    \n",
              "1                                                     0    \n",
              "2                                                     0    \n",
              "3                                                     0    \n",
              "4                                                     0    \n",
              "...                                                 ...    \n",
              "1995                                                  0    \n",
              "1996                                                  0    \n",
              "1997                                                  0    \n",
              "1998                                                  0    \n",
              "1999                                                  0    \n",
              "\n",
              "      job-title_Former Employee - Visual Data Specialist II  \\\n",
              "0                                                     0       \n",
              "1                                                     0       \n",
              "2                                                     0       \n",
              "3                                                     0       \n",
              "4                                                     0       \n",
              "...                                                 ...       \n",
              "1995                                                  0       \n",
              "1996                                                  0       \n",
              "1997                                                  0       \n",
              "1998                                                  0       \n",
              "1999                                                  0       \n",
              "\n",
              "      job-title_Former Employee - Visual Designer  \\\n",
              "0                                               0   \n",
              "1                                               0   \n",
              "2                                               0   \n",
              "3                                               0   \n",
              "4                                               0   \n",
              "...                                           ...   \n",
              "1995                                            0   \n",
              "1996                                            0   \n",
              "1997                                            0   \n",
              "1998                                            0   \n",
              "1999                                            0   \n",
              "\n",
              "      job-title_Former Employee - Web Applications Developer  \\\n",
              "0                                                     0        \n",
              "1                                                     0        \n",
              "2                                                     0        \n",
              "3                                                     0        \n",
              "4                                                     0        \n",
              "...                                                 ...        \n",
              "1995                                                  0        \n",
              "1996                                                  0        \n",
              "1997                                                  0        \n",
              "1998                                                  0        \n",
              "1999                                                  0        \n",
              "\n",
              "      job-title_Former Employee - Web Developer  \\\n",
              "0                                             0   \n",
              "1                                             0   \n",
              "2                                             0   \n",
              "3                                             0   \n",
              "4                                             0   \n",
              "...                                         ...   \n",
              "1995                                          0   \n",
              "1996                                          0   \n",
              "1997                                          0   \n",
              "1998                                          0   \n",
              "1999                                          0   \n",
              "\n",
              "      job-title_Former Employee - Worker  \n",
              "0                                      0  \n",
              "1                                      0  \n",
              "2                                      0  \n",
              "3                                      0  \n",
              "4                                      0  \n",
              "...                                  ...  \n",
              "1995                                   0  \n",
              "1996                                   0  \n",
              "1997                                   0  \n",
              "1998                                   0  \n",
              "1999                                   0  \n",
              "\n",
              "[2000 rows x 427 columns]"
            ],
            "text/html": [
              "\n",
              "  <div id=\"df-bd82844c-9234-4236-8605-bf088845016f\">\n",
              "    <div class=\"colab-df-container\">\n",
              "      <div>\n",
              "<style scoped>\n",
              "    .dataframe tbody tr th:only-of-type {\n",
              "        vertical-align: middle;\n",
              "    }\n",
              "\n",
              "    .dataframe tbody tr th {\n",
              "        vertical-align: top;\n",
              "    }\n",
              "\n",
              "    .dataframe thead th {\n",
              "        text-align: right;\n",
              "    }\n",
              "</style>\n",
              "<table border=\"1\" class=\"dataframe\">\n",
              "  <thead>\n",
              "    <tr style=\"text-align: right;\">\n",
              "      <th></th>\n",
              "      <th>overall-ratings</th>\n",
              "      <th>job-title_Current Employee - Account Executive</th>\n",
              "      <th>job-title_Current Employee - Account Manager</th>\n",
              "      <th>job-title_Current Employee - Account Strategist</th>\n",
              "      <th>job-title_Current Employee - Administrative</th>\n",
              "      <th>job-title_Current Employee - Administrative Business Partner</th>\n",
              "      <th>job-title_Current Employee - Analytical Lead</th>\n",
              "      <th>job-title_Current Employee - Anonymous Employee</th>\n",
              "      <th>job-title_Current Employee - Anti-abuse Associate</th>\n",
              "      <th>job-title_Current Employee - Applications Engineer</th>\n",
              "      <th>...</th>\n",
              "      <th>job-title_Former Employee - Utility Personal In the SNS Warehouse</th>\n",
              "      <th>job-title_Former Employee - Vice President Sales</th>\n",
              "      <th>job-title_Former Employee - Video Producer</th>\n",
              "      <th>job-title_Former Employee - Video Production Specialist</th>\n",
              "      <th>job-title_Former Employee - Visual Data Specialist</th>\n",
              "      <th>job-title_Former Employee - Visual Data Specialist II</th>\n",
              "      <th>job-title_Former Employee - Visual Designer</th>\n",
              "      <th>job-title_Former Employee - Web Applications Developer</th>\n",
              "      <th>job-title_Former Employee - Web Developer</th>\n",
              "      <th>job-title_Former Employee - Worker</th>\n",
              "    </tr>\n",
              "  </thead>\n",
              "  <tbody>\n",
              "    <tr>\n",
              "      <th>0</th>\n",
              "      <td>5</td>\n",
              "      <td>0</td>\n",
              "      <td>0</td>\n",
              "      <td>0</td>\n",
              "      <td>0</td>\n",
              "      <td>0</td>\n",
              "      <td>0</td>\n",
              "      <td>1</td>\n",
              "      <td>0</td>\n",
              "      <td>0</td>\n",
              "      <td>...</td>\n",
              "      <td>0</td>\n",
              "      <td>0</td>\n",
              "      <td>0</td>\n",
              "      <td>0</td>\n",
              "      <td>0</td>\n",
              "      <td>0</td>\n",
              "      <td>0</td>\n",
              "      <td>0</td>\n",
              "      <td>0</td>\n",
              "      <td>0</td>\n",
              "    </tr>\n",
              "    <tr>\n",
              "      <th>1</th>\n",
              "      <td>4</td>\n",
              "      <td>0</td>\n",
              "      <td>0</td>\n",
              "      <td>0</td>\n",
              "      <td>0</td>\n",
              "      <td>0</td>\n",
              "      <td>0</td>\n",
              "      <td>0</td>\n",
              "      <td>0</td>\n",
              "      <td>0</td>\n",
              "      <td>...</td>\n",
              "      <td>0</td>\n",
              "      <td>0</td>\n",
              "      <td>0</td>\n",
              "      <td>0</td>\n",
              "      <td>0</td>\n",
              "      <td>0</td>\n",
              "      <td>0</td>\n",
              "      <td>0</td>\n",
              "      <td>0</td>\n",
              "      <td>0</td>\n",
              "    </tr>\n",
              "    <tr>\n",
              "      <th>2</th>\n",
              "      <td>5</td>\n",
              "      <td>0</td>\n",
              "      <td>0</td>\n",
              "      <td>0</td>\n",
              "      <td>0</td>\n",
              "      <td>0</td>\n",
              "      <td>0</td>\n",
              "      <td>0</td>\n",
              "      <td>0</td>\n",
              "      <td>0</td>\n",
              "      <td>...</td>\n",
              "      <td>0</td>\n",
              "      <td>0</td>\n",
              "      <td>0</td>\n",
              "      <td>0</td>\n",
              "      <td>0</td>\n",
              "      <td>0</td>\n",
              "      <td>0</td>\n",
              "      <td>0</td>\n",
              "      <td>0</td>\n",
              "      <td>0</td>\n",
              "    </tr>\n",
              "    <tr>\n",
              "      <th>3</th>\n",
              "      <td>5</td>\n",
              "      <td>0</td>\n",
              "      <td>0</td>\n",
              "      <td>0</td>\n",
              "      <td>0</td>\n",
              "      <td>0</td>\n",
              "      <td>0</td>\n",
              "      <td>1</td>\n",
              "      <td>0</td>\n",
              "      <td>0</td>\n",
              "      <td>...</td>\n",
              "      <td>0</td>\n",
              "      <td>0</td>\n",
              "      <td>0</td>\n",
              "      <td>0</td>\n",
              "      <td>0</td>\n",
              "      <td>0</td>\n",
              "      <td>0</td>\n",
              "      <td>0</td>\n",
              "      <td>0</td>\n",
              "      <td>0</td>\n",
              "    </tr>\n",
              "    <tr>\n",
              "      <th>4</th>\n",
              "      <td>5</td>\n",
              "      <td>0</td>\n",
              "      <td>0</td>\n",
              "      <td>0</td>\n",
              "      <td>0</td>\n",
              "      <td>0</td>\n",
              "      <td>0</td>\n",
              "      <td>0</td>\n",
              "      <td>0</td>\n",
              "      <td>0</td>\n",
              "      <td>...</td>\n",
              "      <td>0</td>\n",
              "      <td>0</td>\n",
              "      <td>0</td>\n",
              "      <td>0</td>\n",
              "      <td>0</td>\n",
              "      <td>0</td>\n",
              "      <td>0</td>\n",
              "      <td>0</td>\n",
              "      <td>0</td>\n",
              "      <td>0</td>\n",
              "    </tr>\n",
              "    <tr>\n",
              "      <th>...</th>\n",
              "      <td>...</td>\n",
              "      <td>...</td>\n",
              "      <td>...</td>\n",
              "      <td>...</td>\n",
              "      <td>...</td>\n",
              "      <td>...</td>\n",
              "      <td>...</td>\n",
              "      <td>...</td>\n",
              "      <td>...</td>\n",
              "      <td>...</td>\n",
              "      <td>...</td>\n",
              "      <td>...</td>\n",
              "      <td>...</td>\n",
              "      <td>...</td>\n",
              "      <td>...</td>\n",
              "      <td>...</td>\n",
              "      <td>...</td>\n",
              "      <td>...</td>\n",
              "      <td>...</td>\n",
              "      <td>...</td>\n",
              "      <td>...</td>\n",
              "    </tr>\n",
              "    <tr>\n",
              "      <th>1995</th>\n",
              "      <td>5</td>\n",
              "      <td>0</td>\n",
              "      <td>0</td>\n",
              "      <td>0</td>\n",
              "      <td>0</td>\n",
              "      <td>0</td>\n",
              "      <td>0</td>\n",
              "      <td>0</td>\n",
              "      <td>0</td>\n",
              "      <td>0</td>\n",
              "      <td>...</td>\n",
              "      <td>0</td>\n",
              "      <td>0</td>\n",
              "      <td>0</td>\n",
              "      <td>0</td>\n",
              "      <td>0</td>\n",
              "      <td>0</td>\n",
              "      <td>0</td>\n",
              "      <td>0</td>\n",
              "      <td>0</td>\n",
              "      <td>0</td>\n",
              "    </tr>\n",
              "    <tr>\n",
              "      <th>1996</th>\n",
              "      <td>5</td>\n",
              "      <td>0</td>\n",
              "      <td>0</td>\n",
              "      <td>0</td>\n",
              "      <td>0</td>\n",
              "      <td>0</td>\n",
              "      <td>0</td>\n",
              "      <td>0</td>\n",
              "      <td>0</td>\n",
              "      <td>0</td>\n",
              "      <td>...</td>\n",
              "      <td>0</td>\n",
              "      <td>0</td>\n",
              "      <td>0</td>\n",
              "      <td>0</td>\n",
              "      <td>0</td>\n",
              "      <td>0</td>\n",
              "      <td>0</td>\n",
              "      <td>0</td>\n",
              "      <td>0</td>\n",
              "      <td>0</td>\n",
              "    </tr>\n",
              "    <tr>\n",
              "      <th>1997</th>\n",
              "      <td>5</td>\n",
              "      <td>0</td>\n",
              "      <td>0</td>\n",
              "      <td>0</td>\n",
              "      <td>0</td>\n",
              "      <td>0</td>\n",
              "      <td>0</td>\n",
              "      <td>0</td>\n",
              "      <td>0</td>\n",
              "      <td>0</td>\n",
              "      <td>...</td>\n",
              "      <td>0</td>\n",
              "      <td>0</td>\n",
              "      <td>0</td>\n",
              "      <td>0</td>\n",
              "      <td>0</td>\n",
              "      <td>0</td>\n",
              "      <td>0</td>\n",
              "      <td>0</td>\n",
              "      <td>0</td>\n",
              "      <td>0</td>\n",
              "    </tr>\n",
              "    <tr>\n",
              "      <th>1998</th>\n",
              "      <td>5</td>\n",
              "      <td>0</td>\n",
              "      <td>0</td>\n",
              "      <td>0</td>\n",
              "      <td>0</td>\n",
              "      <td>0</td>\n",
              "      <td>0</td>\n",
              "      <td>0</td>\n",
              "      <td>0</td>\n",
              "      <td>0</td>\n",
              "      <td>...</td>\n",
              "      <td>0</td>\n",
              "      <td>0</td>\n",
              "      <td>0</td>\n",
              "      <td>0</td>\n",
              "      <td>0</td>\n",
              "      <td>0</td>\n",
              "      <td>0</td>\n",
              "      <td>0</td>\n",
              "      <td>0</td>\n",
              "      <td>0</td>\n",
              "    </tr>\n",
              "    <tr>\n",
              "      <th>1999</th>\n",
              "      <td>5</td>\n",
              "      <td>0</td>\n",
              "      <td>0</td>\n",
              "      <td>0</td>\n",
              "      <td>0</td>\n",
              "      <td>0</td>\n",
              "      <td>0</td>\n",
              "      <td>0</td>\n",
              "      <td>0</td>\n",
              "      <td>0</td>\n",
              "      <td>...</td>\n",
              "      <td>0</td>\n",
              "      <td>0</td>\n",
              "      <td>0</td>\n",
              "      <td>0</td>\n",
              "      <td>0</td>\n",
              "      <td>0</td>\n",
              "      <td>0</td>\n",
              "      <td>0</td>\n",
              "      <td>0</td>\n",
              "      <td>0</td>\n",
              "    </tr>\n",
              "  </tbody>\n",
              "</table>\n",
              "<p>2000 rows × 427 columns</p>\n",
              "</div>\n",
              "      <button class=\"colab-df-convert\" onclick=\"convertToInteractive('df-bd82844c-9234-4236-8605-bf088845016f')\"\n",
              "              title=\"Convert this dataframe to an interactive table.\"\n",
              "              style=\"display:none;\">\n",
              "        \n",
              "  <svg xmlns=\"http://www.w3.org/2000/svg\" height=\"24px\"viewBox=\"0 0 24 24\"\n",
              "       width=\"24px\">\n",
              "    <path d=\"M0 0h24v24H0V0z\" fill=\"none\"/>\n",
              "    <path d=\"M18.56 5.44l.94 2.06.94-2.06 2.06-.94-2.06-.94-.94-2.06-.94 2.06-2.06.94zm-11 1L8.5 8.5l.94-2.06 2.06-.94-2.06-.94L8.5 2.5l-.94 2.06-2.06.94zm10 10l.94 2.06.94-2.06 2.06-.94-2.06-.94-.94-2.06-.94 2.06-2.06.94z\"/><path d=\"M17.41 7.96l-1.37-1.37c-.4-.4-.92-.59-1.43-.59-.52 0-1.04.2-1.43.59L10.3 9.45l-7.72 7.72c-.78.78-.78 2.05 0 2.83L4 21.41c.39.39.9.59 1.41.59.51 0 1.02-.2 1.41-.59l7.78-7.78 2.81-2.81c.8-.78.8-2.07 0-2.86zM5.41 20L4 18.59l7.72-7.72 1.47 1.35L5.41 20z\"/>\n",
              "  </svg>\n",
              "      </button>\n",
              "      \n",
              "  <style>\n",
              "    .colab-df-container {\n",
              "      display:flex;\n",
              "      flex-wrap:wrap;\n",
              "      gap: 12px;\n",
              "    }\n",
              "\n",
              "    .colab-df-convert {\n",
              "      background-color: #E8F0FE;\n",
              "      border: none;\n",
              "      border-radius: 50%;\n",
              "      cursor: pointer;\n",
              "      display: none;\n",
              "      fill: #1967D2;\n",
              "      height: 32px;\n",
              "      padding: 0 0 0 0;\n",
              "      width: 32px;\n",
              "    }\n",
              "\n",
              "    .colab-df-convert:hover {\n",
              "      background-color: #E2EBFA;\n",
              "      box-shadow: 0px 1px 2px rgba(60, 64, 67, 0.3), 0px 1px 3px 1px rgba(60, 64, 67, 0.15);\n",
              "      fill: #174EA6;\n",
              "    }\n",
              "\n",
              "    [theme=dark] .colab-df-convert {\n",
              "      background-color: #3B4455;\n",
              "      fill: #D2E3FC;\n",
              "    }\n",
              "\n",
              "    [theme=dark] .colab-df-convert:hover {\n",
              "      background-color: #434B5C;\n",
              "      box-shadow: 0px 1px 3px 1px rgba(0, 0, 0, 0.15);\n",
              "      filter: drop-shadow(0px 1px 2px rgba(0, 0, 0, 0.3));\n",
              "      fill: #FFFFFF;\n",
              "    }\n",
              "  </style>\n",
              "\n",
              "      <script>\n",
              "        const buttonEl =\n",
              "          document.querySelector('#df-bd82844c-9234-4236-8605-bf088845016f button.colab-df-convert');\n",
              "        buttonEl.style.display =\n",
              "          google.colab.kernel.accessAllowed ? 'block' : 'none';\n",
              "\n",
              "        async function convertToInteractive(key) {\n",
              "          const element = document.querySelector('#df-bd82844c-9234-4236-8605-bf088845016f');\n",
              "          const dataTable =\n",
              "            await google.colab.kernel.invokeFunction('convertToInteractive',\n",
              "                                                     [key], {});\n",
              "          if (!dataTable) return;\n",
              "\n",
              "          const docLinkHtml = 'Like what you see? Visit the ' +\n",
              "            '<a target=\"_blank\" href=https://colab.research.google.com/notebooks/data_table.ipynb>data table notebook</a>'\n",
              "            + ' to learn more about interactive tables.';\n",
              "          element.innerHTML = '';\n",
              "          dataTable['output_type'] = 'display_data';\n",
              "          await google.colab.output.renderOutput(dataTable, element);\n",
              "          const docLink = document.createElement('div');\n",
              "          docLink.innerHTML = docLinkHtml;\n",
              "          element.appendChild(docLink);\n",
              "        }\n",
              "      </script>\n",
              "    </div>\n",
              "  </div>\n",
              "  "
            ]
          },
          "metadata": {},
          "execution_count": 118
        }
      ]
    },
    {
      "cell_type": "code",
      "source": [
        "import prince\n",
        "ca = prince.CA(\n",
        "  n_components=10,\n",
        "  n_iter=3,\n",
        "  copy=True,\n",
        "  check_input=True,\n",
        "  engine='auto',\n",
        "  random_state=42\n",
        "   )\n",
        "ca = ca.fit(df)"
      ],
      "metadata": {
        "id": "KSIEZcM-TIP5"
      },
      "execution_count": null,
      "outputs": []
    },
    {
      "cell_type": "code",
      "source": [
        "ax = ca.plot_coordinates(\n",
        "     X=df,\n",
        "     ax=None,\n",
        "     figsize=(10, 10),\n",
        "     x_component=0,\n",
        "     y_component=1,\n",
        "     show_row_labels=True,\n",
        "     show_col_labels=True\n",
        " )\n",
        "ax.get_figure"
      ],
      "metadata": {
        "colab": {
          "base_uri": "https://localhost:8080/",
          "height": 638
        },
        "id": "cG3CF8-KTyF3",
        "outputId": "3fe031a2-59fb-4bb0-f039-7adf2a47aeae"
      },
      "execution_count": null,
      "outputs": [
        {
          "output_type": "execute_result",
          "data": {
            "text/plain": [
              "<bound method Artist.get_figure of <matplotlib.axes._subplots.AxesSubplot object at 0x7f515abb45d0>>"
            ]
          },
          "metadata": {},
          "execution_count": 130
        },
        {
          "output_type": "display_data",
          "data": {
            "text/plain": [
              "<Figure size 720x720 with 1 Axes>"
            ],
            "image/png": "[encoded data removed]"
          },
          "metadata": {
            "needs_background": "light"
          }
        }
      ]
    }
  ],
  "metadata": {
    "colab": {
      "name": "Employee factor analysis.ipynb",
      "provenance": [],
      "authorship_tag": "ABX9TyPN+StPL5Df0mGX/2myX+DO",
      "include_colab_link": true
    },
    "kernelspec": {
      "display_name": "Python 3",
      "name": "python3"
    },
    "language_info": {
      "name": "python"
    }
  },
  "nbformat": 4,
  "nbformat_minor": 0
}